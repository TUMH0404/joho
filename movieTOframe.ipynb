{
 "cells": [
  {
   "cell_type": "code",
   "execution_count": 1,
   "metadata": {},
   "outputs": [],
   "source": [
    "# -*- coding: utf-8 -*-\n",
    "import cv2\n",
    "import os\n",
    "import numpy as np\n",
    "import glob\n",
    "#動画ファイルを読み込む\n",
    "\n"
   ]
  },
  {
   "cell_type": "code",
   "execution_count": 2,
   "metadata": {},
   "outputs": [],
   "source": [
    "os.chdir('/Volumes/ONISHI/0606_1')"
   ]
  },
  {
   "cell_type": "code",
   "execution_count": 3,
   "metadata": {},
   "outputs": [
    {
     "data": {
      "text/plain": [
       "['IMM 2018_06_06 19_58_56.mp4', 'IMM 2018_06_06 20_03_00.mp4']"
      ]
     },
     "execution_count": 3,
     "metadata": {},
     "output_type": "execute_result"
    }
   ],
   "source": [
    "a = os.listdir()\n",
    "a"
   ]
  },
  {
   "cell_type": "code",
   "execution_count": 4,
   "metadata": {},
   "outputs": [],
   "source": [
    "a = glob.glob('*.mp4')"
   ]
  },
  {
   "cell_type": "code",
   "execution_count": 21,
   "metadata": {},
   "outputs": [],
   "source": [
    "os.chdir(\"G:/\")"
   ]
  },
  {
   "cell_type": "code",
   "execution_count": 6,
   "metadata": {},
   "outputs": [],
   "source": [
    "for i,k in enumerate(a):\n",
    "    y=0\n",
    "    dir_name = f\"/Volumes/ONISHI/0606_1pp\"\n",
    "    if not os.path.exists(dir_name):\n",
    "        os.mkdir(dir_name)\n",
    "    \n",
    "    video = cv2.VideoCapture(k)\n",
    "    frame_count = int(video.get(7))\n",
    "    \n",
    "    for m in range(frame_count):\n",
    "        \n",
    "        _, frame=video.read()\n",
    "        cv2.imwrite(dir_name+\"/\"+f\"{i}\"+\"_\"+f'{m:05d}.png',frame)\n",
    "        \n",
    "        \n"
   ]
  },
  {
   "cell_type": "code",
   "execution_count": null,
   "metadata": {},
   "outputs": [],
   "source": []
  },
  {
   "cell_type": "code",
   "execution_count": 27,
   "metadata": {},
   "outputs": [
    {
     "data": {
      "text/plain": [
       "9"
      ]
     },
     "execution_count": 27,
     "metadata": {},
     "output_type": "execute_result"
    }
   ],
   "source": [
    "99%10\n"
   ]
  },
  {
   "cell_type": "code",
   "execution_count": 8,
   "metadata": {},
   "outputs": [],
   "source": [
    "file_name = a[5]"
   ]
  },
  {
   "cell_type": "code",
   "execution_count": 9,
   "metadata": {},
   "outputs": [],
   "source": [
    "video = cv2.VideoCapture(a[5])\n",
    "#スクリーンキャプチャを保存するディレクトリ\n"
   ]
  },
  {
   "cell_type": "code",
   "execution_count": 14,
   "metadata": {},
   "outputs": [],
   "source": [
    "\n",
    "#フレーム数を取得\n",
    "frame_count = int(video.get(7))"
   ]
  },
  {
   "cell_type": "code",
   "execution_count": 15,
   "metadata": {},
   "outputs": [
    {
     "data": {
      "text/plain": [
       "2910"
      ]
     },
     "execution_count": 15,
     "metadata": {},
     "output_type": "execute_result"
    }
   ],
   "source": [
    "frame_count"
   ]
  },
  {
   "cell_type": "code",
   "execution_count": 11,
   "metadata": {},
   "outputs": [],
   "source": [
    "for i in range(frame_count):\n",
    "    _, frame=video.read()\n",
    "    cv2.imwrite(dir_name+\"/\"+f'{i:04d}.png',frame)\n",
    "        \n"
   ]
  },
  {
   "cell_type": "code",
   "execution_count": 28,
   "metadata": {},
   "outputs": [],
   "source": [
    "_, frame=video.read()"
   ]
  },
  {
   "cell_type": "code",
   "execution_count": 35,
   "metadata": {},
   "outputs": [
    {
     "data": {
      "text/plain": [
       "True"
      ]
     },
     "execution_count": 35,
     "metadata": {},
     "output_type": "execute_result"
    }
   ],
   "source": []
  },
  {
   "cell_type": "code",
   "execution_count": 23,
   "metadata": {},
   "outputs": [
    {
     "data": {
      "text/plain": [
       "'image000003.png'"
      ]
     },
     "execution_count": 23,
     "metadata": {},
     "output_type": "execute_result"
    }
   ],
   "source": [
    "'M{0:06d}.png'.format(3)"
   ]
  },
  {
   "cell_type": "code",
   "execution_count": 27,
   "metadata": {},
   "outputs": [],
   "source": [
    "\n",
    "\n",
    "\n",
    "for i in range(frame_count):\n",
    "    _, frame = video.read()\n",
    "    cv2.imwrite(dir_name+ \"/\" + str(i) + \".png\", frame)"
   ]
  },
  {
   "cell_type": "code",
   "execution_count": 11,
   "metadata": {},
   "outputs": [],
   "source": [
    "import numpy as np\n"
   ]
  },
  {
   "cell_type": "code",
   "execution_count": 22,
   "metadata": {},
   "outputs": [
    {
     "data": {
      "text/plain": [
       "['MAH00656.avi']"
      ]
     },
     "execution_count": 22,
     "metadata": {},
     "output_type": "execute_result"
    }
   ],
   "source": [
    "a"
   ]
  },
  {
   "cell_type": "code",
   "execution_count": 17,
   "metadata": {},
   "outputs": [
    {
     "data": {
      "text/plain": [
       "['MAH00682.MP4']"
      ]
     },
     "execution_count": 17,
     "metadata": {},
     "output_type": "execute_result"
    }
   ],
   "source": [
    "a"
   ]
  },
  {
   "cell_type": "code",
   "execution_count": 19,
   "metadata": {},
   "outputs": [],
   "source": [
    "video.get?"
   ]
  },
  {
   "cell_type": "code",
   "execution_count": 51,
   "metadata": {},
   "outputs": [],
   "source": [
    "fourcc =cv2.VideoWriter_fourcc('m','p','4','v')\n",
    "video=cv2.VideoWriter('video1.mp4',fourcc,20.0,(1280,720))\n",
    "\n",
    "for i in range(1,300):\n",
    "    img=cv2.imread(dir_name+\"/\"+'M{0:06d}.png'.format(i))\n",
    "    img = cv2.resize(img, (1280,720))\n",
    "    video.write(img)\n",
    "    \n",
    "video.release()"
   ]
  },
  {
   "cell_type": "code",
   "execution_count": 42,
   "metadata": {},
   "outputs": [],
   "source": [
    "img=cv2.imread(dir_name+\"/\"+'M{0:06d}.png'.format(1))"
   ]
  },
  {
   "cell_type": "code",
   "execution_count": 43,
   "metadata": {},
   "outputs": [
    {
     "data": {
      "text/plain": [
       "(720, 1280, 3)"
      ]
     },
     "execution_count": 43,
     "metadata": {},
     "output_type": "execute_result"
    }
   ],
   "source": [
    "img.shape"
   ]
  },
  {
   "cell_type": "code",
   "execution_count": 46,
   "metadata": {},
   "outputs": [
    {
     "ename": "error",
     "evalue": "/opt/concourse/worker/volumes/live/d8bcd4d1-79b2-4aa5-797a-b95097f1118f/volume/opencv_1512680501887/work/modules/imgproc/src/resize.cpp:3289: error: (-215) ssize.width > 0 && ssize.height > 0 in function resize\n",
     "output_type": "error",
     "traceback": [
      "\u001b[0;31m---------------------------------------------------------------------------\u001b[0m",
      "\u001b[0;31merror\u001b[0m                                     Traceback (most recent call last)",
      "\u001b[0;32m<ipython-input-46-4c2a6f3f795c>\u001b[0m in \u001b[0;36m<module>\u001b[0;34m()\u001b[0m\n\u001b[1;32m      6\u001b[0m \u001b[0;32mfor\u001b[0m \u001b[0mi\u001b[0m \u001b[0;32min\u001b[0m \u001b[0mrange\u001b[0m\u001b[0;34m(\u001b[0m\u001b[0;36m1\u001b[0m\u001b[0;34m,\u001b[0m \u001b[0;36m20\u001b[0m\u001b[0;34m)\u001b[0m\u001b[0;34m:\u001b[0m\u001b[0;34m\u001b[0m\u001b[0m\n\u001b[1;32m      7\u001b[0m     \u001b[0mimg\u001b[0m \u001b[0;34m=\u001b[0m \u001b[0mcv2\u001b[0m\u001b[0;34m.\u001b[0m\u001b[0mimread\u001b[0m\u001b[0;34m(\u001b[0m\u001b[0;34m'image{0:03d}.png'\u001b[0m\u001b[0;34m.\u001b[0m\u001b[0mformat\u001b[0m\u001b[0;34m(\u001b[0m\u001b[0mi\u001b[0m\u001b[0;34m)\u001b[0m\u001b[0;34m)\u001b[0m\u001b[0;34m\u001b[0m\u001b[0m\n\u001b[0;32m----> 8\u001b[0;31m     \u001b[0mimg\u001b[0m \u001b[0;34m=\u001b[0m \u001b[0mcv2\u001b[0m\u001b[0;34m.\u001b[0m\u001b[0mresize\u001b[0m\u001b[0;34m(\u001b[0m\u001b[0mimg\u001b[0m\u001b[0;34m,\u001b[0m \u001b[0;34m(\u001b[0m\u001b[0;36m640\u001b[0m\u001b[0;34m,\u001b[0m\u001b[0;36m360\u001b[0m\u001b[0;34m)\u001b[0m\u001b[0;34m)\u001b[0m\u001b[0;34m\u001b[0m\u001b[0m\n\u001b[0m\u001b[1;32m      9\u001b[0m     \u001b[0mvideo\u001b[0m\u001b[0;34m.\u001b[0m\u001b[0mwrite\u001b[0m\u001b[0;34m(\u001b[0m\u001b[0mimg\u001b[0m\u001b[0;34m)\u001b[0m\u001b[0;34m\u001b[0m\u001b[0m\n\u001b[1;32m     10\u001b[0m \u001b[0;34m\u001b[0m\u001b[0m\n",
      "\u001b[0;31merror\u001b[0m: /opt/concourse/worker/volumes/live/d8bcd4d1-79b2-4aa5-797a-b95097f1118f/volume/opencv_1512680501887/work/modules/imgproc/src/resize.cpp:3289: error: (-215) ssize.width > 0 && ssize.height > 0 in function resize\n"
     ]
    }
   ],
   "source": [
    "import cv2\n",
    "\n",
    "fourcc = cv2.VideoWriter_fourcc('m','p','4','v')\n",
    "video = cv2.VideoWriter('video1.mp4', fourcc, 20.0, (640,360))\n",
    "\n",
    "for i in range(1, 20):\n",
    "    img = cv2.imread('image{0:03d}.png'.format(i))\n",
    "    img = cv2.resize(img, (640,360))\n",
    "    video.write(img)\n",
    "\n",
    "video.release()"
   ]
  },
  {
   "cell_type": "code",
   "execution_count": 50,
   "metadata": {},
   "outputs": [
    {
     "data": {
      "text/plain": [
       "300"
      ]
     },
     "execution_count": 50,
     "metadata": {},
     "output_type": "execute_result"
    }
   ],
   "source": [
    "len(os.listdir(dir_name))"
   ]
  },
  {
   "cell_type": "code",
   "execution_count": 76,
   "metadata": {},
   "outputs": [
    {
     "data": {
      "text/plain": [
       "'000000010.png'"
      ]
     },
     "execution_count": 76,
     "metadata": {},
     "output_type": "execute_result"
    }
   ],
   "source": [
    "'{0:09d}.png'.format(10)"
   ]
  },
  {
   "cell_type": "code",
   "execution_count": 84,
   "metadata": {},
   "outputs": [
    {
     "name": "stdout",
     "output_type": "stream",
     "text": [
      "00\n",
      "01\n",
      "02\n",
      "03\n",
      "04\n",
      "05\n",
      "06\n",
      "07\n",
      "08\n",
      "09\n",
      "10\n",
      "11\n",
      "12\n",
      "13\n",
      "14\n",
      "15\n",
      "16\n",
      "17\n",
      "18\n",
      "19\n",
      "20\n",
      "21\n",
      "22\n",
      "23\n",
      "24\n",
      "25\n",
      "26\n",
      "27\n",
      "28\n",
      "29\n",
      "30\n",
      "31\n",
      "32\n",
      "33\n",
      "34\n",
      "35\n",
      "36\n",
      "37\n",
      "38\n",
      "39\n",
      "40\n",
      "41\n",
      "42\n",
      "43\n",
      "44\n",
      "45\n",
      "46\n",
      "47\n",
      "48\n",
      "49\n",
      "50\n",
      "51\n"
     ]
    }
   ],
   "source": [
    "for i,k in enumerate(a):\n",
    "    print(f'{i:02d}')"
   ]
  },
  {
   "cell_type": "code",
   "execution_count": 92,
   "metadata": {},
   "outputs": [
    {
     "data": {
      "text/plain": [
       "2"
      ]
     },
     "execution_count": 92,
     "metadata": {},
     "output_type": "execute_result"
    }
   ],
   "source": [
    "len(np.linspace(0,frame_count,frame_count//100,dtype=np.int))"
   ]
  },
  {
   "cell_type": "code",
   "execution_count": 101,
   "metadata": {},
   "outputs": [
    {
     "data": {
      "text/plain": [
       "['MAH00663.MP4',\n",
       " 'MAH00677.MP4',\n",
       " 'MAH00676.MP4',\n",
       " 'MAH00662.MP4',\n",
       " 'MAH00689.MP4',\n",
       " 'MAH00674.MP4',\n",
       " 'MAH00660.MP4',\n",
       " 'MAH00661.MP4',\n",
       " 'MAH00675.MP4',\n",
       " 'MAH00659.MP4',\n",
       " 'MAH00665.MP4',\n",
       " 'MAH00664.MP4',\n",
       " 'MAH00658.MP4',\n",
       " 'MAH00666.MP4',\n",
       " 'MAH00672.MP4',\n",
       " 'MAH00673.MP4',\n",
       " 'MAH00614.MP4',\n",
       " 'MAH00589.MP4',\n",
       " 'MAH00588.MP4',\n",
       " 'MAH00615.MP4',\n",
       " 'MAH00617.MP4',\n",
       " 'MAH00616.MP4',\n",
       " 'MAH00612.MP4',\n",
       " 'MAH00606.MP4',\n",
       " 'MAH00607.MP4',\n",
       " 'MAH00613.MP4',\n",
       " 'MAH00611.MP4',\n",
       " 'MAH00599.MP4',\n",
       " 'MAH00610.MP4',\n",
       " 'MAH00609.MP4',\n",
       " 'MAH00594.MP4',\n",
       " 'MAH00595.MP4',\n",
       " 'MAH00596.MP4',\n",
       " 'MAH00586.MP4',\n",
       " 'MAH00592.MP4',\n",
       " 'MAH00593.MP4',\n",
       " 'MAH00587.MP4',\n",
       " 'MAH00618.MP4',\n",
       " 'MAH00591.MP4',\n",
       " 'MAH00585.MP4',\n",
       " 'MAH00590.MP4',\n",
       " 'MAH00681.MP4',\n",
       " 'MAH00656.MP4',\n",
       " 'MAH00657.MP4',\n",
       " 'MAH00680.MP4',\n",
       " 'MAH00682.MP4',\n",
       " 'MAH00683.MP4',\n",
       " 'MAH00678.MP4',\n",
       " 'MAH00644.MP4',\n",
       " 'MAH00679.MP4',\n",
       " 'MAH00684.MP4',\n",
       " 'MAH00652.MP4']"
      ]
     },
     "execution_count": 101,
     "metadata": {},
     "output_type": "execute_result"
    }
   ],
   "source": []
  },
  {
   "cell_type": "code",
   "execution_count": 97,
   "metadata": {},
   "outputs": [
    {
     "data": {
      "text/plain": [
       "'M02_0019.png'"
      ]
     },
     "execution_count": 97,
     "metadata": {},
     "output_type": "execute_result"
    }
   ],
   "source": [
    "i=0\n",
    "p=19\n",
    "f'M{i+2:02d}_{p:04d}.png'"
   ]
  },
  {
   "cell_type": "code",
   "execution_count": 108,
   "metadata": {},
   "outputs": [],
   "source": [
    "\n",
    "for mm,file_name in enumerate(a): \n",
    "    video = cv2.VideoCapture(file_name)\n",
    "    #フレーム数を取得\n",
    "    frame_count = int(video.get(7))\n",
    "    num =np.linspace(0,frame_count,frame_count//130,dtype=np.int) \n",
    "\n",
    "    if len(num)==0 or mm<26:\n",
    "        continue\n",
    "    \n",
    "    else:\n",
    "\n",
    "        p,k=0,0\n",
    "        for i in range(frame_count):\n",
    "            _, frame=video.read()\n",
    "            if np.any(num==k):\n",
    "                p+=1\n",
    "                cv2.imwrite(dir_name+\"/\"+f'M{mm+2:02d}_{p:04d}.png',frame)\n",
    "        \n",
    "            k+=1"
   ]
  },
  {
   "cell_type": "code",
   "execution_count": 106,
   "metadata": {},
   "outputs": [
    {
     "data": {
      "text/plain": [
       "['MAH00663.MP4',\n",
       " 'MAH00677.MP4',\n",
       " 'MAH00676.MP4',\n",
       " 'MAH00662.MP4',\n",
       " 'MAH00689.MP4',\n",
       " 'MAH00674.MP4',\n",
       " 'MAH00660.MP4',\n",
       " 'MAH00661.MP4',\n",
       " 'MAH00675.MP4',\n",
       " 'MAH00659.MP4',\n",
       " 'MAH00665.MP4',\n",
       " 'MAH00664.MP4',\n",
       " 'MAH00658.MP4',\n",
       " 'MAH00666.MP4',\n",
       " 'MAH00672.MP4',\n",
       " 'MAH00673.MP4',\n",
       " 'MAH00614.MP4',\n",
       " 'MAH00589.MP4',\n",
       " 'MAH00588.MP4',\n",
       " 'MAH00615.MP4',\n",
       " 'MAH00617.MP4',\n",
       " 'MAH00616.MP4',\n",
       " 'MAH00612.MP4',\n",
       " 'MAH00606.MP4',\n",
       " 'MAH00607.MP4',\n",
       " 'MAH00613.MP4',\n",
       " 'MAH00611.MP4',\n",
       " 'MAH00599.MP4',\n",
       " 'MAH00610.MP4',\n",
       " 'MAH00609.MP4',\n",
       " 'MAH00594.MP4',\n",
       " 'MAH00595.MP4',\n",
       " 'MAH00596.MP4',\n",
       " 'MAH00586.MP4',\n",
       " 'MAH00592.MP4',\n",
       " 'MAH00593.MP4',\n",
       " 'MAH00587.MP4',\n",
       " 'MAH00618.MP4',\n",
       " 'MAH00591.MP4',\n",
       " 'MAH00585.MP4',\n",
       " 'MAH00590.MP4',\n",
       " 'MAH00681.MP4',\n",
       " 'MAH00656.MP4',\n",
       " 'MAH00657.MP4',\n",
       " 'MAH00680.MP4',\n",
       " 'MAH00682.MP4',\n",
       " 'MAH00683.MP4',\n",
       " 'MAH00678.MP4',\n",
       " 'MAH00644.MP4',\n",
       " 'MAH00679.MP4',\n",
       " 'MAH00684.MP4',\n",
       " 'MAH00652.MP4']"
      ]
     },
     "execution_count": 106,
     "metadata": {},
     "output_type": "execute_result"
    }
   ],
   "source": [
    "a"
   ]
  },
  {
   "cell_type": "code",
   "execution_count": null,
   "metadata": {},
   "outputs": [],
   "source": []
  }
 ],
 "metadata": {
  "kernelspec": {
   "display_name": "Python 3",
   "language": "python",
   "name": "python3"
  },
  "language_info": {
   "codemirror_mode": {
    "name": "ipython",
    "version": 3
   },
   "file_extension": ".py",
   "mimetype": "text/x-python",
   "name": "python",
   "nbconvert_exporter": "python",
   "pygments_lexer": "ipython3",
   "version": "3.6.4"
  }
 },
 "nbformat": 4,
 "nbformat_minor": 2
}
