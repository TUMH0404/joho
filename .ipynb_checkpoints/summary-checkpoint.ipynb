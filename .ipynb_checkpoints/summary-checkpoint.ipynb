{
 "cells": [
  {
   "cell_type": "markdown",
   "metadata": {},
   "source": [
    "<img src=\"list.png\" width=\"600\">"
   ]
  },
  {
   "cell_type": "code",
   "execution_count": null,
   "metadata": {},
   "outputs": [],
   "source": [
    "##リストを作成する。"
   ]
  },
  {
   "cell_type": "code",
   "execution_count": null,
   "metadata": {},
   "outputs": [],
   "source": [
    "## 下のリストの群をリスト形式にして，japanという変数名に代入する。\n",
    "### 文字型にする。\n",
    "### リストにする。"
   ]
  },
  {
   "cell_type": "code",
   "execution_count": 3,
   "metadata": {},
   "outputs": [],
   "source": [
    "japan = \n",
    "            [1,北海道,札幌]\n",
    "            [2,青森県,青森]\n",
    "            [3,岩手県,盛岡]\n",
    "            [4,宮城県,仙台]\n",
    "            [5,秋田県,秋田]\n",
    "            [6,\"山形県\",\"山形\"],\n",
    "            [7,\"福島県\",\"福島\"],\n",
    "            [8,\"茨城県\",\"水戸\"],\n",
    "            [9,\"栃木県\",\"宇都宮\"],\n",
    "            [10,\"群馬県\",\"前橋\"],\n",
    "            [11,\"埼玉県\",\"さいたま\"],\n",
    "            [12,\"千葉県\",\"千葉\"],\n",
    "            [13,\"東京都\",\"東京\"],\n",
    "            [14,\"神奈川県\",\"横浜\"],\n",
    "            [15,\"新潟県\",\"新潟\"],\n",
    "            [16,\"富山県\",\"富山\"],\n",
    "            [17,\"石川県\",\"金沢\"],\n",
    "            [18,\"福井県\",\"福井\"],\n",
    "            [19,\"山梨県\",\"甲府\"],\n",
    "            [20,\"長野県\",\"長野\"],\n",
    "            [21,\"岐阜県\",\"岐阜\"],\n",
    "            [22,\"静岡県\",\"静岡\"],\n",
    "            [23,\"愛知県\",\"名古屋\"],\n",
    "            [24,\"三重県\",\"津\"],\n",
    "            [25,\"滋賀県\",\"大津\"],\n",
    "            [26,\"京都府\",\"京都\"],\n",
    "            [27,\"大阪府\",\"大阪\"],\n",
    "            [28,\"兵庫県\",\"神戸\"],\n",
    "            [29,\"奈良県\",\"奈良\"],\n",
    "            [30,\"和歌山県\",\"和歌山\"],\n",
    "            [31,\"鳥取県\",\"鳥取\"],\n",
    "            [32,\"島根県\",\"松江\"],\n",
    "            [33,\"岡山県\",\"岡山\"],\n",
    "            [34,\"広島県\",\"広島\"],\n",
    "            [35,\"山口県\",\"山口\"],\n",
    "            [36,\"徳島県\",\"徳島\"],\n",
    "            [37,\"香川県\",\"高松\"],\n",
    "            [38,\"愛媛県\",\"松山\"],\n",
    "            [39,\"高知県\",\"高知\"],\n",
    "            [40,\"福岡県\",\"福岡\"],\n",
    "            [41,\"佐賀県\",\"佐賀\"],\n",
    "            [42,\"長崎県\",\"長崎\"],\n",
    "            [43,\"熊本県\",\"熊本\"],\n",
    "            [44,\"大分県\",\"大分\"],\n",
    "            [45,\"宮崎県\",\"宮崎\"],\n",
    "            [46,\"鹿児島県\",\"鹿児島\"],\n",
    "            [47,\"沖縄県\",\"那覇\"]"
   ]
  },
  {
   "cell_type": "code",
   "execution_count": null,
   "metadata": {},
   "outputs": [],
   "source": [
    "## for文を使って，\"県番号〇〇は，〇〇で，県庁所在地は〇〇です\"，とすべて表示する。\n",
    "### print関数を使う。f-stringsを使う。"
   ]
  },
  {
   "cell_type": "code",
   "execution_count": null,
   "metadata": {},
   "outputs": [],
   "source": []
  },
  {
   "cell_type": "code",
   "execution_count": null,
   "metadata": {},
   "outputs": [],
   "source": [
    "## 県番号が15の県名は何か？？"
   ]
  },
  {
   "cell_type": "code",
   "execution_count": null,
   "metadata": {},
   "outputs": [],
   "source": []
  },
  {
   "cell_type": "code",
   "execution_count": null,
   "metadata": {},
   "outputs": [],
   "source": [
    "## 県番号が□□のときの県名を表示する関数を作成する。"
   ]
  },
  {
   "cell_type": "code",
   "execution_count": null,
   "metadata": {},
   "outputs": [],
   "source": []
  }
 ],
 "metadata": {
  "kernelspec": {
   "display_name": "Python 3",
   "language": "python",
   "name": "python3"
  },
  "language_info": {
   "codemirror_mode": {
    "name": "ipython",
    "version": 3
   },
   "file_extension": ".py",
   "mimetype": "text/x-python",
   "name": "python",
   "nbconvert_exporter": "python",
   "pygments_lexer": "ipython3",
   "version": "3.6.8"
  },
  "toc": {
   "base_numbering": 1,
   "nav_menu": {},
   "number_sections": true,
   "sideBar": true,
   "skip_h1_title": false,
   "title_cell": "Table of Contents",
   "title_sidebar": "Contents",
   "toc_cell": false,
   "toc_position": {},
   "toc_section_display": true,
   "toc_window_display": false
  }
 },
 "nbformat": 4,
 "nbformat_minor": 2
}
