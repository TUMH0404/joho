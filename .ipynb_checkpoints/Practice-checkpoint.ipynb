{
 "cells": [
  {
   "cell_type": "markdown",
   "metadata": {},
   "source": [
    "# 課題_その1"
   ]
  },
  {
   "cell_type": "markdown",
   "metadata": {},
   "source": [
    "## 文字列・数列の入力と簡単な計算"
   ]
  },
  {
   "cell_type": "markdown",
   "metadata": {},
   "source": [
    "学籍番号"
   ]
  },
  {
   "cell_type": "markdown",
   "metadata": {},
   "source": [
    "氏名"
   ]
  },
  {
   "cell_type": "markdown",
   "metadata": {},
   "source": [
    "あなたは何歳ですか？"
   ]
  },
  {
   "cell_type": "code",
   "execution_count": 2,
   "metadata": {},
   "outputs": [
    {
     "data": {
      "text/plain": [
       "42"
      ]
     },
     "execution_count": 2,
     "metadata": {},
     "output_type": "execute_result"
    }
   ],
   "source": [
    "11"
   ]
  },
  {
   "cell_type": "markdown",
   "metadata": {},
   "source": [
    "あなたの親は何歳ですか？"
   ]
  },
  {
   "cell_type": "code",
   "execution_count": null,
   "metadata": {},
   "outputs": [],
   "source": [
    "42"
   ]
  },
  {
   "cell_type": "markdown",
   "metadata": {},
   "source": [
    "あなたは何年生まれですか？（元号）"
   ]
  },
  {
   "cell_type": "code",
   "execution_count": 4,
   "metadata": {},
   "outputs": [
    {
     "data": {
      "text/plain": [
       "'平成20年'"
      ]
     },
     "execution_count": 4,
     "metadata": {},
     "output_type": "execute_result"
    }
   ],
   "source": [
    "\"平成20年\""
   ]
  },
  {
   "cell_type": "markdown",
   "metadata": {},
   "source": [
    "あなたの親は何年生まれですか？（元号）"
   ]
  },
  {
   "cell_type": "code",
   "execution_count": 5,
   "metadata": {},
   "outputs": [
    {
     "data": {
      "text/plain": [
       "'昭和52年'"
      ]
     },
     "execution_count": 5,
     "metadata": {},
     "output_type": "execute_result"
    }
   ],
   "source": [
    "\"昭和52年\""
   ]
  },
  {
   "cell_type": "markdown",
   "metadata": {},
   "source": [
    "年齢の差は何歳ですか？"
   ]
  },
  {
   "cell_type": "code",
   "execution_count": 6,
   "metadata": {
    "scrolled": true
   },
   "outputs": [
    {
     "data": {
      "text/plain": [
       "31"
      ]
     },
     "execution_count": 6,
     "metadata": {},
     "output_type": "execute_result"
    }
   ],
   "source": [
    "64-52-1+20"
   ]
  },
  {
   "cell_type": "markdown",
   "metadata": {},
   "source": [
    "## 日時の計算"
   ]
  },
  {
   "cell_type": "markdown",
   "metadata": {},
   "source": [
    "1時間は何分か？"
   ]
  },
  {
   "cell_type": "code",
   "execution_count": null,
   "metadata": {},
   "outputs": [],
   "source": []
  },
  {
   "cell_type": "markdown",
   "metadata": {},
   "source": [
    "1秒は何ミリ秒か？"
   ]
  },
  {
   "cell_type": "code",
   "execution_count": null,
   "metadata": {},
   "outputs": [],
   "source": []
  },
  {
   "cell_type": "markdown",
   "metadata": {},
   "source": [
    "1分45秒は何ミリ秒か？"
   ]
  },
  {
   "cell_type": "markdown",
   "metadata": {},
   "source": [
    "## うるう年の計算"
   ]
  },
  {
   "cell_type": "markdown",
   "metadata": {},
   "source": [
    "うるう年は1868年を最初とすると、2020年は何回目のうるう年になる？？"
   ]
  },
  {
   "cell_type": "code",
   "execution_count": 109,
   "metadata": {},
   "outputs": [
    {
     "data": {
      "text/plain": [
       "38"
      ]
     },
     "execution_count": 109,
     "metadata": {},
     "output_type": "execute_result"
    }
   ],
   "source": [
    "(2020-1868)//4"
   ]
  },
  {
   "cell_type": "markdown",
   "metadata": {},
   "source": [
    "## 日付の計算"
   ]
  },
  {
   "cell_type": "markdown",
   "metadata": {},
   "source": [
    "うるう年以外は次のようになります。<br>\n",
    "1月------31日間<br>\n",
    "2月------28日間<br>\n",
    "3月------31日間<br>\n",
    "4月------30日間<br>\n",
    "5月------31日間<br>\n",
    "6月------30日間<br>\n",
    "7月------31日間<br>\n",
    "8月------31日間<br>\n",
    "9月------30日間<br>\n",
    "10月------31日間<br>\n",
    "11月------30日間<br>\n",
    "12月------31日間<br>"
   ]
  },
  {
   "cell_type": "markdown",
   "metadata": {},
   "source": [
    "ある年の4月1日は金曜日でした。"
   ]
  },
  {
   "cell_type": "code",
   "execution_count": 40,
   "metadata": {},
   "outputs": [],
   "source": [
    "# 走らせましょう。\n",
    "m1 = 31\n",
    "m2 = 28\n",
    "m3 = 31\n",
    "m4 = 30\n",
    "m5 = 31\n",
    "m6 = 30\n",
    "m7 = 31\n",
    "m8 = 31\n",
    "m9 = 30\n",
    "m10 = 31\n",
    "m11 = 30\n",
    "m12 = 31"
   ]
  },
  {
   "cell_type": "markdown",
   "metadata": {},
   "source": [
    "4月の最後は何曜日？"
   ]
  },
  {
   "cell_type": "code",
   "execution_count": 73,
   "metadata": {
    "hide_input": false
   },
   "outputs": [],
   "source": [
    "#このセルに式を入力する"
   ]
  },
  {
   "cell_type": "markdown",
   "metadata": {},
   "source": [
    "答え：（ココをクリックして答えを入れる。）"
   ]
  },
  {
   "cell_type": "markdown",
   "metadata": {},
   "source": [
    "その年の8月の最初の月曜日は何日ですか？"
   ]
  },
  {
   "cell_type": "code",
   "execution_count": 74,
   "metadata": {
    "hide_input": false,
    "scrolled": true
   },
   "outputs": [],
   "source": [
    "#このセルに式を入力する"
   ]
  },
  {
   "cell_type": "markdown",
   "metadata": {},
   "source": [
    "答え：（ココをクリックして答えを入れる。）"
   ]
  },
  {
   "cell_type": "markdown",
   "metadata": {},
   "source": [
    "その年の6月1日は何曜日？"
   ]
  },
  {
   "cell_type": "code",
   "execution_count": 74,
   "metadata": {
    "hide_input": false,
    "scrolled": true
   },
   "outputs": [],
   "source": [
    "#このセルに式を入力する"
   ]
  },
  {
   "cell_type": "markdown",
   "metadata": {},
   "source": [
    "答え：（ココをクリックして答えを入れる。）"
   ]
  },
  {
   "cell_type": "markdown",
   "metadata": {},
   "source": [
    "その年の9月1日は何曜日？"
   ]
  },
  {
   "cell_type": "code",
   "execution_count": 74,
   "metadata": {
    "hide_input": false,
    "scrolled": true
   },
   "outputs": [],
   "source": [
    "#このセルに式を入力する"
   ]
  },
  {
   "cell_type": "markdown",
   "metadata": {},
   "source": [
    "答え：（ココをクリックして答えを入れる。）"
   ]
  },
  {
   "cell_type": "markdown",
   "metadata": {},
   "source": [
    "その年の11月11日は何曜日？"
   ]
  },
  {
   "cell_type": "code",
   "execution_count": 74,
   "metadata": {
    "hide_input": false,
    "scrolled": true
   },
   "outputs": [],
   "source": [
    "#このセルに式を入力する"
   ]
  },
  {
   "cell_type": "markdown",
   "metadata": {},
   "source": [
    "答え：（ココをクリックして答えを入れる。）"
   ]
  },
  {
   "cell_type": "markdown",
   "metadata": {},
   "source": [
    "その年のあなたの誕生日は何曜日？"
   ]
  },
  {
   "cell_type": "code",
   "execution_count": null,
   "metadata": {},
   "outputs": [],
   "source": [
    "#ここに式をいれる"
   ]
  },
  {
   "cell_type": "markdown",
   "metadata": {},
   "source": [
    "答え：（ココをクリックして答えを入れる。）"
   ]
  },
  {
   "cell_type": "markdown",
   "metadata": {},
   "source": [
    "**応用**"
   ]
  },
  {
   "cell_type": "markdown",
   "metadata": {},
   "source": [
    "4年経過後、最初の7月1日は何曜日ですか？"
   ]
  },
  {
   "cell_type": "code",
   "execution_count": 64,
   "metadata": {},
   "outputs": [
    {
     "name": "stdout",
     "output_type": "stream",
     "text": [
      "5\n"
     ]
    }
   ],
   "source": [
    "mm = m1+m2+m3+m4+m5+m6+m7+m8+m9+m10+m11+m12\n",
    "mm1 = m4+m5+m6\n",
    "print(((mm*4+1)+mm1)%7)"
   ]
  },
  {
   "cell_type": "code",
   "execution_count": 50,
   "metadata": {},
   "outputs": [
    {
     "data": {
      "text/plain": [
       "6"
      ]
     },
     "execution_count": 50,
     "metadata": {},
     "output_type": "execute_result"
    }
   ],
   "source": []
  },
  {
   "cell_type": "markdown",
   "metadata": {},
   "source": [
    "# 課題_その2"
   ]
  },
  {
   "cell_type": "markdown",
   "metadata": {},
   "source": [
    "課題1でやった問題の延長である。リストの操作を勉強しよう。"
   ]
  },
  {
   "cell_type": "code",
   "execution_count": 53,
   "metadata": {},
   "outputs": [],
   "source": [
    "week = [\"mon\",\"tue\",\"wen\",\"thr\",\"fri\",\"sat\",\"sun\"]"
   ]
  },
  {
   "cell_type": "markdown",
   "metadata": {},
   "source": [
    "weekの要素を繰り返す。それにオブジェクト名「week2」と与える。\n",
    "```\n",
    "[\"mon\",\"tue\",\"wen\",...,\"mon\",\"tue\",...,\"sat\",\"sun\"]\n",
    "```\n",
    "となるように。"
   ]
  },
  {
   "cell_type": "code",
   "execution_count": 123,
   "metadata": {},
   "outputs": [],
   "source": [
    "#ここに入力"
   ]
  },
  {
   "cell_type": "code",
   "execution_count": 75,
   "metadata": {
    "hide_input": true
   },
   "outputs": [],
   "source": [
    "##\n",
    "week2 = week*2 "
   ]
  },
  {
   "cell_type": "markdown",
   "metadata": {},
   "source": [
    "week2を木曜日（\"thr\"）から始まるリストを7つ分つくる。\n",
    "```\n",
    "[\"thr\",\"fri\",\"sat\",\"sun\",\"mon\",\"tue\",\"wen\"]\n",
    "```"
   ]
  },
  {
   "cell_type": "code",
   "execution_count": null,
   "metadata": {
    "hide_input": false
   },
   "outputs": [],
   "source": [
    "#ここに入力"
   ]
  },
  {
   "cell_type": "code",
   "execution_count": 125,
   "metadata": {
    "hide_input": true
   },
   "outputs": [],
   "source": [
    "week3 = [week2[i] for i in range(0,0+7,1)]"
   ]
  },
  {
   "cell_type": "markdown",
   "metadata": {
    "hide_input": true
   },
   "source": [
    "2030年10月10日は何曜日？？\n",
    "> 1.うるう年の数は？<br>\n",
    "> 2.年の数は？<br>\n",
    "> 3.該当年の日数<br>"
   ]
  },
  {
   "cell_type": "code",
   "execution_count": 130,
   "metadata": {
    "hide_input": true
   },
   "outputs": [],
   "source": [
    "#うるう年1868年#\n",
    "p = 2030-1868\n",
    "q = 2019-1868\n",
    "uru = p//4-q//4"
   ]
  },
  {
   "cell_type": "code",
   "execution_count": 131,
   "metadata": {
    "hide_input": true
   },
   "outputs": [],
   "source": [
    "toshi = (2030-2019)"
   ]
  },
  {
   "cell_type": "code",
   "execution_count": 139,
   "metadata": {
    "hide_input": true
   },
   "outputs": [],
   "source": [
    "#年間の日数\n",
    "mm = m4+m5+m6+m7+m8+m9+m10+m11+m12+m1+m2+m3\n",
    "# 該当年の日数\n",
    "mm1 = m4+m5+m6+m7+m8+m9"
   ]
  },
  {
   "cell_type": "code",
   "execution_count": 136,
   "metadata": {
    "hide_input": true
   },
   "outputs": [],
   "source": [
    "d = mm*toshi+uru+mm1+(10-1)"
   ]
  },
  {
   "cell_type": "code",
   "execution_count": 137,
   "metadata": {
    "hide_input": true,
    "scrolled": true
   },
   "outputs": [
    {
     "data": {
      "text/plain": [
       "'thr'"
      ]
     },
     "execution_count": 137,
     "metadata": {},
     "output_type": "execute_result"
    }
   ],
   "source": [
    "d//7\n",
    "week3[d%7]"
   ]
  },
  {
   "cell_type": "markdown",
   "metadata": {},
   "source": [
    "# 課題_その3"
   ]
  },
  {
   "cell_type": "markdown",
   "metadata": {},
   "source": [
    "def文を用いてまとめてみよう。<br>\n",
    "**パラメータは今日の日付（年・月・日・曜日）と該当する日の曜日**"
   ]
  },
  {
   "cell_type": "code",
   "execution_count": null,
   "metadata": {},
   "outputs": [],
   "source": [
    "# 関数をここにつくる"
   ]
  },
  {
   "cell_type": "code",
   "execution_count": null,
   "metadata": {},
   "outputs": [],
   "source": [
    "# テストしてみる"
   ]
  },
  {
   "cell_type": "markdown",
   "metadata": {},
   "source": [
    "# 課題_その4"
   ]
  },
  {
   "cell_type": "markdown",
   "metadata": {},
   "source": [
    "筋の起始，停止，作用，支配神経，髄節レベルについて，まとめる。<br>\n",
    "筋名を入れると，他の情報が表示されるようにしてみよう。<br>\n",
    "ここでは，辞書形式の使用例を理解する。<br>\n",
    "これは，グループ演習課題とする。"
   ]
  },
  {
   "cell_type": "code",
   "execution_count": 3,
   "metadata": {
    "slideshow": {
     "slide_type": "fragment"
    }
   },
   "outputs": [],
   "source": [
    "# 肩関節周囲のデータ\n",
    "shoulder = [\n",
    "    ['棘上筋', '棘上窩', '大結節', '肩甲上神経', '肩関節の外転'],\n",
    "    ['棘下筋', '棘下窩', '大結節', '肩甲上神経', '肩関節の外旋'],\n",
    "    ['小円筋', '肩甲骨外側縁', '大結節', '腋窩神経', '肩関節の外旋'],\n",
    "    ['三角筋','肩甲骨の肩峰・肩甲棘・鎖骨の外側1/3','三角筋粗面','腋窩神経','肩関節の外転（側方挙上）、屈曲（前方挙上）、伸展（後方挙上）'],\n",
    "    ['肩甲下筋', '肩甲下窩', '小結節', '肩甲下神経', '肩関節の内旋'],\n",
    "    ['大円筋', '肩甲骨下角', '小結節稜', '肩甲下神経', '肩関節の内旋・内転']\n",
    "    ]"
   ]
  },
  {
   "cell_type": "markdown",
   "metadata": {},
   "source": [
    "Musclesというオブジェクトに\n",
    "```\n",
    "{ID:{\"筋名\":...,\"起始\":....,\"停止\":....,\"神経\":....,\"作用\":....}}\n",
    "```\n",
    "のような形式を書き込んでいく。"
   ]
  },
  {
   "cell_type": "code",
   "execution_count": null,
   "metadata": {},
   "outputs": [],
   "source": [
    "## Musclesという辞書形式のオブジェクトを作成\n",
    "Muscles = {}"
   ]
  },
  {
   "cell_type": "code",
   "execution_count": 1,
   "metadata": {},
   "outputs": [],
   "source": [
    "## 仮にmuscle ={\"筋名\":None,\"起始\":None,\"停止\":None,\"神経\":None,\"作用\":None}という空の辞書をつくる。\n",
    "muscle ={\"筋名\":None,\"起始\":None,\"停止\":None,\"神経\":None,\"作用\":None}"
   ]
  },
  {
   "cell_type": "code",
   "execution_count": 6,
   "metadata": {},
   "outputs": [],
   "source": [
    "muscle[\"筋名\"]=shoulder[0][0]\n",
    "muscle[\"起始\"]=shoulder[0][1]\n",
    "## ....と続ける"
   ]
  },
  {
   "cell_type": "code",
   "execution_count": 7,
   "metadata": {},
   "outputs": [
    {
     "data": {
      "text/plain": [
       "{'作用': None, '停止': None, '神経': None, '筋名': '棘上筋', '起始': '棘上窩'}"
      ]
     },
     "execution_count": 7,
     "metadata": {},
     "output_type": "execute_result"
    }
   ],
   "source": [
    "## どうなっている？？\n",
    "muscle"
   ]
  },
  {
   "cell_type": "markdown",
   "metadata": {},
   "source": [
    "以上を参考にshoulderすべてのリストを同じように当てはめていき，Musclesにupdateしていこう！<br>\n",
    "これができれば，理学療法でもっとも大事な筋の勉強教材が出来上がる"
   ]
  },
  {
   "cell_type": "code",
   "execution_count": null,
   "metadata": {},
   "outputs": [],
   "source": []
  }
 ],
 "metadata": {
  "hide_input": false,
  "kernelspec": {
   "display_name": "Python 3",
   "language": "python",
   "name": "python3"
  },
  "language_info": {
   "codemirror_mode": {
    "name": "ipython",
    "version": 3
   },
   "file_extension": ".py",
   "mimetype": "text/x-python",
   "name": "python",
   "nbconvert_exporter": "python",
   "pygments_lexer": "ipython3",
   "version": "3.6.8"
  },
  "toc": {
   "base_numbering": 1,
   "nav_menu": {},
   "number_sections": true,
   "sideBar": true,
   "skip_h1_title": false,
   "title_cell": "Table of Contents",
   "title_sidebar": "Contents",
   "toc_cell": false,
   "toc_position": {},
   "toc_section_display": true,
   "toc_window_display": true
  }
 },
 "nbformat": 4,
 "nbformat_minor": 2
}
