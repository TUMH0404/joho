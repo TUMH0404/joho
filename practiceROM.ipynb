{
 "cells": [
  {
   "cell_type": "code",
   "execution_count": 48,
   "metadata": {},
   "outputs": [
    {
     "name": "stdout",
     "output_type": "stream",
     "text": [
      "学籍番号：Pt111\n",
      "氏名：大西\n"
     ]
    }
   ],
   "source": [
    "class ANS:\n",
    "    import datetime\n",
    "    def __init__(self):\n",
    "        self.df0 = [\n",
    "       0.0,0.5,1.3,1.5,2.5,2.5,4.1,7.5,8.0,10.0,\\\n",
    "       15.4,20.6,28.9,40.9,60.1,70.5,80.4,90.9,99.5,\\\n",
    "       100.5,109.4,115.6,115.0,116.7,116.9,118.6,119.7,120.4,121.4,121.5,122.0\\\n",
    "      ]\n",
    "\n",
    "        self.df1 =[\n",
    "     0.0,0.0,0.0,1.0,2.0,2.0,4.0,5.0,1.0,5.0,2.0,2.0,0.0,\\\n",
    "     2.0,4.0,5.0,4.0,4.0,1.0,2.0,3.0,2.0,6.0,6.0,5.0,4.0,\\\n",
    "     3.0,6.0,3.0,9.0,6.0,5.0,9.0,9.0,11.0,12.0,9.0,13.0,11.0,\\\n",
    "     14.0,13.0,16.0,16.0,23.0,25.0,24.0,26.0,29.0,32.0,38.0,\\\n",
    "     42.0,47.0,48.0,50.0,54.0,59.0,63.0,68.0,71.0,76.0,80.0,82.0,\\\n",
    "     88.0,90.0,97.0,98.0,98.0,103.0,106.0,107.0,107.0,108.0,115.0,\\\n",
    "     114.0,112.0,118.0,117.0,116.0,117.0,121.0,118.0,119.0,121.0,121.0,\\\n",
    "     123.0,120.0,124.0,122.0,125.0,123.0,125.0,124.0,124.0,123.0,121.0,\\\n",
    "     120.0,121.0,125.0,121.0,124.0,121.0,125.0,124.0,123.0,123.0,122.0\\\n",
    "     ]\n",
    "        self.ans0 = None\n",
    "        self.point = 0\n",
    "        self.mm0 = 0\n",
    "        self.name = \"\"\n",
    "        self.studid=\"\"\n",
    "        self.filename =\"\"\n",
    "        self. zooname()\n",
    "        self.filedat = open(self.filename,\"a\")\n",
    "        \n",
    "    def zooname(self):\n",
    "        self.studid = input(\"学籍番号：\")\n",
    "        self.name = input(\"氏名：\")\n",
    "        self.filename = f\"{self.studid}_{self.name}.txt\"\n",
    "    \n",
    "    \n",
    "    def zoo0(self):\n",
    "        nn = 1\n",
    "        mydate = datetime.datetime.now()\n",
    "        f1 = f\"{mydate.year}_{mydate.month}_{mydate.day}-{mydate.hour}:{mydate.minute}:{mydate.second}\"\n",
    "        \n",
    "        while(True):\n",
    "            ans0 = input(\"解答してください。適切な番号を入力する。\")\n",
    "            if ans0 == '1' or ans0 == '１':\n",
    "                print(\"正解\")\n",
    "                self.filedat.write(f\"{f1},type1,正解\\n\")\n",
    "                self.point +=1\n",
    "                break\n",
    "        \n",
    "            else:\n",
    "                print(\"不正解\")\n",
    "                self.filedat.write(f\"{f1},type1,不正解\\n\")\n",
    "                nn-=0.2\n",
    "        \n",
    "        self.mm0 +=nn \n",
    "                \n",
    "    def zoo1(self):\n",
    "        nn=1\n",
    "        while(True):\n",
    "            ans0 = input(\"int型と思えば「1」を,float型と思えば「2」を入力する\")\n",
    "            if ans0 == '2' or ans0 == '２':\n",
    "                print(\"正解\")\n",
    "                self.point +=1\n",
    "                break\n",
    "        \n",
    "            else:\n",
    "                print(\"不正解\")\n",
    "                nn-=0.2\n",
    "        \n",
    "        self.mm0+=nn\n",
    "\n",
    "    def zoo2(self):\n",
    "        nn=1\n",
    "        while(True):\n",
    "            ans = input(\"len(①)/②，「①」部分に入る英数字は？？\")\n",
    "            if ans == 'df0':\n",
    "                ans1 = int(input(\"len(①)/②，「②」部分に入る数字は？？\"))\n",
    "                if ans1 == 3:\n",
    "                    print(\"正解\")\n",
    "                    self.point +=1\n",
    "                    ans2 = input(\"つまりデータはいくつある？\")\n",
    "                    if ans2== \"len(df0)/3\" or float(ans2)==10:\n",
    "                        self.point +=1\n",
    "                    break\n",
    "        \n",
    "            else:\n",
    "                print(\"不正解\")\n",
    "                nn-=0.1\n",
    "        \n",
    "        self.mm0+=nn\n",
    "        print(f\"得点:{self.point}\")\n",
    "\n",
    "    def zoo3(self):\n",
    "        nn=1\n",
    "        while(True):\n",
    "            ans = input(\"len(①)/②，「①」部分に入る英数字は？？\")\n",
    "            if ans == 'df1':\n",
    "                ans1 = int(input(\"len(①)/②，「②」部分に入る数字は？？\"))\n",
    "                if ans1 == 5:\n",
    "                    print(\"正解\")\n",
    "                    self.point +=1\n",
    "                    ans2 = input(\"つまりデータはいくつある？\")\n",
    "                    if ans2== \"len(df1)/5\" or float(ans2)==20:\n",
    "                        self.point +=1\n",
    "                    break\n",
    "        \n",
    "            else:\n",
    "                print(\"不正解\")\n",
    "                nn-=0.1\n",
    "        \n",
    "        self.mm0+=nn\n",
    "        print(f\"得点:{self.point}\")\n",
    "\n",
    "    def zoo4(self,val):\n",
    "        if val==self.df1[0]:\n",
    "            self.point+=1\n",
    "            print(\"正解\")\n",
    "            \n",
    "        else:\n",
    "            \n",
    "            print(\"やり直し\")\n",
    "            \n",
    "        print(f\"得点:{self.point}\")\n",
    "    \n",
    "    def zoo5(self,val):\n",
    "        if val==self.df1[-1]:\n",
    "            self.point+=1\n",
    "            print(\"正解\")\n",
    "            \n",
    "        else:\n",
    "            \n",
    "            print(\"やり直し\")\n",
    "            \n",
    "        print(f\"得点:{self.point}\")\n",
    "\n",
    "    def zoo6(self,val):\n",
    "        if val==max(self.df0):\n",
    "            self.point+=1\n",
    "            print(\"正解\")\n",
    "            \n",
    "        else:\n",
    "            \n",
    "            print(\"やり直し\")\n",
    "            \n",
    "        print(f\"得点:{self.point}\")\n",
    "        \n",
    "    def over(self):\n",
    "        self.filedat.close()\n",
    "        print(\"終了\")\n",
    "A = ANS()"
   ]
  },
  {
   "cell_type": "code",
   "execution_count": null,
   "metadata": {},
   "outputs": [],
   "source": []
  },
  {
   "cell_type": "markdown",
   "metadata": {},
   "source": [
    "### 以下のセルに学籍番号の氏名を入力する。"
   ]
  },
  {
   "cell_type": "code",
   "execution_count": null,
   "metadata": {},
   "outputs": [],
   "source": [
    "studid = input(\"学籍番号：\")"
   ]
  },
  {
   "cell_type": "code",
   "execution_count": null,
   "metadata": {},
   "outputs": [],
   "source": [
    "name = input(\"氏名：\")"
   ]
  },
  {
   "cell_type": "markdown",
   "metadata": {},
   "source": [
    "### 学籍番号をgakuseniというオブジェクト名に代入する"
   ]
  },
  {
   "cell_type": "code",
   "execution_count": null,
   "metadata": {},
   "outputs": [],
   "source": [
    "gakuseki=\"P100000\""
   ]
  },
  {
   "cell_type": "markdown",
   "metadata": {},
   "source": [
    "### 演習問題"
   ]
  },
  {
   "cell_type": "markdown",
   "metadata": {},
   "source": [
    "#### 条件設定<br>\n",
    ">gakusekiというIDを持った人が時刻t0から時刻t1の間，股関節を伸ばした状態から曲げました（股関節の屈曲運動）。<br>その運動を2回実施しました。<br>そのときに計測したデータが次の通りあります。<br>1回目はdf0，2回目はdf1です。<br>\n"
   ]
  },
  {
   "cell_type": "markdown",
   "metadata": {},
   "source": [
    "#### df0とdf1を走らせましょう。読み込みましょう。<br>\n",
    ">データは次のとおり書いている。それぞれの行の最後尾にあるバックスラッシュ（もしくは¥マーク）は，長いデータなど，みにくくなるので，よく改行する。その際，そのデータは続いているよ，ということをコンピュータに指示する。"
   ]
  },
  {
   "cell_type": "code",
   "execution_count": 41,
   "metadata": {},
   "outputs": [],
   "source": [
    "\n",
    "##  shift + Enter で走らせる。\n",
    "df0 = [\n",
    "       0.0,0.5,1.3,1.5,2.5,2.5,4.1,7.5,8.0,10.0,\\\n",
    "       15.4,20.6,28.9,40.9,60.1,70.5,80.4,90.9,99.5,\\\n",
    "       100.5,109.4,115.6,115.0,116.7,116.9,118.6,119.7,120.4,121.4,121.5,122.0\\\n",
    "      ]\n",
    "\n",
    "df1 =[\n",
    "     0.0,0.0,0.0,1.0,2.0,2.0,4.0,5.0,1.0,5.0,2.0,2.0,0.0,\\\n",
    "     2.0,4.0,5.0,4.0,4.0,1.0,2.0,3.0,2.0,6.0,6.0,5.0,4.0,\\\n",
    "     3.0,6.0,3.0,9.0,6.0,5.0,9.0,9.0,11.0,12.0,9.0,13.0,11.0,\\\n",
    "     14.0,13.0,16.0,16.0,23.0,25.0,24.0,26.0,29.0,32.0,38.0,\\\n",
    "     42.0,47.0,48.0,50.0,54.0,59.0,63.0,68.0,71.0,76.0,80.0,82.0,\\\n",
    "     88.0,90.0,97.0,98.0,98.0,103.0,106.0,107.0,107.0,108.0,115.0,\\\n",
    "     114.0,112.0,118.0,117.0,116.0,117.0,121.0,118.0,119.0,121.0,121.0,\\\n",
    "     123.0,120.0,124.0,122.0,125.0,123.0,125.0,124.0,124.0,123.0,121.0,\\\n",
    "     120.0,121.0,125.0,121.0,124.0,121.0,125.0,124.0,123.0,123.0,122.0\\\n",
    "     ]"
   ]
  },
  {
   "cell_type": "markdown",
   "metadata": {},
   "source": [
    "#### df0やdf1の型名は何という？？<br>\n",
    ">わからない場合はヒントをみる。"
   ]
  },
  {
   "cell_type": "markdown",
   "metadata": {},
   "source": [
    "<a href=\"./docs/reference.html\"><b>型名の取得方法</b></a>"
   ]
  },
  {
   "cell_type": "code",
   "execution_count": null,
   "metadata": {},
   "outputs": [],
   "source": [
    "## このセルにプリント出力せよ。\n",
    "\n"
   ]
  },
  {
   "cell_type": "code",
   "execution_count": 49,
   "metadata": {},
   "outputs": [
    {
     "name": "stdout",
     "output_type": "stream",
     "text": [
      "解答してください。適切な番号を入力する。1\n",
      "正解\n"
     ]
    }
   ],
   "source": [
    "# 答え \n",
    "#list....1\n",
    "#int ....2\n",
    "#float...3\n",
    "#のどれかを入力せよ。\n",
    "\n",
    "A.zoo0()\n",
    "#= int(input(\"解答してください。適切な番号を入力する。\"))"
   ]
  },
  {
   "cell_type": "markdown",
   "metadata": {},
   "source": [
    "#### その中身の型はint型？　float型？\n",
    ">ヒント：小数点および小数点以下の数字ががあるか，ないか。"
   ]
  },
  {
   "cell_type": "code",
   "execution_count": null,
   "metadata": {},
   "outputs": [],
   "source": [
    "## このセルにプリント出力せよ。\n",
    "\n"
   ]
  },
  {
   "cell_type": "code",
   "execution_count": 51,
   "metadata": {},
   "outputs": [
    {
     "name": "stdout",
     "output_type": "stream",
     "text": [
      "int型と思えば「1」を,float型と思えば「2」を入力する1\n",
      "不正解\n",
      "int型と思えば「1」を,float型と思えば「2」を入力する2\n",
      "正解\n"
     ]
    }
   ],
   "source": [
    "# 答え\n",
    "A.zoo1()"
   ]
  },
  {
   "cell_type": "markdown",
   "metadata": {},
   "source": [
    "#### [重要] サンプリング数に関する問題<br>\n",
    ">df0を計測したとき，t0からt1はちょうど3秒間でした(t1-t0=3[sec])。<br>\n",
    ">df1を計測したとき，t0からt1はちょうど5秒間でした(t1-t0=5[sec])。<br>\n",
    ">今回計測したデータdf0とdf1は1秒間にいくつのデータがありますか？"
   ]
  },
  {
   "cell_type": "markdown",
   "metadata": {},
   "source": [
    "<a href=\"./docs/practiceROM_Hints.html\"><b>ヒント</b></a>"
   ]
  },
  {
   "cell_type": "code",
   "execution_count": null,
   "metadata": {},
   "outputs": [],
   "source": [
    "## このセルにプリント出力せよ。\n",
    "## df0\n"
   ]
  },
  {
   "cell_type": "code",
   "execution_count": null,
   "metadata": {},
   "outputs": [],
   "source": [
    "## このセルにプリント出力せよ。\n",
    "## df1\n"
   ]
  },
  {
   "cell_type": "code",
   "execution_count": 52,
   "metadata": {},
   "outputs": [
    {
     "name": "stdout",
     "output_type": "stream",
     "text": [
      "len(①)/②，「①」部分に入る英数字は？？df0\n",
      "len(①)/②，「②」部分に入る数字は？？3\n",
      "正解\n",
      "つまりデータはいくつある？30\n",
      "得点:3\n"
     ]
    }
   ],
   "source": [
    "# df0\n",
    "A.zoo2()"
   ]
  },
  {
   "cell_type": "code",
   "execution_count": null,
   "metadata": {},
   "outputs": [],
   "source": [
    "#### メモ ####\n",
    "\n",
    "\n",
    "\n",
    "\n"
   ]
  },
  {
   "cell_type": "code",
   "execution_count": 14,
   "metadata": {
    "scrolled": true
   },
   "outputs": [
    {
     "name": "stdout",
     "output_type": "stream",
     "text": [
      "len(①)/②，「①」部分に入る英数字は？？df1\n",
      "len(①)/②，「②」部分に入る数字は？？5\n",
      "正解\n",
      "つまりデータはいくつある？len(df1)/5\n",
      "得点:4\n"
     ]
    }
   ],
   "source": [
    "# df1\n",
    "A.zoo3()"
   ]
  },
  {
   "cell_type": "code",
   "execution_count": null,
   "metadata": {},
   "outputs": [],
   "source": [
    "#### メモ ####\n",
    "\n",
    "\n",
    "\n",
    "\n"
   ]
  },
  {
   "cell_type": "markdown",
   "metadata": {},
   "source": [
    "#### リストの中身へのアプローチ<br>\n",
    ">計測したdf1のリストのうち，最初のデータの値と最後のデータの値を表示しなさい。"
   ]
  },
  {
   "cell_type": "markdown",
   "metadata": {},
   "source": [
    "<a href=\"./docs/practiceROM_Hints_1.html\"><b>ヒント</b></a>"
   ]
  },
  {
   "cell_type": "code",
   "execution_count": null,
   "metadata": {},
   "outputs": [],
   "source": [
    "## このセルにプリント出力せよ。\n",
    "## 最初のデータを表示(print)\n"
   ]
  },
  {
   "cell_type": "code",
   "execution_count": null,
   "metadata": {},
   "outputs": [],
   "source": [
    "## このセルにプリント出力せよ。\n",
    "## 最後のデータを法事(print)\n"
   ]
  },
  {
   "cell_type": "code",
   "execution_count": 25,
   "metadata": {},
   "outputs": [],
   "source": [
    "# スクリプト\n",
    "df1_0 = df1[?]"
   ]
  },
  {
   "cell_type": "code",
   "execution_count": 29,
   "metadata": {},
   "outputs": [
    {
     "name": "stdout",
     "output_type": "stream",
     "text": [
      "正解\n",
      "得点:1\n"
     ]
    }
   ],
   "source": [
    "# 答え合わせ\n",
    "A.zoo4(df1_0)"
   ]
  },
  {
   "cell_type": "code",
   "execution_count": 31,
   "metadata": {},
   "outputs": [],
   "source": [
    "# スクリプト\n",
    "df1_1 = df1[-1]\n",
    "A.zoo5(df1_1)"
   ]
  },
  {
   "cell_type": "code",
   "execution_count": null,
   "metadata": {},
   "outputs": [],
   "source": []
  },
  {
   "cell_type": "markdown",
   "metadata": {},
   "source": [
    "#### 最大値を求める<br>\n",
    ">df0の最大屈曲角度（最大値）は何度ですか？"
   ]
  },
  {
   "cell_type": "markdown",
   "metadata": {},
   "source": [
    "<a href=\"./docs/practice_ROM_Hints_2.html\"><b>ヒント</b></a>"
   ]
  },
  {
   "cell_type": "code",
   "execution_count": null,
   "metadata": {},
   "outputs": [],
   "source": [
    "## このセルにプリント出力せよ。\n",
    "\n"
   ]
  },
  {
   "cell_type": "markdown",
   "metadata": {},
   "source": [
    "#### 最小値を求める<br>\n",
    ">df0の最小角度は何度ですか？"
   ]
  },
  {
   "cell_type": "code",
   "execution_count": null,
   "metadata": {},
   "outputs": [],
   "source": [
    "## このセルにプリント出力せよ。\n",
    "\n"
   ]
  },
  {
   "cell_type": "code",
   "execution_count": 17,
   "metadata": {},
   "outputs": [],
   "source": [
    "# df0\n",
    "??? = ?(df1)\n",
    "A.zoo6(???)"
   ]
  },
  {
   "cell_type": "code",
   "execution_count": null,
   "metadata": {},
   "outputs": [],
   "source": []
  },
  {
   "cell_type": "code",
   "execution_count": null,
   "metadata": {},
   "outputs": [],
   "source": [
    "# df1\n"
   ]
  },
  {
   "cell_type": "markdown",
   "metadata": {},
   "source": [
    "#### タプルを作る\n",
    ">df0とdf1の最小値と最大値をタプル型でhiprange_df0，hiprange_df1というオブジェクト名をつけてまとめる。"
   ]
  },
  {
   "cell_type": "code",
   "execution_count": null,
   "metadata": {},
   "outputs": [],
   "source": [
    "# df0\n"
   ]
  },
  {
   "cell_type": "code",
   "execution_count": null,
   "metadata": {},
   "outputs": [],
   "source": [
    "# df1\n"
   ]
  },
  {
   "cell_type": "markdown",
   "metadata": {},
   "source": [
    "#### 辞書形式でデータとまとめる。\n",
    ">\"P100000\"という学籍番号をもった人は，今後も定期的に股関節の屈曲のROMを計測する。その度に最小値と最大値を記録していきたい。\n",
    "それを辞書形式でまとめていきたい（データのまとめ方にはいろいろあるが，とりえあず辞書形式を使う）<br>。\n",
    ">>df0を1回目の計測として，df1を2回目の計測とする。<br>\n",
    ">>1回目の計測の最小値の最大値はどれ？<br>\n",
    ">>2回目の計測の最小値の最大値はどれ？<br>"
   ]
  },
  {
   "cell_type": "markdown",
   "metadata": {},
   "source": [
    "<a href=\"./Docs/dictionary.html\"><b>ヒント</b></a>"
   ]
  },
  {
   "cell_type": "code",
   "execution_count": null,
   "metadata": {},
   "outputs": [],
   "source": [
    "# df0の最小値と最大値を求めて，タプルにまとめる。\n",
    "df0min = ???(df0)\n",
    "df0max = max(???)\n",
    "\n",
    "df0_t = (df0min,df0max)"
   ]
  },
  {
   "cell_type": "code",
   "execution_count": null,
   "metadata": {},
   "outputs": [],
   "source": [
    "# 同様に2回目の計測（df1）の最小値と最大値を求めて，タプルにまとめる。\n",
    "\n",
    "\n"
   ]
  },
  {
   "cell_type": "code",
   "execution_count": null,
   "metadata": {},
   "outputs": [],
   "source": [
    "# を求めて，タプルにまとめる。\n",
    "dic = {\"1\":???,\"2\":???}"
   ]
  },
  {
   "cell_type": "code",
   "execution_count": null,
   "metadata": {},
   "outputs": [],
   "source": [
    "# 確認する\n",
    "print(dic)\n"
   ]
  },
  {
   "cell_type": "markdown",
   "metadata": {},
   "source": [
    "#### このデータをファイルとしてまとめたい。"
   ]
  },
  {
   "cell_type": "markdown",
   "metadata": {},
   "source": [
    "##### pickleによる保存"
   ]
  },
  {
   "cell_type": "markdown",
   "metadata": {},
   "source": [
    "<a href=\"./docs/Pickle.html\"><b>Pickleを使ったファイル保存と読み込み</b></a>"
   ]
  },
  {
   "cell_type": "code",
   "execution_count": null,
   "metadata": {},
   "outputs": [],
   "source": [
    "# (自分に関する情報).pickleというファイル名を与えて，dicを保存しよう。\n",
    "## ??に何が入れるべきか？？\n",
    "with open(f\"{??}.pickle\") as ww:\n",
    "    pickle.dump(df0,ww)"
   ]
  },
  {
   "cell_type": "code",
   "execution_count": null,
   "metadata": {},
   "outputs": [],
   "source": []
  },
  {
   "cell_type": "code",
   "execution_count": null,
   "metadata": {},
   "outputs": [],
   "source": []
  },
  {
   "cell_type": "code",
   "execution_count": null,
   "metadata": {},
   "outputs": [],
   "source": []
  },
  {
   "cell_type": "code",
   "execution_count": 34,
   "metadata": {},
   "outputs": [],
   "source": [
    "import datetime"
   ]
  },
  {
   "cell_type": "code",
   "execution_count": 35,
   "metadata": {},
   "outputs": [
    {
     "data": {
      "text/plain": [
       "datetime.datetime(2019, 3, 11, 9, 47, 31, 639087)"
      ]
     },
     "execution_count": 35,
     "metadata": {},
     "output_type": "execute_result"
    }
   ],
   "source": [
    "datetime.datetime.now()"
   ]
  },
  {
   "cell_type": "code",
   "execution_count": 43,
   "metadata": {},
   "outputs": [],
   "source": [
    "mydate = datetime.datetime.now()\n",
    "f1 = f\"{mydate.year}_{mydate.month}_{mydate.day}-{mydate.hour}:{mydate.minute}:{mydate.second}\""
   ]
  },
  {
   "cell_type": "code",
   "execution_count": 44,
   "metadata": {},
   "outputs": [
    {
     "data": {
      "text/plain": [
       "'2019_3_11-10:47:14'"
      ]
     },
     "execution_count": 44,
     "metadata": {},
     "output_type": "execute_result"
    }
   ],
   "source": [
    "f1"
   ]
  },
  {
   "cell_type": "code",
   "execution_count": 53,
   "metadata": {},
   "outputs": [
    {
     "data": {
      "text/html": [
       "\n",
       "<button id=\"code-show-switch-btn\">スクリプトを非表示にする</button>\n",
       "\n",
       "<script>\n",
       "var code_show = true;\n",
       "\n",
       "function switch_display_setting() {\n",
       "    var switch_btn = $(\"#code-show-switch-btn\");\n",
       "    if (code_show) {\n",
       "        $(\"div.input\").hide();\n",
       "        code_show = false;\n",
       "        switch_btn.text(\"スクリプトを表示する\");\n",
       "    }else {\n",
       "        $(\"div.input\").show();\n",
       "        code_show = true;\n",
       "        switch_btn.text(\"スクリプトを非表示にする\");\n",
       "    }\n",
       "}\n",
       "\n",
       "$(\"#code-show-switch-btn\").click(switch_display_setting);\n",
       "</script>\n"
      ],
      "text/plain": [
       "<IPython.core.display.HTML object>"
      ]
     },
     "execution_count": 53,
     "metadata": {},
     "output_type": "execute_result"
    }
   ],
   "source": [
    "from IPython.display import HTML\n",
    "\n",
    "HTML(\"\"\"\n",
    "<button id=\"code-show-switch-btn\">スクリプトを非表示にする</button>\n",
    "\n",
    "<script>\n",
    "var code_show = true;\n",
    "\n",
    "function switch_display_setting() {\n",
    "    var switch_btn = $(\"#code-show-switch-btn\");\n",
    "    if (code_show) {\n",
    "        $(\"div.input\").hide();\n",
    "        code_show = false;\n",
    "        switch_btn.text(\"スクリプトを表示する\");\n",
    "    }else {\n",
    "        $(\"div.input\").show();\n",
    "        code_show = true;\n",
    "        switch_btn.text(\"スクリプトを非表示にする\");\n",
    "    }\n",
    "}\n",
    "\n",
    "$(\"#code-show-switch-btn\").click(switch_display_setting);\n",
    "</script>\n",
    "\"\"\")"
   ]
  },
  {
   "cell_type": "code",
   "execution_count": 54,
   "metadata": {},
   "outputs": [
    {
     "data": {
      "application/vnd.jupyter.widget-view+json": {
       "model_id": "f309608b1b17462c8eacd334c2168da7",
       "version_major": 2,
       "version_minor": 0
      },
      "text/html": [
       "<p>Failed to display Jupyter Widget of type <code>Button</code>.</p>\n",
       "<p>\n",
       "  If you're reading this message in the Jupyter Notebook or JupyterLab Notebook, it may mean\n",
       "  that the widgets JavaScript is still loading. If this message persists, it\n",
       "  likely means that the widgets JavaScript library is either not installed or\n",
       "  not enabled. See the <a href=\"https://ipywidgets.readthedocs.io/en/stable/user_install.html\">Jupyter\n",
       "  Widgets Documentation</a> for setup instructions.\n",
       "</p>\n",
       "<p>\n",
       "  If you're reading this message in another frontend (for example, a static\n",
       "  rendering on GitHub or <a href=\"https://nbviewer.jupyter.org/\">NBViewer</a>),\n",
       "  it may mean that your frontend doesn't currently support widgets.\n",
       "</p>\n"
      ],
      "text/plain": [
       "Button(description='bpple', style=ButtonStyle())"
      ]
     },
     "metadata": {},
     "output_type": "display_data"
    }
   ],
   "source": [
    "from ipywidgets import Button\n",
    "from datetime import datetime\n",
    "\n",
    "btn_A = Button(description='apple')\n",
    "btn_B = Button(description='bpple')\n",
    "def on_btn_A_click(btn):\n",
    "    \"\"\"\n",
    "    appleボタンが押された際に実行されるハンドラ。\n",
    "\n",
    "    Parameters\n",
    "    ----------\n",
    "    btn : Button\n",
    "        クリックされたボタンオブジェクト。\n",
    "    \"\"\"\n",
    "    print(datetime.now(), \"appleボタンが押されました。\")\n",
    "\n",
    "btn_A.on_click(on_btn_A_click)\n",
    "btn_B.on_click(on_btn_A_click)\n",
    "btn_A\n",
    "btn_B"
   ]
  },
  {
   "cell_type": "code",
   "execution_count": 55,
   "metadata": {},
   "outputs": [
    {
     "name": "stdout",
     "output_type": "stream",
     "text": [
      "\u001b[34mDocs\u001b[m\u001b[m/                      practiceROM_Hints.ipynb\r\n",
      "Pickle.ipynb               practiceROM_Hints_1.ipynb\r\n",
      "Pt111_大西.txt             practice_ROM_Hints2.ipynb\r\n",
      "TEKIto.pickle              reference.ipynb\r\n",
      "Untitled.ipynb             romHip04.txt\r\n",
      "dictionary.ipynb           romhip_ext.pickle\r\n",
      "practiceROM.ipynb          romhip_flex.pickle\r\n"
     ]
    }
   ],
   "source": [
    "ls"
   ]
  },
  {
   "cell_type": "code",
   "execution_count": 3,
   "metadata": {},
   "outputs": [],
   "source": [
    "a =1.23"
   ]
  },
  {
   "cell_type": "markdown",
   "metadata": {},
   "source": [
    "{{a}}"
   ]
  },
  {
   "cell_type": "code",
   "execution_count": null,
   "metadata": {},
   "outputs": [],
   "source": []
  }
 ],
 "metadata": {
  "kernelspec": {
   "display_name": "Python 3",
   "language": "python",
   "name": "python3"
  },
  "language_info": {
   "codemirror_mode": {
    "name": "ipython",
    "version": 3
   },
   "file_extension": ".py",
   "mimetype": "text/x-python",
   "name": "python",
   "nbconvert_exporter": "python",
   "pygments_lexer": "ipython3",
   "version": "3.6.8"
  },
  "toc": {
   "base_numbering": 1,
   "nav_menu": {},
   "number_sections": true,
   "sideBar": true,
   "skip_h1_title": false,
   "title_cell": "Table of Contents",
   "title_sidebar": "Contents",
   "toc_cell": false,
   "toc_position": {},
   "toc_section_display": true,
   "toc_window_display": true
  }
 },
 "nbformat": 4,
 "nbformat_minor": 2
}
