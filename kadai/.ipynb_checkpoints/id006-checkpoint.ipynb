{
 "cells": [
  {
   "cell_type": "markdown",
   "metadata": {},
   "source": [
    "for文の使い方<br>\n",
    "数値を20までprint出力するコードを示す。\n",
    "```\n",
    "for i in range(21):\n",
    "    print(i)\n",
    "```"
   ]
  },
  {
   "cell_type": "markdown",
   "metadata": {},
   "source": [
    "問　10〜20の間を数を一つ飛ばし（偶数，奇数どちらでも可，最初が10か11で変わるため）で表示する。for文を使って。"
   ]
  },
  {
   "cell_type": "code",
   "execution_count": null,
   "metadata": {},
   "outputs": [],
   "source": []
  },
  {
   "cell_type": "markdown",
   "metadata": {},
   "source": [
    "問　近畿地方の府県をリストにし，それらをprint関数を使って表示する。"
   ]
  },
  {
   "cell_type": "code",
   "execution_count": null,
   "metadata": {},
   "outputs": [],
   "source": []
  },
  {
   "cell_type": "markdown",
   "metadata": {},
   "source": [
    "問　兵庫県内の市（神戸市，姫路市，尼崎市，明石市，西宮市，洲本市，芦屋市，伊丹市，相生市，豊岡市，加古川市，赤穂市，西脇市，宝塚市，三木市，高砂市，川西市，小野市，三田市，加西市，篠山市，養父市，丹波市，南あわじ市，朝来市，淡路市，宍粟市，たつの市，加東市）をリスト型でまとめる。"
   ]
  },
  {
   "cell_type": "code",
   "execution_count": null,
   "metadata": {},
   "outputs": [],
   "source": []
  },
  {
   "cell_type": "markdown",
   "metadata": {},
   "source": [
    "(応用)問　兵庫県〇〇市と，順番にprint表示する。もちろんfor文を使う。"
   ]
  },
  {
   "cell_type": "code",
   "execution_count": null,
   "metadata": {},
   "outputs": [],
   "source": []
  },
  {
   "cell_type": "markdown",
   "metadata": {},
   "source": [
    "（加点）問　これができればすばらしい！！。タプル型で，\n",
    "```\n",
    "(0, 0)\n",
    "(0, 1)\n",
    "(0, 2)\n",
    "(1, 0)\n",
    "(1, 1)\n",
    "(1, 2)\n",
    "(2, 0)\n",
    "(2, 1)\n",
    "(2, 2)\n",
    "```\n",
    "ような出力表示をするプログラムを作成する。３行以内で。"
   ]
  },
  {
   "cell_type": "code",
   "execution_count": null,
   "metadata": {},
   "outputs": [],
   "source": []
  }
 ],
 "metadata": {
  "kernelspec": {
   "display_name": "Python 3",
   "language": "python",
   "name": "python3"
  },
  "language_info": {
   "codemirror_mode": {
    "name": "ipython",
    "version": 3
   },
   "file_extension": ".py",
   "mimetype": "text/x-python",
   "name": "python",
   "nbconvert_exporter": "python",
   "pygments_lexer": "ipython3",
   "version": "3.6.8"
  },
  "toc": {
   "base_numbering": 1,
   "nav_menu": {},
   "number_sections": true,
   "sideBar": true,
   "skip_h1_title": false,
   "title_cell": "Table of Contents",
   "title_sidebar": "Contents",
   "toc_cell": false,
   "toc_position": {},
   "toc_section_display": true,
   "toc_window_display": false
  }
 },
 "nbformat": 4,
 "nbformat_minor": 2
}
