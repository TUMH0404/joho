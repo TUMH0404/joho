{
 "cells": [
  {
   "cell_type": "markdown",
   "metadata": {
    "slideshow": {
     "slide_type": "slide"
    }
   },
   "source": [
    "### Pythonの応用"
   ]
  },
  {
   "cell_type": "markdown",
   "metadata": {},
   "source": [
    "#### 成人における血圧の分類\n",
    "<img src=\"class.png\">"
   ]
  },
  {
   "cell_type": "markdown",
   "metadata": {
    "slideshow": {
     "slide_type": "slide"
    }
   },
   "source": [
    "#### 次のプログラムはどうだろうか？"
   ]
  },
  {
   "cell_type": "code",
   "execution_count": null,
   "metadata": {},
   "outputs": [],
   "source": [
    "name = \"大西智也\"\n",
    "sbp = 130\n",
    "dbp = 95"
   ]
  },
  {
   "cell_type": "code",
   "execution_count": null,
   "metadata": {},
   "outputs": [],
   "source": [
    "if sbp >=140 and dbp<90:\n",
    "    cat = \"収縮期高血圧\"\n",
    "    \n",
    "elif sbp < 120 and dbp <80:\n",
    "    cat =\"至適高血圧\"\n",
    "    \n",
    "elif sbp <130 or dbp <85:\n",
    "    cat = \"正常血圧\"    \n",
    "    \n",
    "elif sbp <140 or dbp < 90:\n",
    "    cat = \"正常高血圧\"\n",
    "    \n",
    "elif sbp < 160 or dbp < 100:\n",
    "    cat = \"1度高血圧\"   \n",
    "    \n",
    "elif sbp < 180 or dbp < 110:\n",
    "    cat = \"2度高血圧\"\n",
    "    \n",
    "else:\n",
    "    cat = \"3度高血圧\"\n",
    "\n",
    "print(f\"{name}の血圧は{sbp}/{dbp}であり，{cat}です\")"
   ]
  },
  {
   "cell_type": "markdown",
   "metadata": {
    "slideshow": {
     "slide_type": "slide"
    }
   },
   "source": [
    "`[重要]`<br>\n",
    "ここで問題が発生。<br>\n",
    "`C = A or B`とすると，`A=True`  `B=False`のときは，CはTrueとなる。<br>\n",
    "例えば，血圧が150/115とすると，上の血圧は1度高血圧，下の血圧は2度高血圧となる。<br>\n",
    "このような場合は結果のすぐれない方を採用するのが一般的である。<br>\n",
    "よって，結果は2度高血圧となるべきであるが，結果は1度高血圧となる。<br>\n",
    "どうやってこの問題を解決しようか？"
   ]
  },
  {
   "cell_type": "markdown",
   "metadata": {},
   "source": [
    "#### 修正してみよう。"
   ]
  },
  {
   "cell_type": "code",
   "execution_count": null,
   "metadata": {},
   "outputs": [],
   "source": [
    "## 血圧が150/115の場合\n",
    "sbp = 150\n",
    "dbp = 115"
   ]
  },
  {
   "cell_type": "markdown",
   "metadata": {
    "slideshow": {
     "slide_type": "slide"
    }
   },
   "source": [
    "1. 血圧を別々に判定する。\n",
    "1. 点数にして`sbp`と`dbp`を比較する。\n",
    "1. スコアが同じときに分類されるものを分類，そうでないときはスコアの高い方を採用して分類をする。"
   ]
  },
  {
   "cell_type": "markdown",
   "metadata": {},
   "source": [
    " - リストをつくって，Trueとなるインデックスを取得する。\n",
    " - リストのインデックスは一番左側のものを出力するので，それを利用する。\n",
    "<br>\n",
    "<br>\n",
    "<br>\n",
    "<img src=\"bloodpressure.png\">"
   ]
  },
  {
   "cell_type": "code",
   "execution_count": null,
   "metadata": {
    "slideshow": {
     "slide_type": "slide"
    }
   },
   "outputs": [],
   "source": [
    "## 例えば・・・\n",
    "sbp = 125\n",
    "dbp = 60"
   ]
  },
  {
   "cell_type": "code",
   "execution_count": null,
   "metadata": {},
   "outputs": [],
   "source": [
    "ue = [sbp<120, sbp<130, sbp<140, sbp<160, sbp<180, sbp>=180].index(True)\n",
    "sita = [dbp<80, dbp<85, dbp<90, dbp<100, dbp<110, dbp>=110].index(True)"
   ]
  },
  {
   "cell_type": "code",
   "execution_count": null,
   "metadata": {},
   "outputs": [],
   "source": [
    "if ue == 0 and sita==0:\n",
    "    d2 =  \"至適高血圧\"\n",
    "elif ue >2 and sita < 3:\n",
    "    d2 = \"収縮期高血圧\"\n",
    "else:\n",
    "    if ue > sita:\n",
    "        v = ue\n",
    "    else:\n",
    "        v = sita\n",
    "    \n",
    "    if v ==1:\n",
    "        d2 = \"正常血圧\" \n",
    "    elif v == 2:\n",
    "        d2 = \"正常高血圧\"\n",
    "    elif v == 3:\n",
    "        d2 = \"1度高血圧\"\n",
    "    elif v == 4:\n",
    "        d2 = \"2度高血圧\"\n",
    "    else:\n",
    "        d2= \"3度高血圧\"\n",
    "\n",
    "print(f\"{name}さんの血圧は{sbp}/{dbp}であり，{d2}です\")"
   ]
  },
  {
   "cell_type": "code",
   "execution_count": null,
   "metadata": {
    "slideshow": {
     "slide_type": "slide"
    }
   },
   "outputs": [],
   "source": [
    "bunrui = {-1 : \"収縮期高血圧\",0 : \"至適高血圧\",1 : \"正常血圧\"  ,2 : \"正常高血圧\",3 : \"1度高血圧\" ,\n",
    "               4 : \"2度高血圧\",5 : \"3度高血圧\"}"
   ]
  },
  {
   "cell_type": "code",
   "execution_count": null,
   "metadata": {},
   "outputs": [],
   "source": []
  },
  {
   "cell_type": "code",
   "execution_count": null,
   "metadata": {},
   "outputs": [],
   "source": []
  },
  {
   "cell_type": "code",
   "execution_count": null,
   "metadata": {},
   "outputs": [],
   "source": []
  },
  {
   "cell_type": "code",
   "execution_count": null,
   "metadata": {},
   "outputs": [],
   "source": []
  },
  {
   "cell_type": "code",
   "execution_count": null,
   "metadata": {},
   "outputs": [],
   "source": []
  },
  {
   "cell_type": "code",
   "execution_count": null,
   "metadata": {},
   "outputs": [],
   "source": []
  },
  {
   "cell_type": "code",
   "execution_count": null,
   "metadata": {},
   "outputs": [],
   "source": []
  },
  {
   "cell_type": "code",
   "execution_count": null,
   "metadata": {},
   "outputs": [],
   "source": [
    "if sbp >=140:\n",
    "    d1 = 0 #\"収縮期高血圧\"\n",
    "    \n",
    "elif sbp < 120:\n",
    "    d1= 1 #\"至適高血圧\"\n",
    "    \n",
    "elif sbp <130:\n",
    "    d1 = 2 #\"正常血圧\"    \n",
    "    \n",
    "elif sbp <140:\n",
    "    d1 = 3 #\"正常高血圧\"\n",
    "    \n",
    "elif sbp < 160:\n",
    "    d1 = 4 #\"1度高血圧\"   \n",
    "    \n",
    "elif sbp < 180:\n",
    "    d1 = 5 #\"2度高血圧\"\n",
    "    \n",
    "else:\n",
    "    d1 = 6 #\"3度高血圧\"\n",
    "\n",
    "print(d1) #print(f\"{name}の血圧は{sbp}/{mmb}であり，{cc}です\")"
   ]
  },
  {
   "cell_type": "code",
   "execution_count": null,
   "metadata": {},
   "outputs": [],
   "source": [
    "# 0 : \"収縮期高血圧\"\n",
    "#1 : \"至適高血圧\"\n",
    "#2 : \"正常血圧\"   \n",
    "#3 : \"正常高血圧\"\n",
    "#4 : \"1度高血圧\"  \n",
    "#5 : \"2度高血圧\"\n",
    "#6 : \"3度高血圧\""
   ]
  },
  {
   "cell_type": "code",
   "execution_count": null,
   "metadata": {},
   "outputs": [],
   "source": [
    "if dbp<90:\n",
    "    d2 = 0 #\"収縮期高血圧\"\n",
    "    \n",
    "elif dbp <80:\n",
    "    d2 = 1 #\"至適高血圧\"\n",
    "    \n",
    "elif dbp <85:\n",
    "    d2 = 2 #\"正常血圧\"    \n",
    "    \n",
    "elif dbp < 90:\n",
    "    d2 = 3 #\"正常高血圧\"\n",
    "    \n",
    "elif dbp < 100:\n",
    "    d2 = 4 #\"1度高血圧\"   \n",
    "    \n",
    "elif dbp < 110:\n",
    "    d2 = 5 #\"2度高血圧\"\n",
    "    \n",
    "else:\n",
    "    d2 = 6 #\"3度高血圧\"\n",
    "\n",
    "print(d2)"
   ]
  },
  {
   "cell_type": "code",
   "execution_count": null,
   "metadata": {},
   "outputs": [],
   "source": [
    "score = 0\n",
    "if cc1>cc:\n",
    "    score = cc1\n",
    "else:\n",
    "    score = cc\n",
    "\n",
    "print(score)"
   ]
  },
  {
   "cell_type": "code",
   "execution_count": null,
   "metadata": {},
   "outputs": [],
   "source": [
    "bunrui[-1]"
   ]
  },
  {
   "cell_type": "code",
   "execution_count": null,
   "metadata": {},
   "outputs": [],
   "source": []
  },
  {
   "cell_type": "code",
   "execution_count": null,
   "metadata": {},
   "outputs": [],
   "source": [
    "if sbp >=140 and dbp<90:\n",
    "    cat = \"収縮期高血圧\"\n",
    "    \n",
    "elif sbp < 120 and dbp <80:\n",
    "    cat =\"至適高血圧\"\n",
    "    \n",
    "elif sbp <130 and dbp <85:\n",
    "    cat = \"正常血圧\"    \n",
    "    \n",
    "elif sbp <140 or dbp < 90:\n",
    "    cat = \"正常高血圧\"\n",
    "    \n",
    "elif sbp < 160 or dbp < 100:\n",
    "    cat = \"1度高血圧\"   \n",
    "    \n",
    "elif sbp < 180 or dbp < 110:\n",
    "    cat = \"2度高血圧\"\n",
    "    \n",
    "else:\n",
    "    cat = \"3度高血圧\"\n",
    "\n",
    "print(f\"{name}の血圧は{sbp}/{dbp}であり，{cat}です\")"
   ]
  },
  {
   "cell_type": "code",
   "execution_count": null,
   "metadata": {},
   "outputs": [],
   "source": []
  },
  {
   "cell_type": "code",
   "execution_count": null,
   "metadata": {},
   "outputs": [],
   "source": []
  },
  {
   "cell_type": "code",
   "execution_count": null,
   "metadata": {},
   "outputs": [],
   "source": []
  },
  {
   "cell_type": "code",
   "execution_count": null,
   "metadata": {},
   "outputs": [],
   "source": []
  },
  {
   "cell_type": "code",
   "execution_count": null,
   "metadata": {},
   "outputs": [],
   "source": [
    "a = \"４７６５４４３３\""
   ]
  },
  {
   "cell_type": "code",
   "execution_count": null,
   "metadata": {},
   "outputs": [],
   "source": [
    "def ASC2INT(a):\n",
    "    num = 0\n",
    "    for i in range(len(a)):\n",
    "        num +=int(ord(a[i])-ord(\"０\"))*10**(len(a)-1-i)\n",
    "\n",
    "    return str(num)"
   ]
  },
  {
   "cell_type": "code",
   "execution_count": null,
   "metadata": {},
   "outputs": [],
   "source": [
    "b = ASC2INT(a)"
   ]
  },
  {
   "cell_type": "code",
   "execution_count": null,
   "metadata": {},
   "outputs": [],
   "source": [
    "ord(a[3])"
   ]
  },
  {
   "cell_type": "code",
   "execution_count": null,
   "metadata": {},
   "outputs": [],
   "source": [
    "if ord(\"４\")>57:\n",
    "    print(str(ord(\"４\")-ord(\"０\")))\n"
   ]
  },
  {
   "cell_type": "code",
   "execution_count": null,
   "metadata": {},
   "outputs": [],
   "source": [
    "print(ord(\"７\")-ord(\"０\"))"
   ]
  },
  {
   "cell_type": "code",
   "execution_count": null,
   "metadata": {},
   "outputs": [],
   "source": [
    "print(ord(\"6\"),ord(\"６\"))"
   ]
  },
  {
   "cell_type": "code",
   "execution_count": null,
   "metadata": {},
   "outputs": [],
   "source": [
    "10**0"
   ]
  },
  {
   "cell_type": "code",
   "execution_count": null,
   "metadata": {},
   "outputs": [],
   "source": [
    "a=1\n",
    "b=0\n",
    "a or b"
   ]
  },
  {
   "cell_type": "code",
   "execution_count": null,
   "metadata": {},
   "outputs": [],
   "source": []
  }
 ],
 "metadata": {
  "hide_input": false,
  "kernelspec": {
   "display_name": "Python 3",
   "language": "python",
   "name": "python3"
  },
  "language_info": {
   "codemirror_mode": {
    "name": "ipython",
    "version": 3
   },
   "file_extension": ".py",
   "mimetype": "text/x-python",
   "name": "python",
   "nbconvert_exporter": "python",
   "pygments_lexer": "ipython3",
   "version": "3.6.8"
  },
  "latex_envs": {
   "LaTeX_envs_menu_present": true,
   "autoclose": false,
   "autocomplete": true,
   "bibliofile": "biblio.bib",
   "cite_by": "apalike",
   "current_citInitial": 1,
   "eqLabelWithNumbers": true,
   "eqNumInitial": 1,
   "hotkeys": {
    "equation": "Ctrl-E",
    "itemize": "Ctrl-I"
   },
   "labels_anchors": false,
   "latex_user_defs": false,
   "report_style_numbering": false,
   "user_envs_cfg": false
  },
  "toc": {
   "base_numbering": 1,
   "nav_menu": {},
   "number_sections": true,
   "sideBar": true,
   "skip_h1_title": false,
   "title_cell": "Table of Contents",
   "title_sidebar": "Contents",
   "toc_cell": false,
   "toc_position": {},
   "toc_section_display": true,
   "toc_window_display": false
  }
 },
 "nbformat": 4,
 "nbformat_minor": 2
}
