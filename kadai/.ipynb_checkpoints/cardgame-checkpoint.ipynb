{
 "cells": [
  {
   "cell_type": "markdown",
   "metadata": {},
   "source": [
    "学籍番号"
   ]
  },
  {
   "cell_type": "code",
   "execution_count": null,
   "metadata": {},
   "outputs": [],
   "source": []
  },
  {
   "cell_type": "markdown",
   "metadata": {},
   "source": [
    "氏名"
   ]
  },
  {
   "cell_type": "code",
   "execution_count": null,
   "metadata": {},
   "outputs": [],
   "source": []
  },
  {
   "cell_type": "markdown",
   "metadata": {},
   "source": [
    "トランプカードを作ってみる。"
   ]
  },
  {
   "cell_type": "markdown",
   "metadata": {},
   "source": [
    "問　すべての種類のカードを作成する。リストを用いよう。<br>\n",
    "例\n",
    "```\n",
    "card = [\"A_spade\",\"K_spade\",...,\"A_heart\",\"K_heart\",....,\"j1\",\"j2\"]\n",
    "```"
   ]
  },
  {
   "cell_type": "markdown",
   "metadata": {},
   "source": [
    "問　カードのmark，number，Jokerごとにリストにする。<br>\n",
    "```\n",
    "mark =[\"spade\",\"heart\",\"diamond\",\"club\"]\n",
    "num = [\"A\",\"K\",\"Q\",\"J\",\"X\",\"9\",\"8\",\"7\",\"6\",\"5\",\"4\",\"3\",\"2\"]\n",
    "Joker = [\"j1\",\"j2\"]\n",
    "```"
   ]
  },
  {
   "cell_type": "code",
   "execution_count": 170,
   "metadata": {},
   "outputs": [],
   "source": [
    "mark =[\"spade\",\"heart\",\"diamond\",\"club\"]\n",
    "num = [\"A\",\"K\",\"Q\",\"J\",\"X\",\"9\",\"8\",\"7\",\"6\",\"5\",\"4\",\"3\",\"2\"]\n",
    "Joker = [\"j1\",\"j2\"]"
   ]
  },
  {
   "cell_type": "code",
   "execution_count": null,
   "metadata": {},
   "outputs": [],
   "source": []
  },
  {
   "cell_type": "markdown",
   "metadata": {},
   "source": [
    "**トランプのセットを作る。** <br>\n",
    "- cardという空リストを作る。<br>\n",
    "- spadeの組を作り，それをcardに格納する。<br>\n",
    "- heartの組を作り，それをcardに格納する。<br>\n",
    "- diamondの組を作り，それをcardに格納する。<br>\n",
    "- diamondの組を作り，それをcardに格納する。<br>\n",
    "- 最後にJokerを格納する。"
   ]
  },
  {
   "cell_type": "code",
   "execution_count": 171,
   "metadata": {},
   "outputs": [],
   "source": [
    "card = []\n",
    "for i in mark:\n",
    "    for k in num:\n",
    "        card.append(f\"{i}_{k}\")\n",
    "\n",
    "card.append(Joker[0])"
   ]
  },
  {
   "cell_type": "code",
   "execution_count": 172,
   "metadata": {},
   "outputs": [],
   "source": [
    "import random"
   ]
  },
  {
   "cell_type": "code",
   "execution_count": 173,
   "metadata": {},
   "outputs": [],
   "source": [
    "random.shuffle(card)"
   ]
  },
  {
   "cell_type": "code",
   "execution_count": null,
   "metadata": {},
   "outputs": [],
   "source": []
  },
  {
   "cell_type": "code",
   "execution_count": 174,
   "metadata": {},
   "outputs": [],
   "source": [
    "cc = {}\n",
    "for u in range(2):\n",
    "    cc.update({f\"p{u}\":[]})\n",
    "\n",
    "p = list(cc.keys())\n",
    "\n",
    "maisuu = int(len(card)//2)\n",
    "nokori = len(card)%2\n",
    "\n",
    "for kubaru in range(maisuu):\n",
    "    #random.shuffle(p)\n",
    "    a = random.sample(card,2)\n",
    "    for i,k in zip(p,a):\n",
    "        cc[i].append(k)\n",
    "        card.remove(k) \n",
    "\n",
    "## 残りのカードの処理\n",
    "## 誰に配る？\n",
    "morauhito = random.sample(p,nokori)\n",
    "for u,y in zip(morauhito,card):\n",
    "    cc[u].append(y)\n",
    "\n",
    "    \n"
   ]
  },
  {
   "cell_type": "code",
   "execution_count": 175,
   "metadata": {},
   "outputs": [],
   "source": [
    "def baba(dat):\n",
    "    dd = [i[-1] for i in dat]\n",
    "    for i in dd:\n",
    "        nn = i\n",
    "        cc = dd.count(nn)\n",
    "        if cc>1:\n",
    "            dat.pop(0)\n",
    "            dd.pop(0)\n",
    "            \n",
    "            y = dd.index(nn)\n",
    "            dd.pop(y)\n",
    "            dat.pop(y)\n",
    "        else:\n",
    "            pass\n",
    "        \n",
    "    return dat"
   ]
  },
  {
   "cell_type": "code",
   "execution_count": 176,
   "metadata": {},
   "outputs": [],
   "source": [
    "aaa = cc[\"p1\"]\n"
   ]
  },
  {
   "cell_type": "code",
   "execution_count": 177,
   "metadata": {},
   "outputs": [
    {
     "data": {
      "text/plain": [
       "['diamond_7',\n",
       " 'diamond_8',\n",
       " 'club_5',\n",
       " 'spade_X',\n",
       " 'heart_3',\n",
       " 'diamond_Q',\n",
       " 'spade_3',\n",
       " 'club_3',\n",
       " 'spade_2',\n",
       " 'spade_8',\n",
       " 'heart_X',\n",
       " 'diamond_A',\n",
       " 'club_Q',\n",
       " 'spade_7',\n",
       " 'spade_5',\n",
       " 'spade_4',\n",
       " 'club_J',\n",
       " 'diamond_X',\n",
       " 'spade_J',\n",
       " 'spade_K',\n",
       " 'heart_5',\n",
       " 'j1',\n",
       " 'heart_4',\n",
       " 'club_X',\n",
       " 'club_8',\n",
       " 'diamond_9',\n",
       " 'heart_A']"
      ]
     },
     "execution_count": 177,
     "metadata": {},
     "output_type": "execute_result"
    }
   ],
   "source": [
    "aaa"
   ]
  },
  {
   "cell_type": "code",
   "execution_count": 11,
   "metadata": {},
   "outputs": [],
   "source": [
    "dd = [i[-1] for i in aaa]"
   ]
  },
  {
   "cell_type": "code",
   "execution_count": 178,
   "metadata": {},
   "outputs": [
    {
     "data": {
      "text/plain": [
       "['club_3',\n",
       " 'club_5',\n",
       " 'club_8',\n",
       " 'club_J',\n",
       " 'club_Q',\n",
       " 'club_X',\n",
       " 'diamond_7',\n",
       " 'diamond_8',\n",
       " 'diamond_9',\n",
       " 'diamond_A',\n",
       " 'diamond_Q',\n",
       " 'diamond_X',\n",
       " 'heart_3',\n",
       " 'heart_4',\n",
       " 'heart_5',\n",
       " 'heart_A',\n",
       " 'heart_X',\n",
       " 'j1',\n",
       " 'spade_2',\n",
       " 'spade_3',\n",
       " 'spade_4',\n",
       " 'spade_5',\n",
       " 'spade_7',\n",
       " 'spade_8',\n",
       " 'spade_J',\n",
       " 'spade_K',\n",
       " 'spade_X']"
      ]
     },
     "execution_count": 178,
     "metadata": {},
     "output_type": "execute_result"
    }
   ],
   "source": [
    "aaa.sort()\n",
    "aaa"
   ]
  },
  {
   "cell_type": "code",
   "execution_count": 140,
   "metadata": {},
   "outputs": [],
   "source": [
    "\n",
    "for i in set([i[-1] for i in aaa]):\n",
    "    if dd.count(i)>1:\n",
    "        dd.remove(i)\n",
    "        dd.remove(i)"
   ]
  },
  {
   "cell_type": "code",
   "execution_count": 141,
   "metadata": {},
   "outputs": [
    {
     "data": {
      "text/plain": [
       "['3', '9', '4', '5', '7', '2']"
      ]
     },
     "execution_count": 141,
     "metadata": {},
     "output_type": "execute_result"
    }
   ],
   "source": [
    "dd"
   ]
  },
  {
   "cell_type": "code",
   "execution_count": 218,
   "metadata": {},
   "outputs": [],
   "source": [
    "def baba(a):\n",
    "    \n",
    "    b = set(a)\n",
    "    for i in b:\n",
    "        if a.count(i)>1:\n",
    "            a.pop(a.index(i))\n",
    "            a.pop(a.index(i))\n",
    "        \n",
    "        else:\n",
    "            pass\n",
    "        \n",
    "    return a\n",
    "    "
   ]
  },
  {
   "cell_type": "code",
   "execution_count": 179,
   "metadata": {},
   "outputs": [],
   "source": [
    "def baba2(aa):\n",
    "    dd = [i[-2:] for i in aa]\n",
    "    b = set(dd)\n",
    "    gind=[]\n",
    "    for i in b:\n",
    "        if dd.count(i)>1:\n",
    "            gind.append(aa[dd.index(i)])\n",
    "            \n",
    "        else:\n",
    "            pass\n",
    "    \n",
    "    for t in gind:\n",
    "        v = t[-2:]\n",
    "        print(v)\n",
    "        k=0\n",
    "        for r,u in enumerate(aa):\n",
    "            if u[-2:]==v:\n",
    "                aa.pop(r)\n",
    "                k+=1\n",
    "            if k>1:\n",
    "                break\n",
    "       \n",
    "        \n",
    "    return aa\n",
    "    "
   ]
  },
  {
   "cell_type": "code",
   "execution_count": 156,
   "metadata": {},
   "outputs": [
    {
     "data": {
      "text/plain": [
       "['diamond_4',\n",
       " 'club_7',\n",
       " 'spade_3',\n",
       " 'heart_9',\n",
       " 'heart_7',\n",
       " 'club_8',\n",
       " 'spade_J',\n",
       " 'spade_8',\n",
       " 'spade_Q',\n",
       " 'diamond_J',\n",
       " 'diamond_2',\n",
       " 'diamond_7',\n",
       " 'heart_J',\n",
       " 'spade_7',\n",
       " 'club_3',\n",
       " 'spade_2',\n",
       " 'heart_Q',\n",
       " 'heart_5',\n",
       " 'heart_4',\n",
       " 'spade_4',\n",
       " 'heart_8',\n",
       " 'diamond_3',\n",
       " 'heart_3',\n",
       " 'club_X',\n",
       " 'heart_A',\n",
       " 'diamond_9']"
      ]
     },
     "execution_count": 156,
     "metadata": {},
     "output_type": "execute_result"
    }
   ],
   "source": [
    "aaa"
   ]
  },
  {
   "cell_type": "code",
   "execution_count": 85,
   "metadata": {},
   "outputs": [],
   "source": [
    "aaa\n",
    "dd = [i[-2:] for i in aaa]"
   ]
  },
  {
   "cell_type": "code",
   "execution_count": 181,
   "metadata": {},
   "outputs": [
    {
     "name": "stdout",
     "output_type": "stream",
     "text": [
      "_X\n"
     ]
    },
    {
     "data": {
      "text/plain": [
       "['diamond_9', 'j1', 'spade_2', 'spade_3', 'spade_5', 'spade_8', 'spade_K']"
      ]
     },
     "execution_count": 181,
     "metadata": {},
     "output_type": "execute_result"
    }
   ],
   "source": [
    "baba2(aaa)\n"
   ]
  },
  {
   "cell_type": "code",
   "execution_count": 135,
   "metadata": {},
   "outputs": [
    {
     "data": {
      "text/plain": [
       "['j1',\n",
       " 'club_J',\n",
       " 'diamond_7',\n",
       " 'diamond_2',\n",
       " 'diamond_X',\n",
       " 'club_5',\n",
       " 'spade_K',\n",
       " 'diamond_9',\n",
       " 'diamond_4',\n",
       " 'club_3']"
      ]
     },
     "execution_count": 135,
     "metadata": {},
     "output_type": "execute_result"
    }
   ],
   "source": [
    "aaaa"
   ]
  },
  {
   "cell_type": "code",
   "execution_count": 89,
   "metadata": {},
   "outputs": [],
   "source": [
    "aaa.remove(\"diamond_2\")"
   ]
  },
  {
   "cell_type": "code",
   "execution_count": 90,
   "metadata": {},
   "outputs": [
    {
     "data": {
      "text/plain": [
       "['club_2',\n",
       " 'club_3',\n",
       " 'club_4',\n",
       " 'club_6',\n",
       " 'club_8',\n",
       " 'club_9',\n",
       " 'diamond_3',\n",
       " 'diamond_6',\n",
       " 'diamond_7',\n",
       " 'diamond_9',\n",
       " 'diamond_J',\n",
       " 'diamond_X',\n",
       " 'heart_4',\n",
       " 'heart_6',\n",
       " 'heart_8',\n",
       " 'heart_9',\n",
       " 'heart_J',\n",
       " 'heart_X',\n",
       " 'j1',\n",
       " 'spade_2',\n",
       " 'spade_3',\n",
       " 'spade_6',\n",
       " 'spade_7',\n",
       " 'spade_J',\n",
       " 'spade_X']"
      ]
     },
     "execution_count": 90,
     "metadata": {},
     "output_type": "execute_result"
    }
   ],
   "source": [
    "aaa"
   ]
  },
  {
   "cell_type": "code",
   "execution_count": 173,
   "metadata": {},
   "outputs": [],
   "source": [
    "a = [1,2,3,2,2,1,2,3,4,5,6,7]\n",
    "a1 = [1,2,3,4,5]"
   ]
  },
  {
   "cell_type": "code",
   "execution_count": 193,
   "metadata": {},
   "outputs": [],
   "source": [
    "aa = ccc(bbb)"
   ]
  },
  {
   "cell_type": "code",
   "execution_count": 194,
   "metadata": {},
   "outputs": [
    {
     "data": {
      "text/plain": [
       "['7', 'K', '8', '1', 'Q', '2', 'Q', '4']"
      ]
     },
     "execution_count": 194,
     "metadata": {},
     "output_type": "execute_result"
    }
   ],
   "source": [
    "aa"
   ]
  },
  {
   "cell_type": "code",
   "execution_count": 195,
   "metadata": {},
   "outputs": [
    {
     "data": {
      "text/plain": [
       "['7', 'K', '8', '1', '2', '4']"
      ]
     },
     "execution_count": 195,
     "metadata": {},
     "output_type": "execute_result"
    }
   ],
   "source": [
    "ccc(aa)"
   ]
  },
  {
   "cell_type": "code",
   "execution_count": 163,
   "metadata": {},
   "outputs": [
    {
     "data": {
      "text/plain": [
       "{1, 2, 3, 4, 5, 6, 7}"
      ]
     },
     "execution_count": 163,
     "metadata": {},
     "output_type": "execute_result"
    }
   ],
   "source": [
    "b = set(a)\n",
    "b"
   ]
  },
  {
   "cell_type": "code",
   "execution_count": 164,
   "metadata": {},
   "outputs": [],
   "source": [
    "for i in b:\n",
    "    if a.count(i)>1:\n",
    "        a.pop(a.index(i))\n",
    "        a.pop(a.index(i))\n"
   ]
  },
  {
   "cell_type": "code",
   "execution_count": 165,
   "metadata": {},
   "outputs": [
    {
     "data": {
      "text/plain": [
       "[2, 4, 5, 6, 7]"
      ]
     },
     "execution_count": 165,
     "metadata": {},
     "output_type": "execute_result"
    }
   ],
   "source": [
    "a"
   ]
  },
  {
   "cell_type": "code",
   "execution_count": null,
   "metadata": {},
   "outputs": [],
   "source": []
  }
 ],
 "metadata": {
  "kernelspec": {
   "display_name": "Python 3",
   "language": "python",
   "name": "python3"
  },
  "language_info": {
   "codemirror_mode": {
    "name": "ipython",
    "version": 3
   },
   "file_extension": ".py",
   "mimetype": "text/x-python",
   "name": "python",
   "nbconvert_exporter": "python",
   "pygments_lexer": "ipython3",
   "version": "3.6.8"
  },
  "toc": {
   "base_numbering": 1,
   "nav_menu": {},
   "number_sections": true,
   "sideBar": true,
   "skip_h1_title": false,
   "title_cell": "Table of Contents",
   "title_sidebar": "Contents",
   "toc_cell": false,
   "toc_position": {},
   "toc_section_display": true,
   "toc_window_display": false
  }
 },
 "nbformat": 4,
 "nbformat_minor": 2
}
