{
 "cells": [
  {
   "cell_type": "markdown",
   "metadata": {},
   "source": [
    "学籍番号"
   ]
  },
  {
   "cell_type": "code",
   "execution_count": null,
   "metadata": {},
   "outputs": [],
   "source": []
  },
  {
   "cell_type": "markdown",
   "metadata": {},
   "source": [
    "氏名"
   ]
  },
  {
   "cell_type": "code",
   "execution_count": null,
   "metadata": {},
   "outputs": [],
   "source": []
  },
  {
   "cell_type": "markdown",
   "metadata": {},
   "source": [
    "トランプカードを作ってみる。"
   ]
  },
  {
   "cell_type": "markdown",
   "metadata": {},
   "source": [
    "問　すべての種類のカードを作成する。リストを用いよう。<br>\n",
    "例\n",
    "```\n",
    "card = [\"A_spade\",\"K_spade\",...,\"A_heart\",\"K_heart\",....,\"j1\",\"j2\"]\n",
    "```"
   ]
  },
  {
   "cell_type": "markdown",
   "metadata": {},
   "source": [
    "問　カードのmark，number，Jokerごとにリストにする。<br>\n",
    "```\n",
    "mark =[\"spade\",\"heart\",\"diamond\",\"club\"]\n",
    "num = [\"A\",\"K\",\"Q\",\"J\",\"X\",\"9\",\"8\",\"7\",\"6\",\"5\",\"4\",\"3\",\"2\"]\n",
    "Joker = [\"j1\",\"j2\"]\n",
    "```"
   ]
  },
  {
   "cell_type": "code",
   "execution_count": 280,
   "metadata": {},
   "outputs": [],
   "source": [
    "mark =[\"spade\",\"heart\",\"diamond\",\"club\"]\n",
    "num = [\"A\",\"K\",\"Q\",\"J\",\"X\",\"9\",\"8\",\"7\",\"6\",\"5\",\"4\",\"3\",\"2\"]\n",
    "Joker = [\"j1\",\"j2\"]"
   ]
  },
  {
   "cell_type": "code",
   "execution_count": null,
   "metadata": {},
   "outputs": [],
   "source": []
  },
  {
   "cell_type": "markdown",
   "metadata": {},
   "source": [
    "**トランプのセットを作る。** <br>\n",
    "- cardという空リストを作る。<br>\n",
    "- spadeの組を作り，それをcardに格納する。<br>\n",
    "- heartの組を作り，それをcardに格納する。<br>\n",
    "- diamondの組を作り，それをcardに格納する。<br>\n",
    "- diamondの組を作り，それをcardに格納する。<br>\n",
    "- Jokerを格納する。<br>\n",
    "- トランプなのでバラバラにしたい。<br>\n",
    "```\n",
    "import random\n",
    "```\n",
    "というライブラリを追加する。"
   ]
  },
  {
   "cell_type": "code",
   "execution_count": 327,
   "metadata": {},
   "outputs": [],
   "source": [
    "import random\n",
    "\n",
    "mark =[\"spade\",\"heart\",\"diamond\",\"club\"]\n",
    "num = [\"A\",\"K\",\"Q\",\"J\",\"X\",\"9\",\"8\",\"7\",\"6\",\"5\",\"4\",\"3\",\"2\"]\n",
    "Joker = [\"j1\",\"j2\"]\n",
    "\n",
    "card = []\n",
    "for i in mark:\n",
    "    for k in num:\n",
    "        card.append(f\"{k}_{i}\")\n",
    "\n",
    "card.append(Joker[0])\n",
    "\n",
    "for i in range(5):\n",
    "    random.shuffle(card)"
   ]
  },
  {
   "cell_type": "code",
   "execution_count": 328,
   "metadata": {},
   "outputs": [],
   "source": [
    "N = 4\n",
    "cc = {}\n",
    "for u in range(N):\n",
    "    cc.update({f\"p{u}\":[]})\n",
    "\n",
    "p = list(cc.keys())\n",
    "\n",
    "maisuu = int(len(card)//N)\n",
    "nokori = len(card)%N\n",
    "\n",
    "for kubaru in range(maisuu):\n",
    "    #random.shuffle(p)\n",
    "    a = random.sample(card,N)\n",
    "    for i,k in zip(p,a):\n",
    "        cc[i].append(k)\n",
    "        card.remove(k) \n",
    "\n",
    "## 残りのカードの処理\n",
    "## 誰に配る？\n",
    "morauhito = random.sample(p,nokori)\n",
    "for u,y in zip(morauhito,card):\n",
    "    cc[u].append(y)\n"
   ]
  },
  {
   "cell_type": "code",
   "execution_count": 329,
   "metadata": {},
   "outputs": [],
   "source": [
    "## 配られたカードを整理する\n",
    "def baba3(A):\n",
    "    c2 = A[:] ## 深いコピー\n",
    "    ## 並べ替え\n",
    "    c2.sort()\n",
    "    ## 数字を取り出す\n",
    "    c0 = [i[0] for i in c2]\n",
    "    # 集合してリスト化する\n",
    "    c1 = list(set(c0))\n",
    "    # ソートする\n",
    "    c1.sort()\n",
    "    \n",
    "    # 一枚もののカードを格納する空リストを作る。\n",
    "    single =[]\n",
    "    \n",
    "    # 数字を回して検索する\n",
    "    for i in c1:\n",
    "        # 念の為ソートする\n",
    "        c2.sort()\n",
    "        \n",
    "        # 同じものが複数ある時の処理。\n",
    "        # 一枚になれば，singleに追加する。\n",
    "        gg0 = c0.count(i)//2\n",
    "        gg1 = c0.count(i)%2\n",
    "        if gg0==1 and gg1 == 0:\n",
    "            del c2[:2]\n",
    "            \n",
    "        elif gg0==2 and gg1==0:\n",
    "            del c2[:4]\n",
    "            #print(\"b\")\n",
    "        elif gg0==1 and gg1==1:\n",
    "            del c2[:2]\n",
    "            single.append(c2[0])\n",
    "            del c2[0]\n",
    "            #print(\"c\")\n",
    "        elif gg0==0 and gg1 ==1:\n",
    "            single.append(c2[0])\n",
    "            del c2[0]\n",
    "            #print(\"d\")\n",
    "    \n",
    "    return single\n",
    "\n",
    "\n",
    "## カードのやりとり\n",
    "def pickup(me,you):\n",
    "    random.shuffle(you)\n",
    "    if len(you)==0:\n",
    "        print(\"youの長さがゼロです\")\n",
    "        \n",
    "        return 0,0\n",
    "    else:\n",
    "        a = list(range(len(you)))\n",
    "    \n",
    "        ii = random.sample(a,1)[0]\n",
    "    \n",
    "        me.append(you[ii])\n",
    "        del you[ii]\n",
    "        \n",
    "        return baba3(me),you"
   ]
  },
  {
   "cell_type": "code",
   "execution_count": 330,
   "metadata": {},
   "outputs": [
    {
     "name": "stdout",
     "output_type": "stream",
     "text": [
      "{'p0': ['2_diamond', '3_spade', '4_club', '6_spade', '7_diamond', '8_spade', 'Q_spade'], 'p1': ['2_spade', '3_club', '6_club', 'J_spade', 'K_heart', 'Q_heart', 'X_spade'], 'p2': ['3_diamond', '4_heart', '6_heart', '8_club', 'J_diamond', 'K_spade', 'Q_club'], 'p3': ['3_heart', '6_diamond', '7_club', 'Q_diamond', 'X_heart', 'j1']}\n"
     ]
    }
   ],
   "source": [
    "## カードを整理する\n",
    "for i in cc:\n",
    "    cc[i] = baba3(cc[i])\n",
    "\n",
    "## 中身確認    \n",
    "print(cc)"
   ]
  },
  {
   "cell_type": "code",
   "execution_count": 331,
   "metadata": {},
   "outputs": [],
   "source": [
    "pp=cc.copy()"
   ]
  },
  {
   "cell_type": "code",
   "execution_count": 332,
   "metadata": {},
   "outputs": [
    {
     "name": "stdout",
     "output_type": "stream",
     "text": [
      "{'p0': ['2_diamond', '3_spade', '4_club', '6_spade', '7_diamond', '8_spade', 'J_spade', 'Q_spade'], 'p1': ['6_club', '3_club', 'K_heart', 'X_spade', '2_spade', 'Q_heart'], 'p2': ['3_diamond', '4_heart', '6_heart', '8_club', 'J_diamond', 'K_spade', 'Q_club'], 'p3': ['3_heart', '6_diamond', '7_club', 'Q_diamond', 'X_heart', 'j1']}\n",
      "{'p0': ['2_diamond', '3_spade', '4_club', '6_spade', '7_diamond', '8_spade', 'J_spade', 'Q_spade'], 'p1': ['2_spade', '3_club', '6_club', 'K_heart', 'X_spade'], 'p2': ['6_heart', '4_heart', 'K_spade', '8_club', '3_diamond', 'J_diamond'], 'p3': ['3_heart', '6_diamond', '7_club', 'Q_diamond', 'X_heart', 'j1']}\n",
      "{'p0': ['2_diamond', '3_spade', '4_club', '6_spade', '7_diamond', '8_spade', 'J_spade', 'Q_spade'], 'p1': ['2_spade', '3_club', '6_club', 'K_heart', 'X_spade'], 'p2': ['4_heart', '6_heart', '8_club', 'J_diamond', 'K_spade'], 'p3': ['Q_diamond', '7_club', 'X_heart', 'j1', '6_diamond']}\n",
      "{'p0': ['6_spade', 'J_spade', '8_spade', '2_diamond', '4_club', '7_diamond', 'Q_spade'], 'p1': ['2_spade', '3_club', '6_club', 'K_heart', 'X_spade'], 'p2': ['4_heart', '6_heart', '8_club', 'J_diamond', 'K_spade'], 'p3': ['3_spade', '6_diamond', '7_club', 'Q_diamond', 'X_heart', 'j1']}\n",
      "test:4\n",
      "{'p0': ['4_club', '6_spade', '7_diamond', '8_spade', 'J_spade', 'Q_spade'], 'p1': ['K_heart', 'X_spade', '3_club', '6_club'], 'p2': ['4_heart', '6_heart', '8_club', 'J_diamond', 'K_spade'], 'p3': ['3_spade', '6_diamond', '7_club', 'Q_diamond', 'X_heart', 'j1']}\n",
      "{'p0': ['4_club', '6_spade', '7_diamond', '8_spade', 'J_spade', 'Q_spade'], 'p1': ['3_club', 'K_heart', 'X_spade'], 'p2': ['J_diamond', '8_club', '4_heart', 'K_spade'], 'p3': ['3_spade', '6_diamond', '7_club', 'Q_diamond', 'X_heart', 'j1']}\n",
      "{'p0': ['4_club', '6_spade', '7_diamond', '8_spade', 'J_spade', 'Q_spade'], 'p1': ['3_club', 'K_heart', 'X_spade'], 'p2': ['3_spade', '4_heart', '8_club', 'J_diamond', 'K_spade'], 'p3': ['7_club', 'Q_diamond', '6_diamond', 'X_heart', 'j1']}\n",
      "{'p0': ['J_spade', '8_spade', '6_spade', '4_club', 'Q_spade'], 'p1': ['3_club', 'K_heart', 'X_spade'], 'p2': ['3_spade', '4_heart', '8_club', 'J_diamond', 'K_spade'], 'p3': ['6_diamond', 'Q_diamond', 'X_heart', 'j1']}\n",
      "test:4\n",
      "{'p0': ['4_club', '6_spade', '8_spade', 'J_spade', 'K_heart', 'Q_spade'], 'p1': ['X_spade', '3_club'], 'p2': ['3_spade', '4_heart', '8_club', 'J_diamond', 'K_spade'], 'p3': ['6_diamond', 'Q_diamond', 'X_heart', 'j1']}\n",
      "{'p0': ['4_club', '6_spade', '8_spade', 'J_spade', 'K_heart', 'Q_spade'], 'p1': ['3_club', '8_club', 'X_spade'], 'p2': ['3_spade', 'J_diamond', '4_heart', 'K_spade'], 'p3': ['6_diamond', 'Q_diamond', 'X_heart', 'j1']}\n",
      "{'p0': ['4_club', '6_spade', '8_spade', 'J_spade', 'K_heart', 'Q_spade'], 'p1': ['3_club', '8_club', 'X_spade'], 'p2': ['3_spade', '4_heart', 'J_diamond', 'K_spade', 'Q_diamond'], 'p3': ['6_diamond', 'j1', 'X_heart']}\n",
      "{'p0': ['J_spade', 'Q_spade', '4_club', 'K_heart', '8_spade'], 'p1': ['3_club', '8_club', 'X_spade'], 'p2': ['3_spade', '4_heart', 'J_diamond', 'K_spade', 'Q_diamond'], 'p3': ['X_heart', 'j1']}\n",
      "test:4\n",
      "{'p0': ['3_club', '4_club', '8_spade', 'J_spade', 'K_heart', 'Q_spade'], 'p1': ['X_spade', '8_club'], 'p2': ['3_spade', '4_heart', 'J_diamond', 'K_spade', 'Q_diamond'], 'p3': ['X_heart', 'j1']}\n",
      "{'p0': ['3_club', '4_club', '8_spade', 'J_spade', 'K_heart', 'Q_spade'], 'p1': ['4_heart', '8_club', 'X_spade'], 'p2': ['Q_diamond', '3_spade', 'J_diamond', 'K_spade'], 'p3': ['X_heart', 'j1']}\n",
      "{'p0': ['3_club', '4_club', '8_spade', 'J_spade', 'K_heart', 'Q_spade'], 'p1': ['4_heart', '8_club', 'X_spade'], 'p2': ['3_spade', 'J_diamond', 'K_spade', 'Q_diamond', 'j1'], 'p3': ['X_heart']}\n",
      "{'p0': ['Q_spade', '8_spade', 'K_heart', '3_club', 'J_spade'], 'p1': ['4_heart', '8_club', 'X_spade'], 'p2': ['3_spade', 'J_diamond', 'K_spade', 'Q_diamond', 'j1'], 'p3': ['4_club', 'X_heart']}\n",
      "test:4\n",
      "{'p0': ['3_club', '4_heart', '8_spade', 'J_spade', 'K_heart', 'Q_spade'], 'p1': ['8_club', 'X_spade'], 'p2': ['3_spade', 'J_diamond', 'K_spade', 'Q_diamond', 'j1'], 'p3': ['4_club', 'X_heart']}\n",
      "{'p0': ['3_club', '4_heart', '8_spade', 'J_spade', 'K_heart', 'Q_spade'], 'p1': ['8_club', 'X_spade', 'j1'], 'p2': ['K_spade', 'Q_diamond', '3_spade', 'J_diamond'], 'p3': ['4_club', 'X_heart']}\n",
      "{'p0': ['3_club', '4_heart', '8_spade', 'J_spade', 'K_heart', 'Q_spade'], 'p1': ['8_club', 'X_spade', 'j1'], 'p2': ['3_spade', 'J_diamond', 'K_spade', 'Q_diamond', 'X_heart'], 'p3': ['4_club']}\n",
      "{'p0': ['Q_spade', 'K_heart', 'J_spade', '3_club', '8_spade'], 'p1': ['8_club', 'X_spade', 'j1'], 'p2': ['3_spade', 'J_diamond', 'K_spade', 'Q_diamond', 'X_heart'], 'p3': []}\n",
      "test:3\n",
      "{'p0': ['3_club', 'J_spade', 'K_heart', 'Q_spade'], 'p1': ['X_spade', 'j1'], 'p2': ['3_spade', 'J_diamond', 'K_spade', 'Q_diamond', 'X_heart']}\n",
      "{'p0': ['3_club', 'J_spade', 'K_heart', 'Q_spade'], 'p1': ['J_diamond', 'X_spade', 'j1'], 'p2': ['X_heart', '3_spade', 'Q_diamond', 'K_spade']}\n",
      "{'p0': ['J_spade', 'Q_spade', 'K_heart'], 'p1': ['J_diamond', 'X_spade', 'j1'], 'p2': ['K_spade', 'Q_diamond', 'X_heart']}\n",
      "test:3\n",
      "{'p0': ['K_heart', 'Q_spade'], 'p1': ['j1', 'X_spade'], 'p2': ['K_spade', 'Q_diamond', 'X_heart']}\n",
      "{'p0': ['K_heart', 'Q_spade'], 'p1': ['Q_diamond', 'X_spade', 'j1'], 'p2': ['K_spade', 'X_heart']}\n",
      "{'p0': ['K_heart'], 'p1': ['Q_diamond', 'X_spade', 'j1'], 'p2': ['K_spade', 'Q_spade', 'X_heart']}\n",
      "test:3\n",
      "{'p0': ['K_heart', 'j1'], 'p1': ['Q_diamond', 'X_spade'], 'p2': ['K_spade', 'Q_spade', 'X_heart']}\n",
      "{'p0': ['K_heart', 'j1'], 'p1': ['K_spade', 'Q_diamond', 'X_spade'], 'p2': ['X_heart', 'Q_spade']}\n",
      "{'p0': ['K_heart'], 'p1': ['K_spade', 'Q_diamond', 'X_spade'], 'p2': ['Q_spade', 'X_heart', 'j1']}\n",
      "test:3\n",
      "{'p0': ['K_heart', 'X_spade'], 'p1': ['Q_diamond', 'K_spade'], 'p2': ['Q_spade', 'X_heart', 'j1']}\n",
      "{'p0': ['K_heart', 'X_spade'], 'p1': ['K_spade', 'Q_diamond', 'j1'], 'p2': ['Q_spade', 'X_heart']}\n",
      "{'p0': ['X_spade'], 'p1': ['K_spade', 'Q_diamond', 'j1'], 'p2': ['K_heart', 'Q_spade', 'X_heart']}\n",
      "test:3\n",
      "{'p0': ['Q_diamond', 'X_spade'], 'p1': ['j1', 'K_spade'], 'p2': ['K_heart', 'Q_spade', 'X_heart']}\n",
      "{'p0': ['Q_diamond', 'X_spade'], 'p1': ['K_spade', 'Q_spade', 'j1'], 'p2': ['K_heart', 'X_heart']}\n",
      "{'p0': ['Q_diamond'], 'p1': ['K_spade', 'Q_spade', 'j1'], 'p2': ['K_heart']}\n",
      "test:3\n",
      "{'p0': ['K_spade', 'Q_diamond'], 'p1': ['Q_spade', 'j1'], 'p2': ['K_heart']}\n",
      "{'p0': ['K_spade', 'Q_diamond'], 'p1': ['K_heart', 'Q_spade', 'j1'], 'p2': []}\n",
      "test:2\n",
      "{'p0': ['K_spade'], 'p1': ['K_heart', 'j1']}\n",
      "{'p0': [], 'p1': ['j1']}\n",
      "test:1\n",
      "['p3', 'p2', 'p0', 'p1']\n"
     ]
    }
   ],
   "source": [
    "goal = []\n",
    "while 1:\n",
    "    menbers = list(pp.keys())\n",
    "    for ite,i in enumerate(menbers):\n",
    "        if ite+1 == len(menbers):\n",
    "            me = menbers[ite]\n",
    "            you = menbers[0]\n",
    "\n",
    "        else:\n",
    "            me = menbers[ite]\n",
    "            you =menbers[ite+1]\n",
    "        \n",
    "        if len(pp[me])==0:\n",
    "            continue\n",
    "    \n",
    "        else:\n",
    "            A,B = pickup(pp[me],pp[you])\n",
    "            if A!=0 and B!=0:\n",
    "                pp[me] = A\n",
    "                pp[you] = B\n",
    "            \n",
    "            else:\n",
    "                continue\n",
    "        print(pp)\n",
    "    \n",
    "\n",
    "    for u in list(pp.keys()):\n",
    "        if len(pp[u])==0:\n",
    "            goal.append(u)\n",
    "            del pp[u]\n",
    "        \n",
    "        else:\n",
    "            continue\n",
    "    \n",
    "    print(f\"test:{len(pp)}\")\n",
    "    \n",
    "    if len(pp)==1:\n",
    "        goal.extend(list(pp.keys()))\n",
    "        print(goal)\n",
    "        break"
   ]
  },
  {
   "cell_type": "code",
   "execution_count": 326,
   "metadata": {},
   "outputs": [],
   "source": [
    "pp = {}\n",
    "for i,k in enumerate(cc):\n",
    "    pp.update({i:cc[k]})"
   ]
  },
  {
   "cell_type": "code",
   "execution_count": 261,
   "metadata": {},
   "outputs": [
    {
     "name": "stdout",
     "output_type": "stream",
     "text": [
      "0\n",
      "1\n",
      "2\n"
     ]
    }
   ],
   "source": [
    "for i in pp:\n",
    "    print(i)"
   ]
  },
  {
   "cell_type": "code",
   "execution_count": 38,
   "metadata": {},
   "outputs": [],
   "source": [
    "pp0={}\n",
    "u = 0\n",
    "for i in pp:\n",
    "    if len(pp[i])>0:\n",
    "        pp0.update({u:pp[i]})    \n",
    "    u+=1\n",
    "    \n"
   ]
  },
  {
   "cell_type": "code",
   "execution_count": 39,
   "metadata": {},
   "outputs": [
    {
     "data": {
      "text/plain": [
       "{0: ['3_diamond',\n",
       "  '4_club',\n",
       "  '6_club',\n",
       "  '8_spade',\n",
       "  '9_club',\n",
       "  'A_heart',\n",
       "  'J_club',\n",
       "  'K_diamond',\n",
       "  'j1'],\n",
       " 1: ['2_club', '4_heart', '9_diamond', 'A_club', 'Q_heart'],\n",
       " 2: ['5_spade',\n",
       "  '6_heart',\n",
       "  '8_heart',\n",
       "  '9_spade',\n",
       "  'A_spade',\n",
       "  'J_spade',\n",
       "  'K_club'],\n",
       " 3: ['2_spade', '3_club', '5_club', '9_heart', 'A_diamond', 'Q_spade']}"
      ]
     },
     "execution_count": 39,
     "metadata": {},
     "output_type": "execute_result"
    }
   ],
   "source": [
    "pp0"
   ]
  },
  {
   "cell_type": "code",
   "execution_count": 48,
   "metadata": {},
   "outputs": [
    {
     "name": "stdout",
     "output_type": "stream",
     "text": [
      "start///['2_club', '8_heart', '3_diamond'],['2_spade', 'A_spade', 'K_club']\n",
      "second///['2_club', '8_heart', '3_diamond', '2_spade'],['2_spade', 'K_club', 'A_spade']\n",
      "third///['2_club', '8_heart', '3_diamond', '2_spade'],['K_club', 'A_spade']\n",
      "a[4, 2, 1, 4]\n",
      "{0: ['3_diamond', '8_heart'], 1: ['K_club', 'A_spade'], 2: ['K_diamond'], 3: ['3_club', '8_spade', 'A_diamond', 'j1']}\n",
      "b:[2, 2, 1, 4]\n",
      "start///['K_club', 'A_spade'],['K_diamond']\n",
      "second///['K_club', 'A_spade', 'K_diamond'],['K_diamond']\n",
      "third///['K_club', 'A_spade', 'K_diamond'],[]\n",
      "a[2, 3, 0, 4]\n",
      "break:a\n",
      "{0: ['3_diamond', '8_heart'], 1: ['K_club', 'A_spade', 'K_diamond'], 3: ['3_club', '8_spade', 'A_diamond', 'j1']}\n",
      "{0: ['3_diamond', '8_heart'], 1: ['A_spade'], 3: ['3_club', '8_spade', 'A_diamond', 'j1']}\n",
      "b:[2, 1, 4]\n"
     ]
    },
    {
     "ename": "KeyError",
     "evalue": "2",
     "output_type": "error",
     "traceback": [
      "\u001b[0;31m---------------------------------------------------------------------------\u001b[0m",
      "\u001b[0;31mKeyError\u001b[0m                                  Traceback (most recent call last)",
      "\u001b[0;32m<ipython-input-48-edb8bd8b5239>\u001b[0m in \u001b[0;36m<module>\u001b[0;34m()\u001b[0m\n\u001b[1;32m      7\u001b[0m         \u001b[0myou\u001b[0m \u001b[0;34m=\u001b[0m\u001b[0mi\u001b[0m\u001b[0;34m+\u001b[0m\u001b[0;36m1\u001b[0m\u001b[0;34m\u001b[0m\u001b[0;34m\u001b[0m\u001b[0m\n\u001b[1;32m      8\u001b[0m \u001b[0;34m\u001b[0m\u001b[0m\n\u001b[0;32m----> 9\u001b[0;31m     \u001b[0mprint\u001b[0m\u001b[0;34m(\u001b[0m\u001b[0;34mf\"start///{pp[me]},{pp[you]}\"\u001b[0m\u001b[0;34m)\u001b[0m\u001b[0;34m\u001b[0m\u001b[0;34m\u001b[0m\u001b[0m\n\u001b[0m\u001b[1;32m     10\u001b[0m     \u001b[0mrandom\u001b[0m\u001b[0;34m.\u001b[0m\u001b[0mshuffle\u001b[0m\u001b[0;34m(\u001b[0m\u001b[0mpp\u001b[0m\u001b[0;34m[\u001b[0m\u001b[0myou\u001b[0m\u001b[0;34m]\u001b[0m\u001b[0;34m)\u001b[0m\u001b[0;34m\u001b[0m\u001b[0;34m\u001b[0m\u001b[0m\n\u001b[1;32m     11\u001b[0m \u001b[0;34m\u001b[0m\u001b[0m\n",
      "\u001b[0;31mKeyError\u001b[0m: 2"
     ]
    }
   ],
   "source": [
    "for i in range(len(pp)):\n",
    "    if i==len(pp)-1:\n",
    "        me = i\n",
    "        you = 0\n",
    "    else:\n",
    "        me = i\n",
    "        you =i+1\n",
    "    \n",
    "    print(f\"start///{pp[me]},{pp[you]}\")\n",
    "    random.shuffle(pp[you])\n",
    "    \n",
    "    pp[me].append(pp[you][0])\n",
    "    print(f\"second///{pp[me]},{pp[you]}\")\n",
    "\n",
    "    del pp[you][0]\n",
    "    print(f\"third///{pp[me]},{pp[you]}\")\n",
    "    \n",
    "    yt =[]\n",
    "    for your in pp:\n",
    "        yt.append(len(pp[your]))\n",
    "    \n",
    "    print(f\"a{yt}\")\n",
    "    if 0 in yt:\n",
    "        junban.append(yt.index(0))\n",
    "        pp.pop(yt.index(0))\n",
    "        \n",
    "        print(\"break:a\")\n",
    "        print(pp)\n",
    "        break\n",
    "        \n",
    "    pp[me] = baba3(pp[me])\n",
    "    \n",
    "    \n",
    "    print(pp)\n",
    "    \n",
    "    yt =[]\n",
    "    for your in pp:\n",
    "        yt.append(len(pp[your]))\n",
    "    \n",
    "    print(f\"b:{yt}\")\n",
    "    if 0 in yt:\n",
    "        junban.append(yt.index(0))\n",
    "        pp.pop(yt.index(0))\n",
    "        print(\"break:b\")\n",
    "        print(pp)\n",
    "\n",
    "        break"
   ]
  },
  {
   "cell_type": "code",
   "execution_count": 245,
   "metadata": {},
   "outputs": [],
   "source": [
    "def pickup(me,you):\n",
    "    random.shuffle(you)\n",
    "    if len(you)==0:\n",
    "        print(\"youの長さがゼロです\")\n",
    "        \n",
    "        return 0,0\n",
    "    else:\n",
    "        a = list(range(len(you)))\n",
    "    \n",
    "        ii = random.sample(a,1)[0]\n",
    "    \n",
    "        me.append(you[ii])\n",
    "        del you[ii]\n",
    "        \n",
    "        return baba3(me),you"
   ]
  },
  {
   "cell_type": "code",
   "execution_count": 28,
   "metadata": {},
   "outputs": [
    {
     "data": {
      "text/plain": [
       "['3_spade',\n",
       " '4_spade',\n",
       " '5_diamond',\n",
       " '6_spade',\n",
       " '8_heart',\n",
       " 'A_diamond',\n",
       " 'K_spade',\n",
       " 'Q_diamond',\n",
       " 'j1']"
      ]
     },
     "execution_count": 28,
     "metadata": {},
     "output_type": "execute_result"
    }
   ],
   "source": [
    "pp[0]"
   ]
  },
  {
   "cell_type": "code",
   "execution_count": 269,
   "metadata": {},
   "outputs": [
    {
     "name": "stdout",
     "output_type": "stream",
     "text": [
      "{0: ['2_heart', '3_spade', '8_spade', '9_diamond', 'K_spade', 'j1'], 1: ['2_diamond', '3_diamond', '4_club', '9_heart', '6_club', 'Q_spade'], 2: ['5_diamond', '6_spade', '7_club', '8_club', 'Q_diamond'], 3: ['4_heart', '5_club', '7_diamond', 'K_diamond']}\n",
      "{0: ['2_heart', '3_spade', '8_spade', '9_diamond', 'K_spade', 'j1'], 1: ['2_diamond', '3_diamond', '4_club', '9_heart', 'Q_spade'], 2: ['7_club', '8_club', '5_diamond', 'Q_diamond'], 3: ['4_heart', '5_club', '7_diamond', 'K_diamond']}\n",
      "{0: ['2_heart', '3_spade', '8_spade', '9_diamond', 'K_spade', 'j1'], 1: ['2_diamond', '3_diamond', '4_club', '9_heart', 'Q_spade'], 2: ['7_club', '8_club', 'Q_diamond'], 3: ['7_diamond', 'K_diamond', '4_heart']}\n",
      "{0: ['9_diamond', '2_heart', '3_spade', '8_spade', 'j1'], 1: ['2_diamond', '3_diamond', '4_club', '9_heart', 'Q_spade'], 2: ['7_club', '8_club', 'Q_diamond'], 3: ['4_heart', '7_diamond']}\n",
      "test:4\n",
      "{0: ['3_spade', '8_spade', '9_diamond', 'j1'], 1: ['Q_spade', '3_diamond', '4_club', '9_heart'], 2: ['7_club', '8_club', 'Q_diamond'], 3: ['4_heart', '7_diamond']}\n",
      "{0: ['3_spade', '8_spade', '9_diamond', 'j1'], 1: ['3_diamond', '4_club', '9_heart'], 2: ['7_club', '8_club'], 3: ['4_heart', '7_diamond']}\n",
      "{0: ['3_spade', '8_spade', '9_diamond', 'j1'], 1: ['3_diamond', '4_club', '9_heart'], 2: ['8_club'], 3: ['4_heart']}\n",
      "{0: ['3_spade', 'j1', '8_spade'], 1: ['3_diamond', '4_club', '9_heart'], 2: ['8_club'], 3: ['4_heart', '9_diamond']}\n",
      "test:4\n",
      "{0: ['8_spade', 'j1'], 1: ['4_club', '9_heart'], 2: ['8_club'], 3: ['4_heart', '9_diamond']}\n",
      "{0: ['8_spade', 'j1'], 1: ['4_club', '8_club', '9_heart'], 2: [], 3: ['4_heart', '9_diamond']}\n",
      "{0: ['j1'], 1: ['4_club', '8_club', '9_heart'], 2: [], 3: ['4_heart', '8_spade', '9_diamond']}\n",
      "test:3\n",
      "{0: ['4_club', 'j1'], 1: ['8_club', '9_heart'], 3: ['4_heart', '8_spade', '9_diamond']}\n",
      "{0: ['4_club', 'j1'], 1: ['8_club'], 3: ['8_spade', '4_heart']}\n",
      "{0: ['j1'], 1: ['8_club'], 3: ['8_spade']}\n",
      "test:3\n",
      "{0: ['8_club', 'j1'], 1: [], 3: ['8_spade']}\n",
      "{0: ['j1'], 1: [], 3: []}\n",
      "test:1\n",
      "[2, 1, 3, 0]\n"
     ]
    }
   ],
   "source": [
    "goal = []\n",
    "while 1:\n",
    "    menbers = list(pp.keys())\n",
    "    for ite,i in enumerate(menbers):\n",
    "        if ite+1 == len(menbers):\n",
    "            me = menbers[ite]\n",
    "            you = menbers[0]\n",
    "\n",
    "        else:\n",
    "            me = menbers[ite]\n",
    "            you =menbers[ite+1]\n",
    "        \n",
    "        if len(pp[me])==0:\n",
    "            continue\n",
    "    \n",
    "        else:\n",
    "            A,B = pickup(pp[me],pp[you])\n",
    "            if A!=0 and B!=0:\n",
    "                pp[me] = A\n",
    "                pp[you] = B\n",
    "            \n",
    "            else:\n",
    "                continue\n",
    "        print(pp)\n",
    "    \n",
    "\n",
    "    for u in list(pp.keys()):\n",
    "        if len(pp[u])==0:\n",
    "            goal.append(u)\n",
    "            del pp[u]\n",
    "        \n",
    "        else:\n",
    "            continue\n",
    "    \n",
    "    print(f\"test:{len(pp)}\")\n",
    "    \n",
    "    if len(pp)==1:\n",
    "        goal.extend(list(pp.keys()))\n",
    "        print(goal)\n",
    "        break"
   ]
  },
  {
   "cell_type": "code",
   "execution_count": 237,
   "metadata": {},
   "outputs": [
    {
     "data": {
      "text/plain": [
       "{1: [], 2: ['j1']}"
      ]
     },
     "execution_count": 237,
     "metadata": {},
     "output_type": "execute_result"
    }
   ],
   "source": [
    "pp"
   ]
  },
  {
   "cell_type": "code",
   "execution_count": 238,
   "metadata": {},
   "outputs": [
    {
     "data": {
      "text/plain": [
       "[0]"
      ]
     },
     "execution_count": 238,
     "metadata": {},
     "output_type": "execute_result"
    }
   ],
   "source": [
    "goal"
   ]
  },
  {
   "cell_type": "code",
   "execution_count": null,
   "metadata": {},
   "outputs": [],
   "source": [
    "def baba4(aa):\n",
    "    aa.sort()\n",
    "    bb = aa[:]\n",
    "    bb = [i[0] for i in bb]\n",
    "    bb2 = list(set(bb))\n",
    "    bb2.sort()\n",
    "    for y in bb2:\n",
    "        if bb.count(y)==2:\n",
    "            "
   ]
  },
  {
   "cell_type": "code",
   "execution_count": 532,
   "metadata": {},
   "outputs": [],
   "source": [
    "def baba2(aa,su):\n",
    "    dd = [i[-2:] for i in aa]\n",
    "    b = set(dd)\n",
    "    gind=[]\n",
    "    for i in b:\n",
    "        if dd.count(i)>1:\n",
    "            gind.append(aa[dd.index(i)])\n",
    "            \n",
    "        else:\n",
    "            pass\n",
    "    \n",
    "    if len(su)>0:\n",
    "        suteru = su[:]\n",
    "    else:\n",
    "        suteru =[]\n",
    "    for t in gind:\n",
    "        v = t[-2:]\n",
    "        print(v)\n",
    "        k=0\n",
    "        for r,u in enumerate(aa):\n",
    "            if u[-2:]==v:\n",
    "                suteru.append(aa[r])\n",
    "                aa.pop(r)\n",
    "                \n",
    "                k+=1\n",
    "            if k>1:\n",
    "                break\n",
    "       \n",
    "        \n",
    "    return aa,suteru\n",
    "    \n",
    "\n",
    "def cardpair(CC):\n",
    "    A,B=baba2(CC,[])\n",
    "    single,pair = baba2(A,B)\n",
    "    \n",
    "    return single,pair"
   ]
  },
  {
   "cell_type": "code",
   "execution_count": 486,
   "metadata": {},
   "outputs": [],
   "source": [
    "A = cc[\"p1\"]"
   ]
  },
  {
   "cell_type": "code",
   "execution_count": 487,
   "metadata": {},
   "outputs": [
    {
     "data": {
      "text/plain": [
       "['2_club',\n",
       " '3_club',\n",
       " '3_spade',\n",
       " '4_heart',\n",
       " '5_club',\n",
       " '5_diamond',\n",
       " '5_heart',\n",
       " '5_spade',\n",
       " '6_diamond',\n",
       " '7_diamond',\n",
       " '7_heart',\n",
       " '8_club',\n",
       " '8_spade',\n",
       " '9_club',\n",
       " '9_diamond',\n",
       " 'J_club',\n",
       " 'J_diamond',\n",
       " 'K_club',\n",
       " 'K_diamond',\n",
       " 'K_heart',\n",
       " 'K_spade',\n",
       " 'Q_diamond',\n",
       " 'Q_heart',\n",
       " 'Q_spade',\n",
       " 'X_spade',\n",
       " 'j1']"
      ]
     },
     "execution_count": 487,
     "metadata": {},
     "output_type": "execute_result"
    }
   ],
   "source": [
    "A.sort()\n",
    "A"
   ]
  },
  {
   "cell_type": "code",
   "execution_count": 489,
   "metadata": {},
   "outputs": [
    {
     "name": "stdout",
     "output_type": "stream",
     "text": [
      "d\n",
      "a\n",
      "d\n",
      "b\n",
      "d\n",
      "a\n",
      "a\n",
      "a\n",
      "a\n",
      "b\n",
      "c\n",
      "d\n",
      "d\n"
     ]
    },
    {
     "data": {
      "text/plain": [
       "['2_club', '4_heart', '6_diamond', 'Q_spade', 'X_spade', 'j1']"
      ]
     },
     "execution_count": 489,
     "metadata": {},
     "output_type": "execute_result"
    }
   ],
   "source": [
    "baba3(A)"
   ]
  },
  {
   "cell_type": "code",
   "execution_count": 410,
   "metadata": {},
   "outputs": [],
   "source": [
    "single = []\n",
    "for i in c:\n",
    "    if c[0][0]==c[1][0]:\n",
    "        c.pop(0)\n",
    "        c.pop(0)\n",
    "    \n",
    "    else:\n",
    "        single.append(i)\n",
    "        c.pop(0)"
   ]
  },
  {
   "cell_type": "code",
   "execution_count": 411,
   "metadata": {},
   "outputs": [
    {
     "data": {
      "text/plain": [
       "['2_spade', '6_heart', '7_heart', 'J_diamond', 'X_club']"
      ]
     },
     "execution_count": 411,
     "metadata": {},
     "output_type": "execute_result"
    }
   ],
   "source": [
    "single"
   ]
  },
  {
   "cell_type": "code",
   "execution_count": 476,
   "metadata": {},
   "outputs": [],
   "source": [
    "fr = [1,2,3,4]\n",
    "del fr[:3]"
   ]
  },
  {
   "cell_type": "code",
   "execution_count": 477,
   "metadata": {},
   "outputs": [
    {
     "data": {
      "text/plain": [
       "[4]"
      ]
     },
     "execution_count": 477,
     "metadata": {},
     "output_type": "execute_result"
    }
   ],
   "source": [
    "fr"
   ]
  },
  {
   "cell_type": "code",
   "execution_count": null,
   "metadata": {},
   "outputs": [],
   "source": []
  },
  {
   "cell_type": "code",
   "execution_count": 395,
   "metadata": {},
   "outputs": [
    {
     "name": "stdout",
     "output_type": "stream",
     "text": [
      "_X\n",
      "_2\n",
      "_7\n",
      "_9\n",
      "_4\n",
      "_5\n",
      "_K\n",
      "_Q\n",
      "_A\n",
      "_4\n",
      "_A\n",
      "_X\n",
      "_2\n",
      "_7\n",
      "_J\n",
      "_8\n",
      "_3\n",
      "_6\n",
      "_Q\n",
      "_5\n",
      "_8\n",
      "_6\n"
     ]
    }
   ],
   "source": [
    "AAA1 = []\n",
    "AAA2 = []\n",
    "AAA1.append(cardpair(cc[\"p0\"])[0])\n",
    "AAA1.append(cardpair(cc[\"p0\"])[1])\n",
    "AAA2.append(cardpair(cc[\"p1\"])[0])\n",
    "AAA2.append(cardpair(cc[\"p1\"])[1])"
   ]
  },
  {
   "cell_type": "code",
   "execution_count": 396,
   "metadata": {},
   "outputs": [
    {
     "data": {
      "text/plain": [
       "[['club_J', 'club_Q', 'heart_9', 'spade_3', 'club_K', 'spade_5'], []]"
      ]
     },
     "execution_count": 396,
     "metadata": {},
     "output_type": "execute_result"
    }
   ],
   "source": [
    "AAA1"
   ]
  },
  {
   "cell_type": "code",
   "execution_count": 397,
   "metadata": {},
   "outputs": [
    {
     "data": {
      "text/plain": [
       "[['club_9', 'j1', 'heart_3', 'heart_K', 'club_6', 'club_8', 'heart_J'], []]"
      ]
     },
     "execution_count": 397,
     "metadata": {},
     "output_type": "execute_result"
    }
   ],
   "source": [
    "AAA2"
   ]
  },
  {
   "cell_type": "code",
   "execution_count": 376,
   "metadata": {},
   "outputs": [],
   "source": [
    "#AAA.sort()\n",
    "for i in AAA:\n",
    "    random.shuffle(i)"
   ]
  },
  {
   "cell_type": "code",
   "execution_count": 377,
   "metadata": {},
   "outputs": [
    {
     "data": {
      "text/plain": [
       "[['heart_5',\n",
       "  'club_7',\n",
       "  'club_6',\n",
       "  'spade_8',\n",
       "  'spade_Q',\n",
       "  'diamond_A',\n",
       "  'diamond_2',\n",
       "  'heart_J',\n",
       "  'diamond_4',\n",
       "  'diamond_3'],\n",
       " ['j1',\n",
       "  'spade_5',\n",
       "  'heart_6',\n",
       "  'spade_J',\n",
       "  'spade_A',\n",
       "  'club_Q',\n",
       "  'spade_4',\n",
       "  'heart_3',\n",
       "  'spade_7']]"
      ]
     },
     "execution_count": 377,
     "metadata": {},
     "output_type": "execute_result"
    }
   ],
   "source": [
    "AAA"
   ]
  },
  {
   "cell_type": "code",
   "execution_count": 300,
   "metadata": {},
   "outputs": [],
   "source": [
    "BB = [i[-2:] for i in AAA[0]]\n",
    "if AAA[1][0][-2:] in BB:\n",
    "    AAA[1].pop(0)\n",
    "    AAA[0].pop(BB.index(AAA[1][0][-2:]))"
   ]
  },
  {
   "cell_type": "code",
   "execution_count": 312,
   "metadata": {},
   "outputs": [
    {
     "name": "stdout",
     "output_type": "stream",
     "text": [
      "['heart_6', 'heart_7', 'club_8', 'spade_9', 'heart_5', 'j1', 'club_X', 'club_A']\n",
      "['diamond_5', 'club_7', 'heart_8', 'heart_X', 'diamond_A', 'club_9']\n"
     ]
    }
   ],
   "source": [
    "print(AAA[0])\n",
    "print(AAA[1])"
   ]
  },
  {
   "cell_type": "code",
   "execution_count": 313,
   "metadata": {},
   "outputs": [
    {
     "data": {
      "text/plain": [
       "'diamond_5'"
      ]
     },
     "execution_count": 313,
     "metadata": {},
     "output_type": "execute_result"
    }
   ],
   "source": [
    "AAA[0].append(AAA[1][0])\n",
    "AAA[1].pop(0)"
   ]
  },
  {
   "cell_type": "code",
   "execution_count": 314,
   "metadata": {},
   "outputs": [
    {
     "name": "stdout",
     "output_type": "stream",
     "text": [
      "['heart_6', 'heart_7', 'club_8', 'spade_9', 'heart_5', 'j1', 'club_X', 'club_A', 'diamond_5']\n",
      "['club_7', 'heart_8', 'heart_X', 'diamond_A', 'club_9']\n"
     ]
    }
   ],
   "source": [
    "print(AAA[0])\n",
    "print(AAA[1])"
   ]
  },
  {
   "cell_type": "code",
   "execution_count": 315,
   "metadata": {},
   "outputs": [
    {
     "name": "stdout",
     "output_type": "stream",
     "text": [
      "_5\n"
     ]
    },
    {
     "data": {
      "text/plain": [
       "(['heart_6', 'heart_7', 'club_8', 'spade_9', 'j1', 'club_X', 'club_A'],\n",
       " ['heart_5', 'diamond_5'])"
      ]
     },
     "execution_count": 315,
     "metadata": {},
     "output_type": "execute_result"
    }
   ],
   "source": [
    "baba2(AAA[0],[])"
   ]
  },
  {
   "cell_type": "code",
   "execution_count": 316,
   "metadata": {},
   "outputs": [
    {
     "data": {
      "text/plain": [
       "['heart_6', 'heart_7', 'club_8', 'spade_9', 'j1', 'club_X', 'club_A']"
      ]
     },
     "execution_count": 316,
     "metadata": {},
     "output_type": "execute_result"
    }
   ],
   "source": [
    "AAA[0]"
   ]
  },
  {
   "cell_type": "code",
   "execution_count": 317,
   "metadata": {},
   "outputs": [
    {
     "data": {
      "text/plain": [
       "'j1'"
      ]
     },
     "execution_count": 317,
     "metadata": {},
     "output_type": "execute_result"
    }
   ],
   "source": [
    "AAA[1].append(AAA[0][4])\n",
    "AAA[0].pop(4)"
   ]
  },
  {
   "cell_type": "code",
   "execution_count": 318,
   "metadata": {},
   "outputs": [
    {
     "name": "stdout",
     "output_type": "stream",
     "text": [
      "['heart_6', 'heart_7', 'club_8', 'spade_9', 'club_X', 'club_A']\n",
      "['club_7', 'heart_8', 'heart_X', 'diamond_A', 'club_9', 'j1']\n"
     ]
    }
   ],
   "source": [
    "print(AAA[0])\n",
    "print(AAA[1])"
   ]
  },
  {
   "cell_type": "code",
   "execution_count": 319,
   "metadata": {},
   "outputs": [
    {
     "data": {
      "text/plain": [
       "(['club_7', 'heart_8', 'heart_X', 'diamond_A', 'club_9', 'j1'], [])"
      ]
     },
     "execution_count": 319,
     "metadata": {},
     "output_type": "execute_result"
    }
   ],
   "source": [
    "baba2(AAA[1],[])"
   ]
  },
  {
   "cell_type": "code",
   "execution_count": 320,
   "metadata": {},
   "outputs": [
    {
     "data": {
      "text/plain": [
       "['club_7', 'heart_8', 'heart_X', 'diamond_A', 'club_9', 'j1']"
      ]
     },
     "execution_count": 320,
     "metadata": {},
     "output_type": "execute_result"
    }
   ],
   "source": [
    "AAA[1]"
   ]
  },
  {
   "cell_type": "code",
   "execution_count": 345,
   "metadata": {},
   "outputs": [
    {
     "name": "stdout",
     "output_type": "stream",
     "text": [
      "ss\n",
      "_A\n",
      "ss\n",
      "_2\n",
      "ss\n",
      "ss\n",
      "_J\n",
      "ss\n",
      "ss\n"
     ]
    }
   ],
   "source": [
    "for rr in range(3):\n",
    "    for i in range(N):\n",
    "        random.shuffle(AAA[0])\n",
    "        random.shuffle(AAA[1])\n",
    "        if i==N-1:\n",
    "            yu = 0\n",
    "        else:\n",
    "            yu = i+1\n",
    "        #nn = random.shuffle(range(len(AAA[yu])),1)           \n",
    "        AAA[i].append(AAA[yu][0])\n",
    "        AAA[yu].pop(0)\n",
    "        baba2(AAA[i],[])\n",
    "        print(\"ss\")\n",
    "        [print(u) for u in AAA]\n",
    "    \n",
    "    if len(AAA[0])==0 or len(AAA[1])==0:\n",
    "        print(\"end\")\n",
    "        break"
   ]
  },
  {
   "cell_type": "code",
   "execution_count": null,
   "metadata": {},
   "outputs": [],
   "source": []
  },
  {
   "cell_type": "code",
   "execution_count": null,
   "metadata": {},
   "outputs": [],
   "source": []
  },
  {
   "cell_type": "code",
   "execution_count": 332,
   "metadata": {},
   "outputs": [
    {
     "data": {
      "text/plain": [
       "2"
      ]
     },
     "execution_count": 332,
     "metadata": {},
     "output_type": "execute_result"
    }
   ],
   "source": [
    "[1,2,3,4]"
   ]
  },
  {
   "cell_type": "code",
   "execution_count": 330,
   "metadata": {},
   "outputs": [
    {
     "data": {
      "text/plain": [
       "3"
      ]
     },
     "execution_count": 330,
     "metadata": {},
     "output_type": "execute_result"
    }
   ],
   "source": [
    "random.randint(0,3)"
   ]
  },
  {
   "cell_type": "code",
   "execution_count": 306,
   "metadata": {},
   "outputs": [
    {
     "data": {
      "text/plain": [
       "['diamond_6',\n",
       " 'diamond_9',\n",
       " 'spade_5',\n",
       " 'spade_Q',\n",
       " 'j1',\n",
       " 'club_J',\n",
       " 'heart_X',\n",
       " 'spade_K',\n",
       " 'spade_K']"
      ]
     },
     "execution_count": 306,
     "metadata": {},
     "output_type": "execute_result"
    }
   ],
   "source": [
    "AAA[1]"
   ]
  },
  {
   "cell_type": "code",
   "execution_count": 304,
   "metadata": {},
   "outputs": [
    {
     "data": {
      "text/plain": [
       "(['diamond_6',\n",
       "  'diamond_9',\n",
       "  'spade_5',\n",
       "  'spade_Q',\n",
       "  'j1',\n",
       "  'club_J',\n",
       "  'heart_X',\n",
       "  'spade_K'],\n",
       " [])"
      ]
     },
     "execution_count": 304,
     "metadata": {},
     "output_type": "execute_result"
    }
   ],
   "source": [
    "baba2(AAA[1],[])"
   ]
  },
  {
   "cell_type": "code",
   "execution_count": null,
   "metadata": {},
   "outputs": [],
   "source": []
  },
  {
   "cell_type": "code",
   "execution_count": 301,
   "metadata": {},
   "outputs": [
    {
     "data": {
      "text/plain": [
       "['diamond_6', 'diamond_9', 'spade_5', 'spade_Q', 'j1', 'club_J', 'heart_X']"
      ]
     },
     "execution_count": 301,
     "metadata": {},
     "output_type": "execute_result"
    }
   ],
   "source": [
    "AAA[1]"
   ]
  },
  {
   "cell_type": "code",
   "execution_count": 302,
   "metadata": {},
   "outputs": [
    {
     "data": {
      "text/plain": [
       "['spade_X', 'diamond_5', 'diamond_8', 'spade_K', 'spade_J', 'heart_9']"
      ]
     },
     "execution_count": 302,
     "metadata": {},
     "output_type": "execute_result"
    }
   ],
   "source": [
    "AAA[0]"
   ]
  },
  {
   "cell_type": "code",
   "execution_count": 321,
   "metadata": {},
   "outputs": [
    {
     "name": "stdout",
     "output_type": "stream",
     "text": [
      "0\n",
      "1\n",
      "2\n",
      "3\n",
      "4\n",
      "5\n",
      "6\n",
      "7\n",
      "8\n",
      "9\n",
      "0\n",
      "1\n",
      "2\n",
      "3\n",
      "4\n",
      "5\n",
      "6\n",
      "7\n",
      "8\n",
      "9\n",
      "0\n",
      "1\n",
      "2\n",
      "3\n",
      "4\n",
      "5\n",
      "6\n",
      "7\n",
      "8\n",
      "9\n",
      "0\n",
      "1\n",
      "2\n",
      "3\n",
      "4\n",
      "5\n",
      "6\n",
      "7\n",
      "8\n",
      "9\n",
      "0\n",
      "1\n",
      "2\n",
      "3\n",
      "4\n",
      "5\n",
      "6\n",
      "7\n",
      "8\n",
      "9\n",
      "0\n",
      "1\n",
      "2\n",
      "3\n",
      "4\n",
      "5\n",
      "6\n",
      "7\n",
      "8\n",
      "9\n",
      "0\n",
      "1\n",
      "2\n",
      "3\n",
      "4\n",
      "5\n",
      "6\n",
      "7\n",
      "8\n",
      "9\n",
      "0\n",
      "1\n",
      "2\n",
      "3\n",
      "4\n",
      "5\n",
      "6\n",
      "7\n",
      "8\n",
      "9\n",
      "0\n",
      "1\n",
      "2\n",
      "3\n",
      "4\n",
      "5\n",
      "6\n",
      "7\n",
      "8\n",
      "9\n",
      "0\n",
      "1\n",
      "2\n",
      "3\n",
      "4\n",
      "5\n",
      "6\n",
      "7\n",
      "8\n",
      "9\n"
     ]
    }
   ],
   "source": [
    "u=0\n",
    "while u<10:\n",
    "    u+=1\n",
    "    for i in range(10):\n",
    "        print(i)"
   ]
  },
  {
   "cell_type": "code",
   "execution_count": 516,
   "metadata": {
    "scrolled": false
   },
   "outputs": [
    {
     "name": "stdout",
     "output_type": "stream",
     "text": [
      "0 1\n",
      "1 2\n",
      "2 3\n",
      "3 4\n",
      "4 5\n",
      "5 6\n",
      "6 7\n",
      "7 8\n",
      "8 9\n",
      "9 0\n",
      "0 1\n",
      "1 2\n",
      "2 3\n",
      "3 4\n",
      "4 5\n",
      "5 6\n",
      "6 7\n",
      "7 8\n",
      "8 9\n",
      "9 0\n",
      "0 1\n",
      "1 2\n",
      "2 3\n",
      "3 4\n",
      "4 5\n",
      "5 6\n",
      "6 7\n",
      "7 8\n",
      "8 9\n",
      "9 0\n",
      "0 1\n",
      "1 2\n",
      "2 3\n",
      "3 4\n",
      "4 5\n",
      "5 6\n",
      "6 7\n",
      "7 8\n",
      "8 9\n",
      "9 0\n",
      "0 1\n",
      "1 2\n",
      "2 3\n",
      "3 4\n",
      "4 5\n",
      "5 6\n",
      "6 7\n",
      "7 8\n",
      "8 9\n",
      "9 0\n",
      "0 1\n",
      "1 2\n",
      "2 3\n",
      "3 4\n",
      "4 5\n",
      "5 6\n",
      "6 7\n",
      "7 8\n",
      "8 9\n",
      "9 0\n",
      "0 1\n",
      "1 2\n",
      "2 3\n",
      "3 4\n",
      "4 5\n",
      "5 6\n",
      "6 7\n",
      "7 8\n",
      "8 9\n",
      "9 0\n",
      "0 1\n",
      "1 2\n",
      "2 3\n",
      "3 4\n",
      "4 5\n",
      "5 6\n",
      "6 7\n",
      "7 8\n",
      "8 9\n",
      "9 0\n",
      "0 1\n",
      "1 2\n",
      "2 3\n",
      "3 4\n",
      "4 5\n",
      "5 6\n",
      "6 7\n",
      "7 8\n",
      "8 9\n",
      "9 0\n",
      "0 1\n",
      "1 2\n",
      "2 3\n",
      "3 4\n",
      "4 5\n",
      "5 6\n",
      "6 7\n",
      "7 8\n",
      "8 9\n",
      "9 0\n",
      "0 1\n",
      "1 2\n",
      "2 3\n",
      "3 4\n",
      "4 5\n",
      "5 6\n",
      "6 7\n",
      "7 8\n",
      "8 9\n",
      "9 0\n"
     ]
    }
   ],
   "source": [
    "k=0\n",
    "while 1:\n",
    "    for i in range(10):\n",
    "        \n",
    "        if i in [4,5]:\n",
    "            \n",
    "        \n",
    "        if i==10-1:\n",
    "            me = i\n",
    "            you = 0\n",
    "        else:\n",
    "            me = i\n",
    "            you =i+1\n",
    "    \n",
    "        print(me,you)\n",
    "    \n",
    "    k+=1\n",
    "    if k>10:\n",
    "        break"
   ]
  },
  {
   "cell_type": "code",
   "execution_count": 142,
   "metadata": {},
   "outputs": [],
   "source": [
    "t = [1,2,3,4,5]"
   ]
  },
  {
   "cell_type": "code",
   "execution_count": 526,
   "metadata": {},
   "outputs": [
    {
     "data": {
      "text/plain": [
       "1"
      ]
     },
     "execution_count": 526,
     "metadata": {},
     "output_type": "execute_result"
    }
   ],
   "source": [
    "t.pop(0)"
   ]
  },
  {
   "cell_type": "code",
   "execution_count": 145,
   "metadata": {},
   "outputs": [
    {
     "ename": "TypeError",
     "evalue": "must use keyword argument for key function",
     "output_type": "error",
     "traceback": [
      "\u001b[0;31m---------------------------------------------------------------------------\u001b[0m",
      "\u001b[0;31mTypeError\u001b[0m                                 Traceback (most recent call last)",
      "\u001b[0;32m<ipython-input-145-bed930a9a660>\u001b[0m in \u001b[0;36m<module>\u001b[0;34m()\u001b[0m\n\u001b[0;32m----> 1\u001b[0;31m \u001b[0mt\u001b[0m\u001b[0;34m.\u001b[0m\u001b[0msort\u001b[0m\u001b[0;34m(\u001b[0m\u001b[0mreversed\u001b[0m\u001b[0;34m)\u001b[0m\u001b[0;34m\u001b[0m\u001b[0;34m\u001b[0m\u001b[0m\n\u001b[0m",
      "\u001b[0;31mTypeError\u001b[0m: must use keyword argument for key function"
     ]
    }
   ],
   "source": [
    "t.sort(reversed)"
   ]
  },
  {
   "cell_type": "code",
   "execution_count": 144,
   "metadata": {},
   "outputs": [
    {
     "data": {
      "text/plain": [
       "[5, 4, 3, 2, 1]"
      ]
     },
     "execution_count": 144,
     "metadata": {},
     "output_type": "execute_result"
    }
   ],
   "source": [
    "t"
   ]
  },
  {
   "cell_type": "code",
   "execution_count": 200,
   "metadata": {},
   "outputs": [
    {
     "data": {
      "text/plain": [
       "[0]"
      ]
     },
     "execution_count": 200,
     "metadata": {},
     "output_type": "execute_result"
    }
   ],
   "source": [
    "list(range(1))"
   ]
  },
  {
   "cell_type": "code",
   "execution_count": 201,
   "metadata": {},
   "outputs": [
    {
     "data": {
      "text/plain": [
       "[0]"
      ]
     },
     "execution_count": 201,
     "metadata": {},
     "output_type": "execute_result"
    }
   ],
   "source": [
    "random.sample(list(range(1)),1)"
   ]
  },
  {
   "cell_type": "code",
   "execution_count": null,
   "metadata": {},
   "outputs": [],
   "source": []
  }
 ],
 "metadata": {
  "kernelspec": {
   "display_name": "Python 3",
   "language": "python",
   "name": "python3"
  },
  "language_info": {
   "codemirror_mode": {
    "name": "ipython",
    "version": 3
   },
   "file_extension": ".py",
   "mimetype": "text/x-python",
   "name": "python",
   "nbconvert_exporter": "python",
   "pygments_lexer": "ipython3",
   "version": "3.6.8"
  },
  "toc": {
   "base_numbering": 1,
   "nav_menu": {},
   "number_sections": true,
   "sideBar": true,
   "skip_h1_title": false,
   "title_cell": "Table of Contents",
   "title_sidebar": "Contents",
   "toc_cell": false,
   "toc_position": {},
   "toc_section_display": true,
   "toc_window_display": false
  }
 },
 "nbformat": 4,
 "nbformat_minor": 2
}
