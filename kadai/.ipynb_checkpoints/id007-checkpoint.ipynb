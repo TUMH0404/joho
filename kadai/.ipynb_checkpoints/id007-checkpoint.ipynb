{
 "cells": [
  {
   "cell_type": "markdown",
   "metadata": {},
   "source": [
    "学籍番号"
   ]
  },
  {
   "cell_type": "code",
   "execution_count": null,
   "metadata": {},
   "outputs": [],
   "source": []
  },
  {
   "cell_type": "markdown",
   "metadata": {},
   "source": [
    "氏名"
   ]
  },
  {
   "cell_type": "code",
   "execution_count": null,
   "metadata": {},
   "outputs": [],
   "source": []
  },
  {
   "cell_type": "markdown",
   "metadata": {},
   "source": [
    "問（復習）オブジェクト名*g*, *k* に，空リストを格納する。"
   ]
  },
  {
   "cell_type": "code",
   "execution_count": null,
   "metadata": {},
   "outputs": [],
   "source": []
  },
  {
   "cell_type": "markdown",
   "metadata": {},
   "source": [
    "問 *g*に0,2,4,6,8の偶数をリスト形式で格納する。<br>\n",
    "- ただし，すでに *g* は作られているので，<font color=\"red\">**append**</font>を使ってみよう。"
   ]
  },
  {
   "cell_type": "code",
   "execution_count": null,
   "metadata": {},
   "outputs": [],
   "source": []
  },
  {
   "cell_type": "markdown",
   "metadata": {},
   "source": [
    "問　*g* に格納されている数値(int型)は偶数（2の倍数）であることがすでにわかっているものとする。<br>\n",
    "その *g* に奇数も追加し，```[0,1,2,3,...9]```と*g*を変更する。<br>\n",
    "- コマンドは複数あるが，if文を含めると ＋10点，sortを使うと，＋8点！"
   ]
  },
  {
   "cell_type": "code",
   "execution_count": null,
   "metadata": {},
   "outputs": [],
   "source": []
  },
  {
   "cell_type": "markdown",
   "metadata": {},
   "source": [
    "問　偶数と奇数にわける。*g* には偶数を，先に与えたオブジェクト名 *k* に奇数を格納せよ。\n",
    "\n",
    "例\n",
    "```\n",
    "[0,2,4,6,8]\n",
    "[1,3,5,7,9]\n",
    "```\n",
    "\n",
    "for文とif文を使うと＋15点!"
   ]
  },
  {
   "cell_type": "code",
   "execution_count": null,
   "metadata": {},
   "outputs": [],
   "source": []
  },
  {
   "cell_type": "markdown",
   "metadata": {},
   "source": [
    "問　0から200のうち，7で割るとあまりが3となる数値と8で割り切れる数値をそれぞれ取得せよ。\n",
    "\n",
    "ヒント：\n",
    "```\n",
    "v1 = [] #空リスト\n",
    "v2 = [] #空リスト\n",
    "for i in range(0,201,1):\n",
    "    if ????? :\n",
    "        v1.append(i)\n",
    "    \n",
    "    if ????? :\n",
    "        ??.???????(i)\n",
    "\n",
    "print(v1) # 表示して確認\n",
    "print(v2) # 表示して確認\n",
    "```\n",
    "\n",
    "「?」のところに何かを入れてみよう。"
   ]
  },
  {
   "cell_type": "code",
   "execution_count": null,
   "metadata": {},
   "outputs": [],
   "source": []
  },
  {
   "cell_type": "markdown",
   "metadata": {},
   "source": [
    "(加点)問　\n",
    "\n",
    "``` [[0,1,2,3,4],[5,6,7,8,9],[10,11,12,13,14],[15,16,17,18,19],[20,21,22,23,24]]```\n",
    "\n",
    "というリストの中にリストをあるオブジェクトに格納する。"
   ]
  },
  {
   "cell_type": "code",
   "execution_count": null,
   "metadata": {},
   "outputs": [],
   "source": []
  }
 ],
 "metadata": {
  "kernelspec": {
   "display_name": "Python 3",
   "language": "python",
   "name": "python3"
  },
  "language_info": {
   "codemirror_mode": {
    "name": "ipython",
    "version": 3
   },
   "file_extension": ".py",
   "mimetype": "text/x-python",
   "name": "python",
   "nbconvert_exporter": "python",
   "pygments_lexer": "ipython3",
   "version": "3.6.8"
  },
  "toc": {
   "base_numbering": 1,
   "nav_menu": {},
   "number_sections": true,
   "sideBar": true,
   "skip_h1_title": false,
   "title_cell": "Table of Contents",
   "title_sidebar": "Contents",
   "toc_cell": false,
   "toc_position": {},
   "toc_section_display": true,
   "toc_window_display": false
  }
 },
 "nbformat": 4,
 "nbformat_minor": 2
}
