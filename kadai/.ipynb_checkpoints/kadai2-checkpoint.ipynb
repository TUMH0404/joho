{
 "cells": [
  {
   "cell_type": "markdown",
   "metadata": {
    "slideshow": {
     "slide_type": "slide"
    }
   },
   "source": [
    "# 前期の間にやりたいこと"
   ]
  },
  {
   "cell_type": "markdown",
   "metadata": {
    "slideshow": {
     "slide_type": "subslide"
    }
   },
   "source": [
    "何かを入れたら，何かが出来上がる！！<br>\n",
    "こんなものを作りたい。"
   ]
  },
  {
   "cell_type": "code",
   "execution_count": null,
   "metadata": {
    "slideshow": {
     "slide_type": "subslide"
    }
   },
   "outputs": [
    {
     "name": "stdout",
     "output_type": "stream",
     "text": [
      "1__棘上筋\n",
      "2__小円筋\n",
      "3__棘下筋\n",
      "4__大円筋\n",
      "Q:作用が\"肩関節の外旋\"の筋名:\n",
      "3\n",
      "それと・・・・:\n",
      "3\n",
      "wrong\n",
      "正解：小円筋\n",
      "正解：棘下筋\n",
      "Enter キーを押して次へ進む\n",
      "3\n",
      "\n",
      "\n",
      "\n",
      "1__棘下筋\n",
      "2__棘上筋\n",
      "3__三角筋\n"
     ]
    }
   ],
   "source": [
    "import main"
   ]
  },
  {
   "cell_type": "code",
   "execution_count": null,
   "metadata": {
    "slideshow": {
     "slide_type": "subslide"
    }
   },
   "outputs": [],
   "source": [
    "import data\n",
    "import common\n",
    "\n",
    "Trunk = []\n",
    "Trunk.extend(common.str2list(data.shoulder1()))\n",
    "#Trunk.extend(common.str2list(data.shoulder2()))\n",
    "    \n",
    "common.ssss(common.list2dic(Trunk),2)"
   ]
  },
  {
   "cell_type": "code",
   "execution_count": null,
   "metadata": {
    "slideshow": {
     "slide_type": "slide"
    }
   },
   "outputs": [],
   "source": []
  },
  {
   "cell_type": "markdown",
   "metadata": {
    "slideshow": {
     "slide_type": "subslide"
    }
   },
   "source": [
    "ある決まりに則って区切られた文字列。"
   ]
  },
  {
   "cell_type": "code",
   "execution_count": null,
   "metadata": {
    "slideshow": {
     "slide_type": "subslide"
    }
   },
   "outputs": [],
   "source": [
    "trunk1 = \"横隔膜\t腰椎部：第1〜4腰椎の椎体前面、第12肋骨尖端,肋骨部：第7〜12肋軟骨の内面,胸骨部：胸骨の剣状突起後面\t腱中心\t横隔神経\t吸気筋（収縮すると胸腔が広がり、息を吸いこむ）\""
   ]
  },
  {
   "cell_type": "markdown",
   "metadata": {
    "slideshow": {
     "slide_type": "subslide"
    }
   },
   "source": [
    "**これらを読めるように（理解できるように）分割する。**<br>\n",
    "<font color=\"red\">**どうやってしますか？？？**</font>"
   ]
  },
  {
   "cell_type": "markdown",
   "metadata": {
    "slideshow": {
     "slide_type": "subslide"
    }
   },
   "source": [
    "次ぐらいの量あったらどうしますかぁ？？"
   ]
  },
  {
   "cell_type": "code",
   "execution_count": null,
   "metadata": {
    "slideshow": {
     "slide_type": "subslide"
    }
   },
   "outputs": [],
   "source": [
    "shoulder1 = \"棘上筋\t棘上窩\t大結節\t肩甲上神経\t肩関節の外転\\n棘下筋\t棘下窩\t大結節\t肩甲上神経\t肩関節の外旋\\n小円筋\t肩甲骨外側縁\t大結節\t腋窩神経\t肩関節の外旋\\n三角筋\t肩甲骨の肩峰・肩甲棘・鎖骨の外側1/3\t三角筋粗面\t腋窩神経\t肩関節の外転（側方挙上）、屈曲（前方挙上）、伸展（後方挙上）\\n肩甲下筋\t肩甲下窩\t小結節\t肩甲下神経\t肩関節の内旋\\n大円筋\t肩甲骨下角\t小結節稜\t肩甲下神経\t肩関節の内旋・内転\"\n",
    "shoulder2 = \"大胸筋\t鎖骨(内側1/2)・胸骨・肋軟骨・腹直筋鞘\t上腕骨大結節稜\t内側胸筋神経・外側胸筋神経\t肩関節の屈曲・内転・内旋\\n小胸筋\t第2〜5肋骨\t肩甲骨烏口突起\t内側胸筋神経・外側胸筋神経\t呼吸補助筋\\n鎖骨下筋\t第1肋骨\t鎖骨下面\t鎖骨下筋神経\t鎖骨を下内方に引き、胸鎖関節を保護する\\n前鋸筋 \t第1〜8肋骨\t肩甲骨内側縁\t長胸神経\t肩甲骨を前に引く。下角を前に引いて肩甲骨を回す\"\n",
    "trunk2 = \"腹直筋\t恥骨結合・恥骨\t第5〜7肋軟骨前面・剣状突起前面\t肋間神経\t体幹を前屈\\n錐体筋\t恥骨\t白線\t肋下神経・腸骨下腹神経\t腹直筋の働きを助ける\\n腰方形筋\t腸骨稜\t第12肋骨\t腰神経叢\t腰椎の側屈、両側が同時に働けば腰椎の後屈\"\n",
    "trunk3 = \"上後鋸筋\t第5頚椎〜第2胸椎の棘突起、項靭帯\t第2〜5肋骨\t肋間神経\t肋骨を引き上げる（吸息の補助筋）\\n下後鋸筋\t第10胸椎〜第2腰椎の棘突起\t第9〜12肋骨\t肋間神経\t肋骨を引き下げる（呼息の補助筋）\\n小後頭直筋\t第1頚椎（環椎）の後結節\t後頭骨の下項線の内側1/3部\t後頭下神経\t頭を後ろに引いて直立位に保持する。一側が働けば同側に曲がる。また下頭斜筋は同側に回す\\n(第1頚神経の後枝で学名のある脊髄神経後枝)\t後頭下神経\t頭を後ろに引いて直立位に保持する。一側が働けば同側に曲がる。また下頭斜筋は同側に回す\\大後頭直筋\t第2頚椎（軸椎）の棘突起\t後頭骨の下項線の中央部\t後頭下神経\t頭を後ろに引いて直立位に保持する。一側が働けば同側に曲がる。また下頭斜筋は同側に回す\\n上頭斜筋\t第1頚椎（環椎）の横突起\t上項線と下項線との間で頭半棘筋の外側の後頭骨\t後頭下神経\t頭を後ろに引いて直立位に保持する。一側が働けば同側に曲がる。また下頭斜筋は同側に回す\\n下頭斜筋\t第2頚椎（軸椎）の棘突起\t第1頚椎（環椎）の横突起\t後頭下神経\t頭を後ろに引いて直立位に保持する。一側が働けば同側に曲がる。また下頭斜筋は同側に回す\"\n",
    "scapula = \"僧帽筋\t外後頭隆起・項靭帯・棘突起（第7頚椎＋全胸椎）\t肩甲棘・肩峰・鎖骨外側1/3\t副神経・第2〜4頚神経\t上部は肩甲骨と鎖骨の挙上、中部は肩甲骨を内方に引き固定、下部は肩甲骨を回転し、上腕の挙上を助ける\\n広背筋\t棘突起（第7胸椎以下の胸椎・腰椎・仙骨）・腸骨稜・下位（第9〜12）肋骨・肩甲骨下角\t小結節稜\t胸背神経\t肩関節の内転・内旋さらに背部へ回るように働く\\n肩甲挙筋\t第1〜4頚椎横突起\t肩甲骨上角\t肩甲背神経\t肩甲骨を上内方に引く\\n小菱形筋\t第6・7胸椎棘突起\t肩甲骨内側縁上部\t肩甲背神経\t肩甲骨を上内方に引く\\n大菱形筋\t第1〜4胸椎棘突起\t肩甲骨内側縁\t肩甲背神経\t肩甲骨を上内方に引く\"\n",
    "UE3=\"短母指外転筋\t舟状骨・屈筋支帯\t母指基節骨底\t正中神経\t母指の外転\\n母指対立筋\t大菱形骨・屈筋支帯\t第1中手骨体の橈側縁\t正中神経\t母指の対立運動\\n短母指屈筋\t浅頭：屈筋支帯、深頭；大・小菱形骨・第2中手骨底\t母指基節骨底\t浅頭は正中神経、深頭は尺骨神経\t母指のMP関節の屈曲\\n母指内転筋\t横頭：第3中手骨手掌面、斜頭：有頭骨\t母指基節骨底\t尺骨神経\t母指の内転\\n短掌筋\t手掌腱膜の尺側縁\t小指球の皮膚\t尺骨神経\t小指球の尺側縁の皮膚の緊張\\n小指外転筋\t豆状骨・屈筋支帯\t小指基節骨底\t尺骨神経\t小指の外転\\n短小指屈筋\t有鈎骨・屈筋支帯\t小指基節骨底\t浅頭は正中神経、深頭は尺骨神経\t小指のMP関節の屈曲\\n小指対立筋\t有鈎骨・屈筋支帯\t第5中手骨の尺側縁\t尺骨神経\t小指が母指と向かい合うのを助ける\\n虫様筋\t4個の円柱状の小筋で、深指屈筋の腱から起こる。第1, 第2は第2, 第3指に至る腱の橈側から、第3, 第4はそれぞれ2頭をもって第3〜第5指に至る腱の相対する側から起こる\t扁平な腱となり、それぞれ第2〜5指基節骨底の橈側から指背腱膜に加わって終わる\t第1,2は正中神経第3,4は尺骨神経\t第2〜5指のMP関節を屈曲させ、IP関節の伸展を助ける\\n掌側骨間筋\t3個あり、第2中手骨の尺側と第4・5中手骨の橈側\t指背腱膜に加わり、それぞれ第2指の基節骨底尺側と第4・5指の基節骨底橈側に終わる\t尺骨神経\t第3指に全ての指を近づける（指の内転）\\n背側骨間筋\t4個あり、2頭をもって第1〜5中手骨の対向面より起こる\t第1・2背側骨間筋はそれぞれ第2・3指基節骨底の橈側に、第3・4背側骨間筋はそれぞれ第3・4指季節骨の尺側に終わる\t尺骨神経\t第3指を中心に指を開く（指の外転）\"\n",
    "UE=\"烏口腕筋\t烏口突起\t上腕骨体\t筋皮神経\t肩関節の屈曲・内転\\n上腕二頭筋\t長頭：関節上結節、短頭：烏口突起\t橈骨粗面\t筋皮神経\t肘関節の屈曲・前腕の回外\\n上腕筋\t上腕骨前面の下半部\t尺骨粗面\t筋皮神経\t肘関節の屈曲\\n上腕三頭筋\t長頭：関節下結節、外側頭：上腕骨外側面、内側頭：上腕骨後面\t肘頭\t橈骨神経\t肘関節の伸展\\n肘筋\t外側上顆\t尺骨上部後面\t橈骨神経\t肘関節の伸展\\n円回内筋\t上腕頭：内側上顆、尺骨頭：鈎状突起\t橈骨中部の外側面（円回内筋粗面）\t正中神経\t前腕の回内と肘関節の屈曲\\n橈側手根屈筋\t内側上顆\t第2・3中手骨底\t正中神経\t手関節の屈曲・外転（橈屈）\\n長掌筋\t内側上顆\t手掌腱膜\t正中神経\t手関節の屈曲\\n浅指屈筋\t上腕尺骨頭：内側上顆・尺骨粗面、橈骨頭：橈骨上部の前面\t第2〜5中節骨底\t尺骨神経\t第2〜5指のMP関節およびPIP関節を屈曲\\n尺側手根屈筋\t上腕頭：内側上顆、尺骨頭：尺骨上半部の後縁\t豆状骨（豆鈎靱帯を介して有鈎骨まで腱が伸びる）・第5中手骨底\t尺骨神経\t関節の屈曲と内転（尺屈）\"\n",
    "UE2=\"深指屈筋\t尺骨前面・前腕骨間膜\t第2〜5末節骨底\t橈側半は正中神経、尺骨半は尺骨神経\t第2〜5指のDIP関節を屈曲\\n長母指屈筋\t橈骨前面・前腕骨間膜\t母指末節骨底\t正中神経\t母指のMP・IP関節を屈曲\\n方形回内筋\t尺骨下部前面\t橈骨下部前面\t正中神経\t前腕の回内\\n腕橈骨筋\t上腕骨下部外側縁\t橈骨茎状突起\t橈骨神経\t肘関節の屈曲＊腕橈骨筋は伸筋群に属しているが、作用は屈筋であることに注意\\n長頭側手根伸筋\t外側上顆\t第2中手骨底\t橈骨神経\t手関節の伸展（背屈）と外転（橈屈）\\n短橈側手根伸筋\t外側上顆\t第3中手骨底\t橈骨神経\t手関節の伸展（背屈）と外転（橈屈）\\n総指伸筋\t外側上顆\t第2〜5指の中節骨と末節骨\t橈骨神経\t手関節の伸展（背屈）と第2〜5指の伸展\\n小指伸筋\t外側上顆\t第5指の指伸筋腱\t橈骨神経\t第5指の伸展\\n尺側手根伸筋\t外側上顆・尺骨後面\t第5中手骨底\t橈骨神経\t手関節の伸展と内転（尺屈）\\n回外筋\t外側上顆・尺骨回外筋稜\t橈骨上部外側面\t橈骨神経\t前腕の回外\\n長母指外転筋\t橈骨および尺骨の中央部後面・前腕骨間膜\t第1中手骨底\t橈骨神経\t母指の外転\\n短母指伸筋\t橈骨下部後面・前腕骨間膜\t母指基節骨底\t橈骨神経\t母指のMP関節の伸展\\n長母指伸筋\t尺骨後面・前腕骨間膜\t母指末節骨底\t橈骨神経\t母指のIP関節の伸展\\示指伸筋\t尺骨下部孔面・前腕骨間膜\t第2指の背側腱膜\t橈骨神経\t示指の伸展\"\n",
    "trunk4 = \"板状筋\t下位（第4〜7）頚椎および上位（第1〜5）胸椎の棘突起\t乳様突起（側頭骨）・第1〜2頚椎横突起\t脊髄神経後枝\t頭および脊柱の背屈と側屈\t脊髄神経後枝\t頭および脊柱の背屈と側屈\\n(脊柱起立筋)腸肋筋\t第3〜6肋骨上縁（頚腸肋筋）、下位6本の肋骨の上縁（腰腸肋筋の胸部）、腰背筋膜（腰腸肋筋の腰部）\t第4〜6頚椎の横突起（頚腸肋筋）、上位6本の肋骨の肋骨角（胸腸肋筋）、下位6本の肋骨の肋骨角（腰腸肋筋）\t脊髄神経後枝\t頭および脊柱の背屈と側屈\\n(脊柱起立筋)最長筋\t上位3胸椎と下位5頚椎の横突起（頭最長筋）、上位4〜5胸椎の横突起（頚最長筋）、第11・12胸椎の棘突起・ほとんどの腰椎・仙骨の後面（胸最長筋）\t側頭骨の乳様突起後縁（頭最長筋）、第2〜6頚椎の横突起（頚最長筋）、第3〜12胸椎の横突起と隣接する肋骨（胸最長筋）\t脊髄神経後枝\t頭および脊柱の背屈と側屈\\n(脊柱起立筋)棘筋\t頭半棘筋の一部（頭棘筋）、下位2頚椎と上位2胸椎の棘突起（頚棘筋）、下位2胸椎と上位2腰椎の棘突起（胸棘筋）\t頚半棘筋の内側縁に合するもの（頭棘筋）、第2〜4頚椎の棘突起（頚棘筋）、第2〜9胸椎の棘突起（胸半棘筋）\t脊髄神経後枝\t頭および脊柱の背屈と側屈\\n(横突棘筋)半棘筋\t下位3〜4頚椎棘突起、上位6胸椎の横突起（頭半棘筋）、上位6胸椎の横突起（頚半棘筋）、下位6胸椎の横突起（胸半棘筋）\t後頭骨の上項線と下項線の後頭鱗（頭半棘筋）、第2〜6頚椎の棘突起（頚半棘筋）、上位胸椎および下位2頚椎の棘突起（胸半棘筋）\t脊髄神経後枝\t頭および脊柱の背屈と側屈\\n(横突棘筋)多裂筋\t第4頚椎から仙骨背面に至る間の横突起\t2〜4個上位の棘突起\t脊髄神経後枝\t頭および脊柱の背屈と側屈\\n(横突棘筋)回旋筋\t椎骨（環椎を除く）の横突起\t1〜2個上位の椎骨の椎弓\t脊髄神経後枝\t頭および脊柱の背屈と側屈\"\n",
    "leg1 = \"腸骨筋\t腸骨窩\t小転子\t大腿神経\t股関節の屈曲、下肢を固定すると上半身は前に曲がる\\n大腰筋\t全腰椎の肋骨突起、第12胸椎〜第4腰椎の椎体と椎間円板\t小転子\t腰神経叢\t股関節の屈曲、下肢を固定すると上半身は前に曲がる\\n大殿筋\t腸骨外面（後殿筋線より後ろ）、仙骨後面、仙結節靭帯\t殿筋粗面、腸脛靭帯\t下殿神経\t股関節の伸展、腸脛靭帯を緊張させ膝関節を伸展させ直立姿勢を保つ、股関節の外転と外旋\\n中殿筋\t腸骨外面（前殿筋線と後殿筋線の間）\t大転子\t上殿神経\t股関節の外転、前部の筋は内旋\\n小殿筋\t腸骨外面（前殿筋線と下殿筋線の間）\t大転子\t上殿神経\t股関節の外転、内旋\\n大腿筋膜張筋\t上前腸骨棘\t腸脛靭帯\t上殿神経\t股関節の屈曲・外転・内旋、膝関節の伸展・外旋\"\n",
    "leg2 = \"縫工筋\t上前腸骨棘\t脛骨粗面の内側（鶩足）\t大腿神経\t股関節の屈曲・外転・外旋、膝関節の屈曲・内旋\\n大腿直筋\t下前腸骨棘\t４つの筋は合して膝蓋骨につき、膝蓋靱帯を経て脛骨粗面に終わる\t大腿神経\t膝関節の伸展、股関節の屈曲\\n外側広筋\t粗線外側唇\t４つの筋は合して膝蓋骨につき、膝蓋靱帯を経て脛骨粗面に終わる\t大腿神経\t膝関節の伸展\\n中間広筋\t大腿骨前面\t４つの筋は合して膝蓋骨につき、膝蓋靱帯を経て脛骨粗面に終わる\t大腿神経\t膝関節の伸展\\n内側広筋\t粗線内側唇\t４つの筋は合して膝蓋骨につき、膝蓋靱帯を経て脛骨粗面に終わる\t大腿神経\t膝関節の伸展\\n膝関節筋\t大腿骨下部前面\t膝関節包\t大腿神経\t膝関節の関節包を上方に引く\\n恥骨筋\t恥骨櫛\t恥骨筋線\t大腿神経\t股関節の内転・屈曲\\n長内転筋\t恥骨体\t粗線内側唇\t閉鎖神経\t股関節の内転・屈曲\\n短内転筋\t恥骨下枝\t粗線内側唇\t閉鎖神経\t股関節の内転・屈曲\\n大内転筋\t恥骨下枝・坐骨枝・坐骨結節\t粗線内側唇、内転筋結節\t閉鎖神経\t股関節の内転、筋の上方は股関節の屈曲、下方は伸展\\n薄筋\t恥骨下枝\t脛骨粗面の内側（鶩足）\t閉鎖神経\t股関節の内転、膝関節の屈曲・内旋\\n外閉鎖筋\t閉鎖膜の外面\t転子窩\t閉鎖神経\t股関節の外旋・内転\\n(大腿二頭筋)長頭\t坐骨結節\t腓骨頭\t坐骨神経（脛骨神経）\t股関節の伸展、膝関節の屈曲・外旋\\n(大腿二頭筋)短頭\t粗線外側唇\t腓骨頭\t坐骨神経（総腓骨神経）\t膝関節の屈曲・外旋\\n半腱様筋\t坐骨結節\t脛骨粗面の内側（鶩足）\t坐骨神経（脛骨神経）\t股関節の伸展、膝関節の屈曲・内旋\""
   ]
  },
  {
   "cell_type": "code",
   "execution_count": null,
   "metadata": {},
   "outputs": [],
   "source": []
  },
  {
   "cell_type": "markdown",
   "metadata": {
    "slideshow": {
     "slide_type": "slide"
    }
   },
   "source": [
    "# 課題_その1"
   ]
  },
  {
   "cell_type": "markdown",
   "metadata": {
    "slideshow": {
     "slide_type": "subslide"
    }
   },
   "source": [
    "## 文字列・数列の入力と簡単な計算"
   ]
  },
  {
   "cell_type": "markdown",
   "metadata": {
    "slideshow": {
     "slide_type": "subslide"
    }
   },
   "source": [
    "学籍番号"
   ]
  },
  {
   "cell_type": "markdown",
   "metadata": {
    "slideshow": {
     "slide_type": "subslide"
    }
   },
   "source": [
    "氏名"
   ]
  },
  {
   "cell_type": "markdown",
   "metadata": {
    "slideshow": {
     "slide_type": "subslide"
    }
   },
   "source": [
    "あなたは何歳ですか？"
   ]
  },
  {
   "cell_type": "code",
   "execution_count": null,
   "metadata": {
    "slideshow": {
     "slide_type": "subslide"
    }
   },
   "outputs": [],
   "source": [
    "11"
   ]
  },
  {
   "cell_type": "markdown",
   "metadata": {
    "slideshow": {
     "slide_type": "subslide"
    }
   },
   "source": [
    "あなたの親は何歳ですか？"
   ]
  },
  {
   "cell_type": "code",
   "execution_count": null,
   "metadata": {
    "slideshow": {
     "slide_type": "subslide"
    }
   },
   "outputs": [],
   "source": [
    "42"
   ]
  },
  {
   "cell_type": "markdown",
   "metadata": {
    "slideshow": {
     "slide_type": "subslide"
    }
   },
   "source": [
    "あなたは何年生まれですか？（元号）"
   ]
  },
  {
   "cell_type": "code",
   "execution_count": null,
   "metadata": {
    "slideshow": {
     "slide_type": "subslide"
    }
   },
   "outputs": [],
   "source": [
    "\"平成20年\""
   ]
  },
  {
   "cell_type": "markdown",
   "metadata": {
    "slideshow": {
     "slide_type": "subslide"
    }
   },
   "source": [
    "あなたの親は何年生まれですか？（元号）"
   ]
  },
  {
   "cell_type": "code",
   "execution_count": null,
   "metadata": {
    "slideshow": {
     "slide_type": "subslide"
    }
   },
   "outputs": [],
   "source": [
    "\"昭和52年\""
   ]
  },
  {
   "cell_type": "markdown",
   "metadata": {
    "slideshow": {
     "slide_type": "subslide"
    }
   },
   "source": [
    "年齢の差は何歳ですか？"
   ]
  },
  {
   "cell_type": "code",
   "execution_count": null,
   "metadata": {
    "scrolled": true,
    "slideshow": {
     "slide_type": "subslide"
    }
   },
   "outputs": [],
   "source": [
    "64-52-1+20"
   ]
  },
  {
   "cell_type": "markdown",
   "metadata": {
    "slideshow": {
     "slide_type": "slide"
    }
   },
   "source": [
    "## 日時の計算"
   ]
  },
  {
   "cell_type": "markdown",
   "metadata": {
    "slideshow": {
     "slide_type": "subslide"
    }
   },
   "source": [
    "1時間は何分か？"
   ]
  },
  {
   "cell_type": "code",
   "execution_count": null,
   "metadata": {},
   "outputs": [],
   "source": []
  },
  {
   "cell_type": "markdown",
   "metadata": {
    "slideshow": {
     "slide_type": "subslide"
    }
   },
   "source": [
    "1秒は何ミリ秒か？"
   ]
  },
  {
   "cell_type": "code",
   "execution_count": null,
   "metadata": {},
   "outputs": [],
   "source": []
  },
  {
   "cell_type": "markdown",
   "metadata": {
    "slideshow": {
     "slide_type": "subslide"
    }
   },
   "source": [
    "1分45秒は何ミリ秒か？"
   ]
  },
  {
   "cell_type": "code",
   "execution_count": null,
   "metadata": {},
   "outputs": [],
   "source": []
  },
  {
   "cell_type": "markdown",
   "metadata": {
    "slideshow": {
     "slide_type": "slide"
    }
   },
   "source": [
    "## うるう年の計算"
   ]
  },
  {
   "cell_type": "markdown",
   "metadata": {
    "slideshow": {
     "slide_type": "subslide"
    }
   },
   "source": [
    "うるう年は1868年を最初とすると、2020年は何回目のうるう年になる？？"
   ]
  },
  {
   "cell_type": "code",
   "execution_count": null,
   "metadata": {
    "slideshow": {
     "slide_type": "subslide"
    }
   },
   "outputs": [],
   "source": [
    "(2020-1868)//4"
   ]
  },
  {
   "cell_type": "markdown",
   "metadata": {
    "slideshow": {
     "slide_type": "slide"
    }
   },
   "source": [
    "## 日付の計算"
   ]
  },
  {
   "cell_type": "markdown",
   "metadata": {
    "slideshow": {
     "slide_type": "subslide"
    }
   },
   "source": [
    "うるう年以外は次のようになります。<br>"
   ]
  },
  {
   "cell_type": "markdown",
   "metadata": {
    "slideshow": {
     "slide_type": "subslide"
    }
   },
   "source": [
    "|月 | 日数|\n",
    "|----|----|\n",
    "|1|31|\n",
    "|2|28|\n",
    "|3|31|\n",
    "|4|30|\n",
    "|5|31|\n",
    "|6|30|\n",
    "|7|31|\n",
    "|8|31|\n",
    "|9|30|\n",
    "|10|31|\n",
    "|11|30|\n",
    "|12|31|"
   ]
  },
  {
   "cell_type": "markdown",
   "metadata": {
    "slideshow": {
     "slide_type": "subslide"
    }
   },
   "source": [
    "ある年の4月1日は金曜日でした。"
   ]
  },
  {
   "cell_type": "code",
   "execution_count": null,
   "metadata": {
    "slideshow": {
     "slide_type": "subslide"
    }
   },
   "outputs": [],
   "source": [
    "# 走らせましょう。\n",
    "m1 = 31\n",
    "m2 = 28\n",
    "m3 = 31\n",
    "m4 = 30\n",
    "m5 = 31\n",
    "m6 = 30\n",
    "m7 = 31\n",
    "m8 = 31\n",
    "m9 = 30\n",
    "m10 = 31\n",
    "m11 = 30\n",
    "m12 = 31"
   ]
  },
  {
   "cell_type": "markdown",
   "metadata": {
    "slideshow": {
     "slide_type": "subslide"
    }
   },
   "source": [
    "4月の最後は何曜日？"
   ]
  },
  {
   "cell_type": "code",
   "execution_count": null,
   "metadata": {
    "hide_input": false,
    "slideshow": {
     "slide_type": "subslide"
    }
   },
   "outputs": [],
   "source": [
    "#このセルに式を入力する"
   ]
  },
  {
   "cell_type": "markdown",
   "metadata": {
    "slideshow": {
     "slide_type": "subslide"
    }
   },
   "source": [
    "答え：（ココをクリックして答えを入れる。）"
   ]
  },
  {
   "cell_type": "markdown",
   "metadata": {
    "slideshow": {
     "slide_type": "subslide"
    }
   },
   "source": [
    "その年の8月の最初の月曜日は何日ですか？"
   ]
  },
  {
   "cell_type": "code",
   "execution_count": null,
   "metadata": {
    "hide_input": false,
    "scrolled": true,
    "slideshow": {
     "slide_type": "subslide"
    }
   },
   "outputs": [],
   "source": [
    "#このセルに式を入力する"
   ]
  },
  {
   "cell_type": "markdown",
   "metadata": {
    "slideshow": {
     "slide_type": "subslide"
    }
   },
   "source": [
    "答え：（ココをクリックして答えを入れる。）"
   ]
  },
  {
   "cell_type": "markdown",
   "metadata": {
    "slideshow": {
     "slide_type": "subslide"
    }
   },
   "source": [
    "その年の6月1日は何曜日？"
   ]
  },
  {
   "cell_type": "code",
   "execution_count": null,
   "metadata": {
    "hide_input": false,
    "scrolled": true,
    "slideshow": {
     "slide_type": "subslide"
    }
   },
   "outputs": [],
   "source": [
    "#このセルに式を入力する"
   ]
  },
  {
   "cell_type": "markdown",
   "metadata": {
    "slideshow": {
     "slide_type": "subslide"
    }
   },
   "source": [
    "答え：（ココをクリックして答えを入れる。）"
   ]
  },
  {
   "cell_type": "markdown",
   "metadata": {
    "slideshow": {
     "slide_type": "subslide"
    }
   },
   "source": [
    "その年の9月1日は何曜日？"
   ]
  },
  {
   "cell_type": "code",
   "execution_count": null,
   "metadata": {
    "hide_input": false,
    "scrolled": true,
    "slideshow": {
     "slide_type": "subslide"
    }
   },
   "outputs": [],
   "source": [
    "#このセルに式を入力する"
   ]
  },
  {
   "cell_type": "markdown",
   "metadata": {
    "slideshow": {
     "slide_type": "subslide"
    }
   },
   "source": [
    "答え：（ココをクリックして答えを入れる。）"
   ]
  },
  {
   "cell_type": "markdown",
   "metadata": {
    "slideshow": {
     "slide_type": "subslide"
    }
   },
   "source": [
    "その年の11月11日は何曜日？"
   ]
  },
  {
   "cell_type": "code",
   "execution_count": null,
   "metadata": {
    "hide_input": false,
    "scrolled": true,
    "slideshow": {
     "slide_type": "subslide"
    }
   },
   "outputs": [],
   "source": [
    "#このセルに式を入力する"
   ]
  },
  {
   "cell_type": "markdown",
   "metadata": {
    "slideshow": {
     "slide_type": "subslide"
    }
   },
   "source": [
    "答え：（ココをクリックして答えを入れる。）"
   ]
  },
  {
   "cell_type": "markdown",
   "metadata": {
    "slideshow": {
     "slide_type": "subslide"
    }
   },
   "source": [
    "その年のあなたの誕生日は何曜日？"
   ]
  },
  {
   "cell_type": "code",
   "execution_count": null,
   "metadata": {
    "slideshow": {
     "slide_type": "subslide"
    }
   },
   "outputs": [],
   "source": [
    "#ここに式をいれる"
   ]
  },
  {
   "cell_type": "markdown",
   "metadata": {
    "slideshow": {
     "slide_type": "subslide"
    }
   },
   "source": [
    "答え：（ココをクリックして答えを入れる。）"
   ]
  },
  {
   "cell_type": "markdown",
   "metadata": {
    "slideshow": {
     "slide_type": "slide"
    }
   },
   "source": [
    "**応用**"
   ]
  },
  {
   "cell_type": "markdown",
   "metadata": {
    "slideshow": {
     "slide_type": "subslide"
    }
   },
   "source": [
    "4年経過後、最初の7月1日は何曜日ですか？"
   ]
  },
  {
   "cell_type": "code",
   "execution_count": null,
   "metadata": {
    "slideshow": {
     "slide_type": "subslide"
    }
   },
   "outputs": [],
   "source": [
    "mm = m1+m2+m3+m4+m5+m6+m7+m8+m9+m10+m11+m12\n",
    "mm1 = m4+m5+m6\n",
    "print(((mm*4+1)+mm1)%7)"
   ]
  },
  {
   "cell_type": "code",
   "execution_count": null,
   "metadata": {},
   "outputs": [],
   "source": []
  },
  {
   "cell_type": "markdown",
   "metadata": {
    "slideshow": {
     "slide_type": "slide"
    }
   },
   "source": [
    "# 課題_その2"
   ]
  },
  {
   "cell_type": "markdown",
   "metadata": {
    "slideshow": {
     "slide_type": "subslide"
    }
   },
   "source": [
    "課題1でやった問題の延長である。リストの操作を勉強しよう。"
   ]
  },
  {
   "cell_type": "code",
   "execution_count": null,
   "metadata": {
    "slideshow": {
     "slide_type": "subslide"
    }
   },
   "outputs": [],
   "source": [
    "week = [\"mon\",\"tue\",\"wen\",\"thr\",\"fri\",\"sat\",\"sun\"]"
   ]
  },
  {
   "cell_type": "markdown",
   "metadata": {
    "slideshow": {
     "slide_type": "subslide"
    }
   },
   "source": [
    "weekの要素を繰り返す。それにオブジェクト名「week2」と与える。\n",
    "```\n",
    "[\"mon\",\"tue\",\"wen\",...,\"mon\",\"tue\",...,\"sat\",\"sun\"]\n",
    "```\n",
    "となるように。"
   ]
  },
  {
   "cell_type": "code",
   "execution_count": null,
   "metadata": {
    "slideshow": {
     "slide_type": "subslide"
    }
   },
   "outputs": [],
   "source": [
    "#ここに入力"
   ]
  },
  {
   "cell_type": "code",
   "execution_count": null,
   "metadata": {
    "hide_input": true,
    "slideshow": {
     "slide_type": "subslide"
    }
   },
   "outputs": [],
   "source": [
    "##\n",
    "week2 = week*2 "
   ]
  },
  {
   "cell_type": "markdown",
   "metadata": {
    "slideshow": {
     "slide_type": "subslide"
    }
   },
   "source": [
    "week2を木曜日（\"thr\"）から始まるリストを7つ分つくる。\n",
    "```\n",
    "[\"thr\",\"fri\",\"sat\",\"sun\",\"mon\",\"tue\",\"wen\"]\n",
    "```"
   ]
  },
  {
   "cell_type": "code",
   "execution_count": null,
   "metadata": {
    "hide_input": false,
    "slideshow": {
     "slide_type": "subslide"
    }
   },
   "outputs": [],
   "source": [
    "#ここに入力"
   ]
  },
  {
   "cell_type": "code",
   "execution_count": null,
   "metadata": {
    "hide_input": true,
    "slideshow": {
     "slide_type": "subslide"
    }
   },
   "outputs": [],
   "source": [
    "week3 = [week2[i] for i in range(0,0+7,1)]"
   ]
  },
  {
   "cell_type": "markdown",
   "metadata": {
    "hide_input": true,
    "slideshow": {
     "slide_type": "slide"
    }
   },
   "source": [
    "2030年10月10日は何曜日？？\n",
    "> 1.うるう年の数は？<br>\n",
    "> 2.年の数は？<br>\n",
    "> 3.該当年の日数<br>"
   ]
  },
  {
   "cell_type": "code",
   "execution_count": null,
   "metadata": {
    "hide_input": true,
    "slideshow": {
     "slide_type": "subslide"
    }
   },
   "outputs": [],
   "source": [
    "#うるう年1868年#\n",
    "p = 2030-1868\n",
    "q = 2019-1868\n",
    "uru = p//4-q//4"
   ]
  },
  {
   "cell_type": "code",
   "execution_count": null,
   "metadata": {
    "hide_input": true,
    "slideshow": {
     "slide_type": "subslide"
    }
   },
   "outputs": [],
   "source": [
    "toshi = (2030-2019)"
   ]
  },
  {
   "cell_type": "code",
   "execution_count": null,
   "metadata": {
    "hide_input": true,
    "slideshow": {
     "slide_type": "subslide"
    }
   },
   "outputs": [],
   "source": [
    "#年間の日数\n",
    "mm = m4+m5+m6+m7+m8+m9+m10+m11+m12+m1+m2+m3\n",
    "# 該当年の日数\n",
    "mm1 = m4+m5+m6+m7+m8+m9"
   ]
  },
  {
   "cell_type": "code",
   "execution_count": null,
   "metadata": {
    "hide_input": true,
    "slideshow": {
     "slide_type": "subslide"
    }
   },
   "outputs": [],
   "source": [
    "d = mm*toshi+uru+mm1+(10-1)"
   ]
  },
  {
   "cell_type": "code",
   "execution_count": null,
   "metadata": {
    "hide_input": true,
    "scrolled": true,
    "slideshow": {
     "slide_type": "subslide"
    }
   },
   "outputs": [],
   "source": [
    "d//7\n",
    "week3[d%7]"
   ]
  },
  {
   "cell_type": "markdown",
   "metadata": {
    "slideshow": {
     "slide_type": "slide"
    }
   },
   "source": [
    "# 課題_その3"
   ]
  },
  {
   "cell_type": "markdown",
   "metadata": {
    "slideshow": {
     "slide_type": "subslide"
    }
   },
   "source": [
    "def文を用いてまとめてみよう。<br>\n",
    "**パラメータは今日の日付（年・月・日・曜日）と該当する日の曜日**"
   ]
  },
  {
   "cell_type": "code",
   "execution_count": null,
   "metadata": {
    "slideshow": {
     "slide_type": "subslide"
    }
   },
   "outputs": [],
   "source": [
    "# 関数をここにつくる"
   ]
  },
  {
   "cell_type": "code",
   "execution_count": null,
   "metadata": {
    "slideshow": {
     "slide_type": "subslide"
    }
   },
   "outputs": [],
   "source": [
    "# テストしてみる"
   ]
  },
  {
   "cell_type": "markdown",
   "metadata": {},
   "source": [
    "# 課題_その4"
   ]
  },
  {
   "cell_type": "markdown",
   "metadata": {},
   "source": [
    "筋の起始，停止，作用，支配神経，髄節レベルについて，まとめる。<br>\n",
    "筋名を入れると，他の情報が表示されるようにしてみよう。<br>\n",
    "ここでは，辞書形式の使用例を理解する。<br>\n",
    "これは，グループ演習課題とする。"
   ]
  },
  {
   "cell_type": "code",
   "execution_count": null,
   "metadata": {},
   "outputs": [],
   "source": [
    "# 肩関節周囲のデータ\n",
    "shoulder = [\n",
    "    ['棘上筋', '棘上窩', '大結節', '肩甲上神経', '肩関節の外転'],\n",
    "    ['棘下筋', '棘下窩', '大結節', '肩甲上神経', '肩関節の外旋'],\n",
    "    ['小円筋', '肩甲骨外側縁', '大結節', '腋窩神経', '肩関節の外旋'],\n",
    "    ['三角筋','肩甲骨の肩峰・肩甲棘・鎖骨の外側1/3','三角筋粗面','腋窩神経','肩関節の外転（側方挙上）、屈曲（前方挙上）、伸展（後方挙上）'],\n",
    "    ['肩甲下筋', '肩甲下窩', '小結節', '肩甲下神経', '肩関節の内旋'],\n",
    "    ['大円筋', '肩甲骨下角', '小結節稜', '肩甲下神経', '肩関節の内旋・内転']\n",
    "    ]"
   ]
  },
  {
   "cell_type": "markdown",
   "metadata": {},
   "source": [
    "Musclesというオブジェクトに\n",
    "```\n",
    "{ID:{\"筋名\":...,\"起始\":....,\"停止\":....,\"神経\":....,\"作用\":....}}\n",
    "```\n",
    "のような形式を書き込んでいく。"
   ]
  },
  {
   "cell_type": "code",
   "execution_count": null,
   "metadata": {},
   "outputs": [],
   "source": [
    "## Musclesという辞書形式のオブジェクトを作成\n",
    "Muscles = {}"
   ]
  },
  {
   "cell_type": "code",
   "execution_count": null,
   "metadata": {},
   "outputs": [],
   "source": [
    "## 仮にmuscle ={\"筋名\":None,\"起始\":None,\"停止\":None,\"神経\":None,\"作用\":None}という空の辞書をつくる。\n",
    "muscle ={\"筋名\":None,\"起始\":None,\"停止\":None,\"神経\":None,\"作用\":None}"
   ]
  },
  {
   "cell_type": "code",
   "execution_count": null,
   "metadata": {},
   "outputs": [],
   "source": [
    "muscle[\"筋名\"]=shoulder[0][0]\n",
    "muscle[\"起始\"]=shoulder[0][1]\n",
    "## ....と続ける"
   ]
  },
  {
   "cell_type": "code",
   "execution_count": null,
   "metadata": {},
   "outputs": [],
   "source": [
    "## どうなっている？？\n",
    "muscle"
   ]
  },
  {
   "cell_type": "markdown",
   "metadata": {},
   "source": [
    "以上を参考にshoulderすべてのリストを同じように当てはめていき，Musclesにupdateしていこう！<br>\n",
    "これができれば，理学療法でもっとも大事な筋の勉強教材が出来上がる"
   ]
  },
  {
   "cell_type": "markdown",
   "metadata": {},
   "source": [
    "# 課題_その5"
   ]
  },
  {
   "cell_type": "markdown",
   "metadata": {},
   "source": [
    "for文を作成できる。<br>\n",
    ">課題1. 1,2,3,4,5をprint関数を使って表示する。<br>\n",
    ">課題2.　a,b,c,d,eをprint関数を使って表示する。<br>\n",
    ">課題3. range関数を使ってみよう。<br>\n",
    ">課題4. for文とenumerate関数を使い方を知る。<br>\n",
    ">課題5. zip関数を使ったfor文を作成する。< br> "
   ]
  },
  {
   "cell_type": "code",
   "execution_count": null,
   "metadata": {},
   "outputs": [],
   "source": [
    "# 課題1\n"
   ]
  },
  {
   "cell_type": "code",
   "execution_count": null,
   "metadata": {},
   "outputs": [],
   "source": [
    "#課題2"
   ]
  },
  {
   "cell_type": "code",
   "execution_count": null,
   "metadata": {},
   "outputs": [],
   "source": [
    "#課題3"
   ]
  },
  {
   "cell_type": "code",
   "execution_count": null,
   "metadata": {},
   "outputs": [],
   "source": [
    "#課題4"
   ]
  },
  {
   "cell_type": "code",
   "execution_count": null,
   "metadata": {},
   "outputs": [],
   "source": [
    "#課題5\n",
    "# zip関数は2つ以上の複数の同じ長さのリストなどのデータを使うときに使う。\n",
    "dat1 = [\"\",\"\",\"\",\"\",\"\"]\n",
    "dat2 = [\"\",\"\",\"\",\"\",\"\"]\n",
    "for  ?,?  in ???(dat1,dat2):\n",
    "    print(?,?)"
   ]
  },
  {
   "cell_type": "markdown",
   "metadata": {},
   "source": [
    "# 課題_その6"
   ]
  },
  {
   "cell_type": "markdown",
   "metadata": {},
   "source": [
    "if文の作成ができる。<br>\n",
    ">課題1. 宝塚太郎くんは何歳だと思いますか？という問いに対し，その答えを適当に入力。20歳だったら，「はい，そうです」という回答を，を表示する。<br>\n",
    ">課題2. 違ったときに何歳違うか，教える機能を追加する。<br>\n",
    ">課題3. あなたは男性・女性ですか？と質問する。<br>\n",
    ">課題4. <br>\n",
    ">課題5. <br>"
   ]
  },
  {
   "cell_type": "code",
   "execution_count": null,
   "metadata": {},
   "outputs": [],
   "source": [
    "# 課題1"
   ]
  },
  {
   "cell_type": "code",
   "execution_count": null,
   "metadata": {},
   "outputs": [],
   "source": [
    "# 課題2"
   ]
  },
  {
   "cell_type": "code",
   "execution_count": null,
   "metadata": {},
   "outputs": [],
   "source": []
  },
  {
   "cell_type": "code",
   "execution_count": null,
   "metadata": {},
   "outputs": [],
   "source": []
  },
  {
   "cell_type": "code",
   "execution_count": null,
   "metadata": {},
   "outputs": [],
   "source": []
  },
  {
   "cell_type": "code",
   "execution_count": null,
   "metadata": {},
   "outputs": [],
   "source": [
    "list(dat1.__iter__())"
   ]
  },
  {
   "cell_type": "code",
   "execution_count": null,
   "metadata": {},
   "outputs": [],
   "source": [
    "import random"
   ]
  },
  {
   "cell_type": "code",
   "execution_count": null,
   "metadata": {},
   "outputs": [],
   "source": [
    "Muscles = {}\n",
    "\n",
    "for k,i in enumerate(SG):\n",
    "    u = {\"筋名\":None,\"起始\":None,\"停止\":None,\"神経\":None,\"作用\":None}\n",
    "    u[\"筋名\"]=i[0]\n",
    "    u[\"起始\"]=i[1]\n",
    "    u[\"停止\"]=i[2]\n",
    "    u[\"神経\"]=i[3]\n",
    "    u[\"作用\"]=i[4]\n",
    "    kkk.update({k:u})\n",
    "\n",
    "\n",
    "#list(set(kkk.keys()))[4]"
   ]
  },
  {
   "cell_type": "code",
   "execution_count": null,
   "metadata": {},
   "outputs": [],
   "source": [
    "Muscle={}\n",
    "Origin = {1:\"上腕骨\",2:\"脛骨\"}\n",
    "Nurve = {\"\"}"
   ]
  },
  {
   "cell_type": "code",
   "execution_count": null,
   "metadata": {},
   "outputs": [],
   "source": [
    "M={\"僧帽筋\":None,\"肩甲挙筋\":None}"
   ]
  },
  {
   "cell_type": "code",
   "execution_count": null,
   "metadata": {},
   "outputs": [],
   "source": [
    "Muscle.update(M)"
   ]
  },
  {
   "cell_type": "code",
   "execution_count": null,
   "metadata": {},
   "outputs": [],
   "source": [
    "Muscle"
   ]
  },
  {
   "cell_type": "code",
   "execution_count": null,
   "metadata": {},
   "outputs": [],
   "source": [
    "a= \"筋名\t起始\t停止\t支配神経\t作用\"\n"
   ]
  },
  {
   "cell_type": "code",
   "execution_count": null,
   "metadata": {},
   "outputs": [],
   "source": [
    "a"
   ]
  },
  {
   "cell_type": "code",
   "execution_count": null,
   "metadata": {},
   "outputs": [],
   "source": [
    "Muscle.update({\"大胸筋\":[\"鎖骨(内側1/2)・胸骨・肋軟骨・腹直筋鞘\",\"上腕骨大結節稜\",\"内側胸筋神経・外側胸筋神経\",\"肩関節の屈曲・内転・内旋\"],\n",
    "\"小胸筋\":[\"第2〜5肋骨\",\"肩甲骨烏口突起\",\"内側胸筋神経・外側胸筋神経\",\"呼吸補助筋\"],\n",
    "\"鎖骨下筋\":[\"第1肋骨\",\"鎖骨下面\",\"鎖骨下筋神経\",\"鎖骨を下内方に引き、胸鎖関節を保護する\"],\n",
    "\"前鋸筋\" :[\"第1〜8肋骨\",\"肩甲骨内側縁\",\"長胸神経\",\"肩甲骨を前に引く。下角を前に引いて肩甲骨を回す\"]})"
   ]
  },
  {
   "cell_type": "code",
   "execution_count": null,
   "metadata": {},
   "outputs": [],
   "source": [
    "Muscle"
   ]
  },
  {
   "cell_type": "code",
   "execution_count": null,
   "metadata": {},
   "outputs": [],
   "source": [
    "Muscle"
   ]
  },
  {
   "cell_type": "code",
   "execution_count": null,
   "metadata": {},
   "outputs": [],
   "source": [
    "import random"
   ]
  },
  {
   "cell_type": "code",
   "execution_count": null,
   "metadata": {},
   "outputs": [],
   "source": [
    "l =[\"停止\",'起始','神経','作用']\n",
    "random.sample(l,4)[0]"
   ]
  },
  {
   "cell_type": "code",
   "execution_count": null,
   "metadata": {},
   "outputs": [],
   "source": [
    "b = [\"棘上筋\t棘上窩\t大結節\t肩甲上神経\t肩関節の外転\",\n",
    "\"棘下筋\t棘下窩\t大結節\t肩甲上神経\t肩関節の外旋\",\n",
    "\"小円筋\t肩甲骨外側縁\t大結節\t腋窩神経\t肩関節の外旋\",\n",
    "\"三角筋\t肩甲骨の肩峰・肩甲棘・鎖骨の外側1/3\t三角筋粗面\t腋窩神経\t肩関節の外転（側方挙上）、屈曲（前方挙上）、伸展（後方挙上）\",\n",
    "\"肩甲下筋\t肩甲下窩\t小結節\t肩甲下神経\t肩関節の内旋\",\n",
    "\"大円筋\t肩甲骨下角\t小結節稜\t肩甲下神経\t肩関節の内旋・内転\"]"
   ]
  },
  {
   "cell_type": "code",
   "execution_count": null,
   "metadata": {},
   "outputs": [],
   "source": [
    "bb = [i.split(\"\\t\") for i in b]"
   ]
  },
  {
   "cell_type": "code",
   "execution_count": null,
   "metadata": {},
   "outputs": [],
   "source": [
    "SG = bb.copy()"
   ]
  },
  {
   "cell_type": "code",
   "execution_count": null,
   "metadata": {},
   "outputs": [],
   "source": [
    "SG"
   ]
  },
  {
   "cell_type": "code",
   "execution_count": null,
   "metadata": {},
   "outputs": [],
   "source": [
    "\n",
    "#u = {\"筋名\":None,\"起始\":None,\"停止\":None,\"神経\":None,\"作用\":None}\n",
    "\n",
    "def list2dic(data):\n",
    "    dicdata = {}\n",
    "    for k,i in enumerate(data):\n",
    "        u = {\"筋名\":None,\"起始\":None,\"停止\":None,\"神経\":None,\"作用\":None}\n",
    "        u[\"筋名\"]=i[0]\n",
    "        u[\"起始\"]=i[1]\n",
    "        u[\"停止\"]=i[2]\n",
    "        u[\"神経\"]=i[3]\n",
    "        u[\"作用\"]=i[4]\n",
    "        dicdata.update({k:u})\n",
    "\n",
    "    return dicdata\n",
    "#list(set(kkk.keys()))[4]"
   ]
  },
  {
   "cell_type": "code",
   "execution_count": null,
   "metadata": {},
   "outputs": [],
   "source": [
    "list2dic(SG)"
   ]
  },
  {
   "cell_type": "code",
   "execution_count": null,
   "metadata": {},
   "outputs": [],
   "source": [
    "shoulder"
   ]
  },
  {
   "cell_type": "code",
   "execution_count": null,
   "metadata": {},
   "outputs": [],
   "source": [
    "l =[\"停止\",'起始','神経','作用']\n",
    "c = \"筋名\"\n",
    "ab=random.sample(l,4)[0]\n",
    "mm = random.choice(list(range(len(kkk))))\n",
    "for u,i in enumerate(list(kkk.keys())):\n",
    "    print(f\"{u+1}__{kkk[i][c]}\")\n",
    "tt = input(f'{ab}が{kkk[mm][ab]}の{c}:\\n')\n"
   ]
  },
  {
   "cell_type": "code",
   "execution_count": null,
   "metadata": {},
   "outputs": [],
   "source": [
    "import random\n",
    "select = 4\n",
    "answer = 0\n",
    "kkk = shoulder.copy()\n",
    "mm = random.sample(list(range(len(kkk))),len(kkk))\n",
    "l =[\"停止\",'起始','神経','作用']\n",
    "c = \"筋名\"\n",
    "\n",
    "for n in mm:\n",
    "    aaaa = []\n",
    "    bbbb = []\n",
    "    \n",
    "    # lのうち何を問う？\n",
    "    ab=random.choice(l)\n",
    "    \n",
    "    # 解答肢の選択\n",
    "    ccc = list(kkk.keys())\n",
    "    mm2 = random.sample(ccc,len(ccc))\n",
    "    for u,i in enumerate(mm2):\n",
    "        if kkk[n][ab]==kkk[i][ab]:\n",
    "            bbbb.append(i)\n",
    "            \n",
    "    # 選択肢の選択\n",
    "    for a in bbbb:\n",
    "        mm2.remove(a)\n",
    "        \n",
    "    samp = random.sample(mm2,2)   ##### 選択肢の数を変更する。\n",
    "    \n",
    "    # 選択肢の作成\n",
    "    for aa in bbbb:\n",
    "        ll = random.choice(range(len(samp)))\n",
    "        samp.insert(ll,aa)\n",
    "        \n",
    "    # 問題の作成\n",
    "    num = [samp.index(i)+1 for i in bbbb]\n",
    "    for uu,i in enumerate(samp):\n",
    "        aaaa.append(f\"{uu+1}__{kkk[i][c]}\")\n",
    "    #print(\"###\",samp,bbbb,num)######\n",
    "    print(\"\\n\".join(aaaa))\n",
    "    \n",
    "    # 問い\n",
    "    for st in range(len(num)):\n",
    "        if st==0:\n",
    "            string = f'Q:{ab}が\"{kkk[n][ab]}\"の{c}:\\n'\n",
    "        else:\n",
    "            string = f'それと・・・・:\\n'\n",
    "        tt = input(string) \n",
    "        if int(tt) in num:\n",
    "            num.remove(int(tt))\n",
    "        \n",
    "    \n",
    "    if len(num)==0:\n",
    "        print(\"正解!!!\")\n",
    "        answer = answer + 10\n",
    "            \n",
    "    else:\n",
    "        print(\"wrong\")\n",
    "        for i in bbbb:\n",
    "            print(f\"正解：{kkk[i][c]}\")\n",
    "    \n",
    "    input(\"Enter キーを押して次へ進む\\n\")\n",
    "    print(\"\\n\\n\") \n",
    "\n",
    "print(f\"今回の結果・・・・\\n {answer}  点！！\")"
   ]
  },
  {
   "cell_type": "code",
   "execution_count": null,
   "metadata": {},
   "outputs": [],
   "source": [
    "\n",
    "def ssss(qq,numbersel,l=[\"停止\",'起始','神経','作用'],c= \"筋名\"):\n",
    "    kkk = qq\n",
    "    answer = 0\n",
    "    mm = random.sample(list(range(len(kkk))),len(kkk))\n",
    "    for n in mm:\n",
    "        aaaa = []\n",
    "        bbbb = []\n",
    "        # 何を問う？\n",
    "        ab=random.choice(l)\n",
    "    \n",
    "        # 解答肢の選択\n",
    "        ccc = list(kkk.keys())\n",
    "        mm2 = random.sample(ccc,len(ccc))\n",
    "        for u,i in enumerate(mm2):\n",
    "            if kkk[n][ab]==kkk[i][ab]:\n",
    "                bbbb.append(i)\n",
    "            \n",
    "        # 選択肢の選択\n",
    "        for a in bbbb:\n",
    "            mm2.remove(a)\n",
    "        samp = random.sample(mm2,numbersel)   ##### 選択肢の数を変更する。\n",
    "    \n",
    "        # 選択肢の作成\n",
    "        for aa in bbbb:\n",
    "            ll = random.choice(range(len(samp)))\n",
    "            samp.insert(ll,aa)\n",
    "        \n",
    "        # 問題の作成\n",
    "        num = [samp.index(i)+1 for i in bbbb]\n",
    "        for uu,i in enumerate(samp):\n",
    "            aaaa.append(f\"{uu+1}__{kkk[i][c]}\")\n",
    "        #print(\"###\",samp,bbbb,num)######\n",
    "        print(\"\\n\".join(aaaa))\n",
    "    \n",
    "        # 問い\n",
    "        for st in range(len(num)):\n",
    "            if st==0:\n",
    "                string = f'Q:{ab}が\"{kkk[n][ab]}\"の{c}:\\n'\n",
    "            else:\n",
    "                string = f'それと・・・・:\\n'\n",
    "            tt = input(string) \n",
    "            if int(tt) in num:\n",
    "                num.remove(int(tt))\n",
    "        \n",
    "    \n",
    "        if len(num)==0:\n",
    "            print(\"正解!!!\")\n",
    "            answer = answer + 10\n",
    "            \n",
    "        else:\n",
    "            print(\"wrong\")\n",
    "            for i in bbbb:\n",
    "                print(f\"正解：{kkk[i][c]}\")\n",
    "    \n",
    "        input(\"Enter キーを押して次へ進む\\n\")\n",
    "        print(\"\\n\\n\") \n",
    "\n",
    "    print(f\"今回の結果・・・・\\n {answer}  点！！\")\n",
    "    return answer"
   ]
  },
  {
   "cell_type": "code",
   "execution_count": null,
   "metadata": {},
   "outputs": [],
   "source": [
    "ans = 0\n",
    "while 1:\n",
    "    if ssss(kkk,2)>=40:\n",
    "        break"
   ]
  },
  {
   "cell_type": "code",
   "execution_count": null,
   "metadata": {},
   "outputs": [],
   "source": []
  },
  {
   "cell_type": "code",
   "execution_count": null,
   "metadata": {},
   "outputs": [],
   "source": []
  },
  {
   "cell_type": "code",
   "execution_count": null,
   "metadata": {},
   "outputs": [],
   "source": [
    "t.insert(1,10)"
   ]
  },
  {
   "cell_type": "code",
   "execution_count": null,
   "metadata": {},
   "outputs": [],
   "source": [
    "t"
   ]
  },
  {
   "cell_type": "code",
   "execution_count": null,
   "metadata": {},
   "outputs": [],
   "source": [
    "     for u,i in enumerate(samp):\n",
    "        aaaa.append(f\"{i}__{kkk[i][c]}\")\n",
    "    aaaa.sort()\n",
    "    bbbb.sort()\n",
    "    bbbb2=bbbb.copy()\n",
    "    print(\"\\n\".join(aaaa))\n",
    "    \n",
    "\n",
    "    for num in range(len(bbbb)):\n",
    "        if num==0:\n",
    "            string = f'{ab}が\"{kkk[n][ab]}\"の{c}:\\n'\n",
    "        else:\n",
    "            string = f'それと・・・・:\\n'\n",
    "        tt = input(string) \n",
    "        if int(tt) in bbbb:\n",
    "            bbbb.remove(int(tt))\n",
    "        \n",
    "    \n",
    "    if len(bbbb)==0:\n",
    "        print(\"正解!!!\")\n",
    "        \n",
    "            \n",
    "    else:\n",
    "        print(\"wrong\")\n",
    "        sss =\"\"\n",
    "        for i in bbbb2:\n",
    "            print(f\"正解：{kkk[i][c]}\")\n",
    "    \n",
    "    input(\"Enter キーを押して次へ進む\\n\")\n",
    "    print(\"\\n\\n\")        \n"
   ]
  },
  {
   "cell_type": "code",
   "execution_count": null,
   "metadata": {},
   "outputs": [],
   "source": [
    "#########\n",
    "\n",
    "l =[\"停止\",'起始','神経','作用']\n",
    "mm = random.sample(list(range(len(kkk))),len(kkk))\n",
    "\n",
    "c = \"筋名\"\n",
    "\n",
    "for n in mm:\n",
    "    aaaa = []\n",
    "    bbbb = []\n",
    "    bbbb2 = []\n",
    "    ab=random.sample(l,4)[0]\n",
    "    mm2 = random.sample(list(kkk.keys()),len(list(kkk.keys())))\n",
    "    print(\"↓↓↓↓↓↓\")\n",
    "    for u,i in enumerate(mm2):\n",
    "        if kkk[n][ab]==kkk[i][ab]:\n",
    "            bbbb.append(i)\n",
    "        aaaa.append(f\"{i}__{kkk[i][c]}\")\n",
    "    aaaa.sort()\n",
    "    bbbb.sort()\n",
    "    bbbb2=bbbb.copy()\n",
    "    print(\"\\n\".join(aaaa))\n",
    "    #print(bbbb)\n",
    "    #print(kkk[n][c])\n",
    "    for num in range(len(bbbb)):\n",
    "        if num==0:\n",
    "            string = f'{ab}が\"{kkk[n][ab]}\"の{c}:\\n'\n",
    "        else:\n",
    "            string = f'それと・・・・:\\n'\n",
    "        tt = input(string)  \n",
    "        if int(tt) in bbbb:\n",
    "            bbbb.remove(int(tt))\n",
    "        \n",
    "    \n",
    "    if len(bbbb)==0:\n",
    "        print(\"success\")\n",
    "        print(f\"正解：{kkk[n][c]}\")\n",
    "            \n",
    "    else:\n",
    "        print(\"wrong\")\n",
    "        sss =\"\"\n",
    "        for i in bbbb2:\n",
    "            print(f\"正解：{kkk[i][c]}\")\n",
    "    \n",
    "    input(\"Enter キーを押して次へ進む\\n\")\n",
    "    print(\"\\n\\n\")\n",
    "    \n",
    "#############"
   ]
  },
  {
   "cell_type": "code",
   "execution_count": null,
   "metadata": {},
   "outputs": [],
   "source": [
    "b1 = [0,1,2]\n",
    "b1.remove(0)\n",
    "b1.remove(1)\n",
    "b1.remove(2)\n",
    "len(b1)"
   ]
  },
  {
   "cell_type": "code",
   "execution_count": null,
   "metadata": {
    "scrolled": true
   },
   "outputs": [],
   "source": [
    "for i in bb:\n",
    "    m2k.update({i[0]:i[1]})\n",
    "    m2t.update({i[0]:i[2]})\n",
    "    m2s.update({i[0]:i[3]})\n",
    "    m2x.update({i[0]:i[4]})\n",
    "\n",
    "rm2k = {v:k for k,v in m2k.items()}\n",
    "rm2t = {v:k for k,v in m2t.items()}\n",
    "rm2s = {v:k for k,v in m2s.items()}\n",
    "rm2x = {v:k for k,v in m2x.items()}"
   ]
  },
  {
   "cell_type": "code",
   "execution_count": null,
   "metadata": {
    "scrolled": true
   },
   "outputs": [],
   "source": [
    "muscle ={\"棘下筋\":rm2k[\"棘下筋\"]}"
   ]
  },
  {
   "cell_type": "code",
   "execution_count": null,
   "metadata": {},
   "outputs": [],
   "source": [
    "scapula = [i[1] for i in bb]"
   ]
  },
  {
   "cell_type": "code",
   "execution_count": null,
   "metadata": {},
   "outputs": [],
   "source": [
    "sca = {}\n",
    "for k,i in enumerate(scapula):\n",
    "    sca.update({k:i})"
   ]
  },
  {
   "cell_type": "code",
   "execution_count": null,
   "metadata": {},
   "outputs": [],
   "source": [
    "sca"
   ]
  },
  {
   "cell_type": "code",
   "execution_count": null,
   "metadata": {},
   "outputs": [],
   "source": [
    "ss = {\"小円筋\":(1,2,scapula[1])}"
   ]
  },
  {
   "cell_type": "code",
   "execution_count": null,
   "metadata": {},
   "outputs": [],
   "source": [
    "## def str2list(df):\n",
    "    tt = df.split(\"\\n\")\n",
    "    tt = [i.split(\"\\t\") for i in tt]\n",
    "    return tt\n",
    "\n",
    "def list2dic(data):\n",
    "    dicdata = {}\n",
    "    for k,i in enumerate(data):\n",
    "        u = {\"筋名\":None,\"起始\":None,\"停止\":None,\"神経\":None,\"作用\":None}\n",
    "        u[\"筋名\"]=i[0]\n",
    "        u[\"起始\"]=i[1]\n",
    "        u[\"停止\"]=i[2]\n",
    "        u[\"神経\"]=i[3]\n",
    "        u[\"作用\"]=i[4]\n",
    "        dicdata.update({k:u})\n",
    "\n",
    "    return dicdata"
   ]
  },
  {
   "cell_type": "code",
   "execution_count": null,
   "metadata": {},
   "outputs": [],
   "source": [
    "\n",
    "def ssss(qq,numbersel,l=[\"停止\",'起始','神経','作用'],c= \"筋名\"):\n",
    "    import random\n",
    "    kkk = qq\n",
    "    answer = 0\n",
    "    mm = random.sample(list(range(len(kkk))),len(kkk))\n",
    "    for n in mm:\n",
    "        aaaa = []\n",
    "        bbbb = []\n",
    "        # 何を問う？\n",
    "        ab=random.choice(l)\n",
    "    \n",
    "        # 解答肢の選択\n",
    "        ccc = list(kkk.keys())\n",
    "        mm2 = random.sample(ccc,len(ccc))\n",
    "        for u,i in enumerate(mm2):\n",
    "            if kkk[n][ab]==kkk[i][ab]:\n",
    "                bbbb.append(i)\n",
    "            \n",
    "        # 選択肢の選択\n",
    "        for a in bbbb:\n",
    "            mm2.remove(a)\n",
    "        samp = random.sample(mm2,numbersel)   ##### 選択肢の数を変更する。\n",
    "    \n",
    "        # 選択肢の作成\n",
    "        for aa in bbbb:\n",
    "            ll = random.choice(range(len(samp)))\n",
    "            samp.insert(ll,aa)\n",
    "        \n",
    "        # 問題の作成\n",
    "        num = [samp.index(i)+1 for i in bbbb]\n",
    "        for uu,i in enumerate(samp):\n",
    "            aaaa.append(f\"{uu+1}__{kkk[i][c]}\")\n",
    "        #print(\"###\",samp,bbbb,num)######\n",
    "        print(\"\\n\".join(aaaa))\n",
    "    \n",
    "        # 問い\n",
    "        for st in range(len(num)):\n",
    "            if st==0:\n",
    "                string = f'Q:{ab}が\"{kkk[n][ab]}\"の{c}:\\n'\n",
    "            else:\n",
    "                string = f'それと・・・・:\\n'\n",
    "            tt = input(string) \n",
    "            if int(tt) in num:\n",
    "                num.remove(int(tt))\n",
    "        \n",
    "    \n",
    "        if len(num)==0:\n",
    "            print(\"正解!!!\")\n",
    "            answer = answer + 10\n",
    "            \n",
    "        else:\n",
    "            print(\"wrong\")\n",
    "            for i in bbbb:\n",
    "                print(f\"正解：{kkk[i][c]}\")\n",
    "    \n",
    "        input(\"Enter キーを押して次へ進む\\n\")\n",
    "        print(\"\\n\\n\") \n",
    "\n",
    "    print(f\"今回の結果・・・・\\n {answer}  点！！\")\n",
    "    return answer"
   ]
  },
  {
   "cell_type": "code",
   "execution_count": null,
   "metadata": {},
   "outputs": [],
   "source": [
    "Trunk=[]\n",
    "Trunk.extend(str2list(trunk1))\n",
    "Trunk.extend(str2list(trunk2))\n",
    "Trunk.extend(str2list(trunk3))\n",
    "UperE1 = []\n",
    "UperE2 = []\n",
    "UperE1.extend(str2list(shoulder1))\n",
    "UperE1.extend(str2list(shoulder2))\n",
    "UperE1.extend(str2list(UE))\n",
    "UperE2.extend(str2list(UE2))\n",
    "UperE2.extend(str2list(UE3))"
   ]
  },
  {
   "cell_type": "code",
   "execution_count": null,
   "metadata": {
    "scrolled": true
   },
   "outputs": [],
   "source": [
    "ssss(list2dic(Trunk),2)"
   ]
  },
  {
   "cell_type": "code",
   "execution_count": null,
   "metadata": {},
   "outputs": [],
   "source": [
    "ss = shoulder2.split(\"\\n\")\n",
    "ss = [i.split(\"\\t\") for i in ss]"
   ]
  },
  {
   "cell_type": "code",
   "execution_count": null,
   "metadata": {},
   "outputs": [],
   "source": [
    "str2list(trunk1)"
   ]
  },
  {
   "cell_type": "code",
   "execution_count": null,
   "metadata": {},
   "outputs": [],
   "source": [
    "trunk1 = \"横隔膜\t腰椎部：第1〜4腰椎の椎体前面、第12肋骨尖端,肋骨部：第7〜12肋軟骨の内面,胸骨部：胸骨の剣状突起後面\t腱中心\t横隔神経\t吸気筋（収縮すると胸腔が広がり、息を吸いこむ）\"\n",
    "tt = trunk1.split(\"\\n\")\n",
    "tt = [i.split(\"\\t\") for i in tt]\n",
    "tt"
   ]
  },
  {
   "cell_type": "code",
   "execution_count": null,
   "metadata": {},
   "outputs": [],
   "source": []
  },
  {
   "cell_type": "code",
   "execution_count": null,
   "metadata": {},
   "outputs": [],
   "source": []
  },
  {
   "cell_type": "code",
   "execution_count": null,
   "metadata": {},
   "outputs": [],
   "source": []
  },
  {
   "cell_type": "code",
   "execution_count": null,
   "metadata": {},
   "outputs": [],
   "source": [
    "str2list(\"外腹斜筋\t第5〜12肋骨の外面\t腹直筋鞘・鼠径靭帯・腸骨稜\t肋間神経・腸骨下腹神経\t肋骨を引き下げ、脊柱を前屈,体幹をまわし、側屈,腹圧を高める\\n内腹斜筋\t胸腰筋膜・腸骨稜・鼠径靭帯\t第10〜12肋骨下縁・腹直筋鞘\t肋間神経・腸骨下腹神経\t肋骨を引き下げ、脊柱を前屈,体幹をまわし、側屈,腹圧を高める\\n腹横筋\t第7〜12肋軟骨内面・胸腰筋膜・腸骨稜・鼠径靭帯\t腹直筋鞘\t肋間神経・腸骨下腹神経\t肋骨を引き下げ、脊柱を前屈,体幹をまわし、側屈,腹圧を高める\")"
   ]
  },
  {
   "cell_type": "code",
   "execution_count": null,
   "metadata": {},
   "outputs": [],
   "source": [
    "str2list()"
   ]
  },
  {
   "cell_type": "code",
   "execution_count": null,
   "metadata": {},
   "outputs": [],
   "source": [
    "\"僧帽筋\t外後頭隆起・項靭帯・棘突起（第7頚椎＋全胸椎）\t肩甲棘・肩峰・鎖骨外側1/3\t副神経・第2〜4頚神経\t上部は肩甲骨と鎖骨の挙上、中部は肩甲骨を内方に引き固定、下部は肩甲骨を回転し、上腕の挙上を助ける\\n広背筋\t棘突起（第7胸椎以下の胸椎・腰椎・仙骨）・腸骨稜・下位（第9〜12）肋骨・肩甲骨下角\t小結節稜\t胸背神経\t肩関節の内転・内旋さらに背部へ回るように働く\""
   ]
  },
  {
   "cell_type": "code",
   "execution_count": null,
   "metadata": {},
   "outputs": [],
   "source": [
    "\"肩甲挙筋\t第1〜4頚椎横突起\t肩甲骨上角\t肩甲背神経\t肩甲骨を上内方に引く\\n小菱形筋\t第6・7胸椎棘突起\t肩甲骨内側縁上部\t肩甲背神経\t肩甲骨を上内方に引く\\n大菱形筋\t第1〜4胸椎棘突起\t肩甲骨内側縁\t肩甲背神経\t肩甲骨を上内方に引く\\n\""
   ]
  },
  {
   "cell_type": "code",
   "execution_count": null,
   "metadata": {},
   "outputs": [],
   "source": [
    "trunk3 = \"上後鋸筋\t第5頚椎〜第2胸椎の棘突起、項靭帯\t第2〜5肋骨\t肋間神経\t肋骨を引き上げる（吸息の補助筋）\\n下後鋸筋\t第10胸椎〜第2腰椎の棘突起\t第9〜12肋骨\t肋間神経\t肋骨を引き下げる（呼息の補助筋）\\n小後頭直筋\t第1頚椎（環椎）の後結節\t後頭骨の下項線の内側1/3部\t後頭下神経\t頭を後ろに引いて直立位に保持する。一側が働けば同側に曲がる。また下頭斜筋は同側に回す\\n(第1頚神経の後枝で学名のある脊髄神経後枝)\t後頭下神経\t頭を後ろに引いて直立位に保持する。一側が働けば同側に曲がる。また下頭斜筋は同側に回す\\大後頭直筋\t第2頚椎（軸椎）の棘突起\t後頭骨の下項線の中央部\t後頭下神経\t頭を後ろに引いて直立位に保持する。一側が働けば同側に曲がる。また下頭斜筋は同側に回す\\n上頭斜筋\t第1頚椎（環椎）の横突起\t上項線と下項線との間で頭半棘筋の外側の後頭骨\t後頭下神経\t頭を後ろに引いて直立位に保持する。一側が働けば同側に曲がる。また下頭斜筋は同側に回す\\n下頭斜筋\t第2頚椎（軸椎）の棘突起\t第1頚椎（環椎）の横突起\t後頭下神経\t頭を後ろに引いて直立位に保持する。一側が働けば同側に曲がる。また下頭斜筋は同側に回す\""
   ]
  },
  {
   "cell_type": "code",
   "execution_count": null,
   "metadata": {},
   "outputs": [],
   "source": [
    "\"小後頭直筋\t第1頚椎（環椎）の後結節\t後頭骨の下項線の内側1/3部\t後頭下神経\t頭を後ろに引いて直立位に保持する。一側が働けば同側に曲がる。また下頭斜筋は同側に回す\\n(第1頚神経の後枝で学名のある脊髄神経後枝)\t後頭下神経\t頭を後ろに引いて直立位に保持する。一側が働けば同側に曲がる。また下頭斜筋は同側に回す\\大後頭直筋\t第2頚椎（軸椎）の棘突起\t後頭骨の下項線の中央部\t後頭下神経\t頭を後ろに引いて直立位に保持する。一側が働けば同側に曲がる。また下頭斜筋は同側に回す\\n上頭斜筋\t第1頚椎（環椎）の横突起\t上項線と下項線との間で頭半棘筋の外側の後頭骨\t後頭下神経\t頭を後ろに引いて直立位に保持する。一側が働けば同側に曲がる。また下頭斜筋は同側に回す\\n下頭斜筋\t第2頚椎（軸椎）の棘突起\t第1頚椎（環椎）の横突起\t後頭下神経\t頭を後ろに引いて直立位に保持する。一側が働けば同側に曲がる。また下頭斜筋は同側に回す\""
   ]
  },
  {
   "cell_type": "code",
   "execution_count": null,
   "metadata": {},
   "outputs": [],
   "source": [
    "棘上窩\t棘上窩\t大結節\t肩甲上神経\t肩関節の外転\n",
    "棘下筋\t棘下窩\t大結節\t肩甲上神経\t肩関節の外旋\n",
    "小円筋\t肩甲骨外側縁\t大結節\t腋窩神経\t肩関節の外旋\n",
    "三角筋\t肩甲骨の肩峰・肩甲棘・鎖骨の外側1/3\t三角筋粗面\t腋窩神経\t肩関節の外転（側方挙上）、屈曲（前方挙上）、伸展（後方挙上）\n",
    "肩甲下筋\t肩甲下窩\t小結節\t肩甲下神経\t肩関節の内旋\n",
    "大円筋\t肩甲骨下角\t小結節稜\t肩甲下神経\t肩関節の内旋・内転"
   ]
  },
  {
   "cell_type": "code",
   "execution_count": null,
   "metadata": {},
   "outputs": [],
   "source": [
    "UE=\"烏口腕筋\t烏口突起\t上腕骨体\t筋皮神経\t肩関節の屈曲・内転\\n上腕二頭筋\t長頭：関節上結節、短頭：烏口突起\t橈骨粗面\t筋皮神経\t肘関節の屈曲・前腕の回外\\n上腕筋\t上腕骨前面の下半部\t尺骨粗面\t筋皮神経\t肘関節の屈曲\\n上腕三頭筋\t長頭：関節下結節、外側頭：上腕骨外側面、内側頭：上腕骨後面\t肘頭\t橈骨神経\t肘関節の伸展\\n肘筋\t外側上顆\t尺骨上部後面\t橈骨神経\t肘関節の伸展\\n円回内筋\t上腕頭：内側上顆、尺骨頭：鈎状突起\t橈骨中部の外側面（円回内筋粗面）\t正中神経\t前腕の回内と肘関節の屈曲\\n橈側手根屈筋\t内側上顆\t第2・3中手骨底\t正中神経\t手関節の屈曲・外転（橈屈）\\n長掌筋\t内側上顆\t手掌腱膜\t正中神経\t手関節の屈曲\\n浅指屈筋\t上腕尺骨頭：内側上顆・尺骨粗面、橈骨頭：橈骨上部の前面\t第2〜5中節骨底\t尺骨神経\t第2〜5指のMP関節およびPIP関節を屈曲\\n尺側手根屈筋\t上腕頭：内側上顆、尺骨頭：尺骨上半部の後縁\t豆状骨（豆鈎靱帯を介して有鈎骨まで腱が伸びる）・第5中手骨底\t尺骨神経\t関節の屈曲と内転（尺屈）\""
   ]
  },
  {
   "cell_type": "code",
   "execution_count": null,
   "metadata": {},
   "outputs": [],
   "source": [
    "UE2"
   ]
  },
  {
   "cell_type": "code",
   "execution_count": null,
   "metadata": {},
   "outputs": [],
   "source": [
    "UE2=\"深指屈筋\t尺骨前面・前腕骨間膜\t第2〜5末節骨底\t橈側半は正中神経、尺骨半は尺骨神経\t第2〜5指のDIP関節を屈曲\\n長母指屈筋\t橈骨前面・前腕骨間膜\t母指末節骨底\t正中神経\t母指のMP・IP関節を屈曲\\n方形回内筋\t尺骨下部前面\t橈骨下部前面\t正中神経\t前腕の回内\\n腕橈骨筋\t上腕骨下部外側縁\t橈骨茎状突起\t橈骨神経\t肘関節の屈曲＊腕橈骨筋は伸筋群に属しているが、作用は屈筋であることに注意\\n長頭側手根伸筋\t外側上顆\t第2中手骨底\t橈骨神経\t手関節の伸展（背屈）と外転（橈屈）\\n短橈側手根伸筋\t外側上顆\t第3中手骨底\t橈骨神経\t手関節の伸展（背屈）と外転（橈屈）\\n総指伸筋\t外側上顆\t第2〜5指の中節骨と末節骨\t橈骨神経\t手関節の伸展（背屈）と第2〜5指の伸展\\n小指伸筋\t外側上顆\t第5指の指伸筋腱\t橈骨神経\t第5指の伸展\\n尺側手根伸筋\t外側上顆・尺骨後面\t第5中手骨底\t橈骨神経\t手関節の伸展と内転（尺屈）\\n回外筋\t外側上顆・尺骨回外筋稜\t橈骨上部外側面\t橈骨神経\t前腕の回外\\n長母指外転筋\t橈骨および尺骨の中央部後面・前腕骨間膜\t第1中手骨底\t橈骨神経\t母指の外転\\n短母指伸筋\t橈骨下部後面・前腕骨間膜\t母指基節骨底\t橈骨神経\t母指のMP関節の伸展\\n長母指伸筋\t尺骨後面・前腕骨間膜\t母指末節骨底\t橈骨神経\t母指のIP関節の伸展\\示指伸筋\t尺骨下部孔面・前腕骨間膜\t第2指の背側腱膜\t橈骨神経\t示指の伸展\""
   ]
  },
  {
   "cell_type": "code",
   "execution_count": null,
   "metadata": {},
   "outputs": [],
   "source": []
  },
  {
   "cell_type": "code",
   "execution_count": null,
   "metadata": {},
   "outputs": [],
   "source": []
  },
  {
   "cell_type": "code",
   "execution_count": null,
   "metadata": {},
   "outputs": [],
   "source": []
  },
  {
   "cell_type": "code",
   "execution_count": null,
   "metadata": {},
   "outputs": [],
   "source": [
    "UE3=\"短母指外転筋\t舟状骨・屈筋支帯\t母指基節骨底\t正中神経\t母指の外転\\n母指対立筋\t大菱形骨・屈筋支帯\t第1中手骨体の橈側縁\t正中神経\t母指の対立運動\\n短母指屈筋\t浅頭：屈筋支帯、深頭；大・小菱形骨・第2中手骨底\t母指基節骨底\t浅頭は正中神経、深頭は尺骨神経\t母指のMP関節の屈曲\\n母指内転筋\t横頭：第3中手骨手掌面、斜頭：有頭骨\t母指基節骨底\t尺骨神経\t母指の内転\\n短掌筋\t手掌腱膜の尺側縁\t小指球の皮膚\t尺骨神経\t小指球の尺側縁の皮膚の緊張\\n小指外転筋\t豆状骨・屈筋支帯\t小指基節骨底\t尺骨神経\t小指の外転\\n短小指屈筋\t有鈎骨・屈筋支帯\t小指基節骨底\t浅頭は正中神経、深頭は尺骨神経\t小指のMP関節の屈曲\\n小指対立筋\t有鈎骨・屈筋支帯\t第5中手骨の尺側縁\t尺骨神経\t小指が母指と向かい合うのを助ける\\n虫様筋\t4個の円柱状の小筋で、深指屈筋の腱から起こる。第1, 第2は第2, 第3指に至る腱の橈側から、第3, 第4はそれぞれ2頭をもって第3〜第5指に至る腱の相対する側から起こる\t扁平な腱となり、それぞれ第2〜5指基節骨底の橈側から指背腱膜に加わって終わる\t第1,2は正中神経第3,4は尺骨神経\t第2〜5指のMP関節を屈曲させ、IP関節の伸展を助ける\\n掌側骨間筋\t3個あり、第2中手骨の尺側と第4・5中手骨の橈側\t指背腱膜に加わり、それぞれ第2指の基節骨底尺側と第4・5指の基節骨底橈側に終わる\t尺骨神経\t第3指に全ての指を近づける（指の内転）\\n背側骨間筋\t4個あり、2頭をもって第1〜5中手骨の対向面より起こる\t第1・2背側骨間筋はそれぞれ第2・3指基節骨底の橈側に、第3・4背側骨間筋はそれぞれ第3・4指季節骨の尺側に終わる\t尺骨神経\t第3指を中心に指を開く（指の外転）\""
   ]
  },
  {
   "cell_type": "code",
   "execution_count": null,
   "metadata": {},
   "outputs": [],
   "source": []
  },
  {
   "cell_type": "code",
   "execution_count": null,
   "metadata": {},
   "outputs": [],
   "source": []
  },
  {
   "cell_type": "code",
   "execution_count": null,
   "metadata": {},
   "outputs": [],
   "source": [
    "random.choice(range(11))"
   ]
  },
  {
   "cell_type": "code",
   "execution_count": null,
   "metadata": {},
   "outputs": [],
   "source": [
    "print(input(\"\"))"
   ]
  },
  {
   "cell_type": "code",
   "execution_count": null,
   "metadata": {},
   "outputs": [],
   "source": [
    "trunk4 = \"板状筋\t下位（第4〜7）頚椎および上位（第1〜5）胸椎の棘突起\t乳様突起（側頭骨）・第1〜2頚椎横突起\t脊髄神経後枝\t頭および脊柱の背屈と側屈\t脊髄神経後枝\t頭および脊柱の背屈と側屈\\n(脊柱起立筋)腸肋筋\t第3〜6肋骨上縁（頚腸肋筋）、下位6本の肋骨の上縁（腰腸肋筋の胸部）、腰背筋膜（腰腸肋筋の腰部）\t第4〜6頚椎の横突起（頚腸肋筋）、上位6本の肋骨の肋骨角（胸腸肋筋）、下位6本の肋骨の肋骨角（腰腸肋筋）\t脊髄神経後枝\t頭および脊柱の背屈と側屈\\n(脊柱起立筋)最長筋\t上位3胸椎と下位5頚椎の横突起（頭最長筋）、上位4〜5胸椎の横突起（頚最長筋）、第11・12胸椎の棘突起・ほとんどの腰椎・仙骨の後面（胸最長筋）\t側頭骨の乳様突起後縁（頭最長筋）、第2〜6頚椎の横突起（頚最長筋）、第3〜12胸椎の横突起と隣接する肋骨（胸最長筋）\t脊髄神経後枝\t頭および脊柱の背屈と側屈\\n(脊柱起立筋)棘筋\t頭半棘筋の一部（頭棘筋）、下位2頚椎と上位2胸椎の棘突起（頚棘筋）、下位2胸椎と上位2腰椎の棘突起（胸棘筋）\t頚半棘筋の内側縁に合するもの（頭棘筋）、第2〜4頚椎の棘突起（頚棘筋）、第2〜9胸椎の棘突起（胸半棘筋）\t脊髄神経後枝\t頭および脊柱の背屈と側屈\\n(横突棘筋)半棘筋\t下位3〜4頚椎棘突起、上位6胸椎の横突起（頭半棘筋）、上位6胸椎の横突起（頚半棘筋）、下位6胸椎の横突起（胸半棘筋）\t後頭骨の上項線と下項線の後頭鱗（頭半棘筋）、第2〜6頚椎の棘突起（頚半棘筋）、上位胸椎および下位2頚椎の棘突起（胸半棘筋）\t脊髄神経後枝\t頭および脊柱の背屈と側屈\\n(横突棘筋)多裂筋\t第4頚椎から仙骨背面に至る間の横突起\t2〜4個上位の棘突起\t脊髄神経後枝\t頭および脊柱の背屈と側屈\\n(横突棘筋)回旋筋\t椎骨（環椎を除く）の横突起\t1〜2個上位の椎骨の椎弓\t脊髄神経後枝\t頭および脊柱の背屈と側屈\"\n",
    "leg1 = \"腸骨筋\t腸骨窩\t小転子\t大腿神経\t股関節の屈曲、下肢を固定すると上半身は前に曲がる\\n大腰筋\t全腰椎の肋骨突起、第12胸椎〜第4腰椎の椎体と椎間円板\t小転子\t腰神経叢\t股関節の屈曲、下肢を固定すると上半身は前に曲がる\\n大殿筋\t腸骨外面（後殿筋線より後ろ）、仙骨後面、仙結節靭帯\t殿筋粗面、腸脛靭帯\t下殿神経\t股関節の伸展、腸脛靭帯を緊張させ膝関節を伸展させ直立姿勢を保つ、股関節の外転と外旋\\n中殿筋\t腸骨外面（前殿筋線と後殿筋線の間）\t大転子\t上殿神経\t股関節の外転、前部の筋は内旋\\n小殿筋\t腸骨外面（前殿筋線と下殿筋線の間）\t大転子\t上殿神経\t股関節の外転、内旋\\n大腿筋膜張筋\t上前腸骨棘\t腸脛靭帯\t上殿神経\t股関節の屈曲・外転・内旋、膝関節の伸展・外旋\"\n",
    "leg2 = \"縫工筋\t上前腸骨棘\t脛骨粗面の内側（鶩足）\t大腿神経\t股関節の屈曲・外転・外旋、膝関節の屈曲・内旋\\n大腿直筋\t下前腸骨棘\t４つの筋は合して膝蓋骨につき、膝蓋靱帯を経て脛骨粗面に終わる\t大腿神経\t膝関節の伸展、股関節の屈曲\\n外側広筋\t粗線外側唇\t４つの筋は合して膝蓋骨につき、膝蓋靱帯を経て脛骨粗面に終わる\t大腿神経\t膝関節の伸展\\n中間広筋\t大腿骨前面\t４つの筋は合して膝蓋骨につき、膝蓋靱帯を経て脛骨粗面に終わる\t大腿神経\t膝関節の伸展\\n内側広筋\t粗線内側唇\t４つの筋は合して膝蓋骨につき、膝蓋靱帯を経て脛骨粗面に終わる\t大腿神経\t膝関節の伸展\\n膝関節筋\t大腿骨下部前面\t膝関節包\t大腿神経\t膝関節の関節包を上方に引く\\n恥骨筋\t恥骨櫛\t恥骨筋線\t大腿神経\t股関節の内転・屈曲\\n長内転筋\t恥骨体\t粗線内側唇\t閉鎖神経\t股関節の内転・屈曲\\n短内転筋\t恥骨下枝\t粗線内側唇\t閉鎖神経\t股関節の内転・屈曲\\n大内転筋\t恥骨下枝・坐骨枝・坐骨結節\t粗線内側唇、内転筋結節\t閉鎖神経\t股関節の内転、筋の上方は股関節の屈曲、下方は伸展\\n薄筋\t恥骨下枝\t脛骨粗面の内側（鶩足）\t閉鎖神経\t股関節の内転、膝関節の屈曲・内旋\\n外閉鎖筋\t閉鎖膜の外面\t転子窩\t閉鎖神経\t股関節の外旋・内転\\n(大腿二頭筋)長頭\t坐骨結節\t腓骨頭\t坐骨神経（脛骨神経）\t股関節の伸展、膝関節の屈曲・外旋\\n(大腿二頭筋)短頭\t粗線外側唇\t腓骨頭\t坐骨神経（総腓骨神経）\t膝関節の屈曲・外旋\\n半腱様筋\t坐骨結節\t脛骨粗面の内側（鶩足）\t坐骨神経（脛骨神経）\t股関節の伸展、膝関節の屈曲・内旋\"\n",
    "leg3 = \"腓腹筋内側頭\t内側上顆\t両頭は合して踵骨腱をつくり踵骨隆起に終わる\t脛骨神経\t膝関節の屈曲、足関節の底屈\\n腓腹筋外側頭\t外側上顆\t両頭は合して踵骨腱をつくり踵骨隆起に終わる\t脛骨神経\t膝関節の屈曲、足関節の底屈\\nヒラメ筋\t腓骨頭・ヒラメ筋線\t両頭は合して踵骨腱をつくり踵骨隆起に終わる\t脛骨神経\t足関節の底屈\\n足底筋\t外側上顆\t踵骨腱の内側縁に癒合\t脛骨神経\t下腿三頭筋の働きを助ける\\n膝窩筋\t外側上顆\t脛骨上部後面（ヒラメ筋線の上）\t脛骨神経\t膝関節の屈曲・内旋\\n後脛骨筋\t下腿骨間膜の後面\t舟状骨・全楔状骨・立方骨・第2〜4中足骨底\t脛骨神経\t足関節の底屈・内反\\n長指屈筋（長趾屈筋）\t脛骨後面\t第2〜5指の末節骨底\t脛骨神経\t母指の屈曲、足関節の底屈・内反\\n長母指屈筋（長母趾屈筋）\t腓骨下部後面\t母指末節骨底\t脛骨神経\t母指の底屈、足関節の底屈・内反\"\n",
    "foot=\"短母指伸筋\t踵骨上面\t母指基節骨底\t深腓骨神経\t母指の伸展\\n短指伸筋\t踵骨上面\t第2〜4指の長指伸筋腱（趾背腱膜）に合して、中節骨・末節骨へ\t深腓骨神経\t第2〜4指の伸展\\n母指外転筋\t踵骨隆起\t母指の基節骨底\t内側足底神経\t母指の外転・屈曲\\n短母指屈筋\t外側楔状骨・立方骨\t内側足底神経\t母指の基節骨底\t母指の中足指節関節の屈曲\\n母指内転筋\t斜頭：第2〜4中足骨底横頭：第3〜5中足骨頭の底側にある靱帯\t母指の基節骨底\t外側足底神経\t母指の内転（第2指に近づける）、母指の中足指節関節の屈曲\\n小指外転筋\t踵骨隆起\t小指の基節骨底\t外側足底神経\t小指の外転・屈曲\\n短小指屈筋\t第5中足骨底、長腓骨筋の腱鞘\t外側足底神経\t小指の基節骨底\t小指の中足指節関節の屈曲\""
   ]
  },
  {
   "cell_type": "code",
   "execution_count": null,
   "metadata": {},
   "outputs": [],
   "source": [
    "foot\n"
   ]
  },
  {
   "cell_type": "code",
   "execution_count": null,
   "metadata": {},
   "outputs": [],
   "source": [
    "trunk1 = \"横隔膜\t腰椎部：第1〜4腰椎の椎体前面、第12肋骨尖端,肋骨部：第7〜12肋軟骨の内面,胸骨部：胸骨の剣状突起後面\t腱中心\t横隔神経\t吸気筋（収縮すると胸腔が広がり、息を吸いこむ）\"\n",
    "shoulder1 = \"棘上筋\t棘上窩\t大結節\t肩甲上神経\t肩関節の外転\\n棘下筋\t棘下窩\t大結節\t肩甲上神経\t肩関節の外旋\\n小円筋\t肩甲骨外側縁\t大結節\t腋窩神経\t肩関節の外旋\\n三角筋\t肩甲骨の肩峰・肩甲棘・鎖骨の外側1/3\t三角筋粗面\t腋窩神経\t肩関節の外転（側方挙上）、屈曲（前方挙上）、伸展（後方挙上）\\n肩甲下筋\t肩甲下窩\t小結節\t肩甲下神経\t肩関節の内旋\\n大円筋\t肩甲骨下角\t小結節稜\t肩甲下神経\t肩関節の内旋・内転\"\n",
    "shoulder2 = \"大胸筋\t鎖骨(内側1/2)・胸骨・肋軟骨・腹直筋鞘\t上腕骨大結節稜\t内側胸筋神経・外側胸筋神経\t肩関節の屈曲・内転・内旋\\n小胸筋\t第2〜5肋骨\t肩甲骨烏口突起\t内側胸筋神経・外側胸筋神経\t呼吸補助筋\\n鎖骨下筋\t第1肋骨\t鎖骨下面\t鎖骨下筋神経\t鎖骨を下内方に引き、胸鎖関節を保護する\\n前鋸筋 \t第1〜8肋骨\t肩甲骨内側縁\t長胸神経\t肩甲骨を前に引く。下角を前に引いて肩甲骨を回す\"\n",
    "trunk2 = \"腹直筋\t恥骨結合・恥骨\t第5〜7肋軟骨前面・剣状突起前面\t肋間神経\t体幹を前屈\\n錐体筋\t恥骨\t白線\t肋下神経・腸骨下腹神経\t腹直筋の働きを助ける\\n腰方形筋\t腸骨稜\t第12肋骨\t腰神経叢\t腰椎の側屈、両側が同時に働けば腰椎の後屈\"\n",
    "trunk3 = \"上後鋸筋\t第5頚椎〜第2胸椎の棘突起、項靭帯\t第2〜5肋骨\t肋間神経\t肋骨を引き上げる（吸息の補助筋）\\n下後鋸筋\t第10胸椎〜第2腰椎の棘突起\t第9〜12肋骨\t肋間神経\t肋骨を引き下げる（呼息の補助筋）\\n小後頭直筋\t第1頚椎（環椎）の後結節\t後頭骨の下項線の内側1/3部\t後頭下神経\t頭を後ろに引いて直立位に保持する。一側が働けば同側に曲がる。また下頭斜筋は同側に回す\\n(第1頚神経の後枝で学名のある脊髄神経後枝)\t後頭下神経\t頭を後ろに引いて直立位に保持する。一側が働けば同側に曲がる。また下頭斜筋は同側に回す\\大後頭直筋\t第2頚椎（軸椎）の棘突起\t後頭骨の下項線の中央部\t後頭下神経\t頭を後ろに引いて直立位に保持する。一側が働けば同側に曲がる。また下頭斜筋は同側に回す\\n上頭斜筋\t第1頚椎（環椎）の横突起\t上項線と下項線との間で頭半棘筋の外側の後頭骨\t後頭下神経\t頭を後ろに引いて直立位に保持する。一側が働けば同側に曲がる。また下頭斜筋は同側に回す\\n下頭斜筋\t第2頚椎（軸椎）の棘突起\t第1頚椎（環椎）の横突起\t後頭下神経\t頭を後ろに引いて直立位に保持する。一側が働けば同側に曲がる。また下頭斜筋は同側に回す\"\n",
    "scapula = \"僧帽筋\t外後頭隆起・項靭帯・棘突起（第7頚椎＋全胸椎）\t肩甲棘・肩峰・鎖骨外側1/3\t副神経・第2〜4頚神経\t上部は肩甲骨と鎖骨の挙上、中部は肩甲骨を内方に引き固定、下部は肩甲骨を回転し、上腕の挙上を助ける\\n広背筋\t棘突起（第7胸椎以下の胸椎・腰椎・仙骨）・腸骨稜・下位（第9〜12）肋骨・肩甲骨下角\t小結節稜\t胸背神経\t肩関節の内転・内旋さらに背部へ回るように働く\\n肩甲挙筋\t第1〜4頚椎横突起\t肩甲骨上角\t肩甲背神経\t肩甲骨を上内方に引く\\n小菱形筋\t第6・7胸椎棘突起\t肩甲骨内側縁上部\t肩甲背神経\t肩甲骨を上内方に引く\\n大菱形筋\t第1〜4胸椎棘突起\t肩甲骨内側縁\t肩甲背神経\t肩甲骨を上内方に引く\"\n",
    "UE3=\"短母指外転筋\t舟状骨・屈筋支帯\t母指基節骨底\t正中神経\t母指の外転\\n母指対立筋\t大菱形骨・屈筋支帯\t第1中手骨体の橈側縁\t正中神経\t母指の対立運動\\n短母指屈筋\t浅頭：屈筋支帯、深頭；大・小菱形骨・第2中手骨底\t母指基節骨底\t浅頭は正中神経、深頭は尺骨神経\t母指のMP関節の屈曲\\n母指内転筋\t横頭：第3中手骨手掌面、斜頭：有頭骨\t母指基節骨底\t尺骨神経\t母指の内転\\n短掌筋\t手掌腱膜の尺側縁\t小指球の皮膚\t尺骨神経\t小指球の尺側縁の皮膚の緊張\\n小指外転筋\t豆状骨・屈筋支帯\t小指基節骨底\t尺骨神経\t小指の外転\\n短小指屈筋\t有鈎骨・屈筋支帯\t小指基節骨底\t浅頭は正中神経、深頭は尺骨神経\t小指のMP関節の屈曲\\n小指対立筋\t有鈎骨・屈筋支帯\t第5中手骨の尺側縁\t尺骨神経\t小指が母指と向かい合うのを助ける\\n虫様筋\t4個の円柱状の小筋で、深指屈筋の腱から起こる。第1, 第2は第2, 第3指に至る腱の橈側から、第3, 第4はそれぞれ2頭をもって第3〜第5指に至る腱の相対する側から起こる\t扁平な腱となり、それぞれ第2〜5指基節骨底の橈側から指背腱膜に加わって終わる\t第1,2は正中神経第3,4は尺骨神経\t第2〜5指のMP関節を屈曲させ、IP関節の伸展を助ける\\n掌側骨間筋\t3個あり、第2中手骨の尺側と第4・5中手骨の橈側\t指背腱膜に加わり、それぞれ第2指の基節骨底尺側と第4・5指の基節骨底橈側に終わる\t尺骨神経\t第3指に全ての指を近づける（指の内転）\\n背側骨間筋\t4個あり、2頭をもって第1〜5中手骨の対向面より起こる\t第1・2背側骨間筋はそれぞれ第2・3指基節骨底の橈側に、第3・4背側骨間筋はそれぞれ第3・4指季節骨の尺側に終わる\t尺骨神経\t第3指を中心に指を開く（指の外転）\"\n",
    "UE=\"烏口腕筋\t烏口突起\t上腕骨体\t筋皮神経\t肩関節の屈曲・内転\\n上腕二頭筋\t長頭：関節上結節、短頭：烏口突起\t橈骨粗面\t筋皮神経\t肘関節の屈曲・前腕の回外\\n上腕筋\t上腕骨前面の下半部\t尺骨粗面\t筋皮神経\t肘関節の屈曲\\n上腕三頭筋\t長頭：関節下結節、外側頭：上腕骨外側面、内側頭：上腕骨後面\t肘頭\t橈骨神経\t肘関節の伸展\\n肘筋\t外側上顆\t尺骨上部後面\t橈骨神経\t肘関節の伸展\\n円回内筋\t上腕頭：内側上顆、尺骨頭：鈎状突起\t橈骨中部の外側面（円回内筋粗面）\t正中神経\t前腕の回内と肘関節の屈曲\\n橈側手根屈筋\t内側上顆\t第2・3中手骨底\t正中神経\t手関節の屈曲・外転（橈屈）\\n長掌筋\t内側上顆\t手掌腱膜\t正中神経\t手関節の屈曲\\n浅指屈筋\t上腕尺骨頭：内側上顆・尺骨粗面、橈骨頭：橈骨上部の前面\t第2〜5中節骨底\t尺骨神経\t第2〜5指のMP関節およびPIP関節を屈曲\\n尺側手根屈筋\t上腕頭：内側上顆、尺骨頭：尺骨上半部の後縁\t豆状骨（豆鈎靱帯を介して有鈎骨まで腱が伸びる）・第5中手骨底\t尺骨神経\t関節の屈曲と内転（尺屈）\"\n",
    "UE2=\"深指屈筋\t尺骨前面・前腕骨間膜\t第2〜5末節骨底\t橈側半は正中神経、尺骨半は尺骨神経\t第2〜5指のDIP関節を屈曲\\n長母指屈筋\t橈骨前面・前腕骨間膜\t母指末節骨底\t正中神経\t母指のMP・IP関節を屈曲\\n方形回内筋\t尺骨下部前面\t橈骨下部前面\t正中神経\t前腕の回内\\n腕橈骨筋\t上腕骨下部外側縁\t橈骨茎状突起\t橈骨神経\t肘関節の屈曲＊腕橈骨筋は伸筋群に属しているが、作用は屈筋であることに注意\\n長頭側手根伸筋\t外側上顆\t第2中手骨底\t橈骨神経\t手関節の伸展（背屈）と外転（橈屈）\\n短橈側手根伸筋\t外側上顆\t第3中手骨底\t橈骨神経\t手関節の伸展（背屈）と外転（橈屈）\\n総指伸筋\t外側上顆\t第2〜5指の中節骨と末節骨\t橈骨神経\t手関節の伸展（背屈）と第2〜5指の伸展\\n小指伸筋\t外側上顆\t第5指の指伸筋腱\t橈骨神経\t第5指の伸展\\n尺側手根伸筋\t外側上顆・尺骨後面\t第5中手骨底\t橈骨神経\t手関節の伸展と内転（尺屈）\\n回外筋\t外側上顆・尺骨回外筋稜\t橈骨上部外側面\t橈骨神経\t前腕の回外\\n長母指外転筋\t橈骨および尺骨の中央部後面・前腕骨間膜\t第1中手骨底\t橈骨神経\t母指の外転\\n短母指伸筋\t橈骨下部後面・前腕骨間膜\t母指基節骨底\t橈骨神経\t母指のMP関節の伸展\\n長母指伸筋\t尺骨後面・前腕骨間膜\t母指末節骨底\t橈骨神経\t母指のIP関節の伸展\\示指伸筋\t尺骨下部孔面・前腕骨間膜\t第2指の背側腱膜\t橈骨神経\t示指の伸展\"\n",
    "trunk4 = \"板状筋\t下位（第4〜7）頚椎および上位（第1〜5）胸椎の棘突起\t乳様突起（側頭骨）・第1〜2頚椎横突起\t脊髄神経後枝\t頭および脊柱の背屈と側屈\t脊髄神経後枝\t頭および脊柱の背屈と側屈\\n(脊柱起立筋)腸肋筋\t第3〜6肋骨上縁（頚腸肋筋）、下位6本の肋骨の上縁（腰腸肋筋の胸部）、腰背筋膜（腰腸肋筋の腰部）\t第4〜6頚椎の横突起（頚腸肋筋）、上位6本の肋骨の肋骨角（胸腸肋筋）、下位6本の肋骨の肋骨角（腰腸肋筋）\t脊髄神経後枝\t頭および脊柱の背屈と側屈\\n(脊柱起立筋)最長筋\t上位3胸椎と下位5頚椎の横突起（頭最長筋）、上位4〜5胸椎の横突起（頚最長筋）、第11・12胸椎の棘突起・ほとんどの腰椎・仙骨の後面（胸最長筋）\t側頭骨の乳様突起後縁（頭最長筋）、第2〜6頚椎の横突起（頚最長筋）、第3〜12胸椎の横突起と隣接する肋骨（胸最長筋）\t脊髄神経後枝\t頭および脊柱の背屈と側屈\\n(脊柱起立筋)棘筋\t頭半棘筋の一部（頭棘筋）、下位2頚椎と上位2胸椎の棘突起（頚棘筋）、下位2胸椎と上位2腰椎の棘突起（胸棘筋）\t頚半棘筋の内側縁に合するもの（頭棘筋）、第2〜4頚椎の棘突起（頚棘筋）、第2〜9胸椎の棘突起（胸半棘筋）\t脊髄神経後枝\t頭および脊柱の背屈と側屈\\n(横突棘筋)半棘筋\t下位3〜4頚椎棘突起、上位6胸椎の横突起（頭半棘筋）、上位6胸椎の横突起（頚半棘筋）、下位6胸椎の横突起（胸半棘筋）\t後頭骨の上項線と下項線の後頭鱗（頭半棘筋）、第2〜6頚椎の棘突起（頚半棘筋）、上位胸椎および下位2頚椎の棘突起（胸半棘筋）\t脊髄神経後枝\t頭および脊柱の背屈と側屈\\n(横突棘筋)多裂筋\t第4頚椎から仙骨背面に至る間の横突起\t2〜4個上位の棘突起\t脊髄神経後枝\t頭および脊柱の背屈と側屈\\n(横突棘筋)回旋筋\t椎骨（環椎を除く）の横突起\t1〜2個上位の椎骨の椎弓\t脊髄神経後枝\t頭および脊柱の背屈と側屈\"\n",
    "leg1 = \"腸骨筋\t腸骨窩\t小転子\t大腿神経\t股関節の屈曲、下肢を固定すると上半身は前に曲がる\\n大腰筋\t全腰椎の肋骨突起、第12胸椎〜第4腰椎の椎体と椎間円板\t小転子\t腰神経叢\t股関節の屈曲、下肢を固定すると上半身は前に曲がる\\n大殿筋\t腸骨外面（後殿筋線より後ろ）、仙骨後面、仙結節靭帯\t殿筋粗面、腸脛靭帯\t下殿神経\t股関節の伸展、腸脛靭帯を緊張させ膝関節を伸展させ直立姿勢を保つ、股関節の外転と外旋\\n中殿筋\t腸骨外面（前殿筋線と後殿筋線の間）\t大転子\t上殿神経\t股関節の外転、前部の筋は内旋\\n小殿筋\t腸骨外面（前殿筋線と下殿筋線の間）\t大転子\t上殿神経\t股関節の外転、内旋\\n大腿筋膜張筋\t上前腸骨棘\t腸脛靭帯\t上殿神経\t股関節の屈曲・外転・内旋、膝関節の伸展・外旋\"\n",
    "leg2 = \"縫工筋\t上前腸骨棘\t脛骨粗面の内側（鶩足）\t大腿神経\t股関節の屈曲・外転・外旋、膝関節の屈曲・内旋\\n大腿直筋\t下前腸骨棘\t４つの筋は合して膝蓋骨につき、膝蓋靱帯を経て脛骨粗面に終わる\t大腿神経\t膝関節の伸展、股関節の屈曲\\n外側広筋\t粗線外側唇\t４つの筋は合して膝蓋骨につき、膝蓋靱帯を経て脛骨粗面に終わる\t大腿神経\t膝関節の伸展\\n中間広筋\t大腿骨前面\t４つの筋は合して膝蓋骨につき、膝蓋靱帯を経て脛骨粗面に終わる\t大腿神経\t膝関節の伸展\\n内側広筋\t粗線内側唇\t４つの筋は合して膝蓋骨につき、膝蓋靱帯を経て脛骨粗面に終わる\t大腿神経\t膝関節の伸展\\n膝関節筋\t大腿骨下部前面\t膝関節包\t大腿神経\t膝関節の関節包を上方に引く\\n恥骨筋\t恥骨櫛\t恥骨筋線\t大腿神経\t股関節の内転・屈曲\\n長内転筋\t恥骨体\t粗線内側唇\t閉鎖神経\t股関節の内転・屈曲\\n短内転筋\t恥骨下枝\t粗線内側唇\t閉鎖神経\t股関節の内転・屈曲\\n大内転筋\t恥骨下枝・坐骨枝・坐骨結節\t粗線内側唇、内転筋結節\t閉鎖神経\t股関節の内転、筋の上方は股関節の屈曲、下方は伸展\\n薄筋\t恥骨下枝\t脛骨粗面の内側（鶩足）\t閉鎖神経\t股関節の内転、膝関節の屈曲・内旋\\n外閉鎖筋\t閉鎖膜の外面\t転子窩\t閉鎖神経\t股関節の外旋・内転\\n(大腿二頭筋)長頭\t坐骨結節\t腓骨頭\t坐骨神経（脛骨神経）\t股関節の伸展、膝関節の屈曲・外旋\\n(大腿二頭筋)短頭\t粗線外側唇\t腓骨頭\t坐骨神経（総腓骨神経）\t膝関節の屈曲・外旋\\n半腱様筋\t坐骨結節\t脛骨粗面の内側（鶩足）\t坐骨神経（脛骨神経）\t股関節の伸展、膝関節の屈曲・内旋\""
   ]
  }
 ],
 "metadata": {
  "celltoolbar": "Slideshow",
  "hide_input": false,
  "kernelspec": {
   "display_name": "Python 3",
   "language": "python",
   "name": "python3"
  },
  "language_info": {
   "codemirror_mode": {
    "name": "ipython",
    "version": 3
   },
   "file_extension": ".py",
   "mimetype": "text/x-python",
   "name": "python",
   "nbconvert_exporter": "python",
   "pygments_lexer": "ipython3",
   "version": "3.6.8"
  },
  "toc": {
   "base_numbering": 1,
   "nav_menu": {},
   "number_sections": true,
   "sideBar": true,
   "skip_h1_title": false,
   "title_cell": "Table of Contents",
   "title_sidebar": "Contents",
   "toc_cell": false,
   "toc_position": {
    "height": "calc(100% - 180px)",
    "left": "10px",
    "top": "150px",
    "width": "165px"
   },
   "toc_section_display": true,
   "toc_window_display": false
  }
 },
 "nbformat": 4,
 "nbformat_minor": 2
}
