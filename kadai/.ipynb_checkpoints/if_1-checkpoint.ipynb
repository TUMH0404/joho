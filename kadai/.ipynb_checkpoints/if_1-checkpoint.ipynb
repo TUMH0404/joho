{
 "cells": [
  {
   "cell_type": "markdown",
   "metadata": {},
   "source": [
    "### if文のまとめ"
   ]
  },
  {
   "cell_type": "markdown",
   "metadata": {},
   "source": [
    "#### if文の基本形\n",
    "\n",
    "`if [条件式1]:\n",
    "     [条件式1がTrueのときに行う処理]\n",
    " elif [条件式2]:\n",
    "     [条件式2がTrueのときに行う処理]\n",
    " elif [条件式3]:\n",
    "     [条件式3がTrueのときに行う処理]\n",
    " elif [条件式4]:\n",
    "     [条件式4がTrueのときに行う処理]\n",
    " elif [条件式5]:\n",
    "     [条件式5がTrueのときに行う処理]\n",
    " else:\n",
    "     [条件式1から5すべてがFalseのときに行う処理]`\n",
    " \n",
    "\n",
    "ポイント!!<br>\n",
    "**条件式には，必ず真偽値となる変数や値を入れる**"
   ]
  },
  {
   "cell_type": "markdown",
   "metadata": {},
   "source": [
    "#### 血圧の分類を表す関数を作り，データ収集をする。\n",
    "\n",
    "分類|収縮期|or|拡張期\n",
    "---|----|----|------\n",
    "至適血圧|<120|かつ|<80\n",
    "正常血圧|<130|かつ|<85\n",
    "正常高血圧|130〜139|または|85〜89\n",
    "Ⅰ高血圧|140〜159|または|90〜99\n",
    "Ⅱ度高血圧|160〜169|または|100〜109\n",
    "Ⅲ度高血圧|≧180|または|≧110\n",
    "収縮期高血圧|≧140|かつ|<90"
   ]
  },
  {
   "cell_type": "markdown",
   "metadata": {},
   "source": [
    "#### 血圧はリスク管理の一つであり，理学療法にとって非常に大事である。<br>上の表をもとに分類するコードを書いてみよう。"
   ]
  },
  {
   "cell_type": "markdown",
   "metadata": {},
   "source": [
    "Aさんの血圧を測ったら，収縮期血圧が143mmHg，拡張期の血圧が78mmHgであった。"
   ]
  },
  {
   "cell_type": "markdown",
   "metadata": {},
   "source": [
    "**本日のミッションーーー<br>if~elif~elseを使って血圧値からその人を分類せよ**\n",
    "1. 収縮期血圧の値(143)を変数名valueAに代入する。<br>\n",
    "`valueA = 143`<br><br>\n",
    "1. if~elif~elseの基本形を書く。\n",
    "<br>valueA=100<br>if valueA>=180:<br>&emsp; pass<br>elif valueA>=160:<br>&emsp; pass<br>else:<br>&emsp; pass<br>\n",
    "<br>\n",
    "1. valueAが〇〇のとき，□□血圧とprint関数で表示する。<br>\n",
    "<*print()の使い方の例示*> <br>\n",
    "print(f\"あなたは{*正常血圧*}です。\")<br><br>\n",
    "1. 同じように拡張期血圧も作る。"
   ]
  },
  {
   "cell_type": "code",
   "execution_count": null,
   "metadata": {},
   "outputs": [],
   "source": []
  }
 ],
 "metadata": {
  "kernelspec": {
   "display_name": "Python 3",
   "language": "python",
   "name": "python3"
  },
  "language_info": {
   "codemirror_mode": {
    "name": "ipython",
    "version": 3
   },
   "file_extension": ".py",
   "mimetype": "text/x-python",
   "name": "python",
   "nbconvert_exporter": "python",
   "pygments_lexer": "ipython3",
   "version": "3.6.8"
  },
  "toc": {
   "base_numbering": 1,
   "nav_menu": {},
   "number_sections": true,
   "sideBar": true,
   "skip_h1_title": false,
   "title_cell": "Table of Contents",
   "title_sidebar": "Contents",
   "toc_cell": false,
   "toc_position": {},
   "toc_section_display": true,
   "toc_window_display": true
  }
 },
 "nbformat": 4,
 "nbformat_minor": 2
}
