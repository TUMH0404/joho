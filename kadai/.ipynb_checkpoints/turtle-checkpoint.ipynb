{
 "cells": [
  {
   "cell_type": "markdown",
   "metadata": {},
   "source": [
    "簡単な絵を描く<br>"
   ]
  },
  {
   "cell_type": "markdown",
   "metadata": {},
   "source": [
    "描く前に，`import`について述べる。<br>\n",
    "あらかじめ，作られていたり，作ったモジュール（部品）を伸び出すときに使用する。<br>\n",
    "自分で作るのは大変なので，すでに作られたものを使用するのが間違いが少なく，一般的である。"
   ]
  },
  {
   "cell_type": "markdown",
   "metadata": {},
   "source": [
    "ここで使用する，`turtle`と，`random`を用いる。<br>\n",
    "[turtle](https://docs.python.org/ja/3.6/library/turtle.html)の参照ページ。<br>\n",
    "[ランダム](https://docs.python.org/ja/3.5/tutorial/index.html)など参照に。"
   ]
  },
  {
   "cell_type": "code",
   "execution_count": 1,
   "metadata": {},
   "outputs": [],
   "source": [
    "import turtle\n",
    "import random"
   ]
  },
  {
   "cell_type": "markdown",
   "metadata": {},
   "source": [
    "randomの基本的な使い方"
   ]
  },
  {
   "cell_type": "markdown",
   "metadata": {},
   "source": [
    " ランダムな選択をさせる"
   ]
  },
  {
   "cell_type": "code",
   "execution_count": 2,
   "metadata": {},
   "outputs": [
    {
     "data": {
      "text/plain": [
       "80"
      ]
     },
     "execution_count": 2,
     "metadata": {},
     "output_type": "execute_result"
    }
   ],
   "source": [
    "# 10〜1001の整数のうち，一つを選ぶ。\n",
    "random.randint(10,100)"
   ]
  },
  {
   "cell_type": "code",
   "execution_count": 3,
   "metadata": {},
   "outputs": [
    {
     "data": {
      "text/plain": [
       "'right'"
      ]
     },
     "execution_count": 3,
     "metadata": {},
     "output_type": "execute_result"
    }
   ],
   "source": [
    "# hokouのリストから一つ選ぶ。\n",
    "houkou = [\"left\",\"right\"]\n",
    "random.choice(houkou)"
   ]
  },
  {
   "cell_type": "code",
   "execution_count": 2,
   "metadata": {},
   "outputs": [],
   "source": [
    "# 亀をつくる\n",
    "t = turtle.Turtle()\n",
    "t.shape(\"turtle\")\n",
    "t.color(\"red\")"
   ]
  },
  {
   "cell_type": "code",
   "execution_count": 7,
   "metadata": {},
   "outputs": [],
   "source": [
    "# ペンをあげる。\n",
    "t.penup()"
   ]
  },
  {
   "cell_type": "code",
   "execution_count": 8,
   "metadata": {},
   "outputs": [],
   "source": [
    "# ペンをおろす。\n",
    "t.pendown()"
   ]
  },
  {
   "cell_type": "code",
   "execution_count": 10,
   "metadata": {},
   "outputs": [],
   "source": [
    "# 前進\n",
    "t.forward(100)"
   ]
  },
  {
   "cell_type": "code",
   "execution_count": null,
   "metadata": {},
   "outputs": [],
   "source": [
    "# 後進\n",
    "t.backward(200)"
   ]
  },
  {
   "cell_type": "code",
   "execution_count": null,
   "metadata": {},
   "outputs": [],
   "source": [
    "# 右に回転\n",
    "t.rt(60)"
   ]
  },
  {
   "cell_type": "code",
   "execution_count": null,
   "metadata": {},
   "outputs": [],
   "source": [
    "# 左に回転\n",
    "t.lt(90)"
   ]
  },
  {
   "cell_type": "code",
   "execution_count": null,
   "metadata": {},
   "outputs": [],
   "source": [
    "t.circle(100)"
   ]
  },
  {
   "cell_type": "code",
   "execution_count": 117,
   "metadata": {},
   "outputs": [],
   "source": [
    "# 原点に戻る\n",
    "t.home()"
   ]
  },
  {
   "cell_type": "code",
   "execution_count": 118,
   "metadata": {},
   "outputs": [],
   "source": [
    "# 線などが消える。\n",
    "t.clear()"
   ]
  },
  {
   "cell_type": "code",
   "execution_count": 3,
   "metadata": {},
   "outputs": [],
   "source": [
    "import math"
   ]
  },
  {
   "cell_type": "code",
   "execution_count": 17,
   "metadata": {},
   "outputs": [],
   "source": [
    "dat = []\n",
    "for i in range(30):\n",
    "\n",
    "    theta = i*2*math.pi/30\n",
    "    dat.append([math.cos(theta),math.sin(theta)])"
   ]
  },
  {
   "cell_type": "code",
   "execution_count": 2,
   "metadata": {},
   "outputs": [
    {
     "data": {
      "text/plain": [
       "100.0"
      ]
     },
     "execution_count": 2,
     "metadata": {},
     "output_type": "execute_result"
    }
   ],
   "source": [
    "math.cos(0*math.pi/180)*100"
   ]
  },
  {
   "cell_type": "code",
   "execution_count": 28,
   "metadata": {},
   "outputs": [
    {
     "name": "stdout",
     "output_type": "stream",
     "text": [
      "30.0\n"
     ]
    }
   ],
   "source": [
    "r = 100\n",
    "a=0\n",
    "\n",
    "\n",
    "##\n",
    "t.penup()\n",
    "t.goto(math.cos(a*math.pi/180)*r,math.sin(a*math.pi/180)*r)\n",
    "t.pendown()\n",
    "t.lt(90)\n",
    "t.goto(math.cos(a*math.pi/180)*r,math.sin(a*math.pi/180)*r)\n",
    "t.lt(60)\n",
    "t.goto(math.cos((a+120)*math.pi/180)*r,math.sin((a+120)*math.pi/180)*r)\n",
    "t.lt(120)\n",
    "t.goto(math.cos((a+2*120)*math.pi/180)*r,math.sin((a+2*120)*math.pi/180)*r)\n",
    "t.lt(120)\n",
    "t.goto(math.cos((a+3*120)*math.pi/180)*r,math.sin((a+3*120)*math.pi/180)*r)\n",
    "a = t.heading()\n",
    "print(a)\n",
    "t.penup()\n",
    "\n",
    "##\n",
    "\n",
    "t.lt(90)\n",
    "t.goto(math.cos(a*math.pi/180)*r,math.sin(a*math.pi/180)*r)\n",
    "t.pendown()\n",
    "t.lt(60)\n",
    "t.goto(math.cos((a+120)*math.pi/180)*r,math.sin((a+120)*math.pi/180)*r)\n",
    "t.lt(120)\n",
    "t.goto(math.cos((a+2*120)*math.pi/180)*r,math.sin((a+2*120)*math.pi/180)*r)\n",
    "t.lt(120)\n",
    "t.goto(math.cos((a+3*120)*math.pi/180)*r,math.sin((a+3*120)*math.pi/180)*r)\n",
    "a = t.heading()\n",
    "t.penup()\n",
    "\n",
    "##\n",
    "t.lt(90)\n",
    "t.goto(math.cos(a*math.pi/180)*r,math.sin(a*math.pi/180)*r)\n",
    "t.lt(60)\n",
    "t.pendown()\n",
    "t.goto(math.cos((a+120)*math.pi/180)*r,math.sin((a+120)*math.pi/180)*r)\n",
    "t.lt(120)\n",
    "t.goto(math.cos((a+2*120)*math.pi/180)*r,math.sin((a+2*120)*math.pi/180)*r)\n",
    "t.lt(120)\n",
    "t.goto(math.cos((a+3*120)*math.pi/180)*r,math.sin((a+3*120)*math.pi/180)*r)\n",
    "a = t.heading()\n",
    "t.penup()\n"
   ]
  },
  {
   "cell_type": "code",
   "execution_count": 115,
   "metadata": {},
   "outputs": [],
   "source": [
    "def func2(diff,a,r,i):\n",
    "    t.goto(math.cos(a*math.pi/180)*r,math.sin(a*math.pi/180)*r)\n",
    "    \n",
    "    t.pendown()\n",
    "    t.goto(math.cos((a+120)*math.pi/180)*r,math.sin((a+120)*math.pi/180)*r)\n",
    "    \n",
    "    t.goto(math.cos((a+2*120)*math.pi/180)*r,math.sin((a+2*120)*math.pi/180)*r)\n",
    "    \n",
    "    t.goto(math.cos((a+3*120)*math.pi/180)*r,math.sin((a+3*120)*math.pi/180)*r)\n",
    "    a = diff*i\n",
    "    print(a)\n",
    "    t.penup()\n",
    "    return a,r"
   ]
  },
  {
   "cell_type": "code",
   "execution_count": 119,
   "metadata": {},
   "outputs": [
    {
     "name": "stdout",
     "output_type": "stream",
     "text": [
      "10\n",
      "20\n",
      "30\n",
      "40\n",
      "50\n",
      "60\n",
      "70\n",
      "80\n",
      "90\n",
      "100\n",
      "110\n",
      "120\n"
     ]
    }
   ],
   "source": [
    "r = 100\n",
    "a=0\n",
    "\n",
    "for i in range(12):\n",
    "    a,r = func2(10,a,r,i+1)\n",
    "\n"
   ]
  },
  {
   "cell_type": "code",
   "execution_count": 91,
   "metadata": {},
   "outputs": [],
   "source": [
    "def func1(diff,a,r,i):\n",
    "    t.penup()\n",
    "    if a == 0:\n",
    "        t.lt(90)\n",
    "    else:\n",
    "        t.lt(90-abs(a))\n",
    "    t.goto(math.cos(a*math.pi/180)*r,math.sin(a*math.pi/180)*r)\n",
    "    t.lt(60)\n",
    "    t.pendown()\n",
    "    t.goto(math.cos((a+120)*math.pi/180)*r,math.sin((a+120)*math.pi/180)*r)\n",
    "    t.lt(120)\n",
    "    t.goto(math.cos((a+2*120)*math.pi/180)*r,math.sin((a+2*120)*math.pi/180)*r)\n",
    "    t.lt(120)\n",
    "    t.goto(math.cos((a+3*120)*math.pi/180)*r,math.sin((a+3*120)*math.pi/180)*r)\n",
    "    a = diff*i\n",
    "    print(a)\n",
    "    t.penup()\n",
    "    return a,r"
   ]
  },
  {
   "cell_type": "code",
   "execution_count": 49,
   "metadata": {},
   "outputs": [],
   "source": [
    "r = 100\n",
    "a=0"
   ]
  },
  {
   "cell_type": "code",
   "execution_count": 53,
   "metadata": {},
   "outputs": [
    {
     "name": "stdout",
     "output_type": "stream",
     "text": [
      "80.0\n"
     ]
    },
    {
     "data": {
      "text/plain": [
       "(80.0, 100)"
      ]
     },
     "execution_count": 53,
     "metadata": {},
     "output_type": "execute_result"
    }
   ],
   "source": [
    "func1(60,r,4)"
   ]
  },
  {
   "cell_type": "code",
   "execution_count": 69,
   "metadata": {},
   "outputs": [],
   "source": [
    "import random"
   ]
  },
  {
   "cell_type": "code",
   "execution_count": 135,
   "metadata": {},
   "outputs": [],
   "source": [
    "t.st()\n",
    "t.forward(50)\n",
    "t.pendown()\n",
    "t.rt(-90)\n",
    "t.circle(50)\n",
    "t.ht()"
   ]
  },
  {
   "cell_type": "code",
   "execution_count": 92,
   "metadata": {},
   "outputs": [],
   "source": [
    "\n",
    "t.pendown()\n",
    "t.circle(100)"
   ]
  },
  {
   "cell_type": "code",
   "execution_count": 136,
   "metadata": {},
   "outputs": [],
   "source": [
    "turn = [\"left\",\"right\"]\n",
    "for i in range(100):\n",
    "    tau = random.randint(2,8)\n",
    "    theta = random.randint(0,359)\n",
    "    turndirect = random.choice(turn)\n",
    "    if turndirect==\"left\":\n",
    "        ttl.lt(theta)\n",
    "    else:\n",
    "        ttl.rt(theta)\n",
    "     \n",
    "    ttl.forward(tau)\n",
    "    a,b = ttl.position()\n",
    "\n",
    "    dist = math.sqrt(a**2 + b**2)\n",
    "    \n",
    "    if dist>50:\n",
    "        ttl.backward(tau)\n",
    "        ttl.rt(180)\n",
    "        "
   ]
  },
  {
   "cell_type": "code",
   "execution_count": 88,
   "metadata": {},
   "outputs": [
    {
     "data": {
      "text/plain": [
       "0.0"
      ]
     },
     "execution_count": 88,
     "metadata": {},
     "output_type": "execute_result"
    }
   ],
   "source": [
    "ttl.distance(ttl.position())"
   ]
  },
  {
   "cell_type": "code",
   "execution_count": 76,
   "metadata": {},
   "outputs": [],
   "source": [
    "ttl.lt(theta)"
   ]
  },
  {
   "cell_type": "code",
   "execution_count": null,
   "metadata": {},
   "outputs": [],
   "source": []
  }
 ],
 "metadata": {
  "hide_input": false,
  "kernelspec": {
   "display_name": "Python 3",
   "language": "python",
   "name": "python3"
  },
  "language_info": {
   "codemirror_mode": {
    "name": "ipython",
    "version": 3
   },
   "file_extension": ".py",
   "mimetype": "text/x-python",
   "name": "python",
   "nbconvert_exporter": "python",
   "pygments_lexer": "ipython3",
   "version": "3.6.8"
  },
  "toc": {
   "base_numbering": 1,
   "nav_menu": {},
   "number_sections": true,
   "sideBar": true,
   "skip_h1_title": false,
   "title_cell": "Table of Contents",
   "title_sidebar": "Contents",
   "toc_cell": false,
   "toc_position": {},
   "toc_section_display": true,
   "toc_window_display": false
  }
 },
 "nbformat": 4,
 "nbformat_minor": 2
}
