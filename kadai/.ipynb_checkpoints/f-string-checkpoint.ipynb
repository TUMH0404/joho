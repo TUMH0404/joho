{
 "cells": [
  {
   "cell_type": "markdown",
   "metadata": {},
   "source": [
    "### f 文字列"
   ]
  },
  {
   "cell_type": "markdown",
   "metadata": {},
   "source": [
    "ある変数名に格納した値（str型，int型，float型）を変数名を用いて他の文字と組み合わせて文字として扱うことができる。"
   ]
  },
  {
   "cell_type": "code",
   "execution_count": 1,
   "metadata": {},
   "outputs": [],
   "source": [
    "a = \"tumh\"  # str型\n",
    "b = 10      # int型\n",
    "c = 11.45   # float型"
   ]
  },
  {
   "cell_type": "code",
   "execution_count": 2,
   "metadata": {
    "scrolled": true
   },
   "outputs": [
    {
     "name": "stdout",
     "output_type": "stream",
     "text": [
      "tumhは10年を迎えます\n",
      "tumhの入学倍率は11.45倍です\n"
     ]
    }
   ],
   "source": [
    "print(f\"{a}は{b}年を迎えます\")\n",
    "print(f'{a}の入学倍率は{c}倍です')"
   ]
  },
  {
   "cell_type": "code",
   "execution_count": 3,
   "metadata": {},
   "outputs": [
    {
     "name": "stdout",
     "output_type": "stream",
     "text": [
      "宝塚医療大学はtumhとも言います\n"
     ]
    }
   ],
   "source": [
    "a_str = f\"宝塚医療大学は{a}とも言います\"\n",
    "print(a_str)"
   ]
  },
  {
   "cell_type": "markdown",
   "metadata": {},
   "source": [
    "変数名を\n",
    "```\n",
    "f\"{a}\"\n",
    "```\n",
    "のように **{ }** で囲むだけです。"
   ]
  },
  {
   "cell_type": "markdown",
   "metadata": {},
   "source": [
    "Python3.6からの新機能である。<br>\n",
    "これで文字列操作が非常に簡単になった！！"
   ]
  }
 ],
 "metadata": {
  "kernelspec": {
   "display_name": "Python 3",
   "language": "python",
   "name": "python3"
  },
  "language_info": {
   "codemirror_mode": {
    "name": "ipython",
    "version": 3
   },
   "file_extension": ".py",
   "mimetype": "text/x-python",
   "name": "python",
   "nbconvert_exporter": "python",
   "pygments_lexer": "ipython3",
   "version": "3.6.8"
  },
  "toc": {
   "base_numbering": 1,
   "nav_menu": {},
   "number_sections": false,
   "sideBar": true,
   "skip_h1_title": false,
   "title_cell": "Table of Contents",
   "title_sidebar": "Contents",
   "toc_cell": false,
   "toc_position": {},
   "toc_section_display": true,
   "toc_window_display": false
  }
 },
 "nbformat": 4,
 "nbformat_minor": 2
}
