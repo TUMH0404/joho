{
 "cells": [
  {
   "cell_type": "markdown",
   "metadata": {},
   "source": [
    "学籍番号"
   ]
  },
  {
   "cell_type": "code",
   "execution_count": null,
   "metadata": {},
   "outputs": [],
   "source": []
  },
  {
   "cell_type": "markdown",
   "metadata": {},
   "source": [
    "氏名"
   ]
  },
  {
   "cell_type": "code",
   "execution_count": null,
   "metadata": {},
   "outputs": [],
   "source": []
  },
  {
   "cell_type": "markdown",
   "metadata": {},
   "source": [
    "トランプカードを作ってみる。"
   ]
  },
  {
   "cell_type": "markdown",
   "metadata": {},
   "source": [
    "問　すべての種類のカードを作成する。リストを用いよう。<br>\n",
    "例\n",
    "```\n",
    "card = [\"A_spade\",\"K_spade\",...,\"A_heart\",\"K_heart\",....,\"j1\",\"j2\"]\n",
    "```"
   ]
  },
  {
   "cell_type": "markdown",
   "metadata": {},
   "source": [
    "問　カードのmark，number，Jokerごとにリストにする。<br>\n",
    "```\n",
    "mark =[\"spade\",\"heart\",\"diamond\",\"club\"]\n",
    "num = [\"A\",\"K\",\"Q\",\"J\",\"X\",\"9\",\"8\",\"7\",\"6\",\"5\",\"4\",\"3\",\"2\"]\n",
    "Joker = [\"j1\",\"j2\"]\n",
    "```"
   ]
  },
  {
   "cell_type": "code",
   "execution_count": 280,
   "metadata": {},
   "outputs": [],
   "source": [
    "mark =[\"spade\",\"heart\",\"diamond\",\"club\"]\n",
    "num = [\"A\",\"K\",\"Q\",\"J\",\"X\",\"9\",\"8\",\"7\",\"6\",\"5\",\"4\",\"3\",\"2\"]\n",
    "Joker = [\"j1\",\"j2\"]"
   ]
  },
  {
   "cell_type": "code",
   "execution_count": null,
   "metadata": {},
   "outputs": [],
   "source": []
  },
  {
   "cell_type": "markdown",
   "metadata": {},
   "source": [
    "**トランプのセットを作る。** <br>\n",
    "- cardという空リストを作る。<br>\n",
    "- spadeの組を作り，それをcardに格納する。<br>\n",
    "- heartの組を作り，それをcardに格納する。<br>\n",
    "- diamondの組を作り，それをcardに格納する。<br>\n",
    "- diamondの組を作り，それをcardに格納する。<br>\n",
    "- Jokerを格納する。<br>\n",
    "- トランプなのでバラバラにしたい。<br>\n",
    "```\n",
    "import random\n",
    "```\n",
    "というライブラリを追加する。"
   ]
  },
  {
   "cell_type": "code",
   "execution_count": 7,
   "metadata": {},
   "outputs": [],
   "source": [
    "import random\n",
    "\n",
    "mark =[\"spade\",\"heart\",\"diamond\",\"club\"]\n",
    "num = [\"A\",\"K\",\"Q\",\"J\",\"X\",\"9\",\"8\",\"7\",\"6\",\"5\",\"4\",\"3\",\"2\"]\n",
    "Joker = [\"j1\",\"j2\"]\n",
    "\n",
    "card = []\n",
    "for i in mark:\n",
    "    for k in num:\n",
    "        card.append(f\"{k}_{i}\")\n",
    "\n",
    "card.append(Joker[0])\n",
    "\n",
    "for i in range(5):\n",
    "    random.shuffle(card)"
   ]
  },
  {
   "cell_type": "code",
   "execution_count": 8,
   "metadata": {},
   "outputs": [],
   "source": [
    "N = 4\n",
    "cc = {}\n",
    "for u in range(N):\n",
    "    cc.update({f\"p{u}\":[]})\n",
    "\n",
    "p = list(cc.keys())\n",
    "\n",
    "maisuu = int(len(card)//N)\n",
    "nokori = len(card)%N\n",
    "\n",
    "for kubaru in range(maisuu):\n",
    "    #random.shuffle(p)\n",
    "    a = random.sample(card,N)\n",
    "    for i,k in zip(p,a):\n",
    "        cc[i].append(k)\n",
    "        card.remove(k) \n",
    "\n",
    "## 残りのカードの処理\n",
    "## 誰に配る？\n",
    "morauhito = random.sample(p,nokori)\n",
    "for u,y in zip(morauhito,card):\n",
    "    cc[u].append(y)\n"
   ]
  },
  {
   "cell_type": "code",
   "execution_count": 9,
   "metadata": {},
   "outputs": [],
   "source": [
    "## 配られたカードを整理する\n",
    "def baba3(A):\n",
    "    c2 = A[:] ## 深いコピー\n",
    "    ## 並べ替え\n",
    "    c2.sort()\n",
    "    ## 数字を取り出す\n",
    "    c0 = [i[0] for i in c2]\n",
    "    # 集合してリスト化する\n",
    "    c1 = list(set(c0))\n",
    "    # ソートする\n",
    "    c1.sort()\n",
    "    \n",
    "    # 一枚もののカードを格納する空リストを作る。\n",
    "    single =[]\n",
    "    \n",
    "    # 数字を回して検索する\n",
    "    for i in c1:\n",
    "        # 念の為ソートする\n",
    "        c2.sort()\n",
    "        \n",
    "        # 同じものが複数ある時の処理。\n",
    "        # 一枚になれば，singleに追加する。\n",
    "        gg0 = c0.count(i)//2\n",
    "        gg1 = c0.count(i)%2\n",
    "        if gg0==1 and gg1 == 0:\n",
    "            del c2[:2]\n",
    "            \n",
    "        elif gg0==2 and gg1==0:\n",
    "            del c2[:4]\n",
    "            #print(\"b\")\n",
    "        elif gg0==1 and gg1==1:\n",
    "            del c2[:2]\n",
    "            single.append(c2[0])\n",
    "            del c2[0]\n",
    "            #print(\"c\")\n",
    "        elif gg0==0 and gg1 ==1:\n",
    "            single.append(c2[0])\n",
    "            del c2[0]\n",
    "            #print(\"d\")\n",
    "    \n",
    "    return single\n",
    "\n",
    "\n",
    "## カードのやりとり\n",
    "def pickup(me,you):\n",
    "    random.shuffle(you)\n",
    "    if len(you)==0:\n",
    "        print(\"youの長さがゼロです\")\n",
    "        \n",
    "        return 0,0\n",
    "    else:\n",
    "        a = list(range(len(you)))\n",
    "    \n",
    "        ii = random.sample(a,1)[0]\n",
    "    \n",
    "        me.append(you[ii])\n",
    "        del you[ii]\n",
    "        \n",
    "        return baba3(me),you"
   ]
  },
  {
   "cell_type": "code",
   "execution_count": 10,
   "metadata": {},
   "outputs": [
    {
     "name": "stdout",
     "output_type": "stream",
     "text": [
      "{'p0': ['3_heart', '5_heart', '7_spade', 'K_diamond', 'Q_club', 'X_heart'], 'p1': ['5_spade', '8_heart', '9_spade', 'A_diamond', 'X_diamond'], 'p2': ['3_diamond', '4_spade', '6_heart', 'X_spade', 'j1'], 'p3': ['4_club', '6_spade', '7_heart', '8_spade', '9_club', 'A_spade', 'K_spade', 'Q_spade', 'X_club']}\n"
     ]
    }
   ],
   "source": [
    "## カードを整理する\n",
    "for i in cc:\n",
    "    cc[i] = baba3(cc[i])\n",
    "\n",
    "## 中身確認    \n",
    "print(cc)"
   ]
  },
  {
   "cell_type": "code",
   "execution_count": 11,
   "metadata": {},
   "outputs": [],
   "source": [
    "pp=cc.copy()"
   ]
  },
  {
   "cell_type": "code",
   "execution_count": 12,
   "metadata": {},
   "outputs": [
    {
     "name": "stdout",
     "output_type": "stream",
     "text": [
      "{'p0': ['3_heart', '7_spade', 'K_diamond', 'Q_club', 'X_heart'], 'p1': ['X_diamond', '9_spade', 'A_diamond', '8_heart'], 'p2': ['3_diamond', '4_spade', '6_heart', 'X_spade', 'j1'], 'p3': ['4_club', '6_spade', '7_heart', '8_spade', '9_club', 'A_spade', 'K_spade', 'Q_spade', 'X_club']}\n",
      "{'p0': ['3_heart', '7_spade', 'K_diamond', 'Q_club', 'X_heart'], 'p1': ['4_spade', '8_heart', '9_spade', 'A_diamond', 'X_diamond'], 'p2': ['6_heart', 'X_spade', 'j1', '3_diamond'], 'p3': ['4_club', '6_spade', '7_heart', '8_spade', '9_club', 'A_spade', 'K_spade', 'Q_spade', 'X_club']}\n",
      "{'p0': ['3_heart', '7_spade', 'K_diamond', 'Q_club', 'X_heart'], 'p1': ['4_spade', '8_heart', '9_spade', 'A_diamond', 'X_diamond'], 'p2': ['3_diamond', '4_club', '6_heart', 'X_spade', 'j1'], 'p3': ['9_club', '6_spade', 'Q_spade', 'X_club', '8_spade', 'A_spade', 'K_spade', '7_heart']}\n",
      "{'p0': ['3_heart', 'X_heart', '7_spade', 'K_diamond'], 'p1': ['4_spade', '8_heart', '9_spade', 'A_diamond', 'X_diamond'], 'p2': ['3_diamond', '4_club', '6_heart', 'X_spade', 'j1'], 'p3': ['6_spade', '7_heart', '8_spade', '9_club', 'A_spade', 'K_spade', 'X_club']}\n",
      "test:4\n",
      "{'p0': ['3_heart', '7_spade', 'K_diamond'], 'p1': ['A_diamond', '4_spade', '9_spade', '8_heart'], 'p2': ['3_diamond', '4_club', '6_heart', 'X_spade', 'j1'], 'p3': ['6_spade', '7_heart', '8_spade', '9_club', 'A_spade', 'K_spade', 'X_club']}\n",
      "{'p0': ['3_heart', '7_spade', 'K_diamond'], 'p1': ['3_diamond', '4_spade', '8_heart', '9_spade', 'A_diamond'], 'p2': ['4_club', '6_heart', 'X_spade', 'j1'], 'p3': ['6_spade', '7_heart', '8_spade', '9_club', 'A_spade', 'K_spade', 'X_club']}\n",
      "{'p0': ['3_heart', '7_spade', 'K_diamond'], 'p1': ['3_diamond', '4_spade', '8_heart', '9_spade', 'A_diamond'], 'p2': ['4_club', '6_heart', 'j1'], 'p3': ['K_spade', '9_club', '8_spade', '6_spade', '7_heart', 'A_spade']}\n",
      "{'p0': ['7_spade', '3_heart'], 'p1': ['3_diamond', '4_spade', '8_heart', '9_spade', 'A_diamond'], 'p2': ['4_club', '6_heart', 'j1'], 'p3': ['6_spade', '7_heart', '8_spade', '9_club', 'A_spade']}\n",
      "test:4\n",
      "{'p0': ['3_heart', '4_spade', '7_spade'], 'p1': ['A_diamond', '8_heart', '9_spade', '3_diamond'], 'p2': ['4_club', '6_heart', 'j1'], 'p3': ['6_spade', '7_heart', '8_spade', '9_club', 'A_spade']}\n",
      "{'p0': ['3_heart', '4_spade', '7_spade'], 'p1': ['3_diamond', '4_club', '8_heart', '9_spade', 'A_diamond'], 'p2': ['j1', '6_heart'], 'p3': ['6_spade', '7_heart', '8_spade', '9_club', 'A_spade']}\n",
      "{'p0': ['3_heart', '4_spade', '7_spade'], 'p1': ['3_diamond', '4_club', '8_heart', '9_spade', 'A_diamond'], 'p2': ['6_heart', '8_spade', 'j1'], 'p3': ['9_club', 'A_spade', '6_spade', '7_heart']}\n",
      "{'p0': ['3_heart', '7_spade'], 'p1': ['3_diamond', '4_club', '8_heart', '9_spade', 'A_diamond'], 'p2': ['6_heart', '8_spade', 'j1'], 'p3': ['4_spade', '6_spade', '7_heart', '9_club', 'A_spade']}\n",
      "test:4\n",
      "{'p0': ['3_heart', '7_spade', 'A_diamond'], 'p1': ['4_club', '3_diamond', '8_heart', '9_spade'], 'p2': ['6_heart', '8_spade', 'j1'], 'p3': ['4_spade', '6_spade', '7_heart', '9_club', 'A_spade']}\n",
      "{'p0': ['3_heart', '7_spade', 'A_diamond'], 'p1': ['3_diamond', '4_club', '8_heart', '9_spade', 'j1'], 'p2': ['8_spade', '6_heart'], 'p3': ['4_spade', '6_spade', '7_heart', '9_club', 'A_spade']}\n",
      "{'p0': ['3_heart', '7_spade', 'A_diamond'], 'p1': ['3_diamond', '4_club', '8_heart', '9_spade', 'j1'], 'p2': ['6_heart', '8_spade', '9_club'], 'p3': ['A_spade', '4_spade', '6_spade', '7_heart']}\n",
      "{'p0': ['A_diamond', '7_spade'], 'p1': ['3_diamond', '4_club', '8_heart', '9_spade', 'j1'], 'p2': ['6_heart', '8_spade', '9_club'], 'p3': ['3_heart', '4_spade', '6_spade', '7_heart', 'A_spade']}\n",
      "test:4\n",
      "{'p0': ['7_spade', 'A_diamond', 'j1'], 'p1': ['8_heart', '3_diamond', '4_club', '9_spade'], 'p2': ['6_heart', '8_spade', '9_club'], 'p3': ['3_heart', '4_spade', '6_spade', '7_heart', 'A_spade']}\n",
      "{'p0': ['7_spade', 'A_diamond', 'j1'], 'p1': ['3_diamond', '4_club', '9_spade'], 'p2': ['6_heart', '9_club'], 'p3': ['3_heart', '4_spade', '6_spade', '7_heart', 'A_spade']}\n",
      "{'p0': ['7_spade', 'A_diamond', 'j1'], 'p1': ['3_diamond', '4_club', '9_spade'], 'p2': ['9_club'], 'p3': ['7_heart', '3_heart', '4_spade', 'A_spade']}\n",
      "{'p0': ['A_diamond', 'j1'], 'p1': ['3_diamond', '4_club', '9_spade'], 'p2': ['9_club'], 'p3': ['3_heart', '4_spade', 'A_spade']}\n",
      "test:4\n",
      "{'p0': ['3_diamond', 'A_diamond', 'j1'], 'p1': ['9_spade', '4_club'], 'p2': ['9_club'], 'p3': ['3_heart', '4_spade', 'A_spade']}\n",
      "{'p0': ['3_diamond', 'A_diamond', 'j1'], 'p1': ['4_club'], 'p2': [], 'p3': ['3_heart', '4_spade', 'A_spade']}\n",
      "{'p0': ['A_diamond', 'j1'], 'p1': ['4_club'], 'p2': [], 'p3': ['4_spade', 'A_spade']}\n",
      "test:3\n",
      "{'p0': ['4_club', 'A_diamond', 'j1'], 'p1': [], 'p3': ['4_spade', 'A_spade']}\n",
      "{'p0': ['4_club', 'j1'], 'p1': [], 'p3': ['4_spade']}\n",
      "test:2\n",
      "{'p0': ['j1'], 'p3': []}\n",
      "test:1\n",
      "['p2', 'p1', 'p3', 'p0']\n"
     ]
    }
   ],
   "source": [
    "goal = []\n",
    "while 1:\n",
    "    menbers = list(pp.keys())\n",
    "    for ite,i in enumerate(menbers):\n",
    "        if ite+1 == len(menbers):\n",
    "            me = menbers[ite]\n",
    "            you = menbers[0]\n",
    "\n",
    "        else:\n",
    "            me = menbers[ite]\n",
    "            you =menbers[ite+1]\n",
    "        \n",
    "        if len(pp[me])==0:\n",
    "            continue\n",
    "    \n",
    "        else:\n",
    "            A,B = pickup(pp[me],pp[you])\n",
    "            if A!=0 and B!=0:\n",
    "                pp[me] = A\n",
    "                pp[you] = B\n",
    "            \n",
    "            else:\n",
    "                continue\n",
    "        print(pp)\n",
    "    \n",
    "\n",
    "    for u in list(pp.keys()):\n",
    "        if len(pp[u])==0:\n",
    "            goal.append(u)\n",
    "            del pp[u]\n",
    "        \n",
    "        else:\n",
    "            continue\n",
    "    \n",
    "    print(f\"test:{len(pp)}\")\n",
    "    \n",
    "    if len(pp)==1:\n",
    "        goal.extend(list(pp.keys()))\n",
    "        print(goal)\n",
    "        break"
   ]
  },
  {
   "cell_type": "code",
   "execution_count": null,
   "metadata": {},
   "outputs": [],
   "source": []
  }
 ],
 "metadata": {
  "kernelspec": {
   "display_name": "Python 3",
   "language": "python",
   "name": "python3"
  },
  "language_info": {
   "codemirror_mode": {
    "name": "ipython",
    "version": 3
   },
   "file_extension": ".py",
   "mimetype": "text/x-python",
   "name": "python",
   "nbconvert_exporter": "python",
   "pygments_lexer": "ipython3",
   "version": "3.6.8"
  },
  "toc": {
   "base_numbering": 1,
   "nav_menu": {},
   "number_sections": true,
   "sideBar": true,
   "skip_h1_title": false,
   "title_cell": "Table of Contents",
   "title_sidebar": "Contents",
   "toc_cell": false,
   "toc_position": {},
   "toc_section_display": true,
   "toc_window_display": false
  }
 },
 "nbformat": 4,
 "nbformat_minor": 2
}
