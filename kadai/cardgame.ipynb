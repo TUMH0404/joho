{
 "cells": [
  {
   "cell_type": "markdown",
   "metadata": {},
   "source": [
    "学籍番号"
   ]
  },
  {
   "cell_type": "code",
   "execution_count": null,
   "metadata": {},
   "outputs": [],
   "source": []
  },
  {
   "cell_type": "markdown",
   "metadata": {},
   "source": [
    "氏名"
   ]
  },
  {
   "cell_type": "code",
   "execution_count": null,
   "metadata": {},
   "outputs": [],
   "source": []
  },
  {
   "cell_type": "markdown",
   "metadata": {},
   "source": [
    "トランプカードを作ってみる。"
   ]
  },
  {
   "cell_type": "markdown",
   "metadata": {},
   "source": [
    "問　すべての種類のカードを作成する。リストを用いよう。<br>\n",
    "例\n",
    "```\n",
    "card = [\"A_spade\",\"K_spade\",...,\"A_heart\",\"K_heart\",....,\"j1\",\"j2\"]\n",
    "```"
   ]
  },
  {
   "cell_type": "markdown",
   "metadata": {},
   "source": [
    "問　カードのmark，number，Jokerごとにリストにする。<br>\n",
    "```\n",
    "mark =[\"spade\",\"heart\",\"diamond\",\"club\"]\n",
    "num = [\"A\",\"K\",\"Q\",\"J\",\"X\",\"9\",\"8\",\"7\",\"6\",\"5\",\"4\",\"3\",\"2\"]\n",
    "Joker = [\"j1\",\"j2\"]\n",
    "```"
   ]
  },
  {
   "cell_type": "code",
   "execution_count": 280,
   "metadata": {},
   "outputs": [],
   "source": [
    "mark =[\"spade\",\"heart\",\"diamond\",\"club\"]\n",
    "num = [\"A\",\"K\",\"Q\",\"J\",\"X\",\"9\",\"8\",\"7\",\"6\",\"5\",\"4\",\"3\",\"2\"]\n",
    "Joker = [\"j1\",\"j2\"]"
   ]
  },
  {
   "cell_type": "code",
   "execution_count": null,
   "metadata": {},
   "outputs": [],
   "source": []
  },
  {
   "cell_type": "markdown",
   "metadata": {},
   "source": [
    "**トランプのセットを作る。** <br>\n",
    "- cardという空リストを作る。<br>\n",
    "- spadeの組を作り，それをcardに格納する。<br>\n",
    "- heartの組を作り，それをcardに格納する。<br>\n",
    "- diamondの組を作り，それをcardに格納する。<br>\n",
    "- diamondの組を作り，それをcardに格納する。<br>\n",
    "- Jokerを格納する。<br>\n",
    "- トランプなのでバラバラにしたい。<br>\n",
    "```\n",
    "import random\n",
    "```\n",
    "というライブラリを追加する。"
   ]
  },
  {
   "cell_type": "code",
   "execution_count": 760,
   "metadata": {},
   "outputs": [],
   "source": [
    "import random\n",
    "\n",
    "mark =[\"spade\",\"heart\",\"diamond\",\"club\"]\n",
    "num = [\"A\",\"K\",\"Q\",\"J\",\"X\",\"9\",\"8\",\"7\",\"6\",\"5\",\"4\",\"3\",\"2\"]\n",
    "Joker = [\"j1\",\"j2\"]\n",
    "\n",
    "card = []\n",
    "for i in mark:\n",
    "    for k in num:\n",
    "        card.append(f\"{k}_{i}\")\n",
    "\n",
    "card.append(Joker[0])\n",
    "\n",
    "random.shuffle(card)"
   ]
  },
  {
   "cell_type": "code",
   "execution_count": 761,
   "metadata": {},
   "outputs": [],
   "source": [
    "N = 4\n",
    "cc = {}\n",
    "for u in range(N):\n",
    "    cc.update({f\"p{u}\":[]})\n",
    "\n",
    "p = list(cc.keys())\n",
    "\n",
    "maisuu = int(len(card)//N)\n",
    "nokori = len(card)%N\n",
    "\n",
    "for kubaru in range(maisuu):\n",
    "    #random.shuffle(p)\n",
    "    a = random.sample(card,N)\n",
    "    for i,k in zip(p,a):\n",
    "        cc[i].append(k)\n",
    "        card.remove(k) \n",
    "\n",
    "## 残りのカードの処理\n",
    "## 誰に配る？\n",
    "morauhito = random.sample(p,nokori)\n",
    "for u,y in zip(morauhito,card):\n",
    "    cc[u].append(y)\n"
   ]
  },
  {
   "cell_type": "code",
   "execution_count": 762,
   "metadata": {},
   "outputs": [],
   "source": [
    "\n",
    "def baba3(A):\n",
    "    c2 = A[:] ## 深いコピー\n",
    "    c2.sort()\n",
    "    c0 = [i[0] for i in c2]\n",
    "    \n",
    "    #print(c0)\n",
    "    c1 = list(set(c0))\n",
    "    c1.sort()\n",
    "\n",
    "    single =[]\n",
    "    for i in c1:\n",
    "        c2.sort()\n",
    "        #print(c2)\n",
    "        gg0 = c0.count(i)//2\n",
    "        gg1 = c0.count(i)%2\n",
    "        if gg0==1 and gg1 == 0:\n",
    "            del c2[:2]\n",
    "            #print(\"a\")\n",
    "        elif gg0==2 and gg1==0:\n",
    "            del c2[:4]\n",
    "            #print(\"b\")\n",
    "        elif gg0==1 and gg1==1:\n",
    "            del c2[:2]\n",
    "            single.append(c2[0])\n",
    "            del c2[0]\n",
    "            #print(\"c\")\n",
    "        elif gg0==0 and gg1 ==1:\n",
    "            single.append(c2[0])\n",
    "            del c2[0]\n",
    "            #print(\"d\")\n",
    "    \n",
    "    return single"
   ]
  },
  {
   "cell_type": "code",
   "execution_count": 763,
   "metadata": {},
   "outputs": [],
   "source": [
    "gamecard =[]\n",
    "for i in cc:\n",
    "    gamecard.append(baba3(cc[i]))\n",
    "\n"
   ]
  },
  {
   "cell_type": "code",
   "execution_count": 764,
   "metadata": {},
   "outputs": [],
   "source": [
    "pp = {}\n",
    "for i,k in enumerate(gamecard):\n",
    "    pp.update({i:k})"
   ]
  },
  {
   "cell_type": "code",
   "execution_count": 765,
   "metadata": {},
   "outputs": [
    {
     "data": {
      "text/plain": [
       "{0: ['3_spade',\n",
       "  '4_heart',\n",
       "  '5_heart',\n",
       "  '7_club',\n",
       "  '8_club',\n",
       "  '9_club',\n",
       "  'J_heart',\n",
       "  'Q_spade'],\n",
       " 1: ['2_club',\n",
       "  '3_diamond',\n",
       "  '5_diamond',\n",
       "  '7_heart',\n",
       "  '8_diamond',\n",
       "  '9_diamond',\n",
       "  'A_heart',\n",
       "  'J_spade',\n",
       "  'X_diamond'],\n",
       " 2: ['2_diamond', '4_spade', '6_spade', 'Q_heart', 'X_club'],\n",
       " 3: ['6_club', 'A_spade', 'j1']}"
      ]
     },
     "execution_count": 765,
     "metadata": {},
     "output_type": "execute_result"
    }
   ],
   "source": [
    "junban = []\n",
    "pp\n"
   ]
  },
  {
   "cell_type": "code",
   "execution_count": 768,
   "metadata": {},
   "outputs": [
    {
     "name": "stdout",
     "output_type": "stream",
     "text": [
      "start///['4_heart', 'J_heart', '8_club', '5_heart'],['2_club', '4_spade', '5_diamond', '7_heart', '8_diamond', 'A_heart', 'J_spade']\n",
      "second///['4_heart', 'J_heart', '8_club', '5_heart', 'A_heart'],['A_heart', '7_heart', '8_diamond', '4_spade', '2_club', '5_diamond', 'J_spade']\n",
      "third///['4_heart', 'J_heart', '8_club', '5_heart', 'A_heart'],['7_heart', '8_diamond', '4_spade', '2_club', '5_diamond', 'J_spade']\n",
      "a[5, 6, 1, 3]\n",
      "{0: ['4_heart', '5_heart', '8_club', 'A_heart', 'J_heart'], 1: ['7_heart', '8_diamond', '4_spade', '2_club', '5_diamond', 'J_spade'], 2: ['2_diamond'], 3: ['7_club', 'A_spade', 'j1']}\n",
      "b:[5, 6, 1, 3]\n",
      "start///['7_heart', '8_diamond', '4_spade', '2_club', '5_diamond', 'J_spade'],['2_diamond']\n",
      "second///['7_heart', '8_diamond', '4_spade', '2_club', '5_diamond', 'J_spade', '2_diamond'],['2_diamond']\n",
      "third///['7_heart', '8_diamond', '4_spade', '2_club', '5_diamond', 'J_spade', '2_diamond'],[]\n",
      "a[5, 7, 0, 3]\n",
      "break:a\n",
      "{0: ['4_heart', '5_heart', '8_club', 'A_heart', 'J_heart'], 1: ['7_heart', '8_diamond', '4_spade', '2_club', '5_diamond', 'J_spade', '2_diamond'], 3: ['7_club', 'A_spade', 'j1']}\n"
     ]
    }
   ],
   "source": [
    "\n",
    "for i in range(4):\n",
    "    if i==4-1:\n",
    "        me = i\n",
    "        you = 0\n",
    "    else:\n",
    "        me = i\n",
    "        you =i+1\n",
    "    \n",
    "    print(f\"start///{pp[me]},{pp[you]}\")\n",
    "    random.shuffle(pp[you])\n",
    "    \n",
    "    pp[me].append(pp[you][0])\n",
    "    print(f\"second///{pp[me]},{pp[you]}\")\n",
    "\n",
    "    del pp[you][0]\n",
    "    print(f\"third///{pp[me]},{pp[you]}\")\n",
    "    \n",
    "    yt =[]\n",
    "    for your in pp:\n",
    "        yt.append(len(pp[your]))\n",
    "    \n",
    "    print(f\"a{yt}\")\n",
    "    if 0 in yt:\n",
    "        junban.append(yt.index(0))\n",
    "        pp.pop(yt.index(0))\n",
    "        \n",
    "        print(\"break:a\")\n",
    "        print(pp)\n",
    "        #break\n",
    "        \n",
    "    pp[me] = baba3(pp[me])\n",
    "    \n",
    "    \n",
    "    print(pp)\n",
    "    \n",
    "    yt =[]\n",
    "    for your in pp:\n",
    "        yt.append(len(pp[your]))\n",
    "    \n",
    "    print(f\"b:{yt}\")\n",
    "    if 0 in yt:\n",
    "        junban.append(yt.index(0))\n",
    "        pp.pop(yt.index(0))\n",
    "        print(\"break:b\")\n",
    "        print(pp)\n",
    "\n",
    "        break"
   ]
  },
  {
   "cell_type": "code",
   "execution_count": 625,
   "metadata": {},
   "outputs": [
    {
     "data": {
      "text/plain": [
       "{0: [], 1: ['j1']}"
      ]
     },
     "execution_count": 625,
     "metadata": {},
     "output_type": "execute_result"
    }
   ],
   "source": [
    "pp"
   ]
  },
  {
   "cell_type": "code",
   "execution_count": null,
   "metadata": {},
   "outputs": [],
   "source": []
  },
  {
   "cell_type": "code",
   "execution_count": null,
   "metadata": {},
   "outputs": [],
   "source": [
    "def baba4(aa):\n",
    "    aa.sort()\n",
    "    bb = aa[:]\n",
    "    bb = [i[0] for i in bb]\n",
    "    bb2 = list(set(bb))\n",
    "    bb2.sort()\n",
    "    for y in bb2:\n",
    "        if bb.count(y)==2:\n",
    "            "
   ]
  },
  {
   "cell_type": "code",
   "execution_count": 532,
   "metadata": {},
   "outputs": [],
   "source": [
    "def baba2(aa,su):\n",
    "    dd = [i[-2:] for i in aa]\n",
    "    b = set(dd)\n",
    "    gind=[]\n",
    "    for i in b:\n",
    "        if dd.count(i)>1:\n",
    "            gind.append(aa[dd.index(i)])\n",
    "            \n",
    "        else:\n",
    "            pass\n",
    "    \n",
    "    if len(su)>0:\n",
    "        suteru = su[:]\n",
    "    else:\n",
    "        suteru =[]\n",
    "    for t in gind:\n",
    "        v = t[-2:]\n",
    "        print(v)\n",
    "        k=0\n",
    "        for r,u in enumerate(aa):\n",
    "            if u[-2:]==v:\n",
    "                suteru.append(aa[r])\n",
    "                aa.pop(r)\n",
    "                \n",
    "                k+=1\n",
    "            if k>1:\n",
    "                break\n",
    "       \n",
    "        \n",
    "    return aa,suteru\n",
    "    \n",
    "\n",
    "def cardpair(CC):\n",
    "    A,B=baba2(CC,[])\n",
    "    single,pair = baba2(A,B)\n",
    "    \n",
    "    return single,pair"
   ]
  },
  {
   "cell_type": "code",
   "execution_count": 486,
   "metadata": {},
   "outputs": [],
   "source": [
    "A = cc[\"p1\"]"
   ]
  },
  {
   "cell_type": "code",
   "execution_count": 487,
   "metadata": {},
   "outputs": [
    {
     "data": {
      "text/plain": [
       "['2_club',\n",
       " '3_club',\n",
       " '3_spade',\n",
       " '4_heart',\n",
       " '5_club',\n",
       " '5_diamond',\n",
       " '5_heart',\n",
       " '5_spade',\n",
       " '6_diamond',\n",
       " '7_diamond',\n",
       " '7_heart',\n",
       " '8_club',\n",
       " '8_spade',\n",
       " '9_club',\n",
       " '9_diamond',\n",
       " 'J_club',\n",
       " 'J_diamond',\n",
       " 'K_club',\n",
       " 'K_diamond',\n",
       " 'K_heart',\n",
       " 'K_spade',\n",
       " 'Q_diamond',\n",
       " 'Q_heart',\n",
       " 'Q_spade',\n",
       " 'X_spade',\n",
       " 'j1']"
      ]
     },
     "execution_count": 487,
     "metadata": {},
     "output_type": "execute_result"
    }
   ],
   "source": [
    "A.sort()\n",
    "A"
   ]
  },
  {
   "cell_type": "code",
   "execution_count": 489,
   "metadata": {},
   "outputs": [
    {
     "name": "stdout",
     "output_type": "stream",
     "text": [
      "d\n",
      "a\n",
      "d\n",
      "b\n",
      "d\n",
      "a\n",
      "a\n",
      "a\n",
      "a\n",
      "b\n",
      "c\n",
      "d\n",
      "d\n"
     ]
    },
    {
     "data": {
      "text/plain": [
       "['2_club', '4_heart', '6_diamond', 'Q_spade', 'X_spade', 'j1']"
      ]
     },
     "execution_count": 489,
     "metadata": {},
     "output_type": "execute_result"
    }
   ],
   "source": [
    "baba3(A)"
   ]
  },
  {
   "cell_type": "code",
   "execution_count": 410,
   "metadata": {},
   "outputs": [],
   "source": [
    "single = []\n",
    "for i in c:\n",
    "    if c[0][0]==c[1][0]:\n",
    "        c.pop(0)\n",
    "        c.pop(0)\n",
    "    \n",
    "    else:\n",
    "        single.append(i)\n",
    "        c.pop(0)"
   ]
  },
  {
   "cell_type": "code",
   "execution_count": 411,
   "metadata": {},
   "outputs": [
    {
     "data": {
      "text/plain": [
       "['2_spade', '6_heart', '7_heart', 'J_diamond', 'X_club']"
      ]
     },
     "execution_count": 411,
     "metadata": {},
     "output_type": "execute_result"
    }
   ],
   "source": [
    "single"
   ]
  },
  {
   "cell_type": "code",
   "execution_count": 476,
   "metadata": {},
   "outputs": [],
   "source": [
    "fr = [1,2,3,4]\n",
    "del fr[:3]"
   ]
  },
  {
   "cell_type": "code",
   "execution_count": 477,
   "metadata": {},
   "outputs": [
    {
     "data": {
      "text/plain": [
       "[4]"
      ]
     },
     "execution_count": 477,
     "metadata": {},
     "output_type": "execute_result"
    }
   ],
   "source": [
    "fr"
   ]
  },
  {
   "cell_type": "code",
   "execution_count": null,
   "metadata": {},
   "outputs": [],
   "source": []
  },
  {
   "cell_type": "code",
   "execution_count": 395,
   "metadata": {},
   "outputs": [
    {
     "name": "stdout",
     "output_type": "stream",
     "text": [
      "_X\n",
      "_2\n",
      "_7\n",
      "_9\n",
      "_4\n",
      "_5\n",
      "_K\n",
      "_Q\n",
      "_A\n",
      "_4\n",
      "_A\n",
      "_X\n",
      "_2\n",
      "_7\n",
      "_J\n",
      "_8\n",
      "_3\n",
      "_6\n",
      "_Q\n",
      "_5\n",
      "_8\n",
      "_6\n"
     ]
    }
   ],
   "source": [
    "AAA1 = []\n",
    "AAA2 = []\n",
    "AAA1.append(cardpair(cc[\"p0\"])[0])\n",
    "AAA1.append(cardpair(cc[\"p0\"])[1])\n",
    "AAA2.append(cardpair(cc[\"p1\"])[0])\n",
    "AAA2.append(cardpair(cc[\"p1\"])[1])"
   ]
  },
  {
   "cell_type": "code",
   "execution_count": 396,
   "metadata": {},
   "outputs": [
    {
     "data": {
      "text/plain": [
       "[['club_J', 'club_Q', 'heart_9', 'spade_3', 'club_K', 'spade_5'], []]"
      ]
     },
     "execution_count": 396,
     "metadata": {},
     "output_type": "execute_result"
    }
   ],
   "source": [
    "AAA1"
   ]
  },
  {
   "cell_type": "code",
   "execution_count": 397,
   "metadata": {},
   "outputs": [
    {
     "data": {
      "text/plain": [
       "[['club_9', 'j1', 'heart_3', 'heart_K', 'club_6', 'club_8', 'heart_J'], []]"
      ]
     },
     "execution_count": 397,
     "metadata": {},
     "output_type": "execute_result"
    }
   ],
   "source": [
    "AAA2"
   ]
  },
  {
   "cell_type": "code",
   "execution_count": 376,
   "metadata": {},
   "outputs": [],
   "source": [
    "#AAA.sort()\n",
    "for i in AAA:\n",
    "    random.shuffle(i)"
   ]
  },
  {
   "cell_type": "code",
   "execution_count": 377,
   "metadata": {},
   "outputs": [
    {
     "data": {
      "text/plain": [
       "[['heart_5',\n",
       "  'club_7',\n",
       "  'club_6',\n",
       "  'spade_8',\n",
       "  'spade_Q',\n",
       "  'diamond_A',\n",
       "  'diamond_2',\n",
       "  'heart_J',\n",
       "  'diamond_4',\n",
       "  'diamond_3'],\n",
       " ['j1',\n",
       "  'spade_5',\n",
       "  'heart_6',\n",
       "  'spade_J',\n",
       "  'spade_A',\n",
       "  'club_Q',\n",
       "  'spade_4',\n",
       "  'heart_3',\n",
       "  'spade_7']]"
      ]
     },
     "execution_count": 377,
     "metadata": {},
     "output_type": "execute_result"
    }
   ],
   "source": [
    "AAA"
   ]
  },
  {
   "cell_type": "code",
   "execution_count": 300,
   "metadata": {},
   "outputs": [],
   "source": [
    "BB = [i[-2:] for i in AAA[0]]\n",
    "if AAA[1][0][-2:] in BB:\n",
    "    AAA[1].pop(0)\n",
    "    AAA[0].pop(BB.index(AAA[1][0][-2:]))"
   ]
  },
  {
   "cell_type": "code",
   "execution_count": 312,
   "metadata": {},
   "outputs": [
    {
     "name": "stdout",
     "output_type": "stream",
     "text": [
      "['heart_6', 'heart_7', 'club_8', 'spade_9', 'heart_5', 'j1', 'club_X', 'club_A']\n",
      "['diamond_5', 'club_7', 'heart_8', 'heart_X', 'diamond_A', 'club_9']\n"
     ]
    }
   ],
   "source": [
    "print(AAA[0])\n",
    "print(AAA[1])"
   ]
  },
  {
   "cell_type": "code",
   "execution_count": 313,
   "metadata": {},
   "outputs": [
    {
     "data": {
      "text/plain": [
       "'diamond_5'"
      ]
     },
     "execution_count": 313,
     "metadata": {},
     "output_type": "execute_result"
    }
   ],
   "source": [
    "AAA[0].append(AAA[1][0])\n",
    "AAA[1].pop(0)"
   ]
  },
  {
   "cell_type": "code",
   "execution_count": 314,
   "metadata": {},
   "outputs": [
    {
     "name": "stdout",
     "output_type": "stream",
     "text": [
      "['heart_6', 'heart_7', 'club_8', 'spade_9', 'heart_5', 'j1', 'club_X', 'club_A', 'diamond_5']\n",
      "['club_7', 'heart_8', 'heart_X', 'diamond_A', 'club_9']\n"
     ]
    }
   ],
   "source": [
    "print(AAA[0])\n",
    "print(AAA[1])"
   ]
  },
  {
   "cell_type": "code",
   "execution_count": 315,
   "metadata": {},
   "outputs": [
    {
     "name": "stdout",
     "output_type": "stream",
     "text": [
      "_5\n"
     ]
    },
    {
     "data": {
      "text/plain": [
       "(['heart_6', 'heart_7', 'club_8', 'spade_9', 'j1', 'club_X', 'club_A'],\n",
       " ['heart_5', 'diamond_5'])"
      ]
     },
     "execution_count": 315,
     "metadata": {},
     "output_type": "execute_result"
    }
   ],
   "source": [
    "baba2(AAA[0],[])"
   ]
  },
  {
   "cell_type": "code",
   "execution_count": 316,
   "metadata": {},
   "outputs": [
    {
     "data": {
      "text/plain": [
       "['heart_6', 'heart_7', 'club_8', 'spade_9', 'j1', 'club_X', 'club_A']"
      ]
     },
     "execution_count": 316,
     "metadata": {},
     "output_type": "execute_result"
    }
   ],
   "source": [
    "AAA[0]"
   ]
  },
  {
   "cell_type": "code",
   "execution_count": 317,
   "metadata": {},
   "outputs": [
    {
     "data": {
      "text/plain": [
       "'j1'"
      ]
     },
     "execution_count": 317,
     "metadata": {},
     "output_type": "execute_result"
    }
   ],
   "source": [
    "AAA[1].append(AAA[0][4])\n",
    "AAA[0].pop(4)"
   ]
  },
  {
   "cell_type": "code",
   "execution_count": 318,
   "metadata": {},
   "outputs": [
    {
     "name": "stdout",
     "output_type": "stream",
     "text": [
      "['heart_6', 'heart_7', 'club_8', 'spade_9', 'club_X', 'club_A']\n",
      "['club_7', 'heart_8', 'heart_X', 'diamond_A', 'club_9', 'j1']\n"
     ]
    }
   ],
   "source": [
    "print(AAA[0])\n",
    "print(AAA[1])"
   ]
  },
  {
   "cell_type": "code",
   "execution_count": 319,
   "metadata": {},
   "outputs": [
    {
     "data": {
      "text/plain": [
       "(['club_7', 'heart_8', 'heart_X', 'diamond_A', 'club_9', 'j1'], [])"
      ]
     },
     "execution_count": 319,
     "metadata": {},
     "output_type": "execute_result"
    }
   ],
   "source": [
    "baba2(AAA[1],[])"
   ]
  },
  {
   "cell_type": "code",
   "execution_count": 320,
   "metadata": {},
   "outputs": [
    {
     "data": {
      "text/plain": [
       "['club_7', 'heart_8', 'heart_X', 'diamond_A', 'club_9', 'j1']"
      ]
     },
     "execution_count": 320,
     "metadata": {},
     "output_type": "execute_result"
    }
   ],
   "source": [
    "AAA[1]"
   ]
  },
  {
   "cell_type": "code",
   "execution_count": 345,
   "metadata": {},
   "outputs": [
    {
     "name": "stdout",
     "output_type": "stream",
     "text": [
      "ss\n",
      "_A\n",
      "ss\n",
      "_2\n",
      "ss\n",
      "ss\n",
      "_J\n",
      "ss\n",
      "ss\n"
     ]
    }
   ],
   "source": [
    "for rr in range(3):\n",
    "    for i in range(N):\n",
    "        random.shuffle(AAA[0])\n",
    "        random.shuffle(AAA[1])\n",
    "        if i==N-1:\n",
    "            yu = 0\n",
    "        else:\n",
    "            yu = i+1\n",
    "        #nn = random.shuffle(range(len(AAA[yu])),1)           \n",
    "        AAA[i].append(AAA[yu][0])\n",
    "        AAA[yu].pop(0)\n",
    "        baba2(AAA[i],[])\n",
    "        print(\"ss\")\n",
    "        [print(u) for u in AAA]\n",
    "    \n",
    "    if len(AAA[0])==0 or len(AAA[1])==0:\n",
    "        print(\"end\")\n",
    "        break"
   ]
  },
  {
   "cell_type": "code",
   "execution_count": null,
   "metadata": {},
   "outputs": [],
   "source": []
  },
  {
   "cell_type": "code",
   "execution_count": null,
   "metadata": {},
   "outputs": [],
   "source": []
  },
  {
   "cell_type": "code",
   "execution_count": 332,
   "metadata": {},
   "outputs": [
    {
     "data": {
      "text/plain": [
       "2"
      ]
     },
     "execution_count": 332,
     "metadata": {},
     "output_type": "execute_result"
    }
   ],
   "source": [
    "[1,2,3,4]"
   ]
  },
  {
   "cell_type": "code",
   "execution_count": 330,
   "metadata": {},
   "outputs": [
    {
     "data": {
      "text/plain": [
       "3"
      ]
     },
     "execution_count": 330,
     "metadata": {},
     "output_type": "execute_result"
    }
   ],
   "source": [
    "random.randint(0,3)"
   ]
  },
  {
   "cell_type": "code",
   "execution_count": 306,
   "metadata": {},
   "outputs": [
    {
     "data": {
      "text/plain": [
       "['diamond_6',\n",
       " 'diamond_9',\n",
       " 'spade_5',\n",
       " 'spade_Q',\n",
       " 'j1',\n",
       " 'club_J',\n",
       " 'heart_X',\n",
       " 'spade_K',\n",
       " 'spade_K']"
      ]
     },
     "execution_count": 306,
     "metadata": {},
     "output_type": "execute_result"
    }
   ],
   "source": [
    "AAA[1]"
   ]
  },
  {
   "cell_type": "code",
   "execution_count": 304,
   "metadata": {},
   "outputs": [
    {
     "data": {
      "text/plain": [
       "(['diamond_6',\n",
       "  'diamond_9',\n",
       "  'spade_5',\n",
       "  'spade_Q',\n",
       "  'j1',\n",
       "  'club_J',\n",
       "  'heart_X',\n",
       "  'spade_K'],\n",
       " [])"
      ]
     },
     "execution_count": 304,
     "metadata": {},
     "output_type": "execute_result"
    }
   ],
   "source": [
    "baba2(AAA[1],[])"
   ]
  },
  {
   "cell_type": "code",
   "execution_count": null,
   "metadata": {},
   "outputs": [],
   "source": []
  },
  {
   "cell_type": "code",
   "execution_count": 301,
   "metadata": {},
   "outputs": [
    {
     "data": {
      "text/plain": [
       "['diamond_6', 'diamond_9', 'spade_5', 'spade_Q', 'j1', 'club_J', 'heart_X']"
      ]
     },
     "execution_count": 301,
     "metadata": {},
     "output_type": "execute_result"
    }
   ],
   "source": [
    "AAA[1]"
   ]
  },
  {
   "cell_type": "code",
   "execution_count": 302,
   "metadata": {},
   "outputs": [
    {
     "data": {
      "text/plain": [
       "['spade_X', 'diamond_5', 'diamond_8', 'spade_K', 'spade_J', 'heart_9']"
      ]
     },
     "execution_count": 302,
     "metadata": {},
     "output_type": "execute_result"
    }
   ],
   "source": [
    "AAA[0]"
   ]
  },
  {
   "cell_type": "code",
   "execution_count": 321,
   "metadata": {},
   "outputs": [
    {
     "name": "stdout",
     "output_type": "stream",
     "text": [
      "0\n",
      "1\n",
      "2\n",
      "3\n",
      "4\n",
      "5\n",
      "6\n",
      "7\n",
      "8\n",
      "9\n",
      "0\n",
      "1\n",
      "2\n",
      "3\n",
      "4\n",
      "5\n",
      "6\n",
      "7\n",
      "8\n",
      "9\n",
      "0\n",
      "1\n",
      "2\n",
      "3\n",
      "4\n",
      "5\n",
      "6\n",
      "7\n",
      "8\n",
      "9\n",
      "0\n",
      "1\n",
      "2\n",
      "3\n",
      "4\n",
      "5\n",
      "6\n",
      "7\n",
      "8\n",
      "9\n",
      "0\n",
      "1\n",
      "2\n",
      "3\n",
      "4\n",
      "5\n",
      "6\n",
      "7\n",
      "8\n",
      "9\n",
      "0\n",
      "1\n",
      "2\n",
      "3\n",
      "4\n",
      "5\n",
      "6\n",
      "7\n",
      "8\n",
      "9\n",
      "0\n",
      "1\n",
      "2\n",
      "3\n",
      "4\n",
      "5\n",
      "6\n",
      "7\n",
      "8\n",
      "9\n",
      "0\n",
      "1\n",
      "2\n",
      "3\n",
      "4\n",
      "5\n",
      "6\n",
      "7\n",
      "8\n",
      "9\n",
      "0\n",
      "1\n",
      "2\n",
      "3\n",
      "4\n",
      "5\n",
      "6\n",
      "7\n",
      "8\n",
      "9\n",
      "0\n",
      "1\n",
      "2\n",
      "3\n",
      "4\n",
      "5\n",
      "6\n",
      "7\n",
      "8\n",
      "9\n"
     ]
    }
   ],
   "source": [
    "u=0\n",
    "while u<10:\n",
    "    u+=1\n",
    "    for i in range(10):\n",
    "        print(i)"
   ]
  },
  {
   "cell_type": "code",
   "execution_count": 516,
   "metadata": {
    "scrolled": false
   },
   "outputs": [
    {
     "name": "stdout",
     "output_type": "stream",
     "text": [
      "0 1\n",
      "1 2\n",
      "2 3\n",
      "3 4\n",
      "4 5\n",
      "5 6\n",
      "6 7\n",
      "7 8\n",
      "8 9\n",
      "9 0\n",
      "0 1\n",
      "1 2\n",
      "2 3\n",
      "3 4\n",
      "4 5\n",
      "5 6\n",
      "6 7\n",
      "7 8\n",
      "8 9\n",
      "9 0\n",
      "0 1\n",
      "1 2\n",
      "2 3\n",
      "3 4\n",
      "4 5\n",
      "5 6\n",
      "6 7\n",
      "7 8\n",
      "8 9\n",
      "9 0\n",
      "0 1\n",
      "1 2\n",
      "2 3\n",
      "3 4\n",
      "4 5\n",
      "5 6\n",
      "6 7\n",
      "7 8\n",
      "8 9\n",
      "9 0\n",
      "0 1\n",
      "1 2\n",
      "2 3\n",
      "3 4\n",
      "4 5\n",
      "5 6\n",
      "6 7\n",
      "7 8\n",
      "8 9\n",
      "9 0\n",
      "0 1\n",
      "1 2\n",
      "2 3\n",
      "3 4\n",
      "4 5\n",
      "5 6\n",
      "6 7\n",
      "7 8\n",
      "8 9\n",
      "9 0\n",
      "0 1\n",
      "1 2\n",
      "2 3\n",
      "3 4\n",
      "4 5\n",
      "5 6\n",
      "6 7\n",
      "7 8\n",
      "8 9\n",
      "9 0\n",
      "0 1\n",
      "1 2\n",
      "2 3\n",
      "3 4\n",
      "4 5\n",
      "5 6\n",
      "6 7\n",
      "7 8\n",
      "8 9\n",
      "9 0\n",
      "0 1\n",
      "1 2\n",
      "2 3\n",
      "3 4\n",
      "4 5\n",
      "5 6\n",
      "6 7\n",
      "7 8\n",
      "8 9\n",
      "9 0\n",
      "0 1\n",
      "1 2\n",
      "2 3\n",
      "3 4\n",
      "4 5\n",
      "5 6\n",
      "6 7\n",
      "7 8\n",
      "8 9\n",
      "9 0\n",
      "0 1\n",
      "1 2\n",
      "2 3\n",
      "3 4\n",
      "4 5\n",
      "5 6\n",
      "6 7\n",
      "7 8\n",
      "8 9\n",
      "9 0\n"
     ]
    }
   ],
   "source": [
    "k=0\n",
    "while 1:\n",
    "    for i in range(10):\n",
    "        \n",
    "        if i in [4,5]:\n",
    "            \n",
    "        \n",
    "        if i==10-1:\n",
    "            me = i\n",
    "            you = 0\n",
    "        else:\n",
    "            me = i\n",
    "            you =i+1\n",
    "    \n",
    "        print(me,you)\n",
    "    \n",
    "    k+=1\n",
    "    if k>10:\n",
    "        break"
   ]
  },
  {
   "cell_type": "code",
   "execution_count": 525,
   "metadata": {},
   "outputs": [],
   "source": [
    "t = [1,2,3,4,5]"
   ]
  },
  {
   "cell_type": "code",
   "execution_count": 526,
   "metadata": {},
   "outputs": [
    {
     "data": {
      "text/plain": [
       "1"
      ]
     },
     "execution_count": 526,
     "metadata": {},
     "output_type": "execute_result"
    }
   ],
   "source": [
    "t.pop(0)"
   ]
  },
  {
   "cell_type": "code",
   "execution_count": 527,
   "metadata": {},
   "outputs": [
    {
     "data": {
      "text/plain": [
       "[2, 3, 4, 5]"
      ]
     },
     "execution_count": 527,
     "metadata": {},
     "output_type": "execute_result"
    }
   ],
   "source": [
    "t"
   ]
  },
  {
   "cell_type": "code",
   "execution_count": null,
   "metadata": {},
   "outputs": [],
   "source": []
  }
 ],
 "metadata": {
  "kernelspec": {
   "display_name": "Python 3",
   "language": "python",
   "name": "python3"
  },
  "language_info": {
   "codemirror_mode": {
    "name": "ipython",
    "version": 3
   },
   "file_extension": ".py",
   "mimetype": "text/x-python",
   "name": "python",
   "nbconvert_exporter": "python",
   "pygments_lexer": "ipython3",
   "version": "3.6.8"
  },
  "toc": {
   "base_numbering": 1,
   "nav_menu": {},
   "number_sections": true,
   "sideBar": true,
   "skip_h1_title": false,
   "title_cell": "Table of Contents",
   "title_sidebar": "Contents",
   "toc_cell": false,
   "toc_position": {},
   "toc_section_display": true,
   "toc_window_display": false
  }
 },
 "nbformat": 4,
 "nbformat_minor": 2
}
