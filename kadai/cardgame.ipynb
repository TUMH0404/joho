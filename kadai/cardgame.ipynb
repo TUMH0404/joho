{
 "cells": [
  {
   "cell_type": "markdown",
   "metadata": {},
   "source": [
    "学籍番号"
   ]
  },
  {
   "cell_type": "code",
   "execution_count": null,
   "metadata": {},
   "outputs": [],
   "source": []
  },
  {
   "cell_type": "markdown",
   "metadata": {},
   "source": [
    "氏名"
   ]
  },
  {
   "cell_type": "code",
   "execution_count": null,
   "metadata": {},
   "outputs": [],
   "source": []
  },
  {
   "cell_type": "markdown",
   "metadata": {},
   "source": [
    "トランプカードを作ってみる。"
   ]
  },
  {
   "cell_type": "markdown",
   "metadata": {},
   "source": [
    "問　すべての種類のカードを作成する。リストを用いよう。<br>\n",
    "例\n",
    "```\n",
    "card = [\"A_spade\",\"K_spade\",...,\"A_heart\",\"K_heart\",....,\"j1\",\"j2\"]\n",
    "```"
   ]
  },
  {
   "cell_type": "markdown",
   "metadata": {},
   "source": [
    "問　カードのmark，number，Jokerごとにリストにする。<br>\n",
    "```\n",
    "mark =[\"spade\",\"heart\",\"diamond\",\"club\"]\n",
    "num = [\"A\",\"K\",\"Q\",\"J\",\"X\",\"9\",\"8\",\"7\",\"6\",\"5\",\"4\",\"3\",\"2\"]\n",
    "Joker = [\"j1\",\"j2\"]\n",
    "```"
   ]
  },
  {
   "cell_type": "code",
   "execution_count": 280,
   "metadata": {},
   "outputs": [],
   "source": [
    "mark =[\"spade\",\"heart\",\"diamond\",\"club\"]\n",
    "num = [\"A\",\"K\",\"Q\",\"J\",\"X\",\"9\",\"8\",\"7\",\"6\",\"5\",\"4\",\"3\",\"2\"]\n",
    "Joker = [\"j1\",\"j2\"]"
   ]
  },
  {
   "cell_type": "code",
   "execution_count": null,
   "metadata": {},
   "outputs": [],
   "source": []
  },
  {
   "cell_type": "markdown",
   "metadata": {},
   "source": [
    "**トランプのセットを作る。** <br>\n",
    "- cardという空リストを作る。<br>\n",
    "- spadeの組を作り，それをcardに格納する。<br>\n",
    "- heartの組を作り，それをcardに格納する。<br>\n",
    "- diamondの組を作り，それをcardに格納する。<br>\n",
    "- diamondの組を作り，それをcardに格納する。<br>\n",
    "- Jokerを格納する。<br>\n",
    "- トランプなのでバラバラにしたい。<br>\n",
    "```\n",
    "import random\n",
    "```\n",
    "というライブラリを追加する。"
   ]
  },
  {
   "cell_type": "code",
   "execution_count": 1,
   "metadata": {},
   "outputs": [],
   "source": [
    "## カードをきる\n",
    "\n",
    "import random\n",
    "\n",
    "mark =[\"spade\",\"heart\",\"diamond\",\"club\"]\n",
    "num = [\"A\",\"K\",\"Q\",\"J\",\"X\",\"9\",\"8\",\"7\",\"6\",\"5\",\"4\",\"3\",\"2\"]\n",
    "Joker = [\"j1\",\"j2\"]\n",
    "\n",
    "card = []\n",
    "for i in mark:\n",
    "    for k in num:\n",
    "        card.append(f\"{k}_{i}\")\n",
    "\n",
    "card.append(Joker[0])\n",
    "\n",
    "for i in range(5):\n",
    "    random.shuffle(card)"
   ]
  },
  {
   "cell_type": "code",
   "execution_count": 2,
   "metadata": {},
   "outputs": [],
   "source": [
    "# カードを配る\n",
    "N = 5\n",
    "cc = {}\n",
    "for u in range(N):\n",
    "    cc.update({f\"p{u}\":[]})\n",
    "\n",
    "p = list(cc.keys())\n",
    "\n",
    "maisuu = int(len(card)//N)\n",
    "nokori = len(card)%N\n",
    "\n",
    "for kubaru in range(maisuu):\n",
    "    #random.shuffle(p)\n",
    "    a = random.sample(card,N)\n",
    "    for i,k in zip(p,a):\n",
    "        cc[i].append(k)\n",
    "        card.remove(k) \n",
    "\n",
    "## 残りのカードの処理\n",
    "## 誰に配る？\n",
    "morauhito = random.sample(p,nokori)\n",
    "for u,y in zip(morauhito,card):\n",
    "    cc[u].append(y)\n"
   ]
  },
  {
   "cell_type": "code",
   "execution_count": 6,
   "metadata": {},
   "outputs": [],
   "source": [
    "## 配られたカードを整理する\n",
    "def baba3(A):\n",
    "    c2 = A[:] ## 深いコピー\n",
    "    ## 並べ替え\n",
    "    c2.sort()\n",
    "    ## 数字を取り出す\n",
    "    c0 = [i[0] for i in c2]\n",
    "    # 集合してリスト化する\n",
    "    c1 = list(set(c0))\n",
    "    # ソートする\n",
    "    c1.sort()\n",
    "    \n",
    "    # 一枚もののカードを格納する空リストを作る。\n",
    "    single =[]\n",
    "    \n",
    "    # 数字を回して検索する\n",
    "    for i in c1:\n",
    "        # 念の為ソートする\n",
    "        c2.sort()\n",
    "        \n",
    "        # 同じものが複数ある時の処理。\n",
    "        # 一枚になれば，singleに追加する。\n",
    "        gg0 = c0.count(i)//2\n",
    "        gg1 = c0.count(i)%2\n",
    "        if gg0==1 and gg1 == 0:  # 偶数だけ捨てる\n",
    "            del c2[:2]\n",
    "            \n",
    "        elif gg0==2 and gg1==0:   # 偶数だけ捨てる\n",
    "            del c2[:4]\n",
    "            \n",
    "        elif gg0==1 and gg1==1:\n",
    "            del c2[:2]\n",
    "            single.append(c2[0]) #組み合わせがないカードだけを格納\n",
    "            del c2[0]\n",
    "            \n",
    "        elif gg0==0 and gg1 ==1:\n",
    "            single.append(c2[0])  #組み合わせがないカードだけを格納\n",
    "            del c2[0]\n",
    "            \n",
    "    return single\n",
    "\n",
    "\n",
    "## カードのやりとり\n",
    "def pickup(me,you):\n",
    "    # meは取る人\n",
    "    # youは取られる人\n",
    "    random.shuffle(you)             # youはカードを混ぜる\n",
    "    if len(you)==0:\n",
    "        print(\"youの長さがゼロです\")\n",
    "        \n",
    "        return 0,0\n",
    "    \n",
    "    \n",
    "    else:\n",
    "        a = list(range(len(you))) \n",
    "        ii = random.sample(a,1)[0] # 好きなカードを選ぶ \n",
    "    \n",
    "        me.append(you[ii])         # とったカードと手元のカードを合わせる\n",
    "        del you[ii]                # カードを渡す\n",
    "        \n",
    "        return baba3(me),you       # 結果"
   ]
  },
  {
   "cell_type": "code",
   "execution_count": 7,
   "metadata": {},
   "outputs": [
    {
     "name": "stdout",
     "output_type": "stream",
     "text": [
      "{'p0': ['3_club', '4_spade', '5_diamond', '6_club', '7_club', '8_diamond', 'A_heart', 'K_diamond', 'X_heart'], 'p1': ['7_diamond', '8_spade', '9_diamond', 'A_diamond', 'J_diamond', 'Q_diamond'], 'p2': ['5_heart', 'A_spade', 'X_spade'], 'p3': ['2_diamond', '6_spade', '9_club', 'j1'], 'p4': ['2_heart', '3_heart', '4_club', 'A_club', 'J_spade', 'K_heart', 'Q_club']}\n"
     ]
    }
   ],
   "source": [
    "## カードを整理する\n",
    "for i in cc:\n",
    "    cc[i] = baba3(cc[i])\n",
    "\n",
    "## 中身確認    \n",
    "print(cc)"
   ]
  },
  {
   "cell_type": "code",
   "execution_count": 8,
   "metadata": {},
   "outputs": [],
   "source": [
    "pp=cc.copy()"
   ]
  },
  {
   "cell_type": "code",
   "execution_count": 9,
   "metadata": {},
   "outputs": [
    {
     "name": "stdout",
     "output_type": "stream",
     "text": [
      "{'p0': ['3_club', '4_spade', '5_diamond', '6_club', '7_club', '8_diamond', 'K_diamond', 'X_heart'], 'p1': ['9_diamond', '8_spade', 'J_diamond', '7_diamond', 'Q_diamond'], 'p2': ['5_heart', 'A_spade', 'X_spade'], 'p3': ['2_diamond', '6_spade', '9_club', 'j1'], 'p4': ['2_heart', '3_heart', '4_club', 'A_club', 'J_spade', 'K_heart', 'Q_club']}\n",
      "{'p0': ['3_club', '4_spade', '5_diamond', '6_club', '7_club', '8_diamond', 'K_diamond', 'X_heart'], 'p1': ['7_diamond', '8_spade', '9_diamond', 'J_diamond', 'Q_diamond', 'X_spade'], 'p2': ['A_spade', '5_heart'], 'p3': ['2_diamond', '6_spade', '9_club', 'j1'], 'p4': ['2_heart', '3_heart', '4_club', 'A_club', 'J_spade', 'K_heart', 'Q_club']}\n",
      "{'p0': ['3_club', '4_spade', '5_diamond', '6_club', '7_club', '8_diamond', 'K_diamond', 'X_heart'], 'p1': ['7_diamond', '8_spade', '9_diamond', 'J_diamond', 'Q_diamond', 'X_spade'], 'p2': ['5_heart', '9_club', 'A_spade'], 'p3': ['6_spade', '2_diamond', 'j1'], 'p4': ['2_heart', '3_heart', '4_club', 'A_club', 'J_spade', 'K_heart', 'Q_club']}\n",
      "{'p0': ['3_club', '4_spade', '5_diamond', '6_club', '7_club', '8_diamond', 'K_diamond', 'X_heart'], 'p1': ['7_diamond', '8_spade', '9_diamond', 'J_diamond', 'Q_diamond', 'X_spade'], 'p2': ['5_heart', '9_club', 'A_spade'], 'p3': ['2_diamond', '4_club', '6_spade', 'j1'], 'p4': ['2_heart', 'J_spade', '3_heart', 'K_heart', 'Q_club', 'A_club']}\n",
      "{'p0': ['3_club', 'K_diamond', '6_club', '4_spade', 'X_heart', '8_diamond', '7_club'], 'p1': ['7_diamond', '8_spade', '9_diamond', 'J_diamond', 'Q_diamond', 'X_spade'], 'p2': ['5_heart', '9_club', 'A_spade'], 'p3': ['2_diamond', '4_club', '6_spade', 'j1'], 'p4': ['2_heart', '3_heart', '5_diamond', 'A_club', 'J_spade', 'K_heart', 'Q_club']}\n",
      "test:5\n",
      "{'p0': ['3_club', '4_spade', '6_club', '7_club', '8_diamond', 'K_diamond'], 'p1': ['9_diamond', '8_spade', 'J_diamond', '7_diamond', 'Q_diamond'], 'p2': ['5_heart', '9_club', 'A_spade'], 'p3': ['2_diamond', '4_club', '6_spade', 'j1'], 'p4': ['2_heart', '3_heart', '5_diamond', 'A_club', 'J_spade', 'K_heart', 'Q_club']}\n",
      "{'p0': ['3_club', '4_spade', '6_club', '7_club', '8_diamond', 'K_diamond'], 'p1': ['7_diamond', '8_spade', '9_diamond', 'A_spade', 'J_diamond', 'Q_diamond'], 'p2': ['9_club', '5_heart'], 'p3': ['2_diamond', '4_club', '6_spade', 'j1'], 'p4': ['2_heart', '3_heart', '5_diamond', 'A_club', 'J_spade', 'K_heart', 'Q_club']}\n",
      "{'p0': ['3_club', '4_spade', '6_club', '7_club', '8_diamond', 'K_diamond'], 'p1': ['7_diamond', '8_spade', '9_diamond', 'A_spade', 'J_diamond', 'Q_diamond'], 'p2': ['4_club', '5_heart', '9_club'], 'p3': ['6_spade', 'j1', '2_diamond'], 'p4': ['2_heart', '3_heart', '5_diamond', 'A_club', 'J_spade', 'K_heart', 'Q_club']}\n",
      "{'p0': ['3_club', '4_spade', '6_club', '7_club', '8_diamond', 'K_diamond'], 'p1': ['7_diamond', '8_spade', '9_diamond', 'A_spade', 'J_diamond', 'Q_diamond'], 'p2': ['4_club', '5_heart', '9_club'], 'p3': ['2_diamond', '6_spade', 'J_spade', 'j1'], 'p4': ['3_heart', '5_diamond', 'A_club', 'Q_club', 'K_heart', '2_heart']}\n",
      "{'p0': ['4_spade', '8_diamond', 'K_diamond', '3_club', '6_club'], 'p1': ['7_diamond', '8_spade', '9_diamond', 'A_spade', 'J_diamond', 'Q_diamond'], 'p2': ['4_club', '5_heart', '9_club'], 'p3': ['2_diamond', '6_spade', 'J_spade', 'j1'], 'p4': ['2_heart', '3_heart', '5_diamond', '7_club', 'A_club', 'K_heart', 'Q_club']}\n",
      "test:5\n",
      "{'p0': ['3_club', '4_spade', '6_club', '7_diamond', '8_diamond', 'K_diamond'], 'p1': ['9_diamond', 'Q_diamond', 'A_spade', 'J_diamond', '8_spade'], 'p2': ['4_club', '5_heart', '9_club'], 'p3': ['2_diamond', '6_spade', 'J_spade', 'j1'], 'p4': ['2_heart', '3_heart', '5_diamond', '7_club', 'A_club', 'K_heart', 'Q_club']}\n",
      "{'p0': ['3_club', '4_spade', '6_club', '7_diamond', '8_diamond', 'K_diamond'], 'p1': ['5_heart', '8_spade', '9_diamond', 'A_spade', 'J_diamond', 'Q_diamond'], 'p2': ['9_club', '4_club'], 'p3': ['2_diamond', '6_spade', 'J_spade', 'j1'], 'p4': ['2_heart', '3_heart', '5_diamond', '7_club', 'A_club', 'K_heart', 'Q_club']}\n",
      "{'p0': ['3_club', '4_spade', '6_club', '7_diamond', '8_diamond', 'K_diamond'], 'p1': ['5_heart', '8_spade', '9_diamond', 'A_spade', 'J_diamond', 'Q_diamond'], 'p2': ['2_diamond', '4_club', '9_club'], 'p3': ['J_spade', '6_spade', 'j1'], 'p4': ['2_heart', '3_heart', '5_diamond', '7_club', 'A_club', 'K_heart', 'Q_club']}\n",
      "{'p0': ['3_club', '4_spade', '6_club', '7_diamond', '8_diamond', 'K_diamond'], 'p1': ['5_heart', '8_spade', '9_diamond', 'A_spade', 'J_diamond', 'Q_diamond'], 'p2': ['2_diamond', '4_club', '9_club'], 'p3': ['6_spade', 'A_club', 'J_spade', 'j1'], 'p4': ['5_diamond', 'Q_club', '3_heart', '2_heart', 'K_heart', '7_club']}\n",
      "{'p0': ['3_club', '4_spade', '7_diamond', '8_diamond', '6_club'], 'p1': ['5_heart', '8_spade', '9_diamond', 'A_spade', 'J_diamond', 'Q_diamond'], 'p2': ['2_diamond', '4_club', '9_club'], 'p3': ['6_spade', 'A_club', 'J_spade', 'j1'], 'p4': ['2_heart', '3_heart', '5_diamond', '7_club', 'Q_club']}\n",
      "test:5\n",
      "{'p0': ['3_club', '4_spade', '6_club', '7_diamond', '8_diamond', 'A_spade'], 'p1': ['8_spade', 'Q_diamond', 'J_diamond', '9_diamond', '5_heart'], 'p2': ['2_diamond', '4_club', '9_club'], 'p3': ['6_spade', 'A_club', 'J_spade', 'j1'], 'p4': ['2_heart', '3_heart', '5_diamond', '7_club', 'Q_club']}\n",
      "{'p0': ['3_club', '4_spade', '6_club', '7_diamond', '8_diamond', 'A_spade'], 'p1': ['4_club', '5_heart', '8_spade', '9_diamond', 'J_diamond', 'Q_diamond'], 'p2': ['2_diamond', '9_club'], 'p3': ['6_spade', 'A_club', 'J_spade', 'j1'], 'p4': ['2_heart', '3_heart', '5_diamond', '7_club', 'Q_club']}\n",
      "{'p0': ['3_club', '4_spade', '6_club', '7_diamond', '8_diamond', 'A_spade'], 'p1': ['4_club', '5_heart', '8_spade', '9_diamond', 'J_diamond', 'Q_diamond'], 'p2': ['2_diamond', '9_club', 'j1'], 'p3': ['J_spade', 'A_club', '6_spade'], 'p4': ['2_heart', '3_heart', '5_diamond', '7_club', 'Q_club']}\n",
      "{'p0': ['3_club', '4_spade', '6_club', '7_diamond', '8_diamond', 'A_spade'], 'p1': ['4_club', '5_heart', '8_spade', '9_diamond', 'J_diamond', 'Q_diamond'], 'p2': ['2_diamond', '9_club', 'j1'], 'p3': ['2_heart', '6_spade', 'A_club', 'J_spade'], 'p4': ['7_club', '5_diamond', '3_heart', 'Q_club']}\n",
      "{'p0': ['6_club', 'A_spade', '3_club', '7_diamond', '8_diamond'], 'p1': ['4_club', '5_heart', '8_spade', '9_diamond', 'J_diamond', 'Q_diamond'], 'p2': ['2_diamond', '9_club', 'j1'], 'p3': ['2_heart', '6_spade', 'A_club', 'J_spade'], 'p4': ['3_heart', '4_spade', '5_diamond', '7_club', 'Q_club']}\n",
      "test:5\n",
      "{'p0': ['3_club', '4_club', '6_club', '7_diamond', '8_diamond', 'A_spade'], 'p1': ['Q_diamond', '8_spade', 'J_diamond', '5_heart', '9_diamond'], 'p2': ['2_diamond', '9_club', 'j1'], 'p3': ['2_heart', '6_spade', 'A_club', 'J_spade'], 'p4': ['3_heart', '4_spade', '5_diamond', '7_club', 'Q_club']}\n",
      "{'p0': ['3_club', '4_club', '6_club', '7_diamond', '8_diamond', 'A_spade'], 'p1': ['5_heart', '8_spade', '9_diamond', 'J_diamond', 'Q_diamond', 'j1'], 'p2': ['2_diamond', '9_club'], 'p3': ['2_heart', '6_spade', 'A_club', 'J_spade'], 'p4': ['3_heart', '4_spade', '5_diamond', '7_club', 'Q_club']}\n",
      "{'p0': ['3_club', '4_club', '6_club', '7_diamond', '8_diamond', 'A_spade'], 'p1': ['5_heart', '8_spade', '9_diamond', 'J_diamond', 'Q_diamond', 'j1'], 'p2': ['9_club'], 'p3': ['J_spade', 'A_club', '6_spade'], 'p4': ['3_heart', '4_spade', '5_diamond', '7_club', 'Q_club']}\n",
      "{'p0': ['3_club', '4_club', '6_club', '7_diamond', '8_diamond', 'A_spade'], 'p1': ['5_heart', '8_spade', '9_diamond', 'J_diamond', 'Q_diamond', 'j1'], 'p2': ['9_club'], 'p3': ['3_heart', '6_spade', 'A_club', 'J_spade'], 'p4': ['Q_club', '4_spade', '5_diamond', '7_club']}\n",
      "{'p0': ['3_club', '6_club', 'A_spade', '7_diamond', '4_club'], 'p1': ['5_heart', '8_spade', '9_diamond', 'J_diamond', 'Q_diamond', 'j1'], 'p2': ['9_club'], 'p3': ['3_heart', '6_spade', 'A_club', 'J_spade'], 'p4': ['4_spade', '5_diamond', '7_club', '8_diamond', 'Q_club']}\n",
      "test:5\n",
      "{'p0': ['3_club', '4_club', '6_club', '7_diamond', 'A_spade', 'Q_diamond'], 'p1': ['j1', '5_heart', 'J_diamond', '9_diamond', '8_spade'], 'p2': ['9_club'], 'p3': ['3_heart', '6_spade', 'A_club', 'J_spade'], 'p4': ['4_spade', '5_diamond', '7_club', '8_diamond', 'Q_club']}\n",
      "{'p0': ['3_club', '4_club', '6_club', '7_diamond', 'A_spade', 'Q_diamond'], 'p1': ['5_heart', '8_spade', 'J_diamond', 'j1'], 'p2': [], 'p3': ['3_heart', '6_spade', 'A_club', 'J_spade'], 'p4': ['4_spade', '5_diamond', '7_club', '8_diamond', 'Q_club']}\n",
      "{'p0': ['3_club', '4_club', '6_club', '7_diamond', 'A_spade', 'Q_diamond'], 'p1': ['5_heart', '8_spade', 'J_diamond', 'j1'], 'p2': [], 'p3': ['3_heart', '6_spade', 'A_club', 'J_spade', 'Q_club'], 'p4': ['4_spade', '8_diamond', '5_diamond', '7_club']}\n",
      "{'p0': ['3_club', '7_diamond', '6_club', 'A_spade', 'Q_diamond'], 'p1': ['5_heart', '8_spade', 'J_diamond', 'j1'], 'p2': [], 'p3': ['3_heart', '6_spade', 'A_club', 'J_spade', 'Q_club'], 'p4': ['5_diamond', '7_club', '8_diamond']}\n",
      "test:4\n",
      "{'p0': ['3_club', '5_heart', '6_club', '7_diamond', 'A_spade', 'Q_diamond'], 'p1': ['J_diamond', '8_spade', 'j1'], 'p3': ['3_heart', '6_spade', 'A_club', 'J_spade', 'Q_club'], 'p4': ['5_diamond', '7_club', '8_diamond']}\n",
      "{'p0': ['3_club', '5_heart', '6_club', '7_diamond', 'A_spade', 'Q_diamond'], 'p1': ['8_spade', 'A_club', 'J_diamond', 'j1'], 'p3': ['6_spade', 'Q_club', 'J_spade', '3_heart'], 'p4': ['5_diamond', '7_club', '8_diamond']}\n",
      "{'p0': ['3_club', '5_heart', '6_club', '7_diamond', 'A_spade', 'Q_diamond'], 'p1': ['8_spade', 'A_club', 'J_diamond', 'j1'], 'p3': ['3_heart', '6_spade', '8_diamond', 'J_spade', 'Q_club'], 'p4': ['5_diamond', '7_club']}\n",
      "{'p0': ['5_heart', '3_club', 'A_spade', '7_diamond', 'Q_diamond'], 'p1': ['8_spade', 'A_club', 'J_diamond', 'j1'], 'p3': ['3_heart', '6_spade', '8_diamond', 'J_spade', 'Q_club'], 'p4': ['5_diamond', '6_club', '7_club']}\n",
      "test:4\n",
      "{'p0': ['3_club', '5_heart', '7_diamond', 'A_spade', 'J_diamond', 'Q_diamond'], 'p1': ['j1', '8_spade', 'A_club'], 'p3': ['3_heart', '6_spade', '8_diamond', 'J_spade', 'Q_club'], 'p4': ['5_diamond', '6_club', '7_club']}\n",
      "{'p0': ['3_club', '5_heart', '7_diamond', 'A_spade', 'J_diamond', 'Q_diamond'], 'p1': ['8_spade', 'A_club', 'J_spade', 'j1'], 'p3': ['3_heart', '6_spade', 'Q_club', '8_diamond'], 'p4': ['5_diamond', '6_club', '7_club']}\n",
      "{'p0': ['3_club', '5_heart', '7_diamond', 'A_spade', 'J_diamond', 'Q_diamond'], 'p1': ['8_spade', 'A_club', 'J_spade', 'j1'], 'p3': ['3_heart', '8_diamond', 'Q_club'], 'p4': ['7_club', '5_diamond']}\n",
      "{'p0': ['J_diamond', 'A_spade', '5_heart', 'Q_diamond', '3_club'], 'p1': ['8_spade', 'A_club', 'J_spade', 'j1'], 'p3': ['3_heart', '8_diamond', 'Q_club'], 'p4': ['5_diamond']}\n",
      "test:4\n",
      "{'p0': ['3_club', '5_heart', 'J_diamond', 'Q_diamond'], 'p1': ['8_spade', 'J_spade', 'j1'], 'p3': ['3_heart', '8_diamond', 'Q_club'], 'p4': ['5_diamond']}\n",
      "{'p0': ['3_club', '5_heart', 'J_diamond', 'Q_diamond'], 'p1': ['3_heart', '8_spade', 'J_spade', 'j1'], 'p3': ['Q_club', '8_diamond'], 'p4': ['5_diamond']}\n",
      "{'p0': ['3_club', '5_heart', 'J_diamond', 'Q_diamond'], 'p1': ['3_heart', '8_spade', 'J_spade', 'j1'], 'p3': ['5_diamond', '8_diamond', 'Q_club'], 'p4': []}\n",
      "test:3\n",
      "{'p0': ['3_club', '5_heart', 'J_diamond', 'Q_diamond', 'j1'], 'p1': ['3_heart', 'J_spade', '8_spade'], 'p3': ['5_diamond', '8_diamond', 'Q_club']}\n",
      "{'p0': ['3_club', '5_heart', 'J_diamond', 'Q_diamond', 'j1'], 'p1': ['3_heart', '5_diamond', '8_spade', 'J_spade'], 'p3': ['8_diamond', 'Q_club']}\n",
      "{'p0': ['5_heart', 'J_diamond', '3_club', 'Q_diamond'], 'p1': ['3_heart', '5_diamond', '8_spade', 'J_spade'], 'p3': ['8_diamond', 'Q_club', 'j1']}\n",
      "test:3\n",
      "{'p0': ['3_club', '5_heart', 'Q_diamond'], 'p1': ['8_spade', '3_heart', '5_diamond'], 'p3': ['8_diamond', 'Q_club', 'j1']}\n",
      "{'p0': ['3_club', '5_heart', 'Q_diamond'], 'p1': ['3_heart', '5_diamond', '8_spade', 'j1'], 'p3': ['Q_club', '8_diamond']}\n",
      "{'p0': ['Q_diamond', '5_heart'], 'p1': ['3_heart', '5_diamond', '8_spade', 'j1'], 'p3': ['3_club', '8_diamond', 'Q_club']}\n",
      "test:3\n",
      "{'p0': ['3_heart', '5_heart', 'Q_diamond'], 'p1': ['j1', '8_spade', '5_diamond'], 'p3': ['3_club', '8_diamond', 'Q_club']}\n",
      "{'p0': ['3_heart', '5_heart', 'Q_diamond'], 'p1': ['3_club', '5_diamond', '8_spade', 'j1'], 'p3': ['Q_club', '8_diamond']}\n",
      "{'p0': ['Q_diamond', '3_heart'], 'p1': ['3_club', '5_diamond', '8_spade', 'j1'], 'p3': ['5_heart', '8_diamond', 'Q_club']}\n",
      "test:3\n",
      "{'p0': ['Q_diamond'], 'p1': ['8_spade', 'j1', '5_diamond'], 'p3': ['5_heart', '8_diamond', 'Q_club']}\n",
      "{'p0': ['Q_diamond'], 'p1': ['8_spade', 'j1'], 'p3': ['8_diamond', 'Q_club']}\n",
      "{'p0': [], 'p1': ['8_spade', 'j1'], 'p3': ['8_diamond']}\n",
      "test:2\n",
      "{'p1': ['j1'], 'p3': []}\n",
      "test:1\n",
      "['p2', 'p4', 'p0', 'p3', 'p1']\n",
      "14回\n",
      "1:p2\n",
      "2:p4\n",
      "3:p0\n",
      "4:p3\n",
      "5:p1\n"
     ]
    }
   ],
   "source": [
    "goal = []\n",
    "times =0\n",
    "while 1:\n",
    "    menbers = list(pp.keys())\n",
    "    for ite,i in enumerate(menbers):\n",
    "        if ite+1 == len(menbers):\n",
    "            me = menbers[ite]\n",
    "            you = menbers[0]\n",
    "\n",
    "        else:\n",
    "            me = menbers[ite]\n",
    "            you =menbers[ite+1]\n",
    "        \n",
    "        if len(pp[me])==0:\n",
    "            continue\n",
    "    \n",
    "        else:\n",
    "            A,B = pickup(pp[me],pp[you])\n",
    "            if A!=0 and B!=0:\n",
    "                pp[me] = A\n",
    "                pp[you] = B\n",
    "            \n",
    "            else:\n",
    "                continue\n",
    "        print(pp)\n",
    "    \n",
    "\n",
    "    for u in list(pp.keys()):\n",
    "        if len(pp[u])==0:\n",
    "            goal.append(u)\n",
    "            del pp[u]\n",
    "        \n",
    "        else:\n",
    "            continue\n",
    "    \n",
    "    print(f\"test:{len(pp)}\")\n",
    "    times+=1\n",
    "    \n",
    "    if len(pp)==1:\n",
    "        goal.extend(list(pp.keys()))\n",
    "        print(goal)\n",
    "        break\n",
    "\n",
    "print(f\"{times}回\")\n",
    "for y,i in enumerate(goal):\n",
    "    print(f\"{y+1}:{i}\")"
   ]
  }
 ],
 "metadata": {
  "hide_input": false,
  "kernelspec": {
   "display_name": "Python 3",
   "language": "python",
   "name": "python3"
  },
  "language_info": {
   "codemirror_mode": {
    "name": "ipython",
    "version": 3
   },
   "file_extension": ".py",
   "mimetype": "text/x-python",
   "name": "python",
   "nbconvert_exporter": "python",
   "pygments_lexer": "ipython3",
   "version": "3.6.8"
  },
  "latex_envs": {
   "LaTeX_envs_menu_present": true,
   "autoclose": false,
   "autocomplete": true,
   "bibliofile": "biblio.bib",
   "cite_by": "apalike",
   "current_citInitial": 1,
   "eqLabelWithNumbers": true,
   "eqNumInitial": 1,
   "hotkeys": {
    "equation": "Ctrl-E",
    "itemize": "Ctrl-I"
   },
   "labels_anchors": false,
   "latex_user_defs": false,
   "report_style_numbering": false,
   "user_envs_cfg": false
  },
  "toc": {
   "base_numbering": 1,
   "nav_menu": {},
   "number_sections": true,
   "sideBar": true,
   "skip_h1_title": false,
   "title_cell": "Table of Contents",
   "title_sidebar": "Contents",
   "toc_cell": false,
   "toc_position": {},
   "toc_section_display": true,
   "toc_window_display": false
  }
 },
 "nbformat": 4,
 "nbformat_minor": 2
}
