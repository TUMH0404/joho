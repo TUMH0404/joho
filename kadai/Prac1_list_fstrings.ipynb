{
 "cells": [
  {
   "cell_type": "markdown",
   "metadata": {},
   "source": [
    "### リストの作り方"
   ]
  },
  {
   "cell_type": "markdown",
   "metadata": {},
   "source": [
    "#### リストの操作\n",
    "> リスト内の要素を<font color=\"Red\">削除，更新，追加</font>するなど，便利なメソッドが次の表の通りある（これらの他にもある）。その中でも，上の2つ(append，index)について，頻繁に使用するしっかり覚える。\n",
    "\n",
    "|関数名|作用|\n",
    "|--------------|--------------|\n",
    "|Z.append(a)|リストZの最後尾にa追加する|\n",
    "|Z.index(x)|リストZの要素のうち，xを持つ最初の要素の位置をゼロから始まる添字で返す|\n",
    "|Z.count(x)|リストZでのxの出現回数を返す|\n",
    "|Z.sort( )|リストZの要素を並べかえる|\n",
    "|Z.insert(x,a)|リストZのx番目にaを挿入する|\n",
    "|Z.pop(i)  | リストZのi番目の要素を削除する|\n",
    "|Z.pop( )|リストZの最終の要素を削除する|\n",
    "|Z.remove(a)|リストZの最初のaを削除する|\n",
    "|Z.clear( )|リストZのすべての要素を削除する|\n",
    "|Z.reverse( )|リストの要素を逆順にする|\n",
    "\n",
    "> そのほか，\"del\" によって要素を削除することができる。"
   ]
  },
  {
   "cell_type": "markdown",
   "metadata": {},
   "source": []
  },
  {
   "cell_type": "markdown",
   "metadata": {},
   "source": [
    "### トランプカードはどんなカード？<br>\n",
    ">ジョーカー2枚(\"j1\",\"j2\")<br>\n",
    ">マークは\"spade\",\"heart\",\"diamond\",\"club\"の4<br>\n",
    ">数字の部分は\"A\",\"K\",\"Q\",\"J\",\"X\",\"9\",\"8\",\"7\",\"6\",\"5\",\"4\",\"3\",\"2\"の13<br>\n",
    "\n",
    "となっている。"
   ]
  },
  {
   "cell_type": "markdown",
   "metadata": {},
   "source": [
    "### Pythonで作ってみよう。"
   ]
  },
  {
   "cell_type": "code",
   "execution_count": 7,
   "metadata": {},
   "outputs": [],
   "source": [
    "# 上記をリストで表してみよう。\n",
    "joker = []\n",
    "mark = []\n",
    "num = []"
   ]
  },
  {
   "cell_type": "markdown",
   "metadata": {},
   "source": [
    "全部で52枚のカードを作ってみよう。<br>\n",
    "数は，A, K, Q, J, X(10の代わり), 9, 8,..., 3, 2 とする。"
   ]
  },
  {
   "cell_type": "markdown",
   "metadata": {},
   "source": [
    "ヒント\n",
    "```\n",
    "['J_club','X_heart','8_spade','7_heart',\n",
    ".\n",
    ".\n",
    ".\n",
    "\n",
    "'2_club','6_diamond','j1','j2']\n",
    " ```\n",
    " "
   ]
  },
  {
   "cell_type": "code",
   "execution_count": null,
   "metadata": {},
   "outputs": [],
   "source": [
    "Allcard = []"
   ]
  },
  {
   "cell_type": "markdown",
   "metadata": {},
   "source": [
    "print関数を使って表示する"
   ]
  },
  {
   "cell_type": "code",
   "execution_count": null,
   "metadata": {},
   "outputs": [],
   "source": [
    "print()"
   ]
  },
  {
   "cell_type": "markdown",
   "metadata": {},
   "source": [
    "Allcardを並べ替えよう"
   ]
  },
  {
   "cell_type": "markdown",
   "metadata": {},
   "source": [
    "順序よく綺麗に並べる\n",
    "```\n",
    "list.sort()\n",
    "```"
   ]
  },
  {
   "cell_type": "code",
   "execution_count": null,
   "metadata": {},
   "outputs": [],
   "source": []
  },
  {
   "cell_type": "markdown",
   "metadata": {},
   "source": [
    "バラバラにする"
   ]
  },
  {
   "cell_type": "markdown",
   "metadata": {},
   "source": [
    "バラバラにするのは自分でやるのは面倒なので簡単にしてくれるライブラリを使おう。<br>\n",
    "はじめに\n",
    "```\n",
    "import random\n",
    "```\n",
    "としてライブラリを読み込んでおく。<br>\n",
    "そして，\n",
    "```\n",
    "random.shuffle(Allcard)\n",
    "```\n",
    "とするだけで，バラバラになる。"
   ]
  },
  {
   "cell_type": "code",
   "execution_count": null,
   "metadata": {},
   "outputs": [],
   "source": [
    "import ?????"
   ]
  },
  {
   "cell_type": "code",
   "execution_count": null,
   "metadata": {},
   "outputs": [],
   "source": [
    "ra????????"
   ]
  },
  {
   "cell_type": "markdown",
   "metadata": {},
   "source": [
    "### リストの中身をみてみよう"
   ]
  },
  {
   "cell_type": "markdown",
   "metadata": {},
   "source": [
    "10番目のカードは何が入っているか？"
   ]
  },
  {
   "cell_type": "code",
   "execution_count": null,
   "metadata": {},
   "outputs": [],
   "source": [
    "print()"
   ]
  },
  {
   "cell_type": "markdown",
   "metadata": {},
   "source": [
    "10から20枚目のカードは何か？"
   ]
  },
  {
   "cell_type": "code",
   "execution_count": null,
   "metadata": {},
   "outputs": [],
   "source": [
    "print()"
   ]
  },
  {
   "cell_type": "markdown",
   "metadata": {},
   "source": [
    "最後の5枚のカードは何か"
   ]
  },
  {
   "cell_type": "code",
   "execution_count": 1,
   "metadata": {},
   "outputs": [
    {
     "name": "stdout",
     "output_type": "stream",
     "text": [
      "\n"
     ]
    }
   ],
   "source": [
    "print()"
   ]
  },
  {
   "cell_type": "markdown",
   "metadata": {},
   "source": [
    "最後の5枚のカードをcard5という変数名に代入する。"
   ]
  },
  {
   "cell_type": "code",
   "execution_count": null,
   "metadata": {},
   "outputs": [],
   "source": []
  },
  {
   "cell_type": "markdown",
   "metadata": {},
   "source": [
    "cardsにcard5をコピーする<br>\n",
    "[参照](https://nbviewer.jupyter.org/github/tuMH0404/joho/blob/master/kadai/copy.ipynb)"
   ]
  },
  {
   "cell_type": "code",
   "execution_count": null,
   "metadata": {},
   "outputs": [],
   "source": [
    "cards = card5.????\n",
    "## もしくは\n",
    "cards = card5[:]"
   ]
  },
  {
   "cell_type": "markdown",
   "metadata": {},
   "source": [
    "#### リストの簡単な操作"
   ]
  },
  {
   "cell_type": "markdown",
   "metadata": {},
   "source": [
    "cardsの2番目の要素を\"j2\"に変更する"
   ]
  },
  {
   "cell_type": "code",
   "execution_count": null,
   "metadata": {},
   "outputs": [],
   "source": []
  },
  {
   "cell_type": "markdown",
   "metadata": {},
   "source": [
    "cardsの2番目を削除する"
   ]
  },
  {
   "cell_type": "code",
   "execution_count": null,
   "metadata": {},
   "outputs": [],
   "source": []
  },
  {
   "cell_type": "markdown",
   "metadata": {},
   "source": [
    "cardsの1番目と2番目の間に元のカードを挿入する"
   ]
  },
  {
   "cell_type": "code",
   "execution_count": null,
   "metadata": {},
   "outputs": [],
   "source": []
  },
  {
   "cell_type": "markdown",
   "metadata": {},
   "source": [
    "cardsとcard5の中身は同じになりましたか？？"
   ]
  },
  {
   "cell_type": "code",
   "execution_count": null,
   "metadata": {},
   "outputs": [],
   "source": [
    "cards ??? card5"
   ]
  },
  {
   "cell_type": "markdown",
   "metadata": {},
   "source": [
    "#### 宿題"
   ]
  },
  {
   "cell_type": "markdown",
   "metadata": {},
   "source": [
    "最後のカードをlastという変数名に格納してそれをf文字列で表示しよう。<br>\n",
    "[参照](https://nbviewer.jupyter.org/github/tuMH0404/joho/blob/master/kadai/f-string.ipynb)"
   ]
  },
  {
   "cell_type": "code",
   "execution_count": null,
   "metadata": {},
   "outputs": [],
   "source": [
    "last = ??????\n",
    "print(f\"\")"
   ]
  },
  {
   "cell_type": "markdown",
   "metadata": {},
   "source": [
    "最後にrandom.shuffle()は本当にシャッフルされているのか？<br>\n",
    "10回確認する。"
   ]
  },
  {
   "cell_type": "code",
   "execution_count": null,
   "metadata": {},
   "outputs": [],
   "source": [
    "# 空リスト\n",
    "laststring = []"
   ]
  },
  {
   "cell_type": "code",
   "execution_count": null,
   "metadata": {},
   "outputs": [],
   "source": [
    "ran???????\n",
    "last = ??????????\n",
    "lasts??????.ap??????\n",
    "## ここを10回実行する"
   ]
  },
  {
   "cell_type": "code",
   "execution_count": null,
   "metadata": {},
   "outputs": [],
   "source": [
    "print(laststring)\n",
    "## ここに10個のバラバラなカードが表示されると成功!!"
   ]
  }
 ],
 "metadata": {
  "kernelspec": {
   "display_name": "Python 3",
   "language": "python",
   "name": "python3"
  },
  "language_info": {
   "codemirror_mode": {
    "name": "ipython",
    "version": 3
   },
   "file_extension": ".py",
   "mimetype": "text/x-python",
   "name": "python",
   "nbconvert_exporter": "python",
   "pygments_lexer": "ipython3",
   "version": "3.6.8"
  },
  "toc": {
   "base_numbering": 1,
   "nav_menu": {},
   "number_sections": false,
   "sideBar": true,
   "skip_h1_title": false,
   "title_cell": "Table of Contents",
   "title_sidebar": "Contents",
   "toc_cell": false,
   "toc_position": {},
   "toc_section_display": true,
   "toc_window_display": false
  }
 },
 "nbformat": 4,
 "nbformat_minor": 2
}
