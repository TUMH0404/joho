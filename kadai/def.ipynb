{
 "cells": [
  {
   "cell_type": "markdown",
   "metadata": {},
   "source": [
    "### シンプルにする！"
   ]
  },
  {
   "cell_type": "markdown",
   "metadata": {},
   "source": [
    "#### フローチャート\n",
    "先に作ったフローチャート，ややこしい部分がある。色で囲った部分でプログラムが長って，煩雑である。\n",
    "<br>\n",
    "<br>\n",
    "<img src=\"f03.png\" width=\"600\">\n",
    "<img src=\"f04.png\" width=\"600\">"
   ]
  },
  {
   "cell_type": "markdown",
   "metadata": {},
   "source": [
    "上の図で囲った部分をBloodPressとおいてフローチャートを書き換えると・・・\n",
    "<img src = \"def.png\" width=\"700\">"
   ]
  },
  {
   "cell_type": "markdown",
   "metadata": {},
   "source": [
    "### def文の基本形 "
   ]
  },
  {
   "cell_type": "markdown",
   "metadata": {},
   "source": [
    " - 引数がある場合<br>\n",
    "def zoo(引数1, 引数2):\n",
    "        処理1\n",
    "        処理2\n",
    "        return 値\n",
    "\n",
    "\n",
    " - 引数がない場合<br>\n",
    "def zoo():\n",
    "        処理1\n",
    "        処理2\n",
    "        print(\"なんとか\")\n"
   ]
  },
  {
   "cell_type": "markdown",
   "metadata": {},
   "source": [
    "前に書いた血圧を分類するコード。\n",
    "<br>\n",
    "どの部分が引数で，どの部分を関数の中に入れる？"
   ]
  },
  {
   "cell_type": "code",
   "execution_count": 2,
   "metadata": {},
   "outputs": [
    {
     "name": "stdout",
     "output_type": "stream",
     "text": [
      "宝塚太郎さんの血圧は125/60であり，正常血圧です\n"
     ]
    }
   ],
   "source": [
    "## code  ##\n",
    "name = \"宝塚太郎\"\n",
    "sbp = 125\n",
    "dbp = 60\n",
    "\n",
    "##\n",
    "ue = [sbp<120, sbp<130, sbp<140, sbp<160, sbp<180, sbp>=180].index(True)\n",
    "sita = [dbp<80, dbp<85, dbp<90, dbp<100, dbp<110, dbp>=110].index(True)\n",
    "\n",
    "if ue == 0 and sita==0:\n",
    "    d2 =  \"至適高血圧\"\n",
    "elif ue >2 and sita < 3:\n",
    "    d2 = \"収縮期高血圧\"\n",
    "else:\n",
    "    if ue > sita:\n",
    "        v = ue\n",
    "    else:\n",
    "        v = sita\n",
    "    \n",
    "    if v ==1:\n",
    "        d2 = \"正常血圧\" \n",
    "    elif v == 2:\n",
    "        d2 = \"正常高血圧\"\n",
    "    elif v == 3:\n",
    "        d2 = \"1度高血圧\"\n",
    "    elif v == 4:\n",
    "        d2 = \"2度高血圧\"\n",
    "    else:\n",
    "        d2= \"3度高血圧\"\n",
    "\n",
    "print(f\"{name}さんの血圧は{sbp}/{dbp}であり，{d2}です\")\n",
    "\n",
    "## end ##"
   ]
  },
  {
   "cell_type": "markdown",
   "metadata": {},
   "source": [
    "### def文の練習"
   ]
  },
  {
   "cell_type": "markdown",
   "metadata": {},
   "source": [
    "#### 基本的な形"
   ]
  },
  {
   "cell_type": "code",
   "execution_count": 3,
   "metadata": {},
   "outputs": [],
   "source": [
    "## 定義する\n",
    "def func1():\n",
    "    print(5**2)\n",
    "\n",
    "def func2(a):\n",
    "    print(a**2)\n"
   ]
  },
  {
   "cell_type": "code",
   "execution_count": 4,
   "metadata": {},
   "outputs": [
    {
     "name": "stdout",
     "output_type": "stream",
     "text": [
      "25\n"
     ]
    }
   ],
   "source": [
    "## 使用する\n",
    "func1()"
   ]
  },
  {
   "cell_type": "code",
   "execution_count": 5,
   "metadata": {},
   "outputs": [
    {
     "name": "stdout",
     "output_type": "stream",
     "text": [
      "25\n"
     ]
    }
   ],
   "source": [
    "func2(5)"
   ]
  },
  {
   "cell_type": "markdown",
   "metadata": {},
   "source": [
    "もう少しやってみる。"
   ]
  },
  {
   "cell_type": "code",
   "execution_count": 9,
   "metadata": {},
   "outputs": [],
   "source": [
    "## 定義する\n",
    "def func3(a):\n",
    "    a = a+1\n",
    "    return a**2"
   ]
  },
  {
   "cell_type": "code",
   "execution_count": 13,
   "metadata": {},
   "outputs": [
    {
     "name": "stdout",
     "output_type": "stream",
     "text": [
      "49\n"
     ]
    }
   ],
   "source": [
    "## 使用する\n",
    "b = func3(6)\n",
    "print(b)"
   ]
  },
  {
   "cell_type": "markdown",
   "metadata": {},
   "source": [
    "#### 次の条件を満たす関数を定義する。<br>\n",
    "\n",
    "問題1<br>\n",
    " - ある数値が1000円より大きい時は「高い」それ以外は「安い」と表示する関数を定義する。 \n",
    "\n",
    "問題2 <br>\n",
    " - ある数値が奇数か偶数か判定する関数を定義する。<br>\n",
    " - 奇数のときは「奇数」と偶数のときは「偶数」と表示する。"
   ]
  },
  {
   "cell_type": "markdown",
   "metadata": {},
   "source": [
    "#### 血圧を分類する関数を作成する"
   ]
  },
  {
   "cell_type": "markdown",
   "metadata": {},
   "source": [
    "上の`code`のうち・・・<br>\n",
    "1. 引数になるのはどれか？\n",
    "1. 関数の本体部分はどれか？\n",
    "1. 返り値(returnで出すところ)，もしくは表示する部分はどこか？"
   ]
  },
  {
   "cell_type": "code",
   "execution_count": 15,
   "metadata": {
    "slideshow": {
     "slide_type": "slide"
    }
   },
   "outputs": [],
   "source": [
    "def BloodPress( name , valueH , valueL ):\n",
    "    ##\n",
    "    ue = [valueH<120, valueH<130, valueH<140, valueH<160, valueH<180, valueH>=180].index(True)\n",
    "    sita = [valueL<80, valueL<85, valueL<90, valueL<100, valueL<110, valueL>=110].index(True)\n",
    "\n",
    "    if ue == 0 and sita==0:\n",
    "        d2 =  \"至適高血圧\"\n",
    "    elif ue >2 and sita < 3:\n",
    "        d2 = \"収縮期高血圧\"\n",
    "    else:\n",
    "        \n",
    "        if ue > sita:\n",
    "            v = ue\n",
    "        else:\n",
    "            v = sita\n",
    "\n",
    "    if v ==1:\n",
    "        d2 = \"正常血圧\" \n",
    "    elif v == 2:\n",
    "        d2 = \"正常高血圧\"\n",
    "    elif v == 3:\n",
    "        d2 = \"1度高血圧\"\n",
    "    elif v == 4:\n",
    "        d2 = \"2度高血圧\"\n",
    "    else:\n",
    "        d2= \"3度高血圧\"    \n",
    "    \n",
    "    return f\"{name}さんの血圧は{valueH}/{valueL}であり，{d2}です\""
   ]
  },
  {
   "cell_type": "code",
   "execution_count": null,
   "metadata": {},
   "outputs": [],
   "source": []
  }
 ],
 "metadata": {
  "kernelspec": {
   "display_name": "Python 3",
   "language": "python",
   "name": "python3"
  },
  "language_info": {
   "codemirror_mode": {
    "name": "ipython",
    "version": 3
   },
   "file_extension": ".py",
   "mimetype": "text/x-python",
   "name": "python",
   "nbconvert_exporter": "python",
   "pygments_lexer": "ipython3",
   "version": "3.6.8"
  },
  "toc": {
   "base_numbering": 1,
   "nav_menu": {},
   "number_sections": true,
   "sideBar": true,
   "skip_h1_title": false,
   "title_cell": "Table of Contents",
   "title_sidebar": "Contents",
   "toc_cell": false,
   "toc_position": {},
   "toc_section_display": true,
   "toc_window_display": false
  }
 },
 "nbformat": 4,
 "nbformat_minor": 2
}
