{
 "cells": [
  {
   "cell_type": "markdown",
   "metadata": {},
   "source": [
    "#### 四肢，体幹に属する主要な骨名をまとめた。"
   ]
  },
  {
   "cell_type": "markdown",
   "metadata": {},
   "source": [
    "```\n",
    "EE = [\"上腕骨\",\"橈骨\",\"尺骨\",\"肩甲骨\",\"鎖骨\",\"豆状骨\",\"三角骨\",\n",
    "        \"月状骨\",\"舟状骨\",\"大菱形骨\",\"小菱形骨\",\"有頭骨\",\"有鈎骨\",\n",
    "      \"中手骨\",\"基節骨\",\"中節骨\",\"末節骨\",\"大腿骨\",\"脛骨\",\"腓骨\",\"距骨\",\"踵骨\",\"立方骨\",\"舟状骨\"]\n",
    "TT = [\"頭蓋骨\",\"寛骨\",\"環椎\",\"軸椎\",\"頸骨\",\"胸椎\",\"腰椎\",\"仙椎\",\"胸骨\",\"肋骨\"]\n",
    "```"
   ]
  },
  {
   "cell_type": "code",
   "execution_count": null,
   "metadata": {},
   "outputs": [],
   "source": [
    "# ここにコピペして実行する\n"
   ]
  },
  {
   "cell_type": "markdown",
   "metadata": {},
   "source": [
    "#### 肩甲骨と鎖骨は体幹に含めたい。\n",
    "##### 肩甲骨と鎖骨がどこに属しているのか？\n",
    "##### 肩甲骨と鎖骨を体幹に移動する，EEからなくなり，TTに移すコードを書き，実行して確認せよ。\n",
    "##### 手根骨に属する骨がある。carm という変数名で新たにリストを作成せよ。"
   ]
  }
 ],
 "metadata": {
  "hide_input": false,
  "kernelspec": {
   "display_name": "Python 3",
   "language": "python",
   "name": "python3"
  },
  "language_info": {
   "codemirror_mode": {
    "name": "ipython",
    "version": 3
   },
   "file_extension": ".py",
   "mimetype": "text/x-python",
   "name": "python",
   "nbconvert_exporter": "python",
   "pygments_lexer": "ipython3",
   "version": "3.6.7"
  },
  "latex_envs": {
   "LaTeX_envs_menu_present": true,
   "autoclose": false,
   "autocomplete": true,
   "bibliofile": "biblio.bib",
   "cite_by": "apalike",
   "current_citInitial": 1,
   "eqLabelWithNumbers": true,
   "eqNumInitial": 1,
   "hotkeys": {
    "equation": "Ctrl-E",
    "itemize": "Ctrl-I"
   },
   "labels_anchors": false,
   "latex_user_defs": false,
   "report_style_numbering": false,
   "user_envs_cfg": false
  },
  "toc": {
   "base_numbering": 1,
   "nav_menu": {},
   "number_sections": true,
   "sideBar": true,
   "skip_h1_title": false,
   "title_cell": "Table of Contents",
   "title_sidebar": "Contents",
   "toc_cell": false,
   "toc_position": {},
   "toc_section_display": true,
   "toc_window_display": false
  }
 },
 "nbformat": 4,
 "nbformat_minor": 2
}
