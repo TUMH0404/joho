{
 "cells": [
  {
   "cell_type": "markdown",
   "metadata": {},
   "source": [
    "#### 四肢，体幹に属する主要な骨名をまとめた。"
   ]
  },
  {
   "cell_type": "markdown",
   "metadata": {},
   "source": [
    "```\n",
    "EE = [\"上腕骨\",\"橈骨\",\"尺骨\",\"肩甲骨\",\"鎖骨\",\"豆状骨\",\"三角骨\",\n",
    "        \"月状骨\",\"舟状骨\",\"大菱形骨\",\"小菱形骨\",\"有頭骨\",\"有鈎骨\",\n",
    "      \"中手骨\",\"基節骨\",\"中節骨\",\"末節骨\",\"大腿骨\",\"脛骨\",\"腓骨\",\"距骨\",\"踵骨\",\"立方骨\",\"舟状骨\"]\n",
    "TT = [\"頭蓋骨\",\"寛骨\",\"環椎\",\"軸椎\",\"頸骨\",\"胸椎\",\"腰椎\",\"仙椎\",\"胸骨\",\"肋骨\"]\n",
    "```"
   ]
  },
  {
   "cell_type": "code",
   "execution_count": null,
   "metadata": {},
   "outputs": [],
   "source": [
    "# ここにコピペして実行する\n"
   ]
  },
  {
   "cell_type": "markdown",
   "metadata": {},
   "source": [
    "#### 肩甲骨と鎖骨は体幹に含めたい。\n",
    "##### 肩甲骨と鎖骨がどこに属しているのか？\n",
    "##### 肩甲骨と鎖骨を体幹に移動する，EEからなくなり，TTに移すコードを書き，実行して確認せよ。\n",
    "##### 手根骨に属する骨がある。carm という変数名で新たにリストを作成せよ。"
   ]
  },
  {
   "cell_type": "markdown",
   "metadata": {},
   "source": []
  }
 ],
 "metadata": {
  "kernelspec": {
   "display_name": "Python 3",
   "language": "python",
   "name": "python3"
  },
  "language_info": {
   "codemirror_mode": {
    "name": "ipython",
    "version": 3
   },
   "file_extension": ".py",
   "mimetype": "text/x-python",
   "name": "python",
   "nbconvert_exporter": "python",
   "pygments_lexer": "ipython3",
   "version": "3.6.8"
  },
  "toc": {
   "base_numbering": 1,
   "nav_menu": {},
   "number_sections": true,
   "sideBar": true,
   "skip_h1_title": false,
   "title_cell": "Table of Contents",
   "title_sidebar": "Contents",
   "toc_cell": false,
   "toc_position": {},
   "toc_section_display": true,
   "toc_window_display": true
  }
 },
 "nbformat": 4,
 "nbformat_minor": 2
}
