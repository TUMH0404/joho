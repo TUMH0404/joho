{
 "cells": [
  {
   "cell_type": "markdown",
   "metadata": {},
   "source": [
    "#### range関数について"
   ]
  },
  {
   "cell_type": "markdown",
   "metadata": {},
   "source": [
    "range関数は等差数列を作る関数である。<br>\n",
    "第２引数は省略することはできないが，そのほかは省略可能である。<br>\n",
    "頻繁に使う方法は以下の通りである。"
   ]
  },
  {
   "cell_type": "code",
   "execution_count": 2,
   "metadata": {},
   "outputs": [
    {
     "name": "stdout",
     "output_type": "stream",
     "text": [
      "0\n",
      "1\n",
      "2\n",
      "3\n",
      "4\n",
      "5\n",
      "6\n",
      "7\n",
      "8\n",
      "9\n"
     ]
    }
   ],
   "source": [
    "# code 1\n",
    "for i in range(10):\n",
    "    print(i)"
   ]
  },
  {
   "cell_type": "markdown",
   "metadata": {},
   "source": [
    "第1および第3引数を追加すると・・・"
   ]
  },
  {
   "cell_type": "code",
   "execution_count": 16,
   "metadata": {},
   "outputs": [
    {
     "name": "stdout",
     "output_type": "stream",
     "text": [
      "0\n",
      "1\n",
      "2\n",
      "3\n",
      "4\n",
      "5\n",
      "6\n",
      "7\n",
      "8\n",
      "9\n"
     ]
    }
   ],
   "source": [
    "# code 2\n",
    "for i in range(0,10,1):\n",
    "    print(i)"
   ]
  },
  {
   "cell_type": "markdown",
   "metadata": {},
   "source": [
    "code1とcode2は同じ結果になる。"
   ]
  },
  {
   "cell_type": "markdown",
   "metadata": {},
   "source": [
    "range(10)もしくはrange(0,10,1)の意味は，0から始まる長さ10のシーケンスのうち，ステップを1とするイテレートされた数列を返す。<br>\n",
    "<font color=\"red\">つまり，0から10の数列を1つ飛ばしで得られる数列を作ることを指示する。</font><br>\n"
   ]
  },
  {
   "cell_type": "markdown",
   "metadata": {},
   "source": [
    "#### for文とrange関数を使った例題"
   ]
  },
  {
   "cell_type": "markdown",
   "metadata": {},
   "source": [
    "##### 0から19の数値のうち，偶数のみ表示せよ。"
   ]
  },
  {
   "cell_type": "markdown",
   "metadata": {},
   "source": [
    "##### 0から19の数値のうち，奇数のみ表示せよ。"
   ]
  },
  {
   "cell_type": "markdown",
   "metadata": {},
   "source": [
    "##### 10から1ずつ減る数列を作成せよ。"
   ]
  },
  {
   "cell_type": "markdown",
   "metadata": {},
   "source": [
    "##### 次のようにfor文を使って表示せよ。\n",
    "```\n",
    "0月はJanuaryです\n",
    "1月はFebruaryです\n",
    "2月はMarchです\n",
    "3月はAprilです\n",
    "4月はMayです\n",
    "5月はJuneです\n",
    "6月はJulyです\n",
    "7月はAugustです\n",
    "8月はSeptemberです\n",
    "9月はOctoberです\n",
    "10月はNovemberです\n",
    "11月はDecemberです\n",
    "```\n",
    "\n",
    "**ヒント**最初に次のリストを作成する。\n",
    "```\n",
    "month = [\"January\",\"February\",\"March\",\"April\",\"May\",\"June\",\"July\",\"August\",\"September\",\"October\",\"November\",\"December\"]\n",
    "```"
   ]
  }
 ],
 "metadata": {
  "kernelspec": {
   "display_name": "Python 3",
   "language": "python",
   "name": "python3"
  },
  "language_info": {
   "codemirror_mode": {
    "name": "ipython",
    "version": 3
   },
   "file_extension": ".py",
   "mimetype": "text/x-python",
   "name": "python",
   "nbconvert_exporter": "python",
   "pygments_lexer": "ipython3",
   "version": "3.6.8"
  },
  "toc": {
   "base_numbering": 1,
   "nav_menu": {},
   "number_sections": true,
   "sideBar": true,
   "skip_h1_title": false,
   "title_cell": "Table of Contents",
   "title_sidebar": "Contents",
   "toc_cell": false,
   "toc_position": {},
   "toc_section_display": true,
   "toc_window_display": false
  }
 },
 "nbformat": 4,
 "nbformat_minor": 2
}
