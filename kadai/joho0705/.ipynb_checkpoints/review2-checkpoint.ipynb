{
 "cells": [
  {
   "cell_type": "markdown",
   "metadata": {},
   "source": [
    "# 6月27日と7月4日の復習\n",
    "**必ずよ〜〜く読むこと**<br>\n",
    "コードの部分は，コードが何をしているのか，イメージしながら読む。"
   ]
  },
  {
   "cell_type": "markdown",
   "metadata": {},
   "source": [
    "<img src=\"class.png\">"
   ]
  },
  {
   "cell_type": "markdown",
   "metadata": {},
   "source": [
    "多くの人の血圧を自動的に分類したい。なぜなら，一人ひとり数値を見ながらやるのは面倒だ！<br>\n",
    "動機はどうであれ，以下のようなプログラムを作った（教えた）。<br>\n",
    "これについて，夏期休暇の間に是非とも理解をしておいてほしい（後期もPythonを用いて講義が進められるから）。<br>\n",
    "### 復習してほしいポイント<br>\n",
    " - リストの作り方と操作\n",
    " - リストに作用するメソッド(index, appendなど)\n",
    " - 変数と予約語\n",
    " - len関数\n",
    " - f-strings\n",
    " - if文\n",
    " - for文\n"
   ]
  },
  {
   "cell_type": "code",
   "execution_count": 1,
   "metadata": {},
   "outputs": [
    {
     "name": "stdout",
     "output_type": "stream",
     "text": [
      "TUMH100号さんの血圧は125/60であり，正常血圧です\n"
     ]
    }
   ],
   "source": [
    "## 血圧の分類 ##\n",
    "## 1.変数名に値を代入する\n",
    "name = \"TUMH100号\"  ## 名前\n",
    "sbp = 125                   ## 血圧（上）\n",
    "dbp = 60                    ## 血圧（下）\n",
    "\n",
    "## 2.処理する（ここには２つの工程がある）\n",
    "#~~~~~~~~~~~~~~~~~~~~~~~~~~~~~~~~~~~~~~~~~~~~~~~~~~~~~~~~~~~~~~~~~~~~~~#\n",
    "# <処理1>血圧の位置を取得する\n",
    "ue = [sbp<120, sbp<130, sbp<140, sbp<160, sbp<180, sbp>=180].index(True)\n",
    "sita = [dbp<80, dbp<85, dbp<90, dbp<100, dbp<110, dbp>=110].index(True)\n",
    "\n",
    "# <処理2>取得した位置から血圧分類をする\n",
    "if ue == 0 and sita==0:\n",
    "    d2 =  \"至適血圧\"\n",
    "elif ue >2 and sita < 3:\n",
    "    d2 = \"収縮期高血圧\"\n",
    "else:\n",
    "    if ue > sita:\n",
    "        v = ue\n",
    "    else:\n",
    "        v = sita\n",
    "    \n",
    "    if v ==1:\n",
    "        d2 = \"正常血圧\" \n",
    "    elif v == 2:\n",
    "        d2 = \"正常高血圧\"\n",
    "    elif v == 3:\n",
    "        d2 = \"1度高血圧\"\n",
    "    elif v == 4:\n",
    "        d2 = \"2度高血圧\"\n",
    "    else:\n",
    "        d2= \"3度高血圧\"\n",
    "#~~~~~~~~~~~~~~~~~~~~~~~~~~~~~~~~~~~~~~~~~~~~~~~~~~~~~~~~~~~~~~~~~~~~~~#\n",
    "\n",
    "\n",
    "## 3.結果を取得する，あるいは表示する\n",
    "print(f\"{name}さんの血圧は{sbp}/{dbp}であり，{d2}です\")\n",
    "\n",
    "#####"
   ]
  },
  {
   "cell_type": "markdown",
   "metadata": {},
   "source": [
    "例えば，ここに100名のデータがあるとする。"
   ]
  },
  {
   "cell_type": "code",
   "execution_count": 2,
   "metadata": {},
   "outputs": [],
   "source": [
    "dat = [\n",
    "['Rev1号', 173, 97],\n",
    "['Rev2号', 79, 72],\n",
    "['Rev3号', 143, 111],\n",
    "['Rev4号', 142, 52],\n",
    "['Rev5号', 172, 59],\n",
    "['Rev6号', 163, 103],\n",
    "['Rev7号', 99, 78],\n",
    "['Rev8号', 117, 89],\n",
    "['Rev9号', 95, 68],\n",
    "['Rev10号', 182, 93],\n",
    "['Rev11号', 120, 109],\n",
    "['Rev12号', 108, 101],\n",
    "['Rev13号', 179, 61],\n",
    "['Rev14号', 149, 87],\n",
    "['Rev15号', 114, 104],\n",
    "['Rev16号', 116, 82],\n",
    "['Rev17号', 111, 92],\n",
    "['Rev18号', 113, 66],\n",
    "['Rev19号', 152, 80],\n",
    "['Rev20号', 169, 62]\n",
    "]"
   ]
  },
  {
   "cell_type": "markdown",
   "metadata": {},
   "source": [
    "このデータの群の人数を知るには，datにあるリスト（名前，血圧（上），血圧（下））の塊のデータの数を調べれば良い。<br>\n",
    "先のようにデータが定義されていれば，一番簡単なのはデータの長さが人数になる。<br>\n",
    "したがって，"
   ]
  },
  {
   "cell_type": "code",
   "execution_count": 3,
   "metadata": {},
   "outputs": [
    {
     "data": {
      "text/plain": [
       "20"
      ]
     },
     "execution_count": 3,
     "metadata": {},
     "output_type": "execute_result"
    }
   ],
   "source": [
    "len(dat)"
   ]
  },
  {
   "cell_type": "markdown",
   "metadata": {},
   "source": [
    "が人数になる。<br>\n",
    "つまり，`len(dat)`が人数だ。"
   ]
  },
  {
   "cell_type": "markdown",
   "metadata": {},
   "source": [
    "次に，この群内一人ずつの血圧の分類を取得する場合はどうすればよいか？<br>\n",
    " 1. for文を使って一つずつ（一人分ずつ）のデータをdatから取得する。<br>\n",
    " 1. 個々に得られるデータを3つの変数にそれぞれ代入する。<br>\n",
    " 1. 血圧の分類をするコードに変数を使って変数にある値を判定させる。<br>\n",
    " 1. 結果を表示（取得）する。<br>\n",
    " \n",
    "以上の流れをコードにまとめると次のようになる。<br>\n"
   ]
  },
  {
   "cell_type": "markdown",
   "metadata": {},
   "source": [
    "## 1をする"
   ]
  },
  {
   "cell_type": "code",
   "execution_count": 4,
   "metadata": {},
   "outputs": [
    {
     "name": "stdout",
     "output_type": "stream",
     "text": [
      "['Rev1号', 173, 97]\n",
      "['Rev2号', 79, 72]\n",
      "['Rev3号', 143, 111]\n",
      "['Rev4号', 142, 52]\n",
      "['Rev5号', 172, 59]\n",
      "['Rev6号', 163, 103]\n",
      "['Rev7号', 99, 78]\n",
      "['Rev8号', 117, 89]\n",
      "['Rev9号', 95, 68]\n",
      "['Rev10号', 182, 93]\n",
      "['Rev11号', 120, 109]\n",
      "['Rev12号', 108, 101]\n",
      "['Rev13号', 179, 61]\n",
      "['Rev14号', 149, 87]\n",
      "['Rev15号', 114, 104]\n",
      "['Rev16号', 116, 82]\n",
      "['Rev17号', 111, 92]\n",
      "['Rev18号', 113, 66]\n",
      "['Rev19号', 152, 80]\n",
      "['Rev20号', 169, 62]\n"
     ]
    }
   ],
   "source": [
    "# code1\n",
    "for q in dat:    \n",
    "    print(q)"
   ]
  },
  {
   "cell_type": "markdown",
   "metadata": {},
   "source": [
    "もしくは・・・"
   ]
  },
  {
   "cell_type": "code",
   "execution_count": 5,
   "metadata": {},
   "outputs": [
    {
     "name": "stdout",
     "output_type": "stream",
     "text": [
      "['Rev1号', 173, 97]\n",
      "['Rev2号', 79, 72]\n",
      "['Rev3号', 143, 111]\n",
      "['Rev4号', 142, 52]\n",
      "['Rev5号', 172, 59]\n",
      "['Rev6号', 163, 103]\n",
      "['Rev7号', 99, 78]\n",
      "['Rev8号', 117, 89]\n",
      "['Rev9号', 95, 68]\n",
      "['Rev10号', 182, 93]\n",
      "['Rev11号', 120, 109]\n",
      "['Rev12号', 108, 101]\n",
      "['Rev13号', 179, 61]\n",
      "['Rev14号', 149, 87]\n",
      "['Rev15号', 114, 104]\n",
      "['Rev16号', 116, 82]\n",
      "['Rev17号', 111, 92]\n",
      "['Rev18号', 113, 66]\n",
      "['Rev19号', 152, 80]\n",
      "['Rev20号', 169, 62]\n"
     ]
    }
   ],
   "source": [
    "# code2\n",
    "for q in range(len(dat)):\n",
    "    print(dat[q])"
   ]
  },
  {
   "cell_type": "markdown",
   "metadata": {},
   "source": [
    "code1とcode2の結果は同じだ。<br>\n",
    "ただし，code１のほうが，code2よりも単純でよい。<br>\n",
    "よって，次のコードからは，`code1`を採用する。"
   ]
  },
  {
   "cell_type": "markdown",
   "metadata": {},
   "source": [
    "## 2をする"
   ]
  },
  {
   "cell_type": "code",
   "execution_count": 6,
   "metadata": {},
   "outputs": [
    {
     "name": "stdout",
     "output_type": "stream",
     "text": [
      "Rev1号 173 97\n",
      "Rev2号 79 72\n",
      "Rev3号 143 111\n",
      "Rev4号 142 52\n",
      "Rev5号 172 59\n",
      "Rev6号 163 103\n",
      "Rev7号 99 78\n",
      "Rev8号 117 89\n",
      "Rev9号 95 68\n",
      "Rev10号 182 93\n",
      "Rev11号 120 109\n",
      "Rev12号 108 101\n",
      "Rev13号 179 61\n",
      "Rev14号 149 87\n",
      "Rev15号 114 104\n",
      "Rev16号 116 82\n",
      "Rev17号 111 92\n",
      "Rev18号 113 66\n",
      "Rev19号 152 80\n",
      "Rev20号 169 62\n"
     ]
    }
   ],
   "source": [
    "# code3\n",
    "for q in dat:\n",
    "    ## -----追加した部分 ------ ##\n",
    "    name = q[0]\n",
    "    sbp = q[1]\n",
    "    dbp = q[2]\n",
    "    ## ----- ココまで -----------##\n",
    "    #表示して確認する。\n",
    "    print(name,sbp,dbp)"
   ]
  },
  {
   "cell_type": "markdown",
   "metadata": {},
   "source": [
    "ここのポイントは，リストの要素へのアクセルである。しっかり復習しよう！！"
   ]
  },
  {
   "cell_type": "markdown",
   "metadata": {},
   "source": [
    "## 3をする"
   ]
  },
  {
   "cell_type": "code",
   "execution_count": 7,
   "metadata": {},
   "outputs": [
    {
     "name": "stdout",
     "output_type": "stream",
     "text": [
      "Rev1号さんの血圧は173/97であり，2度高血圧です\n",
      "Rev2号さんの血圧は79/72であり，至適血圧です\n",
      "Rev3号さんの血圧は143/111であり，3度高血圧です\n",
      "Rev4号さんの血圧は142/52であり，収縮期高血圧です\n",
      "Rev5号さんの血圧は172/59であり，収縮期高血圧です\n",
      "Rev6号さんの血圧は163/103であり，2度高血圧です\n",
      "Rev7号さんの血圧は99/78であり，至適血圧です\n",
      "Rev8号さんの血圧は117/89であり，正常高血圧です\n",
      "Rev9号さんの血圧は95/68であり，至適血圧です\n",
      "Rev10号さんの血圧は182/93であり，3度高血圧です\n",
      "Rev11号さんの血圧は120/109であり，2度高血圧です\n",
      "Rev12号さんの血圧は108/101であり，2度高血圧です\n",
      "Rev13号さんの血圧は179/61であり，収縮期高血圧です\n",
      "Rev14号さんの血圧は149/87であり，収縮期高血圧です\n",
      "Rev15号さんの血圧は114/104であり，2度高血圧です\n",
      "Rev16号さんの血圧は116/82であり，正常血圧です\n",
      "Rev17号さんの血圧は111/92であり，1度高血圧です\n",
      "Rev18号さんの血圧は113/66であり，至適血圧です\n",
      "Rev19号さんの血圧は152/80であり，収縮期高血圧です\n",
      "Rev20号さんの血圧は169/62であり，収縮期高血圧です\n"
     ]
    }
   ],
   "source": [
    "# code4\n",
    "for q in dat: \n",
    "    ## 1.変数名に値を代入する\n",
    "    ## これ，前のやつ\n",
    "    #name = \"TUMH100号\"  ## 名前\n",
    "    #sbp = 125                   ## 血圧（上）\n",
    "    #dbp = 60                    ## 血圧（下）\n",
    "\n",
    "    name = q[0]\n",
    "    sbp = q[1]\n",
    "    dbp = q[2]\n",
    "\n",
    "    #~~~~  code3に追加した部分  ~~~~~~~~#\n",
    "    # <処理1>血圧の位置を取得する\n",
    "    ue = [sbp<120, sbp<130, sbp<140, sbp<160, sbp<180, sbp>=180].index(True)\n",
    "    sita = [dbp<80, dbp<85, dbp<90, dbp<100, dbp<110, dbp>=110].index(True)\n",
    "\n",
    "    # <処理2>取得した位置から血圧分類をする\n",
    "    if ue == 0 and sita==0:\n",
    "        d2 =  \"至適血圧\"\n",
    "    elif ue >2 and sita < 3:\n",
    "        d2 = \"収縮期高血圧\"\n",
    "    else:\n",
    "        if ue > sita:\n",
    "            v = ue\n",
    "        else:\n",
    "            v = sita\n",
    "\n",
    "        if v ==1:\n",
    "            d2 = \"正常血圧\" \n",
    "        elif v == 2:\n",
    "            d2 = \"正常高血圧\"\n",
    "        elif v == 3:\n",
    "            d2 = \"1度高血圧\"\n",
    "        elif v == 4:\n",
    "            d2 = \"2度高血圧\"\n",
    "        else:\n",
    "            d2= \"3度高血圧\"\n",
    "     #~~~~  ココまで  ~~~~~~~~#\n",
    "\n",
    "    ## 3.結果を表示する\n",
    "    ## ここはcode3を変更した ##\n",
    "    print(f\"{name}さんの血圧は{sbp}/{dbp}であり，{d2}です\")\n",
    "\n",
    "    #####"
   ]
  },
  {
   "cell_type": "markdown",
   "metadata": {},
   "source": [
    "## 4をする"
   ]
  },
  {
   "cell_type": "markdown",
   "metadata": {},
   "source": [
    "ここでは，`print()`を使って表示しているだけである。printは表示したら終わり。データに対してある処理を施したとき，加工されたデータをさらに使用するとき，表示するだけでは何も残らない。表示終わっていたら，次に使おうと思ったら，同じことをまた最初からしないといけない。一般的にプログラムは，あるデータに対して動作を確認しながら次々と処理を施す使い方である。要するに，同じことを何回もすることを避ける。なぜなら非効率的だし，同じことを何回もコンピュータにさせるのは意味がない。<br>\n",
    "このデータを簡易的に記憶しておいて，次に使おうとするとき，呼び出せるようにしたい。"
   ]
  },
  {
   "cell_type": "markdown",
   "metadata": {},
   "source": [
    "そのためには，オブジェクトとして変数に追加したり，上書きしたり，新たに変数名を与えたりと，コンピュータに記憶させなければならない。"
   ]
  },
  {
   "cell_type": "markdown",
   "metadata": {},
   "source": [
    "ここでは，`血圧の分類`結果を取得し，それも一時的にコンピュータのメモリ書き留めておく。そうすることで，今回の群に正常血圧の人が何人いるか，3度高血圧の人が何人いるか，など統計処理に使う，グラフを描くなど，次の処理が簡単にできる。"
   ]
  },
  {
   "cell_type": "markdown",
   "metadata": {},
   "source": [
    "今回は，リストの後にデータを追加する`append()`を用いる (他にも方法あるが・・・)。"
   ]
  },
  {
   "cell_type": "code",
   "execution_count": 8,
   "metadata": {},
   "outputs": [],
   "source": [
    "# code5\n",
    "for q in dat: \n",
    "    \n",
    "    ## 1.変数名に値を代入する\n",
    "    name = q[0]\n",
    "    sbp = q[1]\n",
    "    dbp = q[2]\n",
    "\n",
    "    # <処理1>血圧の位置を取得する\n",
    "    ue = [sbp<120, sbp<130, sbp<140, sbp<160, sbp<180, sbp>=180].index(True)\n",
    "    sita = [dbp<80, dbp<85, dbp<90, dbp<100, dbp<110, dbp>=110].index(True)\n",
    "\n",
    "    # <処理2>取得した位置から血圧分類をする\n",
    "    if ue == 0 and sita==0:\n",
    "        d2 =  \"至適血圧\"\n",
    "    elif ue >2 and sita < 3:\n",
    "        d2 = \"収縮期高血圧\"\n",
    "    else:\n",
    "        if ue > sita:\n",
    "            v = ue\n",
    "        else:\n",
    "            v = sita\n",
    "\n",
    "        if v ==1:\n",
    "            d2 = \"正常血圧\" \n",
    "        elif v == 2:\n",
    "            d2 = \"正常高血圧\"\n",
    "        elif v == 3:\n",
    "            d2 = \"1度高血圧\"\n",
    "        elif v == 4:\n",
    "            d2 = \"2度高血圧\"\n",
    "        else:\n",
    "            d2= \"3度高血圧\"\n",
    "    #~~~~  ココまではcode4と同じ~~~~~~~~#\n",
    "    # 以下，変更する #\n",
    "    q.append(d2)\n",
    "    #以上#"
   ]
  },
  {
   "cell_type": "markdown",
   "metadata": {},
   "source": [
    "ただ，これではdatというオブジェクト（データ）に直接入ってしまうので，少し面倒なことになる場合もあるので，注意する。"
   ]
  },
  {
   "cell_type": "markdown",
   "metadata": {},
   "source": [
    "間違いを起こさないためには，空リストを作り，それにいれていくことであろう。"
   ]
  },
  {
   "cell_type": "code",
   "execution_count": 9,
   "metadata": {},
   "outputs": [
    {
     "data": {
      "text/plain": [
       "[['Rev1号', 173, 97, '2度高血圧'],\n",
       " ['Rev2号', 79, 72, '至適血圧'],\n",
       " ['Rev3号', 143, 111, '3度高血圧'],\n",
       " ['Rev4号', 142, 52, '収縮期高血圧'],\n",
       " ['Rev5号', 172, 59, '収縮期高血圧'],\n",
       " ['Rev6号', 163, 103, '2度高血圧'],\n",
       " ['Rev7号', 99, 78, '至適血圧'],\n",
       " ['Rev8号', 117, 89, '正常高血圧'],\n",
       " ['Rev9号', 95, 68, '至適血圧'],\n",
       " ['Rev10号', 182, 93, '3度高血圧'],\n",
       " ['Rev11号', 120, 109, '2度高血圧'],\n",
       " ['Rev12号', 108, 101, '2度高血圧'],\n",
       " ['Rev13号', 179, 61, '収縮期高血圧'],\n",
       " ['Rev14号', 149, 87, '収縮期高血圧'],\n",
       " ['Rev15号', 114, 104, '2度高血圧'],\n",
       " ['Rev16号', 116, 82, '正常血圧'],\n",
       " ['Rev17号', 111, 92, '1度高血圧'],\n",
       " ['Rev18号', 113, 66, '至適血圧'],\n",
       " ['Rev19号', 152, 80, '収縮期高血圧'],\n",
       " ['Rev20号', 169, 62, '収縮期高血圧']]"
      ]
     },
     "execution_count": 9,
     "metadata": {},
     "output_type": "execute_result"
    }
   ],
   "source": [
    "# code6\n",
    "## code5を改変する\n",
    "\n",
    "## 空リスト ##\n",
    "result = []\n",
    "\n",
    "# あとはcode5とほとんど同じであるが，最後\n",
    "for q in dat: \n",
    "    \n",
    "    ## 1.変数名に値を代入する\n",
    "    name = q[0]\n",
    "    sbp = q[1]\n",
    "    dbp = q[2]\n",
    "\n",
    "    # <処理1>血圧の位置を取得する\n",
    "    ue = [sbp<120, sbp<130, sbp<140, sbp<160, sbp<180, sbp>=180].index(True)\n",
    "    sita = [dbp<80, dbp<85, dbp<90, dbp<100, dbp<110, dbp>=110].index(True)\n",
    "\n",
    "    # <処理2>取得した位置から血圧分類をする\n",
    "    if ue == 0 and sita==0:\n",
    "        d2 =  \"至適血圧\"\n",
    "    elif ue >2 and sita < 3:\n",
    "        d2 = \"収縮期高血圧\"\n",
    "    else:\n",
    "        if ue > sita:\n",
    "            v = ue\n",
    "        else:\n",
    "            v = sita\n",
    "\n",
    "        if v ==1:\n",
    "            d2 = \"正常血圧\" \n",
    "        elif v == 2:\n",
    "            d2 = \"正常高血圧\"\n",
    "        elif v == 3:\n",
    "            d2 = \"1度高血圧\"\n",
    "        elif v == 4:\n",
    "            d2 = \"2度高血圧\"\n",
    "        else:\n",
    "            d2= \"3度高血圧\"\n",
    "    #~~~~  ココまではcode4と同じ~~~~~~~~#\n",
    "    # 次はcode5から変更した #\n",
    "    result.append([name,sbp,dbp,d2])\n",
    "#以上#\n",
    "\n",
    "## 表示して確認する ##\n",
    "result"
   ]
  },
  {
   "cell_type": "markdown",
   "metadata": {},
   "source": [
    "## まとめ"
   ]
  },
  {
   "cell_type": "markdown",
   "metadata": {},
   "source": [
    "以上，実践的な使い方もしくはプログラムの作り方についてまとめた。今回の内容は前期の間に行った授業のまとめのようなものである。これはすべて理解すべき内容である。残り３回で`def文`というのをする。<br>\n",
    "\n",
    "データを一つの部品としてイメージ，その部品に手を加えたり，つなぎ合わせたりしながら，行いたい処理をコンピュータに指示していく。それがプログラムである。この思考過程は，医療従事者はもちろん，社会人として必須である。<br>\n",
    "\n",
    "最後に，わからないことは，よく知っている人に聞いて覚える，理解することに努めること。"
   ]
  },
  {
   "cell_type": "code",
   "execution_count": null,
   "metadata": {},
   "outputs": [],
   "source": []
  },
  {
   "cell_type": "code",
   "execution_count": null,
   "metadata": {},
   "outputs": [],
   "source": [
    "# code6\n",
    "## code5を改変する\n",
    "\n",
    "## 空リスト ##\n",
    "result = []\n",
    "\n",
    "# あとはcode5とほとんど同じであるが，最後\n",
    "for q in dat: \n",
    "    \n",
    "    ## 1.変数名に値を代入する\n",
    "    name = q[0]\n",
    "    sbp = q[1]\n",
    "    dbp = q[2]\n",
    "\n",
    "    # <処理1>血圧の位置を取得する\n",
    "    ue = [sbp<120, sbp<130, sbp<140, sbp<160, sbp<180, sbp>=180].index(True)\n",
    "    sita = [dbp<80, dbp<85, dbp<90, dbp<100, dbp<110, dbp>=110].index(True)\n",
    "\n",
    "    # <処理2>取得した位置から血圧分類をする\n",
    "    if ue == 0 and sita==0:\n",
    "        d2 =  \"至適血圧\"\n",
    "    elif ue >2 and sita < 3:\n",
    "        d2 = \"収縮期高血圧\"\n",
    "    else:\n",
    "        if ue > sita:\n",
    "            v = ue\n",
    "        else:\n",
    "            v = sita\n",
    "\n",
    "        if v ==1:\n",
    "            d2 = \"正常血圧\" \n",
    "        elif v == 2:\n",
    "            d2 = \"正常高血圧\"\n",
    "        elif v == 3:\n",
    "            d2 = \"1度高血圧\"\n",
    "        elif v == 4:\n",
    "            d2 = \"2度高血圧\"\n",
    "        else:\n",
    "            d2= \"3度高血圧\"\n",
    "    #~~~~  ココまではcode4と同じ~~~~~~~~#\n",
    "    # 次はcode5から変更した #\n",
    "    result.append([name,sbp,dbp,d2])\n",
    "#以上#\n",
    "\n",
    "## 表示して確認する ##\n",
    "result"
   ]
  }
 ],
 "metadata": {
  "kernelspec": {
   "display_name": "Python 3",
   "language": "python",
   "name": "python3"
  },
  "language_info": {
   "codemirror_mode": {
    "name": "ipython",
    "version": 3
   },
   "file_extension": ".py",
   "mimetype": "text/x-python",
   "name": "python",
   "nbconvert_exporter": "python",
   "pygments_lexer": "ipython3",
   "version": "3.6.8"
  },
  "toc": {
   "base_numbering": 1,
   "nav_menu": {},
   "number_sections": false,
   "sideBar": true,
   "skip_h1_title": false,
   "title_cell": "Table of Contents",
   "title_sidebar": "Contents",
   "toc_cell": false,
   "toc_position": {},
   "toc_section_display": true,
   "toc_window_display": false
  }
 },
 "nbformat": 4,
 "nbformat_minor": 2
}
