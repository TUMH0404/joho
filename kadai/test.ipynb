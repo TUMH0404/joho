{
 "cells": [
  {
   "cell_type": "code",
   "execution_count": 1,
   "metadata": {},
   "outputs": [],
   "source": [
    "import pickle"
   ]
  },
  {
   "cell_type": "code",
   "execution_count": 2,
   "metadata": {},
   "outputs": [],
   "source": [
    "import random"
   ]
  },
  {
   "cell_type": "code",
   "execution_count": 7,
   "metadata": {},
   "outputs": [],
   "source": [
    "p1 = [i for i in range(78,185,1)]\n",
    "p2 = [i for i in range(50,115,1)]"
   ]
  },
  {
   "cell_type": "code",
   "execution_count": 10,
   "metadata": {},
   "outputs": [],
   "source": [
    "aa = random.sample(p1,50)\n",
    "bb = random.sample(p2,50)"
   ]
  },
  {
   "cell_type": "code",
   "execution_count": 12,
   "metadata": {},
   "outputs": [],
   "source": [
    "cc = [(i,k) for i,k in zip(aa,bb)]"
   ]
  },
  {
   "cell_type": "code",
   "execution_count": 20,
   "metadata": {},
   "outputs": [],
   "source": [
    "for u,i in enumerate(cc):\n",
    "    if i[0]<i[1]:\n",
    "        cc.pop(u)"
   ]
  },
  {
   "cell_type": "code",
   "execution_count": 14,
   "metadata": {},
   "outputs": [],
   "source": [
    "ac = [1,2,3]"
   ]
  },
  {
   "cell_type": "code",
   "execution_count": 15,
   "metadata": {},
   "outputs": [],
   "source": [
    "ac.remove(1)"
   ]
  },
  {
   "cell_type": "code",
   "execution_count": 17,
   "metadata": {},
   "outputs": [],
   "source": [
    "ac.insert(0,0)"
   ]
  },
  {
   "cell_type": "code",
   "execution_count": 18,
   "metadata": {},
   "outputs": [
    {
     "data": {
      "text/plain": [
       "[0, 2, 3]"
      ]
     },
     "execution_count": 18,
     "metadata": {},
     "output_type": "execute_result"
    }
   ],
   "source": [
    "ac"
   ]
  },
  {
   "cell_type": "code",
   "execution_count": 19,
   "metadata": {},
   "outputs": [
    {
     "data": {
      "text/plain": [
       "2"
      ]
     },
     "execution_count": 19,
     "metadata": {},
     "output_type": "execute_result"
    }
   ],
   "source": [
    "ac.pop(1)"
   ]
  },
  {
   "cell_type": "code",
   "execution_count": 22,
   "metadata": {},
   "outputs": [],
   "source": [
    "cc = [list(i) for i in cc]"
   ]
  },
  {
   "cell_type": "code",
   "execution_count": 30,
   "metadata": {},
   "outputs": [],
   "source": [
    "with open(\"BBdata.pickle\",\"wb\") as d:\n",
    "    pickle.dump(cc,d)"
   ]
  },
  {
   "cell_type": "code",
   "execution_count": 31,
   "metadata": {},
   "outputs": [],
   "source": [
    "with open(\"BBdata.pickle\",\"rb\") as d:\n",
    "    ddd = pickle.load(d)"
   ]
  },
  {
   "cell_type": "code",
   "execution_count": 32,
   "metadata": {},
   "outputs": [
    {
     "data": {
      "text/plain": [
       "[[175, 70],\n",
       " [173, 97],\n",
       " [79, 72],\n",
       " [143, 111],\n",
       " [142, 52],\n",
       " [172, 59],\n",
       " [163, 103],\n",
       " [99, 78],\n",
       " [117, 89],\n",
       " [95, 68],\n",
       " [182, 93],\n",
       " [120, 109],\n",
       " [108, 101],\n",
       " [179, 61],\n",
       " [149, 87],\n",
       " [114, 104],\n",
       " [116, 82],\n",
       " [111, 92],\n",
       " [113, 66],\n",
       " [152, 80],\n",
       " [169, 62],\n",
       " [123, 71],\n",
       " [135, 79],\n",
       " [136, 84],\n",
       " [181, 56],\n",
       " [171, 96],\n",
       " [140, 75],\n",
       " [88, 53],\n",
       " [144, 98],\n",
       " [154, 88],\n",
       " [157, 114],\n",
       " [151, 50],\n",
       " [121, 91],\n",
       " [96, 55],\n",
       " [170, 86],\n",
       " [128, 69],\n",
       " [183, 54],\n",
       " [161, 94],\n",
       " [115, 64],\n",
       " [118, 105],\n",
       " [110, 110],\n",
       " [145, 85],\n",
       " [150, 67],\n",
       " [97, 65],\n",
       " [167, 77],\n",
       " [165, 76],\n",
       " [125, 95]]"
      ]
     },
     "execution_count": 32,
     "metadata": {},
     "output_type": "execute_result"
    }
   ],
   "source": [
    "ddd"
   ]
  },
  {
   "cell_type": "code",
   "execution_count": null,
   "metadata": {},
   "outputs": [],
   "source": []
  }
 ],
 "metadata": {
  "kernelspec": {
   "display_name": "Python 3",
   "language": "python",
   "name": "python3"
  },
  "language_info": {
   "codemirror_mode": {
    "name": "ipython",
    "version": 3
   },
   "file_extension": ".py",
   "mimetype": "text/x-python",
   "name": "python",
   "nbconvert_exporter": "python",
   "pygments_lexer": "ipython3",
   "version": "3.6.8"
  },
  "toc": {
   "base_numbering": 1,
   "nav_menu": {},
   "number_sections": true,
   "sideBar": true,
   "skip_h1_title": false,
   "title_cell": "Table of Contents",
   "title_sidebar": "Contents",
   "toc_cell": false,
   "toc_position": {},
   "toc_section_display": true,
   "toc_window_display": false
  }
 },
 "nbformat": 4,
 "nbformat_minor": 2
}
