{
 "cells": [
  {
   "cell_type": "markdown",
   "metadata": {},
   "source": [
    "#### リスト，タプル，辞書，集合の違い\n",
    "\n",
    "| |リスト|タプル|辞書|集合|\n",
    "|-------|-------|--------|-------|--------|\n",
    "|使用頻度|高|高|高|低|\n",
    "|カッコ|[  ]|(  )|{  }|{  }|\n",
    "|データ順番|ある|ある|ない|ない|\n",
    "|データ変更可否|可|不可|可|可|\n",
    "|辞書のキー|使えない|使える|使えない|使えない|\n",
    "|使用例|```[1,2,3,4,4]```|```(1,2,3,4,4)```|```{\"x\":2,\"y\":3,\"z\":4}```|{1,2,3}|\n"
   ]
  },
  {
   "cell_type": "markdown",
   "metadata": {},
   "source": [
    "リストからタプルへ"
   ]
  },
  {
   "cell_type": "code",
   "execution_count": null,
   "metadata": {},
   "outputs": [],
   "source": [
    "a = [1,2,3]\n",
    "print(type(a))\n",
    "a = tuple(a)\n",
    "print(type(a))"
   ]
  },
  {
   "cell_type": "markdown",
   "metadata": {},
   "source": [
    "タプルからリストへ"
   ]
  },
  {
   "cell_type": "code",
   "execution_count": null,
   "metadata": {},
   "outputs": [],
   "source": [
    "a = (1,2,3)\n",
    "print(type(a))\n",
    "a = list(a)\n",
    "print(type(a))"
   ]
  },
  {
   "cell_type": "markdown",
   "metadata": {},
   "source": [
    "集合（set）の使用例"
   ]
  },
  {
   "cell_type": "code",
   "execution_count": null,
   "metadata": {},
   "outputs": [],
   "source": [
    "a = [1,2,3,3,4,5,5,6,6,6,7,7,8,8,8,8,1,2,3,4,5,5]\n",
    "b = set(a)\n",
    "print(b)\n",
    "# setで複数ある頻度を一つにして，list型に直し，扱いやすくする\n",
    "print(list(b))"
   ]
  },
  {
   "cell_type": "markdown",
   "metadata": {},
   "source": [
    "この辺りは，ネットに多くの情報があるので必要に応じて調べる。"
   ]
  }
 ],
 "metadata": {
  "kernelspec": {
   "display_name": "Python 3",
   "language": "python",
   "name": "python3"
  },
  "language_info": {
   "codemirror_mode": {
    "name": "ipython",
    "version": 3
   },
   "file_extension": ".py",
   "mimetype": "text/x-python",
   "name": "python",
   "nbconvert_exporter": "python",
   "pygments_lexer": "ipython3",
   "version": "3.6.8"
  },
  "toc": {
   "base_numbering": 1,
   "nav_menu": {},
   "number_sections": false,
   "sideBar": true,
   "skip_h1_title": false,
   "title_cell": "Table of Contents",
   "title_sidebar": "Contents",
   "toc_cell": false,
   "toc_position": {},
   "toc_section_display": true,
   "toc_window_display": false
  }
 },
 "nbformat": 4,
 "nbformat_minor": 2
}
