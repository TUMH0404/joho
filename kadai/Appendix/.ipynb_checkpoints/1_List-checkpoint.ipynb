{
 "cells": [
  {
   "cell_type": "markdown",
   "metadata": {
    "slideshow": {
     "slide_type": "slide"
    }
   },
   "source": [
    "### リストの作り方"
   ]
  },
  {
   "cell_type": "markdown",
   "metadata": {
    "slideshow": {
     "slide_type": "slide"
    }
   },
   "source": [
    "リストとは，複数の要素（空の場合もある）を\n",
    "```\n",
    "[ ]\n",
    "```\n",
    "で囲んで，一度に多くのデータを扱えるような\"list\"というデータ型である。 <br>\n",
    "既存のメソッドを利用して要素の追加や削除，検索やカウントなどができる。"
   ]
  },
  {
   "cell_type": "markdown",
   "metadata": {
    "slideshow": {
     "slide_type": "slide"
    }
   },
   "source": [
    "#### リストの操作\n",
    "> リスト内の要素を<font color=\"Red\">削除，更新，追加</font>するなど，便利なメソッドが次の表の通りある（これらの他にもある）。その中でも，上の2つ(append，index)について，頻繁に使用するしっかり覚える。\n",
    "\n",
    "> \"del\" によって要素を削除することができる。"
   ]
  },
  {
   "cell_type": "markdown",
   "metadata": {
    "slideshow": {
     "slide_type": "slide"
    }
   },
   "source": [
    "|関数名|作用|\n",
    "|--------------|--------------|\n",
    "|Z.append(a)|リストZの最後尾にa追加する|\n",
    "|Z.index(x)|リストZの要素のうち，xを持つ最初の要素の位置をゼロから始まる添字で返す|\n",
    "|Z.count(x)|リストZでのxの出現回数を返す|\n",
    "|Z.sort( )|リストZの要素を並べかえる|\n",
    "|Z.insert(x,a)|リストZのx番目にaを挿入する|\n",
    "|Z.pop(i)  | リストZのi番目の要素を削除する|\n",
    "|Z.pop( )|リストZの最終の要素を削除する|\n",
    "|Z.remove(a)|リストZの最初のaを削除する|\n",
    "|Z.clear( )|リストZのすべての要素を削除する|\n",
    "|Z.reverse( )|リストの要素を逆順にする|"
   ]
  },
  {
   "cell_type": "markdown",
   "metadata": {
    "slideshow": {
     "slide_type": "slide"
    }
   },
   "source": [
    "### トランプカードはどんなカード？<br>\n",
    ">ジョーカー2枚(\"j1\",\"j2\")<br>\n",
    ">マークは\"spade\",\"heart\",\"diamond\",\"club\"の4<br>\n",
    ">数字の部分は\"A\",\"K\",\"Q\",\"J\",\"X\",\"9\",\"8\",\"7\",\"6\",\"5\",\"4\",\"3\",\"2\"の13<br>\n",
    "\n",
    "となっている。"
   ]
  },
  {
   "cell_type": "markdown",
   "metadata": {
    "slideshow": {
     "slide_type": "slide"
    }
   },
   "source": [
    "### Pythonで作ってみよう。"
   ]
  },
  {
   "cell_type": "code",
   "execution_count": null,
   "metadata": {
    "slideshow": {
     "slide_type": "slide"
    }
   },
   "outputs": [],
   "source": [
    "# 上記をリストで表してみよう。\n",
    "joker = [\"j1\",\"j2\"]\n",
    "mark = [\"spade\",\"club\",\"heart\",\"diamond\"]\n",
    "num = [\"A\",\"K\",\"Q\",\"J\",\"X\",\"9\",\"8\",\"7\",\"6\",\"5\",\"4\",\"3\",\"2\"]\n",
    "# Xは10の代わり・・・"
   ]
  },
  {
   "cell_type": "markdown",
   "metadata": {
    "slideshow": {
     "slide_type": "slide"
    }
   },
   "source": [
    "全部で52枚のカードを作ってみよう。<br>\n",
    "数は，A, K, Q, J, X(10の代わり), 9, 8,..., 3, 2 とする。"
   ]
  },
  {
   "cell_type": "markdown",
   "metadata": {
    "slideshow": {
     "slide_type": "slide"
    }
   },
   "source": [
    "ヒント\n",
    "```\n",
    "['J_club','X_heart','8_spade','7_heart',\n",
    ".\n",
    ".\n",
    ".\n",
    "\n",
    "'2_club','6_diamond','j1','j2']\n",
    " ```\n",
    " "
   ]
  },
  {
   "cell_type": "code",
   "execution_count": null,
   "metadata": {
    "slideshow": {
     "slide_type": "slide"
    }
   },
   "outputs": [],
   "source": [
    "Allcard = [\"A_spade\",\"K_spade\",\"Q_spade\",\"J_spade\",\"X_spade\",\"9_spade\",\\\n",
    "          \"8_spade\",\"7_spade\",\"6_spade\",\"5_spade\",\"4_spade\",\"3_spade\",\"2_spade\",\\\n",
    "          \"A_club\",\"K_club\",\"Q_club\",\"J_club\",\"X_club\",\"9_club\",\"8_club\",\\\n",
    "          \"7_club\",\"6_club\",\"5_club\",\"4_club\",\"3_club\",\"2_club\",\\\n",
    "           \"A_diamond\",\"K_diamond\",\"Q_diamond\",\"J_diamond\",\"X_diamond\",\"9_diamond\",\\\n",
    "           \"8_diamond\",\"7_diamond\",\"6_diamond\",\"5_diamond\",\"4_diamond\",\"3_diamond\",\\\n",
    "           \"2_diamond\",\\\n",
    "          \"A_heart\",\"K_heart\",\"Q_heart\",\"J_heart\",\"X_heart\",\"9_heart\",\\\n",
    "           \"8_heart\",\"7_heart\",\"6_heart\",\"5_heart\",\"4_heart\",\"3_heart\",\"2_heart\"]\n",
    "## 面倒だが打ちましょう。\n",
    "print(Allcard)"
   ]
  },
  {
   "cell_type": "markdown",
   "metadata": {
    "slideshow": {
     "slide_type": "-"
    }
   },
   "source": [
    "print関数を使って表示する"
   ]
  },
  {
   "cell_type": "code",
   "execution_count": null,
   "metadata": {
    "slideshow": {
     "slide_type": "-"
    }
   },
   "outputs": [],
   "source": [
    "print(Allcard)"
   ]
  },
  {
   "cell_type": "markdown",
   "metadata": {
    "slideshow": {
     "slide_type": "slide"
    }
   },
   "source": [
    "Allcard（リスト）の並べ替え"
   ]
  },
  {
   "cell_type": "markdown",
   "metadata": {
    "slideshow": {
     "slide_type": "slide"
    }
   },
   "source": [
    "順序よく綺麗に並べる\n",
    "```\n",
    "list.sort()\n",
    "```"
   ]
  },
  {
   "cell_type": "code",
   "execution_count": null,
   "metadata": {
    "slideshow": {
     "slide_type": "-"
    }
   },
   "outputs": [],
   "source": [
    "Allcard.sort()\n",
    "print(Allcard)"
   ]
  },
  {
   "cell_type": "markdown",
   "metadata": {
    "slideshow": {
     "slide_type": "slide"
    }
   },
   "source": [
    "#### トランプをきる（バラバラにする，ランダムにする）。"
   ]
  },
  {
   "cell_type": "markdown",
   "metadata": {
    "slideshow": {
     "slide_type": "slide"
    }
   },
   "source": [
    "バラバラにするのは自分でやるのは面倒なので簡単にしてくれるライブラリを使おう。<br>\n",
    "はじめに\n",
    "```\n",
    "import random\n",
    "```\n",
    "としてライブラリを読み込んでおく。<br>\n",
    "そして，\n",
    "```\n",
    "random.shuffle(Allcard)\n",
    "```\n",
    "とするだけで，バラバラになる。"
   ]
  },
  {
   "cell_type": "code",
   "execution_count": null,
   "metadata": {
    "slideshow": {
     "slide_type": "slide"
    }
   },
   "outputs": [],
   "source": [
    "import random"
   ]
  },
  {
   "cell_type": "code",
   "execution_count": null,
   "metadata": {
    "slideshow": {
     "slide_type": "-"
    }
   },
   "outputs": [],
   "source": [
    "random.shuffle(Allcard)\n",
    "print(Allcard)"
   ]
  },
  {
   "cell_type": "markdown",
   "metadata": {
    "slideshow": {
     "slide_type": "slide"
    }
   },
   "source": [
    "### リストの中身をみてみよう"
   ]
  },
  {
   "cell_type": "markdown",
   "metadata": {
    "slideshow": {
     "slide_type": "slide"
    }
   },
   "source": [
    "10番目のカードは何が入っているか？"
   ]
  },
  {
   "cell_type": "code",
   "execution_count": null,
   "metadata": {
    "slideshow": {
     "slide_type": "-"
    }
   },
   "outputs": [],
   "source": [
    "print(Allcard[9])"
   ]
  },
  {
   "cell_type": "markdown",
   "metadata": {
    "slideshow": {
     "slide_type": "slide"
    }
   },
   "source": [
    "10から20枚目のカードは何か？"
   ]
  },
  {
   "cell_type": "code",
   "execution_count": null,
   "metadata": {
    "slideshow": {
     "slide_type": "-"
    }
   },
   "outputs": [],
   "source": [
    "print(Allcard[9:20])"
   ]
  },
  {
   "cell_type": "markdown",
   "metadata": {
    "slideshow": {
     "slide_type": "slide"
    }
   },
   "source": [
    "最後の5枚のカードは何か"
   ]
  },
  {
   "cell_type": "code",
   "execution_count": null,
   "metadata": {
    "slideshow": {
     "slide_type": "-"
    }
   },
   "outputs": [],
   "source": [
    "print(Allcard[-5:])"
   ]
  },
  {
   "cell_type": "markdown",
   "metadata": {
    "slideshow": {
     "slide_type": "slide"
    }
   },
   "source": [
    "最後の5枚のカードをcard5という変数名に代入する。"
   ]
  },
  {
   "cell_type": "code",
   "execution_count": null,
   "metadata": {
    "slideshow": {
     "slide_type": "-"
    }
   },
   "outputs": [],
   "source": [
    "card5 = Allcard[-5:]"
   ]
  },
  {
   "cell_type": "markdown",
   "metadata": {
    "slideshow": {
     "slide_type": "-"
    }
   },
   "source": [
    "cardsにcard5をコピーする<br>\n",
    "[参照](https://nbviewer.jupyter.org/github/tuMH0404/joho/kadai/blob/master/kadai/copy.ipynb)"
   ]
  },
  {
   "cell_type": "code",
   "execution_count": null,
   "metadata": {
    "slideshow": {
     "slide_type": "-"
    }
   },
   "outputs": [],
   "source": [
    "cards = card5.copy()\n",
    "## もしくは\n",
    "#cards = card5[:]"
   ]
  },
  {
   "cell_type": "markdown",
   "metadata": {
    "slideshow": {
     "slide_type": "slide"
    }
   },
   "source": [
    "#### リストの簡単な操作"
   ]
  },
  {
   "cell_type": "markdown",
   "metadata": {
    "slideshow": {
     "slide_type": "slide"
    }
   },
   "source": [
    "cardsの2番目の要素を\"j2\"に変更する"
   ]
  },
  {
   "cell_type": "code",
   "execution_count": null,
   "metadata": {
    "slideshow": {
     "slide_type": "-"
    }
   },
   "outputs": [],
   "source": [
    "cards[?] = \"j2\"\n",
    "cards"
   ]
  },
  {
   "cell_type": "markdown",
   "metadata": {
    "slideshow": {
     "slide_type": "slide"
    }
   },
   "source": [
    "cardsの2番目を削除する"
   ]
  },
  {
   "cell_type": "code",
   "execution_count": null,
   "metadata": {
    "slideshow": {
     "slide_type": "-"
    }
   },
   "outputs": [],
   "source": [
    "cards.pop(1)\n",
    "cards"
   ]
  },
  {
   "cell_type": "markdown",
   "metadata": {
    "slideshow": {
     "slide_type": "slide"
    }
   },
   "source": [
    "cardsの1番目と2番目の間に元のカードを挿入する"
   ]
  },
  {
   "cell_type": "code",
   "execution_count": null,
   "metadata": {
    "slideshow": {
     "slide_type": "-"
    }
   },
   "outputs": [],
   "source": [
    "cards.insert(1,card5[1])"
   ]
  },
  {
   "cell_type": "markdown",
   "metadata": {
    "slideshow": {
     "slide_type": "slide"
    }
   },
   "source": [
    "cardsとcard5の中身は同じになりましたか？？"
   ]
  },
  {
   "cell_type": "code",
   "execution_count": null,
   "metadata": {
    "slideshow": {
     "slide_type": "-"
    }
   },
   "outputs": [],
   "source": [
    "cards == card5"
   ]
  },
  {
   "cell_type": "markdown",
   "metadata": {
    "slideshow": {
     "slide_type": "slide"
    }
   },
   "source": [
    "最後のカードをlastという変数名に格納してそれをf文字列で表示しよう。<br>\n",
    "[参照](https://nbviewer.jupyter.org/github/tuMH0404/joho/kadai/blob/master/kadai/f-string.ipynb)"
   ]
  },
  {
   "cell_type": "code",
   "execution_count": null,
   "metadata": {
    "slideshow": {
     "slide_type": "slide"
    }
   },
   "outputs": [],
   "source": [
    "last = ??????\n",
    "print(f\"???????\")"
   ]
  },
  {
   "cell_type": "markdown",
   "metadata": {
    "slideshow": {
     "slide_type": "slide"
    }
   },
   "source": [
    "最後にrandom.shuffle()は本当にシャッフルされているのか？<br>\n",
    "10回確認する。"
   ]
  },
  {
   "cell_type": "code",
   "execution_count": null,
   "metadata": {
    "slideshow": {
     "slide_type": "slide"
    }
   },
   "outputs": [],
   "source": [
    "# 空リスト\n",
    "laststring = []"
   ]
  },
  {
   "cell_type": "code",
   "execution_count": null,
   "metadata": {
    "slideshow": {
     "slide_type": "slide"
    }
   },
   "outputs": [],
   "source": [
    "random.?????\n",
    "last = ??????????\n",
    "lasts??????.ap??????\n",
    "## ここを10回実行する\n",
    "\n",
    "## もしくはfor文を使用する"
   ]
  },
  {
   "cell_type": "code",
   "execution_count": null,
   "metadata": {
    "slideshow": {
     "slide_type": "slide"
    }
   },
   "outputs": [],
   "source": [
    "## ここに10個のバラバラなカードが表示されると成功!!"
   ]
  }
 ],
 "metadata": {
  "celltoolbar": "Slideshow",
  "hide_input": false,
  "kernelspec": {
   "display_name": "Python 3",
   "language": "python",
   "name": "python3"
  },
  "language_info": {
   "codemirror_mode": {
    "name": "ipython",
    "version": 3
   },
   "file_extension": ".py",
   "mimetype": "text/x-python",
   "name": "python",
   "nbconvert_exporter": "python",
   "pygments_lexer": "ipython3",
   "version": "3.6.7"
  },
  "latex_envs": {
   "LaTeX_envs_menu_present": true,
   "autoclose": false,
   "autocomplete": true,
   "bibliofile": "biblio.bib",
   "cite_by": "apalike",
   "current_citInitial": 1,
   "eqLabelWithNumbers": true,
   "eqNumInitial": 1,
   "hotkeys": {
    "equation": "Ctrl-E",
    "itemize": "Ctrl-I"
   },
   "labels_anchors": false,
   "latex_user_defs": false,
   "report_style_numbering": false,
   "user_envs_cfg": false
  },
  "toc": {
   "base_numbering": 1,
   "nav_menu": {},
   "number_sections": false,
   "sideBar": true,
   "skip_h1_title": false,
   "title_cell": "Table of Contents",
   "title_sidebar": "Contents",
   "toc_cell": false,
   "toc_position": {},
   "toc_section_display": true,
   "toc_window_display": false
  }
 },
 "nbformat": 4,
 "nbformat_minor": 2
}
