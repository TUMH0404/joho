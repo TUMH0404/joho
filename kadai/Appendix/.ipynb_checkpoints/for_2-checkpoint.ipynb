{
 "cells": [
  {
   "cell_type": "markdown",
   "metadata": {},
   "source": [
    "### for文と合わせて使う便利な関数"
   ]
  },
  {
   "cell_type": "markdown",
   "metadata": {},
   "source": [
    "#### enumerate()関数\n",
    "インデックス番号と要素を順に取得する。<br>\n",
    "作用は以下の通りである。"
   ]
  },
  {
   "cell_type": "code",
   "execution_count": 1,
   "metadata": {},
   "outputs": [
    {
     "name": "stdout",
     "output_type": "stream",
     "text": [
      "0 0\n",
      "1 1\n",
      "2 2\n",
      "3 3\n",
      "4 4\n",
      "5 5\n",
      "6 6\n",
      "7 7\n",
      "8 8\n",
      "9 9\n"
     ]
    }
   ],
   "source": [
    "for i,k in enumerate(range(10)):\n",
    "    print(i,k)"
   ]
  },
  {
   "cell_type": "markdown",
   "metadata": {},
   "source": [
    "上の例のように、デフォルトhインデックスが0からはまる。<br>\n",
    "任意の数値から始めたい場合は，以下の通りに引数で指定する。"
   ]
  },
  {
   "cell_type": "code",
   "execution_count": 1,
   "metadata": {},
   "outputs": [],
   "source": [
    "dat = [\"name\",\"ID\",\"joho\"]"
   ]
  },
  {
   "cell_type": "code",
   "execution_count": 13,
   "metadata": {},
   "outputs": [
    {
     "name": "stdout",
     "output_type": "stream",
     "text": [
      "5 name\n",
      "6 ID\n",
      "7 joho\n"
     ]
    }
   ],
   "source": [
    "for i,k in enumerate(dat,5):\n",
    "    print(i,k)"
   ]
  },
  {
   "cell_type": "markdown",
   "metadata": {},
   "source": [
    "#### zip関数"
   ]
  },
  {
   "cell_type": "markdown",
   "metadata": {},
   "source": [
    "for文で使用できる。<br>\n",
    "zip関数は**2つ以上の**リストのインデックスを取得する。"
   ]
  },
  {
   "cell_type": "code",
   "execution_count": 8,
   "metadata": {},
   "outputs": [],
   "source": [
    "firstname = [\"一郎\",\"二郎\",\"三郎\",\"四郎\",\"五郎\"]\n",
    "lastname = [\"宝塚\",\"川西\",\"神戸\",\"伊丹\",\"岸野\"]"
   ]
  },
  {
   "cell_type": "code",
   "execution_count": 9,
   "metadata": {},
   "outputs": [
    {
     "name": "stdout",
     "output_type": "stream",
     "text": [
      "神戸 一郎\n",
      "伊丹 二郎\n",
      "岸野 三郎\n"
     ]
    }
   ],
   "source": [
    "for last,first in zip(lastname,firstname):\n",
    "    print(f\"{last} {first}\")"
   ]
  },
  {
   "cell_type": "markdown",
   "metadata": {},
   "source": [
    "zipに含まれるリストやタプルは同じ要素数でなくてもいいが，短いデータに合わせて終わる。"
   ]
  },
  {
   "cell_type": "code",
   "execution_count": 10,
   "metadata": {},
   "outputs": [],
   "source": [
    "firstname1 = [\"一郎\",\"二郎\",\"三郎\",\"四郎\",\"五郎\"]\n",
    "lastname1 = [\"伊丹\",\"岸野\"]"
   ]
  },
  {
   "cell_type": "code",
   "execution_count": 12,
   "metadata": {},
   "outputs": [
    {
     "name": "stdout",
     "output_type": "stream",
     "text": [
      "伊丹 一郎\n",
      "岸野 二郎\n"
     ]
    }
   ],
   "source": [
    "for last,first in zip(lastname1,firstname1):\n",
    "    print(f\"{last} {first}\")"
   ]
  },
  {
   "cell_type": "code",
   "execution_count": null,
   "metadata": {},
   "outputs": [],
   "source": []
  }
 ],
 "metadata": {
  "kernelspec": {
   "display_name": "Python 3",
   "language": "python",
   "name": "python3"
  },
  "language_info": {
   "codemirror_mode": {
    "name": "ipython",
    "version": 3
   },
   "file_extension": ".py",
   "mimetype": "text/x-python",
   "name": "python",
   "nbconvert_exporter": "python",
   "pygments_lexer": "ipython3",
   "version": "3.6.8"
  },
  "toc": {
   "base_numbering": 1,
   "nav_menu": {},
   "number_sections": false,
   "sideBar": true,
   "skip_h1_title": false,
   "title_cell": "Table of Contents",
   "title_sidebar": "Contents",
   "toc_cell": false,
   "toc_position": {
    "height": "calc(100% - 180px)",
    "left": "10px",
    "top": "150px",
    "width": "250px"
   },
   "toc_section_display": true,
   "toc_window_display": false
  }
 },
 "nbformat": 4,
 "nbformat_minor": 2
}
