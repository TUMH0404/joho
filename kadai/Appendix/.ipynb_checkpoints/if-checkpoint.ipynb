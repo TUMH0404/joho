{
 "cells": [
  {
   "cell_type": "markdown",
   "metadata": {},
   "source": [
    "### if〜else\n",
    "### if〜elif〜else"
   ]
  },
  {
   "cell_type": "markdown",
   "metadata": {},
   "source": [
    "Prac2_forで作ったAllcard2にジョーカーを入れたい。<br>\n",
    "1枚入れる？<br>\n",
    ">それとも\n",
    "\n",
    "2枚入れる？<br>\n",
    ">それとも\n",
    "\n",
    "なしにする？<br>"
   ]
  },
  {
   "cell_type": "code",
   "execution_count": 1,
   "metadata": {},
   "outputs": [],
   "source": [
    "## カードを用意する。\n",
    "Allcard2 = ['A_spade','K_spade','Q_spade','J_spade',\\\n",
    "            'X_spade','9_spade','8_spade','7_spade',\\\n",
    "            '6_spade','5_spade','4_spade','3_spade','2_spade',\\\n",
    "            \n",
    "            'A_heart','K_heart','Q_heart','J_heart',\\\n",
    "            'X_heart','9_heart','8_heart','7_heart',\\\n",
    "            '6_heart','5_heart','4_heart','3_heart','2_heart',\\\n",
    "            \n",
    "            'A_diamond','K_diamond','Q_diamond','J_diamond',\\\n",
    "            'X_diamond','9_diamond','8_diamond','7_diamond',\\\n",
    "            '6_diamond','5_diamond','4_diamond','3_diamond','2_diamond',\\\n",
    "            \n",
    "            'A_club','K_club','Q_club','J_club',\\\n",
    "            'X_club','9_club','8_club','7_club',\\\n",
    "            '6_club','5_club','4_club','3_club',\\\n",
    "            '2_club']"
   ]
  },
  {
   "cell_type": "markdown",
   "metadata": {},
   "source": [
    "### Allcard2にジョーカーを何枚入れる？<br>\n",
    "\n",
    ">jokaが1のときは1枚，<br>\n",
    ">上記以外はなにもしない<br>\n",
    "\n",
    "というのをpythonで表現してみよう。"
   ]
  },
  {
   "cell_type": "code",
   "execution_count": 11,
   "metadata": {},
   "outputs": [
    {
     "name": "stdout",
     "output_type": "stream",
     "text": [
      "['A_spade', 'K_spade', 'Q_spade', 'J_spade', 'X_spade', '9_spade', '8_spade', '7_spade', '6_spade', '5_spade', '4_spade', '3_spade', '2_spade', 'A_heart', 'K_heart', 'Q_heart', 'J_heart', 'X_heart', '9_heart', '8_heart', '7_heart', '6_heart', '5_heart', '4_heart', '3_heart', '2_heart', 'A_diamond', 'K_diamond', 'Q_diamond', 'J_diamond', 'X_diamond', '9_diamond', '8_diamond', '7_diamond', '6_diamond', '5_diamond', '4_diamond', '3_diamond', '2_diamond', 'A_club', 'K_club', 'Q_club', 'J_club', 'X_club', '9_club', '8_club', '7_club', '6_club', '5_club', '4_club', '3_club', '2_club', 'j1']\n"
     ]
    }
   ],
   "source": [
    "Allcard = Allcard2.copy()\n",
    "joker = [\"j1\",\"j2\"]\n",
    "\n",
    "##\n",
    "joka =1\n",
    "##\n",
    "\n",
    "if joka==1:\n",
    "    Allcard.append(\"j1\")\n",
    "else:\n",
    "    pass\n",
    "\n",
    "print(Allcard)"
   ]
  },
  {
   "cell_type": "markdown",
   "metadata": {},
   "source": [
    "jokerを何枚入れる？？"
   ]
  },
  {
   "cell_type": "code",
   "execution_count": 7,
   "metadata": {},
   "outputs": [
    {
     "name": "stdout",
     "output_type": "stream",
     "text": [
      "['A_spade', 'K_spade', 'Q_spade', 'J_spade', 'X_spade', '9_spade', '8_spade', '7_spade', '6_spade', '5_spade', '4_spade', '3_spade', '2_spade', 'A_heart', 'K_heart', 'Q_heart', 'J_heart', 'X_heart', '9_heart', '8_heart', '7_heart', '6_heart', '5_heart', '4_heart', '3_heart', '2_heart', 'A_diamond', 'K_diamond', 'Q_diamond', 'J_diamond', 'X_diamond', '9_diamond', '8_diamond', '7_diamond', '6_diamond', '5_diamond', '4_diamond', '3_diamond', '2_diamond', 'A_club', 'K_club', 'Q_club', 'J_club', 'X_club', '9_club', '8_club', '7_club', '6_club', '5_club', '4_club', '3_club', '2_club', 'j1']\n"
     ]
    }
   ],
   "source": [
    "Allcard = Allcard2.copy()\n",
    "joker = [\"j1\",\"j2\"]\n",
    "\n",
    "##\n",
    "joka =0\n",
    "##\n",
    "\n",
    "if joka==1:\n",
    "    Allcard.append(\"j1\")\n",
    "    \n",
    "elif joka==2:\n",
    "    Allcard.append(\"j1\")\n",
    "    Allcard.append(\"j2\")\n",
    "else:\n",
    "    pass\n",
    "\n",
    "print(Allcard)"
   ]
  },
  {
   "cell_type": "markdown",
   "metadata": {},
   "source": [
    "ジョーカーを２枚いれたいときはどこをどうすればよいか？？"
   ]
  },
  {
   "cell_type": "code",
   "execution_count": null,
   "metadata": {},
   "outputs": [],
   "source": []
  },
  {
   "cell_type": "markdown",
   "metadata": {},
   "source": [
    "ジョーカーを入れたカードを混ぜたい場合とそうでない場合がある"
   ]
  },
  {
   "cell_type": "markdown",
   "metadata": {},
   "source": [
    "mixという変数名を作る。<br>\n",
    "mixがTrueのときは混ぜて，<br>\n",
    "mixがFalseのときはそのまま，<br>\n",
    "ということを指示するif文を作る"
   ]
  },
  {
   "cell_type": "markdown",
   "metadata": {},
   "source": [
    "リスト内をランダムに並べ換えること=トランプをまぜる（きる）こと<br>\n",
    "これは，random.shuffleを使う"
   ]
  },
  {
   "cell_type": "code",
   "execution_count": 8,
   "metadata": {},
   "outputs": [
    {
     "name": "stdout",
     "output_type": "stream",
     "text": [
      "['9_diamond', '8_spade', '2_spade', '9_club', '5_club', '7_heart', '5_spade', 'K_club', '9_heart', 'A_spade', 'Q_diamond', '7_diamond', '6_diamond', '4_heart', 'K_spade', '3_heart', '9_spade', 'A_diamond', 'K_heart', '6_spade', 'Q_spade', 'J_heart', '3_spade', '7_spade', '2_club', 'X_spade', '8_heart', 'X_heart', '4_club', '3_club', '7_club', 'J_diamond', '8_diamond', 'A_heart', '8_club', '4_spade', 'Q_club', '2_diamond', '5_heart', 'X_diamond', '4_diamond', '2_heart', '6_club', '6_heart', 'X_club', 'J_spade', 'A_club', '5_diamond', 'j1', 'Q_heart', 'J_club', 'K_diamond', '3_diamond']\n"
     ]
    }
   ],
   "source": [
    "import random\n",
    "random.shuffle(Allcard)\n",
    "print(Allcard)"
   ]
  },
  {
   "cell_type": "code",
   "execution_count": 9,
   "metadata": {},
   "outputs": [
    {
     "name": "stdout",
     "output_type": "stream",
     "text": [
      "['A_spade', 'K_spade', 'Q_spade', 'J_spade', 'X_spade', '9_spade', '8_spade', '7_spade', '6_spade', '5_spade', '4_spade', '3_spade', '2_spade', 'A_heart', 'K_heart', 'Q_heart', 'J_heart', 'X_heart', '9_heart', '8_heart', '7_heart', '6_heart', '5_heart', '4_heart', '3_heart', '2_heart', 'A_diamond', 'K_diamond', 'Q_diamond', 'J_diamond', 'X_diamond', '9_diamond', '8_diamond', '7_diamond', '6_diamond', '5_diamond', '4_diamond', '3_diamond', '2_diamond', 'A_club', 'K_club', 'Q_club', 'J_club', 'X_club', '9_club', '8_club', '7_club', '6_club', '5_club', '4_club', '3_club', '2_club']\n"
     ]
    }
   ],
   "source": [
    "import random\n",
    "Allcard = Allcard2.copy()\n",
    "mix = False\n",
    "if mix:\n",
    "    random.shuffle(Allcard)\n",
    "else:\n",
    "    pass\n",
    "\n",
    "print(Allcard)"
   ]
  },
  {
   "cell_type": "markdown",
   "metadata": {},
   "source": [
    "トランプカードをバラバラにしたいときは上の構文のどこをどうすればよいか？？"
   ]
  },
  {
   "cell_type": "code",
   "execution_count": null,
   "metadata": {},
   "outputs": [],
   "source": []
  },
  {
   "cell_type": "markdown",
   "metadata": {},
   "source": [
    "### カードを5人に配る"
   ]
  },
  {
   "cell_type": "markdown",
   "metadata": {},
   "source": [
    "順番を並べ替えたカードを配ってみよう。<br>"
   ]
  },
  {
   "cell_type": "markdown",
   "metadata": {},
   "source": [
    "こんな空リストを作ってみよう。\n",
    "```\n",
    "[ [ ], [ ], [ ], [ ], [ ]  ]\n",
    "```\n",
    "大元のリストの中に5つ(5人分)の部屋を設ける...ようなイメージ。"
   ]
  },
  {
   "cell_type": "markdown",
   "metadata": {},
   "source": [
    "- カードの枚数は？？"
   ]
  },
  {
   "cell_type": "code",
   "execution_count": 41,
   "metadata": {},
   "outputs": [
    {
     "name": "stdout",
     "output_type": "stream",
     "text": [
      "['A_spade', 'K_spade', 'Q_spade', 'J_spade', 'X_spade', '9_spade', '8_spade', '7_spade', '6_spade', '5_spade', '4_spade', '3_spade', '2_spade', 'A_heart', 'K_heart', 'Q_heart', 'J_heart', 'X_heart', '9_heart', '8_heart', '7_heart', '6_heart', '5_heart', '4_heart', '3_heart', '2_heart', 'A_diamond', 'K_diamond', 'Q_diamond', 'J_diamond', 'X_diamond', '9_diamond', '8_diamond', '7_diamond', '6_diamond', '5_diamond', '4_diamond', '3_diamond', '2_diamond', 'A_club', 'K_club', 'Q_club', 'J_club', 'X_club', '9_club', '8_club', '7_club', '6_club', '5_club', '4_club', '3_club', '2_club', 'j1']\n"
     ]
    }
   ],
   "source": [
    "Allcard = Allcard2.copy()\n",
    "joker = [\"j1\",\"j2\"]\n",
    "\n",
    "##\n",
    "joka =1\n",
    "##\n",
    "\n",
    "if joka==1:\n",
    "    Allcard.append(\"j1\")\n",
    "else:\n",
    "    pass\n",
    "\n",
    "print(Allcard)"
   ]
  },
  {
   "cell_type": "code",
   "execution_count": 16,
   "metadata": {},
   "outputs": [
    {
     "data": {
      "text/plain": [
       "53"
      ]
     },
     "execution_count": 16,
     "metadata": {},
     "output_type": "execute_result"
    }
   ],
   "source": [
    "aa = len(Allcard)\n",
    "aa"
   ]
  },
  {
   "cell_type": "code",
   "execution_count": 19,
   "metadata": {},
   "outputs": [
    {
     "name": "stdout",
     "output_type": "stream",
     "text": [
      "一人当たり10枚，あまりは3枚\n"
     ]
    }
   ],
   "source": [
    "v1 = aa//5\n",
    "v2 = aa%5\n",
    "print(f\"一人当たり{v1}枚，あまりは{v2}枚\")"
   ]
  },
  {
   "cell_type": "code",
   "execution_count": 20,
   "metadata": {},
   "outputs": [
    {
     "name": "stdout",
     "output_type": "stream",
     "text": [
      "残り3枚をどうする？？\n"
     ]
    }
   ],
   "source": [
    "print(f\"残り{v2}枚をどうする？？\")"
   ]
  },
  {
   "cell_type": "code",
   "execution_count": 21,
   "metadata": {},
   "outputs": [
    {
     "name": "stdout",
     "output_type": "stream",
     "text": [
      "ここでは，5名分のうち，適当に選ばれた10名に一枚ずつ追加する。\n"
     ]
    }
   ],
   "source": [
    "print(f\"ここでは，5名分のうち，適当に選ばれた{v1}名に一枚ずつ追加する。\")"
   ]
  },
  {
   "cell_type": "markdown",
   "metadata": {},
   "source": [
    "では，シャッフルして10枚ずつ取り出す。"
   ]
  },
  {
   "cell_type": "code",
   "execution_count": 42,
   "metadata": {},
   "outputs": [
    {
     "name": "stdout",
     "output_type": "stream",
     "text": [
      "['8_diamond', 'A_club', '7_diamond', '8_spade', 'J_diamond', 'J_club', '2_club', 'J_spade', '4_spade', '9_club', 'X_diamond', 'A_spade', '5_spade', 'K_club', '9_heart', 'X_club', 'X_heart', 'K_spade', 'Q_club', 'K_diamond', 'J_heart', '7_heart', '4_club', 'X_spade', '7_club', '3_spade', '2_heart', '6_heart', 'Q_heart', '4_heart', 'K_heart', '2_diamond', 'A_diamond', '3_club', 'Q_spade', '5_diamond', 'Q_diamond', 'A_heart', '3_diamond', '6_spade', 'j1', '5_club', '3_heart', '6_club', '5_heart', '8_club', '9_spade', '8_heart', '6_diamond', '7_spade', '2_spade', '9_diamond', '4_diamond']\n"
     ]
    }
   ],
   "source": [
    "random.shuffle(Allcard)\n",
    "menbers = [ [ ], [ ], [ ], [ ], [ ]  ]\n",
    "print(Allcard)"
   ]
  },
  {
   "cell_type": "code",
   "execution_count": 43,
   "metadata": {},
   "outputs": [],
   "source": [
    "for i in range(5):\n",
    "    menbers[i] = menbers[i]+Allcard[:10]\n",
    "    del Allcard[:10]"
   ]
  },
  {
   "cell_type": "code",
   "execution_count": 44,
   "metadata": {},
   "outputs": [
    {
     "name": "stdout",
     "output_type": "stream",
     "text": [
      "[['8_diamond', 'A_club', '7_diamond', '8_spade', 'J_diamond', 'J_club', '2_club', 'J_spade', '4_spade', '9_club'], ['X_diamond', 'A_spade', '5_spade', 'K_club', '9_heart', 'X_club', 'X_heart', 'K_spade', 'Q_club', 'K_diamond'], ['J_heart', '7_heart', '4_club', 'X_spade', '7_club', '3_spade', '2_heart', '6_heart', 'Q_heart', '4_heart'], ['K_heart', '2_diamond', 'A_diamond', '3_club', 'Q_spade', '5_diamond', 'Q_diamond', 'A_heart', '3_diamond', '6_spade'], ['j1', '5_club', '3_heart', '6_club', '5_heart', '8_club', '9_spade', '8_heart', '6_diamond', '7_spade']]\n"
     ]
    }
   ],
   "source": [
    "print(menbers)"
   ]
  },
  {
   "cell_type": "code",
   "execution_count": 45,
   "metadata": {},
   "outputs": [
    {
     "name": "stdout",
     "output_type": "stream",
     "text": [
      "[0, 2, 1]\n"
     ]
    }
   ],
   "source": [
    "mm = random.sample(range(5),3)\n",
    "print(mm)\n",
    "for n,i in enumerate(mm):\n",
    "    menbers[i].append(Allcard[n])"
   ]
  },
  {
   "cell_type": "code",
   "execution_count": 46,
   "metadata": {},
   "outputs": [
    {
     "name": "stdout",
     "output_type": "stream",
     "text": [
      "[['8_diamond', 'A_club', '7_diamond', '8_spade', 'J_diamond', 'J_club', '2_club', 'J_spade', '4_spade', '9_club', '2_spade'], ['X_diamond', 'A_spade', '5_spade', 'K_club', '9_heart', 'X_club', 'X_heart', 'K_spade', 'Q_club', 'K_diamond', '4_diamond'], ['J_heart', '7_heart', '4_club', 'X_spade', '7_club', '3_spade', '2_heart', '6_heart', 'Q_heart', '4_heart', '9_diamond'], ['K_heart', '2_diamond', 'A_diamond', '3_club', 'Q_spade', '5_diamond', 'Q_diamond', 'A_heart', '3_diamond', '6_spade'], ['j1', '5_club', '3_heart', '6_club', '5_heart', '8_club', '9_spade', '8_heart', '6_diamond', '7_spade']]\n"
     ]
    }
   ],
   "source": [
    "print(menbers)"
   ]
  },
  {
   "cell_type": "code",
   "execution_count": null,
   "metadata": {},
   "outputs": [],
   "source": []
  }
 ],
 "metadata": {
  "kernelspec": {
   "display_name": "Python 3",
   "language": "python",
   "name": "python3"
  },
  "language_info": {
   "codemirror_mode": {
    "name": "ipython",
    "version": 3
   },
   "file_extension": ".py",
   "mimetype": "text/x-python",
   "name": "python",
   "nbconvert_exporter": "python",
   "pygments_lexer": "ipython3",
   "version": "3.6.8"
  },
  "toc": {
   "base_numbering": 1,
   "nav_menu": {},
   "number_sections": false,
   "sideBar": true,
   "skip_h1_title": false,
   "title_cell": "Table of Contents",
   "title_sidebar": "Contents",
   "toc_cell": false,
   "toc_position": {},
   "toc_section_display": true,
   "toc_window_display": false
  }
 },
 "nbformat": 4,
 "nbformat_minor": 2
}
