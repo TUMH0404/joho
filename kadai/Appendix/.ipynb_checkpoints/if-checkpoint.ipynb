{
 "cells": [
  {
   "cell_type": "markdown",
   "metadata": {},
   "source": [
    "### if〜else\n",
    "### if〜elif〜else"
   ]
  },
  {
   "cell_type": "markdown",
   "metadata": {},
   "source": [
    "Prac2_forで作ったAllcard2にジョーカーを入れたい。<br>\n",
    "1枚入れる？<br>\n",
    ">それとも\n",
    "\n",
    "2枚入れる？<br>\n",
    ">それとも\n",
    "\n",
    "なしにする？<br>"
   ]
  },
  {
   "cell_type": "code",
   "execution_count": null,
   "metadata": {},
   "outputs": [],
   "source": [
    "## カードを用意する。\n",
    "# マーク\n",
    "mark =[\"diamond\",\"heart\",\"spade\",\"club\"]\n",
    "# 数\n",
    "num = [\"A\",\"K\",\"Q\",\"J\",\"X\",\"9\",\"8\",\"7\",\"6\",\"5\",\"4\",\"3\",\"2\"]\n",
    "# ジョーカー\n",
    "joker = [\"j1\",\"j2\"]"
   ]
  },
  {
   "cell_type": "code",
   "execution_count": null,
   "metadata": {},
   "outputs": [],
   "source": [
    "??????? = []\n",
    "for????????\n",
    "    for ???????\n",
    "        Allcard2.???????"
   ]
  },
  {
   "cell_type": "code",
   "execution_count": null,
   "metadata": {},
   "outputs": [],
   "source": [
    "print(Allcard2)"
   ]
  },
  {
   "cell_type": "markdown",
   "metadata": {},
   "source": [
    "### Allcard2にジョーカーを何枚入れる？<br>\n",
    "\n",
    ">jokaが1のときは1枚，<br>\n",
    ">上記以外はなにもしない<br>\n",
    "\n",
    "というのをpythonで表現してみよう。"
   ]
  },
  {
   "cell_type": "code",
   "execution_count": null,
   "metadata": {
    "scrolled": true
   },
   "outputs": [],
   "source": [
    "Allcard = Allcard2.copy()  ## これは深いコピー。浅いコピーと深いコピーは別の機会に勉強しましょう。\n",
    "joker = [\"j1\",\"j2\"]\n",
    "\n",
    "##\n",
    "joka = \n",
    "##\n",
    "\n",
    "## if文は\n",
    "## ここから\n",
    "if joka==1:\n",
    "    Allcard.append(\"j1\")\n",
    "else:\n",
    "    pass\n",
    "\n",
    "## ここまで\n",
    "print(Allcard)"
   ]
  },
  {
   "cell_type": "markdown",
   "metadata": {},
   "source": [
    "これがif文の基本形"
   ]
  },
  {
   "cell_type": "markdown",
   "metadata": {},
   "source": [
    "jokerを何枚入れる？？"
   ]
  },
  {
   "cell_type": "code",
   "execution_count": null,
   "metadata": {},
   "outputs": [],
   "source": [
    "## 例えば1枚いれてみましょう。\n",
    "Allcard = Allcard2.copy()\n",
    "joker = [\"j1\",\"j2\"]\n",
    "\n",
    "##\n",
    "??? = 1\n",
    "##\n",
    "\n",
    "##\n",
    "if joc == 1:\n",
    "    Allcard.append(\"j1\")\n",
    "    \n",
    "elif joc == 2:\n",
    "    Allcard.append(\"j1\")\n",
    "    Allcard.append(\"j2\")\n",
    "else:\n",
    "    pass\n",
    "##\n",
    "print(Allcard)"
   ]
  },
  {
   "cell_type": "markdown",
   "metadata": {},
   "source": [
    "ジョーカーを２枚いれたいときはどこをどうすればよいか？？"
   ]
  },
  {
   "cell_type": "code",
   "execution_count": null,
   "metadata": {},
   "outputs": [],
   "source": []
  },
  {
   "cell_type": "markdown",
   "metadata": {},
   "source": [
    "ジョーカーを入れたカードを混ぜたい場合とそうでない場合がある"
   ]
  },
  {
   "cell_type": "markdown",
   "metadata": {},
   "source": [
    "mixという変数名を作る。<br>\n",
    "mixがTrueのときは混ぜて，<br>\n",
    "mixがFalseのときはそのまま，<br>\n",
    "ということを指示するif文を作る"
   ]
  },
  {
   "cell_type": "markdown",
   "metadata": {},
   "source": [
    "リスト内をランダムに並べ換えること=トランプをまぜる（きる）こと<br>\n",
    "これは，random.shuffleを使う"
   ]
  },
  {
   "cell_type": "code",
   "execution_count": null,
   "metadata": {},
   "outputs": [],
   "source": [
    "import random\n",
    "random.shuffle(Allcard)\n",
    "print(Allcard)"
   ]
  },
  {
   "cell_type": "code",
   "execution_count": null,
   "metadata": {},
   "outputs": [],
   "source": [
    "import random\n",
    "Allcard = Allcard2.copy()\n",
    "\n",
    "if mix:\n",
    "    random.shuffle(Allcard)\n",
    "else:\n",
    "    pass\n",
    "\n",
    "print(Allcard)"
   ]
  },
  {
   "cell_type": "markdown",
   "metadata": {},
   "source": [
    "**トランプカードをバラバラにしたい！！**<br>上の構文のどこをどうすればよいか？？"
   ]
  },
  {
   "cell_type": "code",
   "execution_count": null,
   "metadata": {},
   "outputs": [],
   "source": []
  },
  {
   "cell_type": "markdown",
   "metadata": {},
   "source": [
    "## まとめ\n",
    "### for文やif文を使ってみよう！"
   ]
  },
  {
   "cell_type": "markdown",
   "metadata": {},
   "source": [
    "### カードを5人に配る"
   ]
  },
  {
   "cell_type": "markdown",
   "metadata": {},
   "source": [
    "順番を並べ替えたカードを配ってみよう。<br>"
   ]
  },
  {
   "cell_type": "markdown",
   "metadata": {},
   "source": [
    "こんな空リストを作ってみよう。\n",
    "```\n",
    "[ [ ], [ ], [ ], [ ], [ ]  ]\n",
    "```\n",
    "大元のリストの中に5つ(5人分)の部屋を設ける...ようなイメージ。"
   ]
  },
  {
   "cell_type": "markdown",
   "metadata": {},
   "source": [
    "- カードの枚数は？？"
   ]
  },
  {
   "cell_type": "code",
   "execution_count": null,
   "metadata": {},
   "outputs": [],
   "source": [
    "Allcard = Allcard2.copy()\n",
    "joker = [\"j1\",\"j2\"]\n",
    "\n",
    "##\n",
    "joka =1\n",
    "##\n",
    "\n",
    "if joka==1:\n",
    "    Allcard.append(\"j1\")\n",
    "else:\n",
    "    pass\n",
    "\n",
    "print(Allcard)"
   ]
  },
  {
   "cell_type": "code",
   "execution_count": null,
   "metadata": {},
   "outputs": [],
   "source": [
    "aa = len(Allcard)\n",
    "aa"
   ]
  },
  {
   "cell_type": "code",
   "execution_count": null,
   "metadata": {},
   "outputs": [],
   "source": [
    "v1 = aa//5\n",
    "v2 = aa%5\n",
    "print(f\"一人当たり{v1}枚，あまりは{v2}枚\")"
   ]
  },
  {
   "cell_type": "code",
   "execution_count": null,
   "metadata": {},
   "outputs": [],
   "source": [
    "print(f\"残り{v2}枚をどうする？？\")"
   ]
  },
  {
   "cell_type": "code",
   "execution_count": null,
   "metadata": {},
   "outputs": [],
   "source": [
    "print(f\"ここでは，5名分のうち，適当に選ばれた{v1}名に一枚ずつ追加する。\")"
   ]
  },
  {
   "cell_type": "markdown",
   "metadata": {},
   "source": [
    "では，シャッフルして10枚ずつ取り出す。"
   ]
  },
  {
   "cell_type": "code",
   "execution_count": null,
   "metadata": {},
   "outputs": [],
   "source": [
    "random.shuffle(Allcard)\n",
    "menbers = [ [ ], [ ], [ ], [ ], [ ]  ]\n",
    "print(Allcard)"
   ]
  },
  {
   "cell_type": "code",
   "execution_count": null,
   "metadata": {},
   "outputs": [],
   "source": [
    "for i in range(5):\n",
    "    menbers[i] = menbers[i] ? Allcard[:10]\n",
    "    del ????[:10]"
   ]
  },
  {
   "cell_type": "code",
   "execution_count": null,
   "metadata": {},
   "outputs": [],
   "source": [
    "print(menbers)"
   ]
  },
  {
   "cell_type": "code",
   "execution_count": null,
   "metadata": {},
   "outputs": [],
   "source": [
    "## enumerateは・・・\n",
    "mm = random.sample(range(5),3)\n",
    "print(mm)\n",
    "for n,i in enumerate(mm):\n",
    "    menbers[i].append(Allcard[n])"
   ]
  },
  {
   "cell_type": "code",
   "execution_count": null,
   "metadata": {},
   "outputs": [],
   "source": [
    "print(menbers)"
   ]
  }
 ],
 "metadata": {
  "kernelspec": {
   "display_name": "Python 3",
   "language": "python",
   "name": "python3"
  },
  "language_info": {
   "codemirror_mode": {
    "name": "ipython",
    "version": 3
   },
   "file_extension": ".py",
   "mimetype": "text/x-python",
   "name": "python",
   "nbconvert_exporter": "python",
   "pygments_lexer": "ipython3",
   "version": "3.6.8"
  },
  "toc": {
   "base_numbering": 1,
   "nav_menu": {},
   "number_sections": false,
   "sideBar": true,
   "skip_h1_title": false,
   "title_cell": "Table of Contents",
   "title_sidebar": "Contents",
   "toc_cell": false,
   "toc_position": {},
   "toc_section_display": true,
   "toc_window_display": false
  }
 },
 "nbformat": 4,
 "nbformat_minor": 2
}
