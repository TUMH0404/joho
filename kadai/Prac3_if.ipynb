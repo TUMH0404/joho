{
 "cells": [
  {
   "cell_type": "markdown",
   "metadata": {},
   "source": [
    "### if〜else\n",
    "### if〜elif〜else"
   ]
  },
  {
   "cell_type": "markdown",
   "metadata": {},
   "source": [
    "Prac2_forで作ったAllcard2にジョーカーを入れたい。<br>\n",
    "1枚入れる？<br>\n",
    ">それとも\n",
    "\n",
    "2枚入れる？<br>\n",
    ">それとも\n",
    "\n",
    "なしにする？<br>"
   ]
  },
  {
   "cell_type": "code",
   "execution_count": null,
   "metadata": {},
   "outputs": [],
   "source": [
    "## カードを用意する。\n",
    "Allcard2 = \\\n",
    "['A_spade',\\\n",
    " 'K_spade',\\\n",
    " 'Q_spade',\\\n",
    " 'J_spade',\\\n",
    " 'X_spade',\\\n",
    " '9_spade',\\\n",
    " '8_spade',\\\n",
    " '7_spade',\\\n",
    " '6_spade',\\\n",
    " '5_spade',\\\n",
    " '4_spade',\\\n",
    " '3_spade',\\\n",
    " '2_spade',\\\n",
    " 'A_heart',\\\n",
    " 'K_heart',\\\n",
    " 'Q_heart',\\\n",
    " 'J_heart',\\\n",
    " 'X_heart',\\\n",
    " '9_heart',\\\n",
    " '8_heart',\\\n",
    " '7_heart',\\\n",
    " '6_heart',\\\n",
    " '5_heart',\\\n",
    " '4_heart',\\\n",
    " '3_heart',\\\n",
    " '2_heart',\\\n",
    " 'A_diamond',\\\n",
    " 'K_diamond',\\\n",
    " 'Q_diamond',\\\n",
    " 'J_diamond',\\\n",
    " 'X_diamond',\\\n",
    " '9_diamond',\\\n",
    " '8_diamond',\\\n",
    " '7_diamond',\\\n",
    " '6_diamond',\\\n",
    " '5_diamond',\\\n",
    " '4_diamond',\\\n",
    " '3_diamond',\\\n",
    " '2_diamond',\\\n",
    " 'A_club',\\\n",
    " 'K_club',\\\n",
    " 'Q_club',\\\n",
    " 'J_club',\\\n",
    " 'X_club',\\\n",
    " '9_club',\\\n",
    " '8_club',\\\n",
    " '7_club',\\\n",
    " '6_club',\\\n",
    " '5_club',\\\n",
    " '4_club',\\\n",
    " '3_club',\\\n",
    " '2_club']"
   ]
  },
  {
   "cell_type": "markdown",
   "metadata": {},
   "source": [
    "Allcard2にジョーカーを何枚入れる？<br>\n",
    "\n",
    ">jokaが1のときは1枚，<br>\n",
    ">上記以外はなにもしない<br>\n",
    "\n",
    "というのをpythonで表現してみよう。"
   ]
  },
  {
   "cell_type": "code",
   "execution_count": null,
   "metadata": {},
   "outputs": [],
   "source": [
    "Allcard = Allcard2.copy()\n",
    "joker = [\"j1\",\"j2\"]\n",
    "\n",
    "##\n",
    "joka =1\n",
    "##\n",
    "\n",
    "if joka==1:\n",
    "    Allcard.append(\"j1\")\n",
    "else:\n",
    "    pass\n",
    "\n",
    "print(Allcard)"
   ]
  },
  {
   "cell_type": "markdown",
   "metadata": {},
   "source": [
    "jokerを何枚入れる？？"
   ]
  },
  {
   "cell_type": "code",
   "execution_count": null,
   "metadata": {},
   "outputs": [],
   "source": [
    "Allcard = Allcard2.copy()\n",
    "joker = [\"j1\",\"j2\"]\n",
    "\n",
    "##\n",
    "joka =0\n",
    "##\n",
    "\n",
    "if joka==1:\n",
    "    Allcard.append(\"j1\")\n",
    "    \n",
    "elif joka==2:\n",
    "    Allcard.append(\"j1\")\n",
    "    Allcard.append(\"j2\")\n",
    "else:\n",
    "    pass\n",
    "\n",
    "print(Allcard)"
   ]
  },
  {
   "cell_type": "markdown",
   "metadata": {},
   "source": [
    "ジョーカーを２枚いれたいときはどこをどうすればよいか？？"
   ]
  },
  {
   "cell_type": "code",
   "execution_count": null,
   "metadata": {},
   "outputs": [],
   "source": []
  },
  {
   "cell_type": "markdown",
   "metadata": {},
   "source": [
    "ジョーカーを入れたカードを混ぜたい場合とそうでない場合がある"
   ]
  },
  {
   "cell_type": "markdown",
   "metadata": {},
   "source": [
    "mixという変数名を作る。<br>\n",
    "mixがTrueのときは混ぜて，<br>\n",
    "mixがFalseのときはそのまま，<br>\n",
    "ということを指示するif文を作る"
   ]
  },
  {
   "cell_type": "markdown",
   "metadata": {},
   "source": [
    "リスト内をランダムに並べ換えること=トランプをまぜる（きる）こと<br>\n",
    "これは，random.shuffleを使う"
   ]
  },
  {
   "cell_type": "code",
   "execution_count": null,
   "metadata": {},
   "outputs": [],
   "source": [
    "import random\n",
    "random.shuffle(Allcard)\n",
    "print(Allcard)"
   ]
  },
  {
   "cell_type": "code",
   "execution_count": null,
   "metadata": {},
   "outputs": [],
   "source": [
    "import random\n",
    "Allcard = Allcard2.copy()\n",
    "mix = False\n",
    "if mix:\n",
    "    random.shuffle(Allcard)\n",
    "else:\n",
    "    pass\n",
    "\n",
    "print(Allcard)"
   ]
  },
  {
   "cell_type": "markdown",
   "metadata": {},
   "source": [
    "トランプカードをバラバラにしたいときは上の構文のどこをどうすればよいか？？"
   ]
  },
  {
   "cell_type": "code",
   "execution_count": null,
   "metadata": {},
   "outputs": [],
   "source": []
  },
  {
   "cell_type": "code",
   "execution_count": null,
   "metadata": {},
   "outputs": [],
   "source": []
  }
 ],
 "metadata": {
  "kernelspec": {
   "display_name": "Python 3",
   "language": "python",
   "name": "python3"
  },
  "language_info": {
   "codemirror_mode": {
    "name": "ipython",
    "version": 3
   },
   "file_extension": ".py",
   "mimetype": "text/x-python",
   "name": "python",
   "nbconvert_exporter": "python",
   "pygments_lexer": "ipython3",
   "version": "3.6.8"
  },
  "toc": {
   "base_numbering": 1,
   "nav_menu": {},
   "number_sections": false,
   "sideBar": true,
   "skip_h1_title": false,
   "title_cell": "Table of Contents",
   "title_sidebar": "Contents",
   "toc_cell": false,
   "toc_position": {},
   "toc_section_display": true,
   "toc_window_display": true
  }
 },
 "nbformat": 4,
 "nbformat_minor": 2
}
