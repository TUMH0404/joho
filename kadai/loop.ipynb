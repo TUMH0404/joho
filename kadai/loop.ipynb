{
 "cells": [
  {
   "cell_type": "markdown",
   "metadata": {},
   "source": [
    "#### f 文字列の活用\n",
    "f 文字列とは，ある変数名に格納した値（str型，int型，float型）を変数名を用いて他の文字と組み合わせて文字として扱うことができる。"
   ]
  },
  {
   "cell_type": "markdown",
   "metadata": {},
   "source": [
    "##### f 文字列の基本形を書いて動作を確認する\n",
    "\n",
    "基本形①\n",
    "```\n",
    "name = \"Takarazuka\"\n",
    "f\"私の名前は，{name}です。\"\n",
    "```\n",
    "<font color=\"red\">**以上の2行を入力して実行する。**</font>\n",
    "\n",
    "\n",
    "基本形②\n",
    "```\n",
    "name = \"Takarazuka\"\n",
    "heikin1 = 40\n",
    "heikin2 = 30.5\n",
    "heikin3 = 45.2\n",
    "f\"{name}学校の平均について，国語は{heikin1} 点，国語は{heikin2} 点，国語は{heikin1} 点，である。\"\n",
    "```\n",
    "<font color=\"red\">**以上の5行を入力して実行する。**</font>"
   ]
  },
  {
   "cell_type": "markdown",
   "metadata": {},
   "source": [
    "#### for文の基本形を書く"
   ]
  },
  {
   "cell_type": "markdown",
   "metadata": {},
   "source": [
    "##### for文とprint関数を使って，0~9を一つずつ表示する"
   ]
  },
  {
   "cell_type": "markdown",
   "metadata": {},
   "source": [
    "##### ある空リストを作り，その空リストにfor文を使って0〜9の数値を追加する"
   ]
  },
  {
   "cell_type": "markdown",
   "metadata": {},
   "source": [
    "##### 次に示すオブジェクト \"number\"の要素を一つずつprint関数に渡して表示する\n",
    "```\n",
    "number = [\"A\",\"K\",\"Q\",\"J\",\"X\",\"9\",\"8\",\"7\",\"6\",\"5\",\"4\",\"3\",\"2\"]\n",
    "```"
   ]
  },
  {
   "cell_type": "markdown",
   "metadata": {},
   "source": [
    "#### for文の応用（よく使うパターン）"
   ]
  },
  {
   "cell_type": "markdown",
   "metadata": {},
   "source": [
    "##### 上のnumberの要素を一つずつprint関数に渡し，\"_\"（アンダーバー）と連結させた文字列として表示する。\n",
    "```\n",
    "表示は文字の直後に\"_\"(アンダーバー)をつける\n",
    "例) \"A_\" , \"K_\" , \"Q_\" , \"J_\" ,   .....  , \"2_\"\n",
    "```"
   ]
  },
  {
   "cell_type": "markdown",
   "metadata": {},
   "source": [
    "##### 次に示すオブジェクト \"mark\"の要素を一つずつprint関数に渡して表示する。\n",
    "```\n",
    "mark = [\"diamond\", \"heart\", \"spade\", \"club\"]\n",
    "```"
   ]
  },
  {
   "cell_type": "markdown",
   "metadata": {},
   "source": [
    "##### 2.1で作った構文と2.2で作った構文を組み合わせて，52枚のカードが入ったリスト型のオブジェクトCompCardを作成する。"
   ]
  },
  {
   "cell_type": "markdown",
   "metadata": {},
   "source": [
    "##### 最後のprint関数を使って中身を確認する"
   ]
  },
  {
   "cell_type": "markdown",
   "metadata": {},
   "source": [
    "<br>\n",
    "<br>\n",
    "以上終了した人は申し出る。すべてできた人から終了！"
   ]
  }
 ],
 "metadata": {
  "hide_input": false,
  "kernelspec": {
   "display_name": "Python 3",
   "language": "python",
   "name": "python3"
  },
  "language_info": {
   "codemirror_mode": {
    "name": "ipython",
    "version": 3
   },
   "file_extension": ".py",
   "mimetype": "text/x-python",
   "name": "python",
   "nbconvert_exporter": "python",
   "pygments_lexer": "ipython3",
   "version": "3.6.8"
  },
  "latex_envs": {
   "LaTeX_envs_menu_present": true,
   "autoclose": false,
   "autocomplete": true,
   "bibliofile": "biblio.bib",
   "cite_by": "apalike",
   "current_citInitial": 1,
   "eqLabelWithNumbers": true,
   "eqNumInitial": 1,
   "hotkeys": {
    "equation": "Ctrl-E",
    "itemize": "Ctrl-I"
   },
   "labels_anchors": false,
   "latex_user_defs": false,
   "report_style_numbering": false,
   "user_envs_cfg": false
  },
  "toc": {
   "base_numbering": "0",
   "nav_menu": {},
   "number_sections": true,
   "sideBar": true,
   "skip_h1_title": false,
   "title_cell": "Table of Contents",
   "title_sidebar": "Contents",
   "toc_cell": false,
   "toc_position": {},
   "toc_section_display": true,
   "toc_window_display": false
  }
 },
 "nbformat": 4,
 "nbformat_minor": 2
}
