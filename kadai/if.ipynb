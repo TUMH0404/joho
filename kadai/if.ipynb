{
 "cells": [
  {
   "cell_type": "markdown",
   "metadata": {},
   "source": [
    "#### 複数"
   ]
  },
  {
   "cell_type": "markdown",
   "metadata": {},
   "source": [
    "##### 次の式のあまりは？\n",
    "$100\\div2$"
   ]
  },
  {
   "cell_type": "code",
   "execution_count": null,
   "metadata": {},
   "outputs": [],
   "source": []
  },
  {
   "cell_type": "markdown",
   "metadata": {},
   "source": [
    "$99\\div2$ "
   ]
  },
  {
   "cell_type": "code",
   "execution_count": null,
   "metadata": {},
   "outputs": [],
   "source": []
  },
  {
   "cell_type": "markdown",
   "metadata": {},
   "source": [
    "$995432\\div37$"
   ]
  },
  {
   "cell_type": "code",
   "execution_count": null,
   "metadata": {},
   "outputs": [],
   "source": []
  },
  {
   "cell_type": "markdown",
   "metadata": {},
   "source": [
    "##### 0から99の自然数（1ずつ増える等差数列）をprint関数を用いて表示せよ。"
   ]
  },
  {
   "cell_type": "code",
   "execution_count": null,
   "metadata": {},
   "outputs": [],
   "source": []
  },
  {
   "cell_type": "markdown",
   "metadata": {},
   "source": [
    "#### if〜elif〜else文"
   ]
  },
  {
   "cell_type": "markdown",
   "metadata": {},
   "source": [
    "##### 0から99の等差数列のうち，奇数だけの`print`関数を使って表示せよ。"
   ]
  },
  {
   "cell_type": "code",
   "execution_count": null,
   "metadata": {},
   "outputs": [],
   "source": []
  },
  {
   "cell_type": "markdown",
   "metadata": {},
   "source": [
    "##### 0から99の自然数（1ずつ増える等差数列）のうち，3で割り切れる数値だけを`print`関数を使って表示せよ。"
   ]
  },
  {
   "cell_type": "code",
   "execution_count": null,
   "metadata": {},
   "outputs": [],
   "source": []
  },
  {
   "cell_type": "markdown",
   "metadata": {},
   "source": [
    "#### 次に読み込む「words」というオブジェクトに格納するリストの要素を骨，血管，筋に分類する。"
   ]
  },
  {
   "cell_type": "markdown",
   "metadata": {},
   "source": [
    "プログラムの視点から申すと・・・\n",
    "1. 空リストを4つ作成する。\n",
    "1. `for文`でwordsの要素を逐一とりだす。\n",
    "1. 取り出した要素が，どの条件にあたるのか確かめ，その条件に合致した場合のみに必要な操作を行う(`if〜elif〜else`)。"
   ]
  },
  {
   "cell_type": "markdown",
   "metadata": {},
   "source": [
    "そのまえに・・・"
   ]
  },
  {
   "cell_type": "markdown",
   "metadata": {},
   "source": [
    "**`import`について**<br>\n",
    "`import`とは，Pythonで書かれたコードを再利用するときに使用するコードである。要はすでに作成されている部品を使用するときに使う。<br>\n",
    "ここでは，`import pickle`として，Python用に記憶したデータをそのままの形で保存したり，書き出したりするためのパッケージを利用する（したい）ので，使う前に部品をあるところから引っ張ってきてね，とPCに指示を与えている。<br>\n",
    "そのほかにもいっぱいあるので，必要に応じて説明を加える。"
   ]
  },
  {
   "cell_type": "code",
   "execution_count": null,
   "metadata": {},
   "outputs": [],
   "source": [
    "## 必要なデータを取得する。このセルをを実行する。`words`という変数名に，ここで用いるデータが格納されているはず。\n",
    "## 確認のために次のセルにwordsと入力して，実行してみよう。\n",
    "## 実行\n",
    "\n",
    "##\n",
    "import pickle   ## pickleというPython特有のデータ形式でファイルに保存したり，書き出したりできる便利なライブラリ。\n",
    "with open(\"data.pickle\", \"rb\") as dd:    ## ddというオブジェクトに\"data.pickle\"の中身を読み込む。\n",
    "    words = pickle.load(dd)  ## そのデータをwordsに格納する。\n",
    "    \n",
    "##"
   ]
  },
  {
   "cell_type": "code",
   "execution_count": null,
   "metadata": {},
   "outputs": [],
   "source": []
  },
  {
   "cell_type": "markdown",
   "metadata": {},
   "source": [
    "例えば，文字列\n",
    "`\n",
    "\"人体解剖学\"\n",
    "`\n",
    "の長さは，\n",
    "`\n",
    "len(\"人体解剖学\")\n",
    "`\n",
    "で取得できる（ここでは「5」）。<br><br>\n",
    "その文字列を\n",
    "`\n",
    "b=\"人体解剖学\"\n",
    "`\n",
    "（bという要素に\n",
    "`\n",
    "\"人体解剖学\"\n",
    "`\n",
    "という文字列型のデータを代入する）として，\n",
    "`\n",
    "b[0]\n",
    "`\n",
    "とすると，「人」が取得できる。<br>\n",
    "次に，`b[1]`とすると，「体」が取得できる。そして，`b[-1]`とすると，「学」が取得される。<br>\n",
    "このように文字列の操作は簡単にできる。このことを利用して，先の問題に挑戦してみよう。"
   ]
  },
  {
   "cell_type": "markdown",
   "metadata": {},
   "source": [
    "**[ヒント]**<br>\n",
    "「骨」は，最後に$**$    骨と，<br>\n",
    "「血管」は，最後に$**$ 脈と，<br>\n",
    "「筋」は，最後に$**$    筋と，<br>\n",
    "なっていませんか？？？"
   ]
  },
  {
   "cell_type": "code",
   "execution_count": null,
   "metadata": {},
   "outputs": [],
   "source": []
  },
  {
   "cell_type": "code",
   "execution_count": null,
   "metadata": {},
   "outputs": [],
   "source": []
  },
  {
   "cell_type": "code",
   "execution_count": null,
   "metadata": {},
   "outputs": [],
   "source": []
  }
 ],
 "metadata": {
  "hide_input": false,
  "kernelspec": {
   "display_name": "Python 3",
   "language": "python",
   "name": "python3"
  },
  "language_info": {
   "codemirror_mode": {
    "name": "ipython",
    "version": 3
   },
   "file_extension": ".py",
   "mimetype": "text/x-python",
   "name": "python",
   "nbconvert_exporter": "python",
   "pygments_lexer": "ipython3",
   "version": "3.6.7"
  },
  "latex_envs": {
   "LaTeX_envs_menu_present": true,
   "autoclose": false,
   "autocomplete": true,
   "bibliofile": "biblio.bib",
   "cite_by": "apalike",
   "current_citInitial": 1,
   "eqLabelWithNumbers": true,
   "eqNumInitial": 1,
   "hotkeys": {
    "equation": "Ctrl-E",
    "itemize": "Ctrl-I"
   },
   "labels_anchors": false,
   "latex_user_defs": false,
   "report_style_numbering": false,
   "user_envs_cfg": false
  },
  "toc": {
   "base_numbering": 1,
   "nav_menu": {},
   "number_sections": true,
   "sideBar": true,
   "skip_h1_title": false,
   "title_cell": "Table of Contents",
   "title_sidebar": "Contents",
   "toc_cell": false,
   "toc_position": {},
   "toc_section_display": true,
   "toc_window_display": false
  }
 },
 "nbformat": 4,
 "nbformat_minor": 2
}
