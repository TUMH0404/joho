{
 "cells": [
  {
   "cell_type": "markdown",
   "metadata": {},
   "source": [
    "def文の基本形・・・・\n",
    "- 引数がない場合 \n",
    "```\n",
    "def zoo( ):\n",
    "    print(0)\n",
    "```\n",
    "- 引数がある場合\n",
    "```\n",
    "def Zoo(x):\n",
    "    print(x)\n",
    "```"
   ]
  },
  {
   "cell_type": "markdown",
   "metadata": {},
   "source": [
    "問　自分の名前をname に格納し，printを使って表示する。"
   ]
  },
  {
   "cell_type": "code",
   "execution_count": null,
   "metadata": {},
   "outputs": [],
   "source": []
  },
  {
   "cell_type": "markdown",
   "metadata": {},
   "source": [
    "問　同じことをdef文を介して表示してみよう。\n",
    "- def文を作る"
   ]
  },
  {
   "cell_type": "code",
   "execution_count": null,
   "metadata": {},
   "outputs": [],
   "source": []
  },
  {
   "cell_type": "markdown",
   "metadata": {},
   "source": [
    "- 作ったdef文を走らせて，関数名()と書いて走らせる。"
   ]
  },
  {
   "cell_type": "code",
   "execution_count": null,
   "metadata": {},
   "outputs": [],
   "source": []
  },
  {
   "cell_type": "markdown",
   "metadata": {},
   "source": [
    "引数のあるdef文を作ってみよう。<br>\n",
    "その前に・・・<br>\n",
    "問　$a = 2$のとき，$a^2$はいくらになるか？"
   ]
  },
  {
   "cell_type": "code",
   "execution_count": null,
   "metadata": {},
   "outputs": [],
   "source": []
  },
  {
   "cell_type": "markdown",
   "metadata": {},
   "source": [
    "問　$a = 5$のとき，$a^2$はいくらか？"
   ]
  },
  {
   "cell_type": "code",
   "execution_count": null,
   "metadata": {},
   "outputs": [],
   "source": []
  },
  {
   "cell_type": "markdown",
   "metadata": {},
   "source": [
    "問　```a=[0,3,4,5,6,7,10,12,14]```のとき，リストaの中身をそれぞれ2乗するといくらになるか。"
   ]
  },
  {
   "cell_type": "code",
   "execution_count": null,
   "metadata": {},
   "outputs": [],
   "source": []
  },
  {
   "cell_type": "markdown",
   "metadata": {},
   "source": [
    "一つずつやるのは非常に面倒だし，同じ作業を繰り返しているだけ。<br>\n",
    "繰り返し作業を苦なくしてくれるのがコンピュータ！<br>\n",
    "ということで，退屈な作業はコンピュータにして，その間，<font color=\"red\">我々はbreak time!</font><br>"
   ]
  },
  {
   "cell_type": "markdown",
   "metadata": {},
   "source": [
    "問　def文を使って，$5^2$を計算して，その結果をprintで表示できるように書いてみよう。関数名はzooとする。"
   ]
  },
  {
   "cell_type": "code",
   "execution_count": 1,
   "metadata": {},
   "outputs": [],
   "source": [
    "def zoo():\n",
    "    print(5**2)"
   ]
  },
  {
   "cell_type": "markdown",
   "metadata": {},
   "source": [
    "問　def文を使って，$a^2$を書いてみよう。printで表示できるように書いてみる。"
   ]
  },
  {
   "cell_type": "code",
   "execution_count": 3,
   "metadata": {},
   "outputs": [],
   "source": [
    "def zoo():\n",
    "    print(a**2)\n",
    "\n",
    "def zoo(a):\n",
    "    print(a**2)"
   ]
  },
  {
   "cell_type": "markdown",
   "metadata": {},
   "source": [
    "問　def文のzoo()で行った処理結果を，bというオブジェクトに格納してみよう。"
   ]
  },
  {
   "cell_type": "code",
   "execution_count": null,
   "metadata": {},
   "outputs": [],
   "source": []
  },
  {
   "cell_type": "markdown",
   "metadata": {},
   "source": [
    "問　```a=[0,3,4,5,6,7,10,12,14]```を一つずつ前に作ったdef文で計算してみよう。"
   ]
  },
  {
   "cell_type": "code",
   "execution_count": null,
   "metadata": {},
   "outputs": [],
   "source": []
  },
  {
   "cell_type": "markdown",
   "metadata": {},
   "source": [
    "問　```a=[0,3,4,5,6,7,10,12,14]```を前に作ったdef文とfor文で逐一計算してみよう。"
   ]
  },
  {
   "cell_type": "code",
   "execution_count": null,
   "metadata": {},
   "outputs": [],
   "source": []
  }
 ],
 "metadata": {
  "kernelspec": {
   "display_name": "Python 3",
   "language": "python",
   "name": "python3"
  },
  "language_info": {
   "codemirror_mode": {
    "name": "ipython",
    "version": 3
   },
   "file_extension": ".py",
   "mimetype": "text/x-python",
   "name": "python",
   "nbconvert_exporter": "python",
   "pygments_lexer": "ipython3",
   "version": "3.6.8"
  },
  "toc": {
   "base_numbering": 1,
   "nav_menu": {},
   "number_sections": true,
   "sideBar": true,
   "skip_h1_title": false,
   "title_cell": "Table of Contents",
   "title_sidebar": "Contents",
   "toc_cell": false,
   "toc_position": {},
   "toc_section_display": true,
   "toc_window_display": false
  }
 },
 "nbformat": 4,
 "nbformat_minor": 2
}
