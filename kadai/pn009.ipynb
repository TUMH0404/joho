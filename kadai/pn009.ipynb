{
 "cells": [
  {
   "cell_type": "markdown",
   "metadata": {},
   "source": [
    "学籍番号"
   ]
  },
  {
   "cell_type": "code",
   "execution_count": null,
   "metadata": {},
   "outputs": [],
   "source": []
  },
  {
   "cell_type": "markdown",
   "metadata": {},
   "source": [
    "氏名"
   ]
  },
  {
   "cell_type": "code",
   "execution_count": null,
   "metadata": {},
   "outputs": [],
   "source": []
  },
  {
   "cell_type": "code",
   "execution_count": null,
   "metadata": {},
   "outputs": [],
   "source": []
  },
  {
   "cell_type": "code",
   "execution_count": null,
   "metadata": {},
   "outputs": [],
   "source": []
  },
  {
   "cell_type": "code",
   "execution_count": null,
   "metadata": {},
   "outputs": [],
   "source": []
  },
  {
   "cell_type": "code",
   "execution_count": null,
   "metadata": {},
   "outputs": [],
   "source": []
  },
  {
   "cell_type": "code",
   "execution_count": 13,
   "metadata": {},
   "outputs": [],
   "source": [
    "\n",
    "def BP(sbp,dbp):\n",
    "    '''\n",
    "    最高血圧と最低血圧から血圧値を分類する。\n",
    "    sbp:最高血圧，dbp:最低血圧\n",
    "    '''\n",
    "    ssn = {5:\"Ⅲ度高血圧\",4:\"Ⅱ度高血圧\",3:\"Ⅰ度高血圧\",2:\"正常高血圧\",1:\"正常血圧\",0:\"至適血圧\",7:\"収縮期高血圧\",-1:\"低血圧\"}\n",
    "\n",
    "    if not sbp<100:\n",
    "    \n",
    "        ss = sum([sbp>=180,sbp>=160,sbp>=140,sbp>=130,sbp>=120])\n",
    "        dd = sum([dbp>=110,dbp>=100,dbp>=90,dbp>=85,dbp>=80])\n",
    "    \n",
    "        if ss==dd and ss<=1:\n",
    "            result = ssn[ss]\n",
    "\n",
    "        elif ss>=3 and dd<3:\n",
    "            result = ssn[7]\n",
    "        else:\n",
    "            num = [ss,dd] \n",
    "            num.sort()  ## ソートして大きい方を選択する\n",
    "            result = ssn[num[1]]\n",
    "\n",
    "    else:\n",
    "        result = ssn[-1]\n",
    "       \n",
    "    return f\"成功\"\n",
    "\n",
    "\n",
    "\n",
    "\n",
    "def main():\n",
    "    \"\"\"\n",
    "    血圧の結果をIDと紐づけて保存していく\n",
    "    \"\"\"\n",
    "    BPresult ={}\n",
    "    while(True):\n",
    "        ID = input(\"IDは？:\\n\")\n",
    "        Sbp = int(input(\"上の血圧：\\n\"))\n",
    "        Dbp = int(input(\"\\n下の血圧：\\n\"))\n",
    "        BPresult.update({ID:(Sbp,Dbp)})\n",
    "        if Sbp < Dbp:\n",
    "            print(\"入力間違いしていませんか？\\n入力し直してください\")\n",
    "    \n",
    "        else:\n",
    "            pass\n",
    "            #print(f\"あなたの血圧{Sbp}/{Dbp}mmHg\")\n",
    "            #print(BP(Sbp,Dbp))\n",
    "    \n",
    "        key = input(\"入力終了? Y[yes]/n[no] \\n\")\n",
    "        if key == \"Y\":\n",
    "            break\n",
    "        \n",
    "        else:\n",
    "            pass\n",
    "    \n",
    "    print(f\"今回入力したデータ\\n\")\n",
    "    for i in list(BPresult.keys()):\n",
    "        d0 = i\n",
    "        d1 = BPresult[i][0]\n",
    "        d2 = BPresult[i][1]\n",
    "        print(f\"{d0}  {d1}/{d2} mmHg___{BP(d1,d2)}\")\n",
    "    \n",
    "\n",
    "    ####"
   ]
  },
  {
   "cell_type": "code",
   "execution_count": 16,
   "metadata": {},
   "outputs": [
    {
     "name": "stdout",
     "output_type": "stream",
     "text": [
      "IDは？:\n",
      "121P000\n",
      "上の血圧：\n",
      "100\n",
      "\n",
      "下の血圧：\n",
      "30\n",
      "入力終了? Y[yes]/n[no] \n",
      "\n",
      "IDは？:\n",
      "121P001\n",
      "上の血圧：\n",
      "130\n",
      "\n",
      "下の血圧：\n",
      "80\n",
      "入力終了? Y[yes]/n[no] \n",
      "\n",
      "IDは？:\n",
      "121P000\n",
      "上の血圧：\n",
      "140\n",
      "\n",
      "下の血圧：\n",
      "78\n",
      "入力終了? Y[yes]/n[no] \n",
      "Y\n",
      "今回入力したデータ\n",
      "\n",
      "121P000  140/78 mmHg___成功\n",
      "121P001  130/80 mmHg___成功\n"
     ]
    }
   ],
   "source": [
    "main()"
   ]
  },
  {
   "cell_type": "code",
   "execution_count": null,
   "metadata": {},
   "outputs": [],
   "source": []
  }
 ],
 "metadata": {
  "hide_input": false,
  "kernelspec": {
   "display_name": "Python 3",
   "language": "python",
   "name": "python3"
  },
  "language_info": {
   "codemirror_mode": {
    "name": "ipython",
    "version": 3
   },
   "file_extension": ".py",
   "mimetype": "text/x-python",
   "name": "python",
   "nbconvert_exporter": "python",
   "pygments_lexer": "ipython3",
   "version": "3.6.7"
  },
  "toc": {
   "base_numbering": 1,
   "nav_menu": {},
   "number_sections": true,
   "sideBar": true,
   "skip_h1_title": false,
   "title_cell": "Table of Contents",
   "title_sidebar": "Contents",
   "toc_cell": false,
   "toc_position": {},
   "toc_section_display": true,
   "toc_window_display": false
  }
 },
 "nbformat": 4,
 "nbformat_minor": 2
}
