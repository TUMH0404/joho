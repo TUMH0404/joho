{
 "cells": [
  {
   "cell_type": "markdown",
   "metadata": {},
   "source": [
    "### 演習内容"
   ]
  },
  {
   "cell_type": "markdown",
   "metadata": {},
   "source": [
    "血圧の分類を`['TUMH1号',175,70,'3度高血圧']`のような形で追加したデータを作って，PCに保存する。"
   ]
  },
  {
   "cell_type": "markdown",
   "metadata": {},
   "source": [
    "<img src = \"datasave.png\" width=\"900\">"
   ]
  },
  {
   "cell_type": "markdown",
   "metadata": {},
   "source": [
    "以下にコードを書く。"
   ]
  },
  {
   "cell_type": "code",
   "execution_count": 2,
   "metadata": {},
   "outputs": [
    {
     "name": "stdout",
     "output_type": "stream",
     "text": [
      "TUMH100号さんの血圧は125/60であり，正常血圧です\n"
     ]
    }
   ],
   "source": [
    "## 復習 ##\n",
    "## 1.変数名に値を代入する\n",
    "name = \"TUMH100号\"  ## 名前\n",
    "sbp = 125                   ## 血圧（上）\n",
    "dbp = 60                    ## 血圧（下）\n",
    "\n",
    "## 2.処理する（ここには２つの工程がある）\n",
    "#~~~~~~~~~~~~~~~~~~~~~~~~~~~~~~~~~~~~~~~~~~~~~~~~~~~~~~~~~~~~~~~~~~~~~~#\n",
    "# <処理1>血圧の位置を取得する\n",
    "ue = [sbp<120, sbp<130, sbp<140, sbp<160, sbp<180, sbp>=180].index(True)\n",
    "sita = [dbp<80, dbp<85, dbp<90, dbp<100, dbp<110, dbp>=110].index(True)\n",
    "\n",
    "# <処理2>取得した位置から血圧分類をする\n",
    "if ue == 0 and sita==0:\n",
    "    d2 =  \"至適血圧\"\n",
    "elif ue >2 and sita < 3:\n",
    "    d2 = \"収縮期高血圧\"\n",
    "else:\n",
    "    if ue > sita:\n",
    "        v = ue\n",
    "    else:\n",
    "        v = sita\n",
    "    \n",
    "    if v ==1:\n",
    "        d2 = \"正常血圧\" \n",
    "    elif v == 2:\n",
    "        d2 = \"正常高血圧\"\n",
    "    elif v == 3:\n",
    "        d2 = \"1度高血圧\"\n",
    "    elif v == 4:\n",
    "        d2 = \"2度高血圧\"\n",
    "    else:\n",
    "        d2= \"3度高血圧\"\n",
    "#~~~~~~~~~~~~~~~~~~~~~~~~~~~~~~~~~~~~~~~~~~~~~~~~~~~~~~~~~~~~~~~~~~~~~~#\n",
    "\n",
    "\n",
    "## 3.結果を取得する，あるいは表示する\n",
    "print(f\"{name}さんの血圧は{sbp}/{dbp}であり，{d2}です\")\n",
    "\n",
    "#####"
   ]
  },
  {
   "cell_type": "markdown",
   "metadata": {},
   "source": [
    "本日の課題"
   ]
  },
  {
   "cell_type": "code",
   "execution_count": 3,
   "metadata": {},
   "outputs": [],
   "source": [
    "## 実行する\n",
    "import pickle"
   ]
  },
  {
   "cell_type": "code",
   "execution_count": 8,
   "metadata": {},
   "outputs": [],
   "source": [
    "## 実行する\n",
    "with open(\"BBdata.pickle\",\"rb\") as d:\n",
    "    df = pickle.load(d)"
   ]
  },
  {
   "cell_type": "code",
   "execution_count": 9,
   "metadata": {},
   "outputs": [
    {
     "data": {
      "text/plain": [
       "[['TUMH1号', 175, 70],\n",
       " ['TUMH1号', 173, 97],\n",
       " ['TUMH2号', 79, 72],\n",
       " ['TUMH3号', 143, 111],\n",
       " ['TUMH4号', 142, 52],\n",
       " ['TUMH5号', 172, 59],\n",
       " ['TUMH6号', 163, 103],\n",
       " ['TUMH7号', 99, 78],\n",
       " ['TUMH8号', 117, 89],\n",
       " ['TUMH9号', 95, 68],\n",
       " ['TUMH10号', 182, 93],\n",
       " ['TUMH11号', 120, 109],\n",
       " ['TUMH12号', 108, 101],\n",
       " ['TUMH13号', 179, 61],\n",
       " ['TUMH14号', 149, 87],\n",
       " ['TUMH15号', 114, 104],\n",
       " ['TUMH16号', 116, 82],\n",
       " ['TUMH17号', 111, 92],\n",
       " ['TUMH18号', 113, 66],\n",
       " ['TUMH19号', 152, 80],\n",
       " ['TUMH20号', 169, 62],\n",
       " ['TUMH21号', 123, 71],\n",
       " ['TUMH22号', 135, 79],\n",
       " ['TUMH23号', 136, 84],\n",
       " ['TUMH24号', 181, 56],\n",
       " ['TUMH25号', 171, 96],\n",
       " ['TUMH26号', 140, 75],\n",
       " ['TUMH27号', 88, 53],\n",
       " ['TUMH28号', 144, 98],\n",
       " ['TUMH29号', 154, 88],\n",
       " ['TUMH30号', 157, 114],\n",
       " ['TUMH31号', 151, 50],\n",
       " ['TUMH32号', 121, 91],\n",
       " ['TUMH33号', 96, 55],\n",
       " ['TUMH34号', 170, 86],\n",
       " ['TUMH35号', 128, 69],\n",
       " ['TUMH36号', 183, 54],\n",
       " ['TUMH37号', 161, 94],\n",
       " ['TUMH38号', 115, 64],\n",
       " ['TUMH39号', 118, 105],\n",
       " ['TUMH40号', 110, 110],\n",
       " ['TUMH41号', 145, 85],\n",
       " ['TUMH42号', 150, 67],\n",
       " ['TUMH43号', 97, 65],\n",
       " ['TUMH44号', 167, 77],\n",
       " ['TUMH45号', 165, 76],\n",
       " ['TUMH46号', 125, 95]]"
      ]
     },
     "execution_count": 9,
     "metadata": {},
     "output_type": "execute_result"
    }
   ],
   "source": [
    "df"
   ]
  },
  {
   "cell_type": "code",
   "execution_count": 5,
   "metadata": {},
   "outputs": [],
   "source": [
    "for i in range(len(df)):\n",
    "    name = df[i][0]\n",
    "    sbp = df[i][1]\n",
    "    dbp = df[i][2]\n",
    "\n",
    "    ##\n",
    "    ue = [sbp<120, sbp<130, sbp<140, sbp<160, sbp<180, sbp>=180].index(True)\n",
    "    sita = [dbp<80, dbp<85, dbp<90, dbp<100, dbp<110, dbp>=110].index(True)\n",
    "\n",
    "    if ue == 0 and sita==0:\n",
    "        d2 =  \"至適高血圧\"\n",
    "    elif ue >2 and sita < 3:\n",
    "        d2 = \"収縮期高血圧\"\n",
    "    else:\n",
    "        if ue > sita:\n",
    "            v = ue\n",
    "        else:\n",
    "            v = sita\n",
    "\n",
    "        if v ==1:\n",
    "            d2 = \"正常血圧\" \n",
    "        elif v == 2:\n",
    "            d2 = \"正常高血圧\"\n",
    "        elif v == 3:\n",
    "            d2 = \"1度高血圧\"\n",
    "        elif v == 4:\n",
    "            d2 = \"2度高血圧\"\n",
    "        else:\n",
    "            d2= \"3度高血圧\"\n",
    "\n",
    "    df[i].append(d2)   "
   ]
  },
  {
   "cell_type": "code",
   "execution_count": 7,
   "metadata": {},
   "outputs": [],
   "source": [
    "def BloodPP(obj, val1, val0):\n",
    "    \n",
    "    name = obj\n",
    "    s1 = val1\n",
    "    d1 = val0\n",
    "    \n",
    "    ue = [val1<120, val1<130, val1<140, val1<160, val1<180, val1>=180].index(True)\n",
    "    sita = [val0<80, val0<85, val0<90, val0<100, val0<110, val0>=110].index(True)\n",
    "\n",
    "    if ue == 0 and sita==0:\n",
    "        d2 =  \"至適高血圧\"\n",
    "    elif ue >2 and sita < 3:\n",
    "        d2 = \"収縮期高血圧\"\n",
    "    else:\n",
    "        if ue > sita:\n",
    "            v = ue\n",
    "        else:\n",
    "            v = sita\n",
    "\n",
    "        if v ==1:\n",
    "            d2 = \"正常血圧\" \n",
    "        elif v == 2:\n",
    "            d2 = \"正常高血圧\"\n",
    "        elif v == 3:\n",
    "            d2 = \"1度高血圧\"\n",
    "        elif v == 4:\n",
    "            d2 = \"2度高血圧\"\n",
    "        else:\n",
    "            d2= \"3度高血圧\"\n",
    "        \n",
    "    return [name,s1,d1,d2]\n",
    "\n",
    "## 脈圧を求める"
   ]
  },
  {
   "cell_type": "code",
   "execution_count": null,
   "metadata": {},
   "outputs": [],
   "source": [
    "def BloodPQ(val1,val0):\n",
    "    \n",
    "    ue = [val1<120, val1<130, val1<140, val1<160, val1<180, val1>=180]\n",
    "    dd1 = ue.index(True)\n",
    "    sita = [val0<80, val0<85, val0<90, val0<100, val0<110, val0>=110]\n",
    "    dd0 = sita.index(True)\n",
    "\n",
    "    if ue == 0 and sita==0:\n",
    "        d2 =  \"至適高血圧\"\n",
    "    elif ue >2 and sita < 3:\n",
    "        d2 = \"収縮期高血圧\"\n",
    "    else:\n",
    "        v = sita\n",
    "        if ue > sita:\n",
    "            v = ue\n",
    "\n",
    "\n",
    "        if v ==1:\n",
    "            d2 = \"正常血圧\" \n",
    "        elif v == 2:\n",
    "            d2 = \"正常高血圧\"\n",
    "        elif v == 3:\n",
    "            d2 = \"1度高血圧\"\n",
    "        elif v == 4:\n",
    "            d2 = \"2度高血圧\"\n",
    "        else:\n",
    "            d2= \"3度高血圧\"\n",
    "        \n",
    "    return d2\n",
    "\n",
    "## 平均血圧を求める。"
   ]
  }
 ],
 "metadata": {
  "kernelspec": {
   "display_name": "Python 3",
   "language": "python",
   "name": "python3"
  },
  "language_info": {
   "codemirror_mode": {
    "name": "ipython",
    "version": 3
   },
   "file_extension": ".py",
   "mimetype": "text/x-python",
   "name": "python",
   "nbconvert_exporter": "python",
   "pygments_lexer": "ipython3",
   "version": "3.6.8"
  },
  "toc": {
   "base_numbering": 1,
   "nav_menu": {},
   "number_sections": false,
   "sideBar": true,
   "skip_h1_title": false,
   "title_cell": "Table of Contents",
   "title_sidebar": "Contents",
   "toc_cell": false,
   "toc_position": {},
   "toc_section_display": true,
   "toc_window_display": true
  }
 },
 "nbformat": 4,
 "nbformat_minor": 2
}
