{
 "cells": [
  {
   "cell_type": "markdown",
   "metadata": {},
   "source": [
    "### if文のまとめ"
   ]
  },
  {
   "cell_type": "markdown",
   "metadata": {},
   "source": [
    "#### if文の基本形\n",
    "\n",
    "`if [条件式1]:\n",
    "     [条件式1がTrueのときに行う処理]\n",
    " elif [条件式2]:\n",
    "     [条件式2がTrueのときに行う処理]\n",
    " elif [条件式3]:\n",
    "     [条件式3がTrueのときに行う処理]\n",
    " elif [条件式4]:\n",
    "     [条件式4がTrueのときに行う処理]\n",
    " elif [条件式5]:\n",
    "     [条件式5がTrueのときに行う処理]\n",
    " else:\n",
    "     [条件式1から5すべてがFalseのときに行う処理]`\n",
    " \n",
    "\n",
    "ポイント!!<br>\n",
    "**条件式には，必ず真偽値となる変数や値を入れる**"
   ]
  },
  {
   "cell_type": "markdown",
   "metadata": {},
   "source": [
    "#### 血圧の分類を表す関数を作り，データ収集をする。\n",
    "\n",
    "分類|収縮期|or|拡張期\n",
    "---|----|----|------\n",
    "至適血圧|<120|かつ|<80\n",
    "正常血圧|<130|かつ|<85\n",
    "正常高血圧|130〜139|または|85〜89\n",
    "Ⅰ高血圧|140〜159|または|90〜99\n",
    "Ⅱ度高血圧|160〜179|または|100〜109\n",
    "Ⅲ度高血圧|≧180|または|≧110\n",
    "収縮期高血圧|≧140|かつ|<90"
   ]
  },
  {
   "cell_type": "markdown",
   "metadata": {},
   "source": [
    "#### 血圧はリスク管理の一つであり，理学療法にとって非常に大事である。<br>上の表をもとに分類するコードを書いてみよう。"
   ]
  },
  {
   "cell_type": "markdown",
   "metadata": {},
   "source": [
    "例えば・・・<br>Aさんの血圧を測ったら，収縮期血圧が143mmHg，拡張期血圧が78mmHgであった。"
   ]
  },
  {
   "cell_type": "markdown",
   "metadata": {},
   "source": [
    "**本日のミッションーーー<br>if~elif~elseを使って血圧値からその人を分類せよ**\n",
    "1. 収縮期血圧の値(143)を変数名valueAに代入する。<br>\n",
    "`valueA = 143`<br><br>\n",
    "1. if~elif~elseの基本形を書く。\n",
    "<br>valueA=100<br>if valueA>=180:<br>&emsp; pass<br>elif valueA>=160:<br>&emsp; pass<br>else:<br>&emsp; pass<br>\n",
    "<br>\n",
    "1. valueAが〇〇のとき，□□血圧とprint関数で表示する。<br>\n",
    "<*print()の使い方の例示*> <br>\n",
    "print(f\"あなたは{*正常血圧*}です。\")<br><br>\n",
    "1. 同じように拡張期血圧も作る。"
   ]
  },
  {
   "cell_type": "code",
   "execution_count": 44,
   "metadata": {},
   "outputs": [],
   "source": [
    "dd = {\"4900000\":\"大西智也\"}"
   ]
  },
  {
   "cell_type": "code",
   "execution_count": 57,
   "metadata": {},
   "outputs": [],
   "source": [
    "name = dd[\"4900000\"]\n",
    "smb = 130\n",
    "mmb = 95"
   ]
  },
  {
   "cell_type": "code",
   "execution_count": 64,
   "metadata": {},
   "outputs": [
    {
     "name": "stdout",
     "output_type": "stream",
     "text": [
      "3\n"
     ]
    }
   ],
   "source": [
    "if smb >=140 and mmb<90:\n",
    "    cc = \"収縮期高血圧\"\n",
    "    \n",
    "elif smb < 120 and mmb <80:\n",
    "    cc=\"至適高血圧\"\n",
    "    \n",
    "elif smb <130 and mmb <85:\n",
    "    cc = \"正常血圧\"    \n",
    "    \n",
    "elif smb <140 or mmb < 90:\n",
    "    cc = \"正常高血圧\"\n",
    "    \n",
    "elif smb < 160 or mmb < 100:\n",
    "    cc=\"1度高血圧\"   \n",
    "    \n",
    "elif smb < 180 or mmb < 110:\n",
    "    cc = \"2度高血圧\"\n",
    "    \n",
    "else:\n",
    "    cc = \"3度高血圧\"\n",
    "\n",
    "print(f\"{name}の血圧は{smb}/{mmb}であり，{cc}です\")"
   ]
  },
  {
   "cell_type": "code",
   "execution_count": null,
   "metadata": {},
   "outputs": [],
   "source": [
    "if smb >=140:\n",
    "    cc1 = 0 #\"収縮期高血圧\"\n",
    "    \n",
    "elif smb < 120:\n",
    "    cc1= 1 #\"至適高血圧\"\n",
    "    \n",
    "elif smb <130:\n",
    "    cc1 = 2 #\"正常血圧\"    \n",
    "    \n",
    "elif smb <140:\n",
    "    cc1 = 3 #\"正常高血圧\"\n",
    "    \n",
    "elif smb < 160:\n",
    "    cc1 = 4 #\"1度高血圧\"   \n",
    "    \n",
    "elif smb < 180:\n",
    "    cc1 = 5 #\"2度高血圧\"\n",
    "    \n",
    "else:\n",
    "    cc1 = 6 #\"3度高血圧\"\n",
    "\n",
    "print(cc1) #print(f\"{name}の血圧は{smb}/{mmb}であり，{cc}です\")"
   ]
  },
  {
   "cell_type": "code",
   "execution_count": 69,
   "metadata": {},
   "outputs": [],
   "source": [
    "# 0 : \"収縮期高血圧\"\n",
    "#1 : \"至適高血圧\"\n",
    "#2 : \"正常血圧\"   \n",
    "#3 : \"正常高血圧\"\n",
    "#4 : \"1度高血圧\"  \n",
    "#5 : \"2度高血圧\"\n",
    "#6 : \"3度高血圧\""
   ]
  },
  {
   "cell_type": "code",
   "execution_count": 65,
   "metadata": {},
   "outputs": [
    {
     "name": "stdout",
     "output_type": "stream",
     "text": [
      "4\n"
     ]
    }
   ],
   "source": [
    "if mmb<90:\n",
    "    cc = 0 #\"収縮期高血圧\"\n",
    "    \n",
    "elif mmb <80:\n",
    "    cc=1 #\"至適高血圧\"\n",
    "    \n",
    "elif mmb <85:\n",
    "    cc = 2 #\"正常血圧\"    \n",
    "    \n",
    "elif mmb < 90:\n",
    "    cc = 3 #\"正常高血圧\"\n",
    "    \n",
    "elif mmb < 100:\n",
    "    cc= 4 #\"1度高血圧\"   \n",
    "    \n",
    "elif mmb < 110:\n",
    "    cc = 5 #\"2度高血圧\"\n",
    "    \n",
    "else:\n",
    "    cc = 6 #\"3度高血圧\"\n",
    "\n",
    "print(cc)"
   ]
  },
  {
   "cell_type": "code",
   "execution_count": 68,
   "metadata": {},
   "outputs": [
    {
     "name": "stdout",
     "output_type": "stream",
     "text": [
      "4\n"
     ]
    }
   ],
   "source": [
    "score = 0\n",
    "if cc1>cc:\n",
    "    score = cc1\n",
    "else:\n",
    "    score = cc\n",
    "\n",
    "print(score)"
   ]
  },
  {
   "cell_type": "code",
   "execution_count": null,
   "metadata": {},
   "outputs": [],
   "source": []
  },
  {
   "cell_type": "code",
   "execution_count": 9,
   "metadata": {},
   "outputs": [],
   "source": [
    "a = \"４７６５４４３３\""
   ]
  },
  {
   "cell_type": "code",
   "execution_count": 27,
   "metadata": {},
   "outputs": [],
   "source": [
    "def ASC2INT(a):\n",
    "    num = 0\n",
    "    for i in range(len(a)):\n",
    "        num +=int(ord(a[i])-ord(\"０\"))*10**(len(a)-1-i)\n",
    "\n",
    "    return str(num)"
   ]
  },
  {
   "cell_type": "code",
   "execution_count": 31,
   "metadata": {},
   "outputs": [],
   "source": [
    "b = ASC2INT(a)"
   ]
  },
  {
   "cell_type": "code",
   "execution_count": 38,
   "metadata": {},
   "outputs": [
    {
     "data": {
      "text/plain": [
       "65301"
      ]
     },
     "execution_count": 38,
     "metadata": {},
     "output_type": "execute_result"
    }
   ],
   "source": [
    "ord(a[3])"
   ]
  },
  {
   "cell_type": "code",
   "execution_count": 43,
   "metadata": {},
   "outputs": [
    {
     "name": "stdout",
     "output_type": "stream",
     "text": [
      "4\n"
     ]
    }
   ],
   "source": [
    "if ord(\"４\")>57:\n",
    "    print(str(ord(\"４\")-ord(\"０\")))\n"
   ]
  },
  {
   "cell_type": "code",
   "execution_count": 19,
   "metadata": {},
   "outputs": [
    {
     "name": "stdout",
     "output_type": "stream",
     "text": [
      "7\n"
     ]
    }
   ],
   "source": [
    "print(ord(\"７\")-ord(\"０\"))"
   ]
  },
  {
   "cell_type": "code",
   "execution_count": 17,
   "metadata": {},
   "outputs": [
    {
     "name": "stdout",
     "output_type": "stream",
     "text": [
      "54 65302\n"
     ]
    }
   ],
   "source": [
    "print(ord(\"6\"),ord(\"６\"))"
   ]
  },
  {
   "cell_type": "code",
   "execution_count": 22,
   "metadata": {},
   "outputs": [
    {
     "data": {
      "text/plain": [
       "1"
      ]
     },
     "execution_count": 22,
     "metadata": {},
     "output_type": "execute_result"
    }
   ],
   "source": [
    "10**0"
   ]
  },
  {
   "cell_type": "code",
   "execution_count": null,
   "metadata": {},
   "outputs": [],
   "source": []
  }
 ],
 "metadata": {
  "hide_input": false,
  "kernelspec": {
   "display_name": "Python 3",
   "language": "python",
   "name": "python3"
  },
  "language_info": {
   "codemirror_mode": {
    "name": "ipython",
    "version": 3
   },
   "file_extension": ".py",
   "mimetype": "text/x-python",
   "name": "python",
   "nbconvert_exporter": "python",
   "pygments_lexer": "ipython3",
   "version": "3.6.8"
  },
  "latex_envs": {
   "LaTeX_envs_menu_present": true,
   "autoclose": false,
   "autocomplete": true,
   "bibliofile": "biblio.bib",
   "cite_by": "apalike",
   "current_citInitial": 1,
   "eqLabelWithNumbers": true,
   "eqNumInitial": 1,
   "hotkeys": {
    "equation": "Ctrl-E",
    "itemize": "Ctrl-I"
   },
   "labels_anchors": false,
   "latex_user_defs": false,
   "report_style_numbering": false,
   "user_envs_cfg": false
  },
  "toc": {
   "base_numbering": 1,
   "nav_menu": {},
   "number_sections": true,
   "sideBar": true,
   "skip_h1_title": false,
   "title_cell": "Table of Contents",
   "title_sidebar": "Contents",
   "toc_cell": false,
   "toc_position": {},
   "toc_section_display": true,
   "toc_window_display": true
  }
 },
 "nbformat": 4,
 "nbformat_minor": 2
}
