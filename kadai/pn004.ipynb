{
 "cells": [
  {
   "cell_type": "markdown",
   "metadata": {},
   "source": [
    "学籍番号"
   ]
  },
  {
   "cell_type": "code",
   "execution_count": null,
   "metadata": {},
   "outputs": [],
   "source": []
  },
  {
   "cell_type": "markdown",
   "metadata": {},
   "source": [
    "氏名"
   ]
  },
  {
   "cell_type": "code",
   "execution_count": null,
   "metadata": {},
   "outputs": [],
   "source": []
  },
  {
   "cell_type": "markdown",
   "metadata": {},
   "source": [
    "リストの作成と操作"
   ]
  },
  {
   "cell_type": "markdown",
   "metadata": {},
   "source": [
    "numbersという変数名（オブジェクト名）に\"1,2,3,4,5\"の数値をリスト型にして格納する。<br>\n",
    "numsという変数名（オブジェクト名）に\"0,1,2,3,4,5,6,7,8,9,10,11,12,13,14\"の数値をリスト型にして格納する。<br>\n",
    "いずれもすべてint型である。<br>"
   ]
  },
  {
   "cell_type": "code",
   "execution_count": null,
   "metadata": {
    "solution": "hidden"
   },
   "outputs": [],
   "source": []
  },
  {
   "cell_type": "code",
   "execution_count": null,
   "metadata": {},
   "outputs": [],
   "source": []
  },
  {
   "cell_type": "markdown",
   "metadata": {},
   "source": [
    "```\n",
    "\"おはよう\",\"こんにちは\",\"こんばんわ\"\n",
    "```\n",
    "\n",
    "をgreetsというオブジェクトに格納する。"
   ]
  },
  {
   "cell_type": "code",
   "execution_count": 17,
   "metadata": {},
   "outputs": [],
   "source": [
    "greets = [\"おはよう\",\"こんにちは\",\"こんばんわ\"]"
   ]
  },
  {
   "cell_type": "markdown",
   "metadata": {},
   "source": [
    "文字（str型）だろうが，数値（int型，float型）だろうが，リスト内に入れることができることを確認せよ。\n",
    "```\n",
    "\"身長\",170, \"体重\", 65, \"年齢\", 30\n",
    "```\n",
    "とdataというオブジェクト名に格納する。"
   ]
  },
  {
   "cell_type": "code",
   "execution_count": null,
   "metadata": {},
   "outputs": [],
   "source": []
  },
  {
   "cell_type": "markdown",
   "metadata": {},
   "source": [
    "greetsの最初の要素を取り出す。"
   ]
  },
  {
   "cell_type": "code",
   "execution_count": null,
   "metadata": {},
   "outputs": [],
   "source": []
  },
  {
   "cell_type": "markdown",
   "metadata": {},
   "source": [
    "以上のリストから，以下の問題に答える。加点と書いてあるものは加点する。"
   ]
  },
  {
   "cell_type": "markdown",
   "metadata": {},
   "source": [
    "問　numbsの最後の要素をより出す。"
   ]
  },
  {
   "cell_type": "code",
   "execution_count": null,
   "metadata": {},
   "outputs": [],
   "source": []
  },
  {
   "cell_type": "markdown",
   "metadata": {},
   "source": [
    "問　numbsの３番目から７番目の要素を取り出す"
   ]
  },
  {
   "cell_type": "code",
   "execution_count": null,
   "metadata": {},
   "outputs": [],
   "source": []
  },
  {
   "cell_type": "markdown",
   "metadata": {},
   "source": [
    "## リストの操作\n",
    "> リスト内の要素を<font color=\"Red\">削除，更新，追加</font>するなど，便利なメソッドが次の表の通りある（これらの他にもある）。その中でも，上の2つ(append，index)について，頻繁に使用するしっかり覚える。\n",
    "\n",
    "|関数名|作用|\n",
    "|--------------|--------------|\n",
    "|Z.append(a)|リストZの最後尾にa追加する|\n",
    "|Z.index(x)|リストZの要素のうち，xを持つ最初の要素の位置をゼロから始まる添字で返す|\n",
    "|Z.count(x)|リストZでのxの出現回数を返す|\n",
    "|Z.sort( )|リストZの要素を並べかえる|\n",
    "|Z.insert(x,a)|リストZのx番目にaを挿入する|\n",
    "|Z.pop(i)  | リストZのi番目の要素を削除する|\n",
    "|Z.pop( )|リストZの最終の要素を削除する|\n",
    "|Z.remove(a)|リストZの最初のaを削除する|\n",
    "|Z.clear( )|リストZのすべての要素を削除する|\n",
    "|Z.reverse( )|リストの要素を逆順にする|\n",
    "\n"
   ]
  },
  {
   "cell_type": "markdown",
   "metadata": {},
   "source": [
    "問　オブジェクトemptに空リストを作成する。<br>\n",
    ">簡単だが結構重要。あるオブジェクトを初期化するテクニックとしてよく使用する。"
   ]
  },
  {
   "cell_type": "code",
   "execution_count": null,
   "metadata": {},
   "outputs": [],
   "source": []
  },
  {
   "cell_type": "markdown",
   "metadata": {},
   "source": [
    "(加点)問　numbsの最後に20を追加する"
   ]
  },
  {
   "cell_type": "code",
   "execution_count": null,
   "metadata": {},
   "outputs": [],
   "source": []
  },
  {
   "cell_type": "markdown",
   "metadata": {},
   "source": [
    "greetsの最後に'おはよう'を追加する。"
   ]
  },
  {
   "cell_type": "code",
   "execution_count": null,
   "metadata": {},
   "outputs": [],
   "source": []
  },
  {
   "cell_type": "markdown",
   "metadata": {},
   "source": [
    "(加点)問　greetsの最初に「おやすみ」を追加する。"
   ]
  },
  {
   "cell_type": "code",
   "execution_count": null,
   "metadata": {},
   "outputs": [],
   "source": []
  },
  {
   "cell_type": "markdown",
   "metadata": {},
   "source": [
    "(加点)問　numbsの５番目の要素を削除する"
   ]
  },
  {
   "cell_type": "code",
   "execution_count": null,
   "metadata": {},
   "outputs": [],
   "source": []
  },
  {
   "cell_type": "markdown",
   "metadata": {
    "solution": "hidden",
    "solution2": "hidden",
    "solution2_first": true
   },
   "source": [
    "(加点)問　dataの最後に\"BMI\"とその値を入れる"
   ]
  },
  {
   "cell_type": "markdown",
   "metadata": {
    "solution2": "hidden"
   },
   "source": [
    "$$\n",
    "BMI = Weight[kg]/Height[m]^2\n",
    "$$"
   ]
  },
  {
   "cell_type": "markdown",
   "metadata": {},
   "source": [
    "$$\n",
    "BMI = W[kg]/H[m]^2\n",
    "$$\n"
   ]
  },
  {
   "cell_type": "code",
   "execution_count": null,
   "metadata": {},
   "outputs": [],
   "source": []
  },
  {
   "cell_type": "markdown",
   "metadata": {},
   "source": [
    "問　適当な数値10個のリストを適当な変数名に格納する。"
   ]
  },
  {
   "cell_type": "code",
   "execution_count": null,
   "metadata": {},
   "outputs": [],
   "source": []
  },
  {
   "cell_type": "markdown",
   "metadata": {},
   "source": [
    "問　それを並べ替える。"
   ]
  },
  {
   "cell_type": "code",
   "execution_count": null,
   "metadata": {},
   "outputs": [],
   "source": []
  },
  {
   "cell_type": "markdown",
   "metadata": {},
   "source": [
    "tuple型の操作"
   ]
  },
  {
   "cell_type": "markdown",
   "metadata": {},
   "source": [
    "問　greetsをtuple型に変更して，greets_tupleというオブジェクトに格納する"
   ]
  },
  {
   "cell_type": "code",
   "execution_count": null,
   "metadata": {},
   "outputs": [],
   "source": []
  },
  {
   "cell_type": "markdown",
   "metadata": {},
   "source": [
    "問　greets_tupleの\"おはよう\"をカウントする"
   ]
  },
  {
   "cell_type": "code",
   "execution_count": null,
   "metadata": {},
   "outputs": [],
   "source": []
  },
  {
   "cell_type": "markdown",
   "metadata": {},
   "source": [
    "問　\"こんにちは\"のindexを調べる"
   ]
  },
  {
   "cell_type": "code",
   "execution_count": null,
   "metadata": {},
   "outputs": [],
   "source": []
  },
  {
   "cell_type": "markdown",
   "metadata": {},
   "source": [
    "問　greets_tupleの2番目の要素を取り出す。"
   ]
  },
  {
   "cell_type": "code",
   "execution_count": null,
   "metadata": {},
   "outputs": [],
   "source": []
  },
  {
   "cell_type": "markdown",
   "metadata": {},
   "source": [
    "辞書の作成"
   ]
  },
  {
   "cell_type": "markdown",
   "metadata": {},
   "source": [
    "問　生年月日を西暦，月，日ごとに辞書形式にする。<br>\n",
    "例\n",
    "```\n",
    "birth = {\"year\":1977,\"day\":1,\"month\":Oct}\n",
    "```"
   ]
  },
  {
   "cell_type": "code",
   "execution_count": null,
   "metadata": {},
   "outputs": [],
   "source": []
  },
  {
   "cell_type": "markdown",
   "metadata": {},
   "source": [
    "問　氏名を姓，名にわけて辞書形式にする。<br>\n",
    "**例**\n",
    "```\n",
    "name = {\"firstname\":智也,\"lastname\":大西}\n",
    "```"
   ]
  },
  {
   "cell_type": "code",
   "execution_count": null,
   "metadata": {},
   "outputs": [],
   "source": []
  },
  {
   "cell_type": "markdown",
   "metadata": {},
   "source": [
    "問　性別，血液型，出身都道府県，出身市町村を辞書形式にする。<br>\n",
    "**例**\n",
    "```\n",
    "others = {\"sex\":male,\"bloodtype\":\"A\",\"city\":\"泉佐野市\",\"pref\":\"大阪府\"}\n",
    "```"
   ]
  },
  {
   "cell_type": "code",
   "execution_count": null,
   "metadata": {},
   "outputs": [],
   "source": []
  },
  {
   "cell_type": "markdown",
   "metadata": {},
   "source": [
    "問　otherからあなたのcityを呼び出しましょう。"
   ]
  },
  {
   "cell_type": "code",
   "execution_count": null,
   "metadata": {},
   "outputs": [],
   "source": []
  },
  {
   "cell_type": "markdown",
   "metadata": {},
   "source": [
    "問　あたなの誕生月を取得しましょう。"
   ]
  },
  {
   "cell_type": "code",
   "execution_count": null,
   "metadata": {},
   "outputs": [],
   "source": []
  },
  {
   "cell_type": "markdown",
   "metadata": {},
   "source": [
    "（重要）問　otherのkeysのみを取得し，リスト型にしましょう。"
   ]
  },
  {
   "cell_type": "code",
   "execution_count": null,
   "metadata": {},
   "outputs": [],
   "source": []
  },
  {
   "cell_type": "markdown",
   "metadata": {},
   "source": [
    "（加点）問　name,other,birthを一つの辞書(オブジェクト名：ID100)にまとめる"
   ]
  },
  {
   "cell_type": "code",
   "execution_count": null,
   "metadata": {},
   "outputs": [],
   "source": []
  },
  {
   "cell_type": "markdown",
   "metadata": {},
   "source": [
    "更にボーナス　問　3人以上のクラスメイトと一つの辞書（PT19）を作成する。"
   ]
  },
  {
   "cell_type": "code",
   "execution_count": null,
   "metadata": {},
   "outputs": [],
   "source": []
  }
 ],
 "metadata": {
  "kernelspec": {
   "display_name": "Python 3",
   "language": "python",
   "name": "python3"
  },
  "language_info": {
   "codemirror_mode": {
    "name": "ipython",
    "version": 3
   },
   "file_extension": ".py",
   "mimetype": "text/x-python",
   "name": "python",
   "nbconvert_exporter": "python",
   "pygments_lexer": "ipython3",
   "version": "3.6.8"
  },
  "toc": {
   "base_numbering": 1,
   "nav_menu": {},
   "number_sections": true,
   "sideBar": true,
   "skip_h1_title": false,
   "title_cell": "Table of Contents",
   "title_sidebar": "Contents",
   "toc_cell": false,
   "toc_position": {},
   "toc_section_display": true,
   "toc_window_display": false
  }
 },
 "nbformat": 4,
 "nbformat_minor": 2
}
