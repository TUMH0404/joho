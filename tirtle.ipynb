{
 "cells": [
  {
   "cell_type": "code",
   "execution_count": 2,
   "metadata": {},
   "outputs": [],
   "source": [
    "import turtle"
   ]
  },
  {
   "cell_type": "code",
   "execution_count": 3,
   "metadata": {},
   "outputs": [],
   "source": [
    "# 亀をつくる\n",
    "t = turtle.Turtle()\n",
    "t.shape(\"turtle\")\n"
   ]
  },
  {
   "cell_type": "code",
   "execution_count": 6,
   "metadata": {},
   "outputs": [],
   "source": [
    "def getpoint(n,dist,TT):\n",
    "    p=[]\n",
    "    \n",
    "    TT.penup()\n",
    "    for i in range(n):\n",
    "        TT.fd(dist)\n",
    "        p.append(TT.pos())\n",
    "        TT.bk(dist)\n",
    "        TT.rt(360/n) \n",
    "\n",
    "    return p"
   ]
  },
  {
   "cell_type": "code",
   "execution_count": 7,
   "metadata": {},
   "outputs": [],
   "source": [
    "def joinp(a,TT):\n",
    "    p=a.copy()\n",
    "    p.append(a[0])\n",
    "    TT.goto(p[0])\n",
    "    TT.pendown()\n",
    "\n",
    "    for i in p:\n",
    "        TT.goto(i)"
   ]
  },
  {
   "cell_type": "code",
   "execution_count": 8,
   "metadata": {},
   "outputs": [],
   "source": [
    "joinp(getpoint(3,100,t),t)"
   ]
  },
  {
   "cell_type": "code",
   "execution_count": 9,
   "metadata": {},
   "outputs": [],
   "source": [
    "nn = 10\n",
    "for i in range(nn):\n",
    "    t.penup()\n",
    "    t.home()\n",
    "    t.lt(i*360/nn)\n",
    "    joinp(getpoint(3,100,t),t)\n",
    "\n",
    "t.penup()\n",
    "t.home()"
   ]
  },
  {
   "cell_type": "code",
   "execution_count": 10,
   "metadata": {},
   "outputs": [],
   "source": [
    "t.penup()\n",
    "t.home()"
   ]
  },
  {
   "cell_type": "code",
   "execution_count": 19,
   "metadata": {},
   "outputs": [],
   "source": [
    "t.clear()"
   ]
  }
 ],
 "metadata": {
  "hide_input": false,
  "kernelspec": {
   "display_name": "Python 3",
   "language": "python",
   "name": "python3"
  },
  "language_info": {
   "codemirror_mode": {
    "name": "ipython",
    "version": 3
   },
   "file_extension": ".py",
   "mimetype": "text/x-python",
   "name": "python",
   "nbconvert_exporter": "python",
   "pygments_lexer": "ipython3",
   "version": "3.7.2"
  },
  "toc": {
   "base_numbering": 1,
   "nav_menu": {},
   "number_sections": true,
   "sideBar": true,
   "skip_h1_title": false,
   "title_cell": "Table of Contents",
   "title_sidebar": "Contents",
   "toc_cell": false,
   "toc_position": {},
   "toc_section_display": true,
   "toc_window_display": false
  }
 },
 "nbformat": 4,
 "nbformat_minor": 2
}
