{
 "cells": [
  {
   "cell_type": "markdown",
   "metadata": {
    "colab_type": "text",
    "id": "dPjDYE2x7P18"
   },
   "source": [
    "# オリエンテーションとデータの整理\n",
    "\n",
    "---\n",
    "\n",
    "## 授業内容の説明とメール及びGoogle Classroomの使い方\n",
    "> メールアドレスとパスワードの確認 <br> Google Driveの活用\n",
    "---\n",
    "\n",
    "\n",
    "## スプレッドシート（googleサービス）を用いたデータ整理\n",
    "> データ整理の重要性  <br> スプレッドシートの活用"
   ]
  },
  {
   "cell_type": "markdown",
   "metadata": {
    "colab_type": "text",
    "id": "hVlLSRuM338V"
   },
   "source": [
    "### [課題] スプレッドシートを用いてデータの整理をする"
   ]
  },
  {
   "cell_type": "markdown",
   "metadata": {
    "colab_type": "text",
    "id": "tUkHKG7K3q52"
   },
   "source": [
    "> 各自授業中に配布する。"
   ]
  },
  {
   "cell_type": "markdown",
   "metadata": {
    "colab_type": "text",
    "id": "PyJl_GpS8euM"
   },
   "source": [
    "# Pythonを動かす\n",
    "\n",
    "\n",
    "---\n",
    "\n",
    "## なぜPythonか\n",
    "> Pythonは，今話題の「人工知能(AI)」や「Web開発」，「教育の分野」など広い分野で使われ，[人気のある言語](http://pypl.github.io/PYPL.html)である。  \n",
    ">> 1.少ないコード量（文量）で簡単にプログラムがかける<br>\n",
    ">> 2.他人の書いたコードも比較的読みやすい<br>\n",
    ">> 3.オールラウンドな言語<br>\n",
    "\n",
    "---\n",
    "## Pythonの環境\n",
    "> 動作環境を構築するのが面倒であるが，[Anaconda](https://www.anaconda.com/)や[Google Colaboratory](https://colab.research.google.com/notebooks/welcome.ipynb?hl=ja#scrollTo=ol93N5hsyNG0)を用いると簡単に動かすことができる。<br>\n",
    "\n",
    "\n",
    "---\n",
    "\n",
    "## 基本操作\n",
    "> Pythonはデータをオブジェクトとして扱う。プログラムを実行すると，必要なデータがメモリ上に読み込まれる。この読み込まれたデータが「オブジェクト」である。<br>\n",
    ">『実行』は，<font color=\"Red\">shift＋Enter</font>（実行後に次のセルが選択される），もしくは，*Ctrl＋Enter*（実行後でも同じセルが選択）で可能である。<br>\n",
    ">インタラクティブシェル（ここでは『<font color=\"Red\">セル</font>』を使う）100+100と入力する。<br>\n",
    "\n",
    "---\n",
    "\n",
    "## 定数と変数\n",
    "> 定数は定められた数であり，一度定められると変更できない。変数は「変わる数」であり，違う値に変えることができる。<br>\n",
    "> 今日という変数は変えることができるが，クリスマスとという定数は変えることができない。<br>\n",
    "> 内容の決まった入れ替えられない値こそ，プログラムでは定数となる。<br>\n",
    "> 変数に初めて値を入れることを「初期化」という。値を変数の箱に入れることを「代入」という。<br>\n",
    "> Pythonには定数はないが，定数を定義するときの約束事はある（変数名をすべて大文字にして間にアンダースコア（_）をいれる）。<br>\n",
    "> シングルクォテーション(')もしくはダブルクォテーション(\")3つで囲んだ部分がコメントになる。<br>\n",
    "> <font color=\"red\">エラーメッセージが表示されたら読むようにしよう</font>。<br>\n",
    "\n",
    "## データ型\n",
    "> プログラムでは値（あるいはデータの集合）によってデータの種類，データの型が分類される。これがあるおかげで指示を与えられたコンピュータは迷わずに計算処理をすることができる！<br>\n",
    "> データ型が違って処理してくれない（エラーメッセージ）ことがほとんである。<br>\n",
    "> 操作を繰り返すことで自然とデータ型はわかってくるので，真剣に覚えようとする必要はないが，<font color=\"red\">**データの種類や型が存在する**</font>ことは知っておいてほしい。\n",
    "> 四則演算の「+」はstr型であれば，文字同士の連結になるし，float型やint型であれば普通の足し算をする。リスト型同士やタプル型同士だと連結になる（確認すること，課題）。<br>\n",
    "<br>\n",
    "<br>\n",
    "> データを処理内容によって変換することができる（頻発！！→数値を文字と一緒に表示したいとき）。\n",
    "> プログラミングの目的は値を操作することである。プログラムで扱う要素については次の通りまとめられる。\n",
    "*   リテラル：生の値のことで，ソースコードで扱うデータを指す。\n",
    "*   予約語：Pythonにおいて特別な意味が割り当てられた単語を指す。\n",
    "*   識別子：Pythonでは値を保管したり，他のソースコードに引き渡すために変数を用いる。プログラム内ではリテラルをそのままやり取りすることはほとんどなく，リテラルに名前をつけて保管する。この名前が変数で，変数には好きな名前をつけることができる。これら名前のことを識別子という。\n",
    "*   コロンや改行：ソースコードの途中にある「.」や改行もソースコードを構成する。\n",
    "*   その他の記号：ソースコード内には様々な記号が登場する。それぞれ意味があるのでその都度理解することが大切である。\n",
    "*    データ型：Pythonで扱う[データ型](https://drive.google.com/open?id=1gXVhizvB5F_yqWq5CMed6W_p6LnlrWVn4xYAz1HyFb0)である。\n",
    "\n",
    "\n",
    "|　 |  データ型 | 例 |\n",
    "|-------|:--------|:-------|\n",
    "|数値       |int型      |100, -20       |\n",
    "|数値      |float型   |3.14159       |\n",
    "|文字     |str型   |こんにちは，Python    |\n",
    "|真偽値       |bool型   |True, False      |\n",
    "\n",
    "\n",
    "---\n",
    "\n",
    "\n",
    "### データ型の確認方法\n",
    "\n",
    "> プログラムを打っているいると，データ型を調べる必要がある。そのときは，『type()』を使用する。使用例は次の通りである。\n",
    "\n",
    "\n",
    "### データ型の変更\n",
    "#### 例1：int型 から str型へ\n",
    "#### 例2 str型からint型へ\n",
    "> ただし，文字ではなく，数値でなければならない。<br>\n",
    "> なみに int(\"A\")をすると・・・\n",
    "\n",
    "---"
   ]
  },
  {
   "cell_type": "code",
   "execution_count": null,
   "metadata": {
    "colab": {},
    "colab_type": "code",
    "id": "7r8HdR-XcBrJ"
   },
   "outputs": [],
   "source": [
    "# 基本操作\n",
    "100 + 100 # shift+Enterキーを押す"
   ]
  },
  {
   "cell_type": "code",
   "execution_count": null,
   "metadata": {
    "colab": {
     "base_uri": "https://localhost:8080/",
     "height": 54
    },
    "colab_type": "code",
    "id": "Uliee8iFuEVn",
    "outputId": "5360d87d-50b1-4015-8e3b-abb1f9bb6cfe"
   },
   "outputs": [],
   "source": [
    "# 基本操作\n",
    "print(\"Hello, Python\")"
   ]
  },
  {
   "cell_type": "code",
   "execution_count": null,
   "metadata": {
    "colab": {
     "base_uri": "https://localhost:8080/",
     "height": 54
    },
    "colab_type": "code",
    "id": "LKeJ7EjQpWy-",
    "outputId": "5c5466ed-3478-4589-e795-66440d655063"
   },
   "outputs": [],
   "source": [
    "# 基本操作\n",
    "print(100+100)"
   ]
  },
  {
   "cell_type": "code",
   "execution_count": null,
   "metadata": {
    "colab": {
     "base_uri": "https://localhost:8080/",
     "height": 54
    },
    "colab_type": "code",
    "id": "JjdvN-2xpWoe",
    "outputId": "0ef295df-382f-4d0c-9286-c86396675db5"
   },
   "outputs": [],
   "source": [
    "# 基本操作\n",
    "print(10.5)"
   ]
  },
  {
   "cell_type": "code",
   "execution_count": null,
   "metadata": {
    "colab": {
     "base_uri": "https://localhost:8080/",
     "height": 54
    },
    "colab_type": "code",
    "id": "PPp6jAXBpWeC",
    "outputId": "9deb1fa2-f2c9-4c46-9404-fb54e981c8b9"
   },
   "outputs": [],
   "source": [
    "# 基本操作\n",
    "print(-12)"
   ]
  },
  {
   "cell_type": "code",
   "execution_count": null,
   "metadata": {
    "colab": {},
    "colab_type": "code",
    "id": "dTsGWb135Fa-"
   },
   "outputs": [],
   "source": [
    "## コメントの挿入\n",
    "'''\n",
    "この間にある部分がコメントとなる。\n",
    "プログラムの説明に用いることが多く，あとで読み返すに何をするプログラムかわかるようにすると作業効率があがる。\n",
    "また，他の人への説明にもなるので書く癖をつけるとよい。\n",
    "'''\n",
    "\n",
    "\"\"\"\n",
    "この間にある部分がコメントとなる。\n",
    "プログラムの説明に用いることが多く，あとで読み返すに何をするプログラムかわかるようにすると作業効率があがる。\n",
    "また，他の人への説明にもなるので書く癖をつけるとよい。\n",
    "\"\"\""
   ]
  },
  {
   "cell_type": "code",
   "execution_count": null,
   "metadata": {
    "colab": {},
    "colab_type": "code",
    "id": "26I8a-h65OrM"
   },
   "outputs": [],
   "source": [
    "## エラーメッセージをどんどんだして読もう！！\n",
    "print(AA)"
   ]
  },
  {
   "cell_type": "markdown",
   "metadata": {
    "colab_type": "text",
    "id": "ySHxpMYkcbtq"
   },
   "source": [
    "---"
   ]
  },
  {
   "cell_type": "code",
   "execution_count": null,
   "metadata": {
    "colab": {
     "base_uri": "https://localhost:8080/",
     "height": 34
    },
    "colab_type": "code",
    "id": "zRXtvQF6dqCD",
    "outputId": "c89ad01a-9566-4de0-dcc6-ea1c94531fee"
   },
   "outputs": [],
   "source": [
    "# int型\n",
    "10"
   ]
  },
  {
   "cell_type": "code",
   "execution_count": null,
   "metadata": {
    "colab": {
     "base_uri": "https://localhost:8080/",
     "height": 34
    },
    "colab_type": "code",
    "id": "2b-35sMIdpzt",
    "outputId": "33756f9e-e67c-4546-ee26-59363f15d440"
   },
   "outputs": [],
   "source": [
    "# str型(ダブルクォート)\n",
    "\"python\""
   ]
  },
  {
   "cell_type": "code",
   "execution_count": null,
   "metadata": {
    "colab": {
     "base_uri": "https://localhost:8080/",
     "height": 34
    },
    "colab_type": "code",
    "id": "qqVzlD6Ndpn9",
    "outputId": "9f9cb075-6738-46f7-f834-f0b8f3d12023"
   },
   "outputs": [],
   "source": [
    "# str型(シングルクォート)\n",
    "'hello'"
   ]
  },
  {
   "cell_type": "code",
   "execution_count": null,
   "metadata": {
    "colab": {
     "base_uri": "https://localhost:8080/",
     "height": 34
    },
    "colab_type": "code",
    "id": "Gc6g3XnDdzDW",
    "outputId": "67aab43b-2908-4c30-a0dc-23ae7181c68a"
   },
   "outputs": [],
   "source": [
    "#float型\n",
    "3.14"
   ]
  },
  {
   "cell_type": "markdown",
   "metadata": {
    "colab_type": "text",
    "id": "HcDUqvvR-B2o"
   },
   "source": [
    "## 課題\n",
    "### 「+」の作用\n",
    ">データの型によって異なることを確認する。"
   ]
  },
  {
   "cell_type": "code",
   "execution_count": null,
   "metadata": {
    "colab": {},
    "colab_type": "code",
    "id": "aDTjRR1Z9-Jw"
   },
   "outputs": [],
   "source": [
    "## 文字列同士\n",
    "\"a\"+'b'"
   ]
  },
  {
   "cell_type": "code",
   "execution_count": null,
   "metadata": {
    "colab": {},
    "colab_type": "code",
    "id": "QUm_fWMa99wt"
   },
   "outputs": [],
   "source": [
    "# 数値同士\n",
    "10+11.4"
   ]
  },
  {
   "cell_type": "code",
   "execution_count": null,
   "metadata": {
    "colab": {},
    "colab_type": "code",
    "id": "t7kIqAM1-YDB"
   },
   "outputs": [],
   "source": [
    "# リスト型同士\n",
    "[10,11]+[\"a\",\"b\"]"
   ]
  },
  {
   "cell_type": "code",
   "execution_count": 1,
   "metadata": {
    "colab": {},
    "colab_type": "code",
    "id": "5sojRhb9-YN8"
   },
   "outputs": [
    {
     "data": {
      "text/plain": [
       "('a', 'b', 20, 3)"
      ]
     },
     "execution_count": 1,
     "metadata": {},
     "output_type": "execute_result"
    }
   ],
   "source": [
    "# タプル同士\n",
    "(\"a\",\"b\")+(20,3)"
   ]
  },
  {
   "cell_type": "code",
   "execution_count": 3,
   "metadata": {
    "colab": {},
    "colab_type": "code",
    "id": "eRBxfw4N-l-v"
   },
   "outputs": [
    {
     "ename": "TypeError",
     "evalue": "unsupported operand type(s) for +: 'int' and 'str'",
     "output_type": "error",
     "traceback": [
      "\u001b[0;31m---------------------------------------------------------------------------\u001b[0m",
      "\u001b[0;31mTypeError\u001b[0m                                 Traceback (most recent call last)",
      "\u001b[0;32m<ipython-input-3-ef82a027b716>\u001b[0m in \u001b[0;36m<module>\u001b[0;34m\u001b[0m\n\u001b[1;32m      1\u001b[0m \u001b[0;31m#数値と文字\u001b[0m\u001b[0;34m\u001b[0m\u001b[0;34m\u001b[0m\u001b[0;34m\u001b[0m\u001b[0m\n\u001b[0;32m----> 2\u001b[0;31m \u001b[0;36m10\u001b[0m\u001b[0;34m+\u001b[0m\u001b[0;34m\"a\"\u001b[0m\u001b[0;34m\u001b[0m\u001b[0;34m\u001b[0m\u001b[0m\n\u001b[0m",
      "\u001b[0;31mTypeError\u001b[0m: unsupported operand type(s) for +: 'int' and 'str'"
     ]
    }
   ],
   "source": [
    "#数値と文字\n",
    "10+\"a\""
   ]
  },
  {
   "cell_type": "code",
   "execution_count": 2,
   "metadata": {
    "colab": {},
    "colab_type": "code",
    "id": "Ibh2BAaP-utT"
   },
   "outputs": [
    {
     "ename": "TypeError",
     "evalue": "can only concatenate list (not \"tuple\") to list",
     "output_type": "error",
     "traceback": [
      "\u001b[0;31m---------------------------------------------------------------------------\u001b[0m",
      "\u001b[0;31mTypeError\u001b[0m                                 Traceback (most recent call last)",
      "\u001b[0;32m<ipython-input-2-7a5fb83503c4>\u001b[0m in \u001b[0;36m<module>\u001b[0;34m\u001b[0m\n\u001b[1;32m      1\u001b[0m \u001b[0;31m# タプルとリスト\u001b[0m\u001b[0;34m\u001b[0m\u001b[0;34m\u001b[0m\u001b[0;34m\u001b[0m\u001b[0m\n\u001b[0;32m----> 2\u001b[0;31m \u001b[0;34m[\u001b[0m\u001b[0;34m\"a\"\u001b[0m\u001b[0;34m,\u001b[0m\u001b[0;34m\"2\"\u001b[0m\u001b[0;34m]\u001b[0m \u001b[0;34m+\u001b[0m \u001b[0;34m(\u001b[0m\u001b[0;36m10\u001b[0m\u001b[0;34m,\u001b[0m\u001b[0;36m11\u001b[0m\u001b[0;34m)\u001b[0m\u001b[0;34m\u001b[0m\u001b[0;34m\u001b[0m\u001b[0m\n\u001b[0m",
      "\u001b[0;31mTypeError\u001b[0m: can only concatenate list (not \"tuple\") to list"
     ]
    }
   ],
   "source": [
    "# タプルとリスト\n",
    "[\"a\",\"2\"] + (10,11)"
   ]
  },
  {
   "cell_type": "markdown",
   "metadata": {
    "colab_type": "text",
    "id": "y6Ney6aydRB9"
   },
   "source": [
    "---"
   ]
  },
  {
   "cell_type": "markdown",
   "metadata": {
    "colab_type": "text",
    "id": "jm4Yfqv_k_8Q"
   },
   "source": [
    "\n"
   ]
  },
  {
   "cell_type": "code",
   "execution_count": null,
   "metadata": {
    "colab": {
     "base_uri": "https://localhost:8080/",
     "height": 34
    },
    "colab_type": "code",
    "id": "34HDCVhUlozx",
    "outputId": "60a68b5e-4dc6-4cd0-a554-844fc362ce8b"
   },
   "outputs": [],
   "source": [
    "type(10)"
   ]
  },
  {
   "cell_type": "code",
   "execution_count": null,
   "metadata": {
    "colab": {
     "base_uri": "https://localhost:8080/",
     "height": 34
    },
    "colab_type": "code",
    "id": "3z1DwQkBlrK5",
    "outputId": "acf56a5f-849f-427c-dacd-283a46149ad5"
   },
   "outputs": [],
   "source": [
    "type(10.5)"
   ]
  },
  {
   "cell_type": "code",
   "execution_count": null,
   "metadata": {
    "colab": {
     "base_uri": "https://localhost:8080/",
     "height": 34
    },
    "colab_type": "code",
    "id": "ZtjBRKLZlq7w",
    "outputId": "257cf510-e132-461a-ba0b-d63c90b21d25"
   },
   "outputs": [],
   "source": [
    "type(1)"
   ]
  },
  {
   "cell_type": "code",
   "execution_count": null,
   "metadata": {
    "colab": {
     "base_uri": "https://localhost:8080/",
     "height": 34
    },
    "colab_type": "code",
    "id": "tE9eUxTZluKw",
    "outputId": "befeab18-b421-424b-8dc2-a324563a3ca4"
   },
   "outputs": [],
   "source": [
    "type(\"python\")"
   ]
  },
  {
   "cell_type": "markdown",
   "metadata": {
    "colab_type": "text",
    "id": "HPN7cKKReT6j"
   },
   "source": [
    "### [課題内容] データ型"
   ]
  },
  {
   "cell_type": "markdown",
   "metadata": {
    "colab_type": "text",
    "id": "vzYJx_9xeq1y"
   },
   "source": [
    ">> #### Q1.<font color=\"DarkMagenta\">type()関数を使用する。「?」をある記号に変えてデータ型:strを表示（shift+Enter）せよ。</font>"
   ]
  },
  {
   "cell_type": "code",
   "execution_count": null,
   "metadata": {
    "colab": {},
    "colab_type": "code",
    "id": "bWgcE-DMeN0M"
   },
   "outputs": [],
   "source": [
    "type(?hello?)"
   ]
  },
  {
   "cell_type": "markdown",
   "metadata": {
    "colab_type": "text",
    "id": "cCTHRjQZfakE"
   },
   "source": [
    ">> #### Q2.<font color='DarkMagenta'>『 'python' 』のデータ型は何か？</font>"
   ]
  },
  {
   "cell_type": "code",
   "execution_count": null,
   "metadata": {
    "colab": {},
    "colab_type": "code",
    "id": "Om2USlLLe4Jp"
   },
   "outputs": [],
   "source": [
    "?????'python'?"
   ]
  },
  {
   "cell_type": "markdown",
   "metadata": {
    "colab_type": "text",
    "id": "OJzGlik8e5-y"
   },
   "source": [
    ">> #### Q3.<font color=\"DarkMagenta\">『 '-10.9' 』のデータ型は何か？ <font/>"
   ]
  },
  {
   "cell_type": "code",
   "execution_count": null,
   "metadata": {
    "colab": {},
    "colab_type": "code",
    "id": "ToE1mfY4e4cY"
   },
   "outputs": [],
   "source": [
    "?????'-10.9'?"
   ]
  },
  {
   "cell_type": "markdown",
   "metadata": {
    "colab_type": "text",
    "id": "7x_GuZL7fxfR"
   },
   "source": [
    ">> #### Q4.<font color=\"DarkMagenta\">『10』のデータ型を表示せよ。<font/>"
   ]
  },
  {
   "cell_type": "code",
   "execution_count": null,
   "metadata": {
    "colab": {},
    "colab_type": "code",
    "id": "PHs0xqkWf7qW"
   },
   "outputs": [],
   "source": []
  },
  {
   "cell_type": "markdown",
   "metadata": {
    "colab_type": "text",
    "id": "hUvDHFzvf8Zb"
   },
   "source": [
    ">> #### Q5.<font color=\"DarkMagenta\">『-4.675』のデータ型を表示せよ。<font/>"
   ]
  },
  {
   "cell_type": "code",
   "execution_count": null,
   "metadata": {
    "colab": {},
    "colab_type": "code",
    "id": "ppA_rSGIhrxP"
   },
   "outputs": [],
   "source": []
  },
  {
   "cell_type": "markdown",
   "metadata": {
    "colab_type": "text",
    "id": "fgBA1jI2dVYm"
   },
   "source": [
    "---"
   ]
  },
  {
   "cell_type": "code",
   "execution_count": null,
   "metadata": {},
   "outputs": [],
   "source": [
    "# 確認"
   ]
  },
  {
   "cell_type": "code",
   "execution_count": null,
   "metadata": {
    "colab": {},
    "colab_type": "code",
    "id": "cdl4cVDOjJ69"
   },
   "outputs": [],
   "source": [
    "str(10)"
   ]
  },
  {
   "cell_type": "code",
   "execution_count": null,
   "metadata": {
    "colab": {},
    "colab_type": "code",
    "id": "t_udGkDEjOEU"
   },
   "outputs": [],
   "source": [
    "int(\"10\")"
   ]
  },
  {
   "cell_type": "code",
   "execution_count": null,
   "metadata": {
    "colab": {},
    "colab_type": "code",
    "id": "ohU4v-AUjqK5"
   },
   "outputs": [],
   "source": [
    "int(\"A\")"
   ]
  },
  {
   "cell_type": "markdown",
   "metadata": {
    "colab_type": "text",
    "id": "A-TJcIBkj5kW"
   },
   "source": [
    "\n",
    "\n",
    "---\n",
    "\n"
   ]
  },
  {
   "cell_type": "markdown",
   "metadata": {
    "colab_type": "text",
    "id": "W0QqHNhRkJDs"
   },
   "source": [
    ">> ### [加点課題] データ型の変更"
   ]
  },
  {
   "cell_type": "markdown",
   "metadata": {
    "colab_type": "text",
    "id": "dhC1J_0JkU6X"
   },
   "source": [
    ">> #### Q1. <font color=\"DarkMagenta\">『-3.14』をstr型に変更する<font/>"
   ]
  },
  {
   "cell_type": "code",
   "execution_count": null,
   "metadata": {
    "colab": {},
    "colab_type": "code",
    "id": "Gs9W50BskngG"
   },
   "outputs": [],
   "source": []
  },
  {
   "cell_type": "markdown",
   "metadata": {
    "colab_type": "text",
    "id": "kpYtVSvskoWo"
   },
   "source": [
    ">> #### Q2.  <font color=\"DarkMagenta\">『\"4.67\"』をfloat型に変更する<font/>"
   ]
  },
  {
   "cell_type": "code",
   "execution_count": null,
   "metadata": {
    "colab": {},
    "colab_type": "code",
    "id": "Hk_EvTRqk_FL"
   },
   "outputs": [],
   "source": []
  },
  {
   "cell_type": "markdown",
   "metadata": {
    "colab_type": "text",
    "id": "VVHysy3_k_4N"
   },
   "source": [
    ">> #### Q3.  <font color=\"DarkMagenta\">『4.56』 をint型に変更する<font/>"
   ]
  },
  {
   "cell_type": "code",
   "execution_count": null,
   "metadata": {
    "colab": {},
    "colab_type": "code",
    "id": "IzCY2j4mlT1B"
   },
   "outputs": [],
   "source": []
  },
  {
   "cell_type": "markdown",
   "metadata": {
    "colab_type": "text",
    "id": "sX90kBIblUM9"
   },
   "source": [
    ">> #### Q4. <font color=\"DarkMagenta\"> 『5』をfloat型に変更する<font/>"
   ]
  },
  {
   "cell_type": "markdown",
   "metadata": {
    "colab_type": "text",
    "id": "u6oKnToFihaM"
   },
   "source": [
    "\n",
    "---\n"
   ]
  },
  {
   "cell_type": "markdown",
   "metadata": {
    "colab_type": "text",
    "id": "0nmxqrvFGB5p"
   },
   "source": [
    "# 変数\n",
    "\n",
    "## 基本形  <font color=\"Red\">「変数名」= 「値」</font>\n",
    "> Python（プログラム）を操作する場合，いれずれのプログラムでも，何らかの値（文字，数値，真偽値）を計算したり何らかの処理を施したりする。<br>その際に大きな値やデータの塊を一々書きだしたり，読み込ませたりするのは面倒である。Pythonの一般常識では，データの塊をある文字（オブジェックト）に置き換えて操作するようになっている。これが簡単にPythonではできるので，ディープラーニングをはじめとする大きなデータの計算処理を可能にした。\n",
    "\n",
    "## 変数名をつけるときのルール\n",
    "1.   変数名に使用できるのは**半角英数字**と**アンダースコア『 _ 』**を用いる。\n",
    "2.   １文字目に数字は使用できない。\n",
    "3.   下にある予約語を変数名（オブジェクト名）にすることができないが，変数名（オブジェクト名）の一部に加えることは可能である。\n",
    "4.   変数名にスペースを入れることはできない。\n",
    "5.   大文字と小文字は区別される。\n",
    "\n",
    "> [予約語]　False,　None,　True,　and,　as,　assert,　break,　class,　continue,　def,　elif,　else,　except,　finally,　for,　from,　global,　if,　import,　in,　is,　lambda,　nonlocal,　 not,　or,　pass,　raise,　return,　try,　while,　with,　yiel\n",
    "\n",
    "---\n",
    "\n"
   ]
  },
  {
   "cell_type": "code",
   "execution_count": null,
   "metadata": {
    "colab": {},
    "colab_type": "code",
    "id": "afH-CuwDBsfq"
   },
   "outputs": [],
   "source": [
    "hensu0 = 10"
   ]
  },
  {
   "cell_type": "code",
   "execution_count": null,
   "metadata": {
    "colab": {},
    "colab_type": "code",
    "id": "AtqXOOjdBsQG"
   },
   "outputs": [],
   "source": [
    "hensu1 = \"python\""
   ]
  },
  {
   "cell_type": "code",
   "execution_count": null,
   "metadata": {
    "colab": {},
    "colab_type": "code",
    "id": "OPKK0gs4uD-N"
   },
   "outputs": [],
   "source": [
    "hensu2 = 3.14159"
   ]
  },
  {
   "cell_type": "markdown",
   "metadata": {
    "colab_type": "text",
    "id": "wzpdrj7on8o2"
   },
   "source": [
    ">> 先に述べたように，データ型を調べる関数に，type()がある。変数名を使って調べることができる（この使い方が常識）。"
   ]
  },
  {
   "cell_type": "code",
   "execution_count": null,
   "metadata": {
    "colab": {
     "base_uri": "https://localhost:8080/",
     "height": 34
    },
    "colab_type": "code",
    "id": "P6mYV-LWpnmX",
    "outputId": "90ae4d59-470c-4419-ec93-534c5250c840"
   },
   "outputs": [],
   "source": [
    "type(hensu0)"
   ]
  },
  {
   "cell_type": "code",
   "execution_count": null,
   "metadata": {
    "colab": {
     "base_uri": "https://localhost:8080/",
     "height": 34
    },
    "colab_type": "code",
    "id": "JGhfpvSLpna-",
    "outputId": "216ad3ba-5abb-4084-edae-a9cc1c6c3e59"
   },
   "outputs": [],
   "source": [
    "type(hensu2)"
   ]
  },
  {
   "cell_type": "markdown",
   "metadata": {
    "colab_type": "text",
    "id": "ijGFllKcix0C"
   },
   "source": [
    "---"
   ]
  },
  {
   "cell_type": "markdown",
   "metadata": {
    "colab_type": "text",
    "id": "bolDBltGoWLH"
   },
   "source": [
    "## 課題\n",
    "### 変数名"
   ]
  },
  {
   "cell_type": "markdown",
   "metadata": {
    "colab_type": "text",
    "id": "Hrm700BvobwR"
   },
   "source": [
    "#### Q1. <font color = \"DarkMagenta\">「 float型の値10を変数名mydに代入する」というコードを書く。</font>"
   ]
  },
  {
   "cell_type": "code",
   "execution_count": null,
   "metadata": {
    "colab": {},
    "colab_type": "code",
    "id": "jTzvgbTyozYN"
   },
   "outputs": [],
   "source": []
  },
  {
   "cell_type": "markdown",
   "metadata": {
    "colab_type": "text",
    "id": "Ce3Na7NHo17k"
   },
   "source": [
    "#### Q2. <font color=\"DarkMagenta\"> Q1で書いたコードのデータ型をtype()関数を使って確認する。"
   ]
  },
  {
   "cell_type": "code",
   "execution_count": null,
   "metadata": {
    "colab": {},
    "colab_type": "code",
    "id": "c0Pc1U5GpCMS"
   },
   "outputs": [],
   "source": []
  },
  {
   "cell_type": "markdown",
   "metadata": {
    "colab_type": "text",
    "id": "-BtsD8gTpDwY"
   },
   "source": [
    "### Q3. <font color=\"DarkMagenta\"> mydに文字列型のデータ（値）を代入して，その型を調べる関数を使ってデータ型を確認する。"
   ]
  },
  {
   "cell_type": "code",
   "execution_count": null,
   "metadata": {
    "colab": {},
    "colab_type": "code",
    "id": "DbKAkEAupW0g"
   },
   "outputs": [],
   "source": []
  },
  {
   "cell_type": "markdown",
   "metadata": {
    "colab_type": "text",
    "id": "_srVvpanwPfj"
   },
   "source": [
    "\n",
    "\n",
    "---\n",
    "\n"
   ]
  },
  {
   "cell_type": "markdown",
   "metadata": {
    "colab_type": "text",
    "id": "fBJBuOegiaC6"
   },
   "source": [
    "\n"
   ]
  },
  {
   "cell_type": "markdown",
   "metadata": {
    "colab_type": "text",
    "id": "u-YnU4HnmFBY"
   },
   "source": [
    "\n",
    "\n",
    "---\n",
    "\n"
   ]
  },
  {
   "cell_type": "markdown",
   "metadata": {
    "colab_type": "text",
    "id": "mZ0TEXybiSgV"
   },
   "source": [
    "# 演算子\n",
    "> 演算子とは，演算子とは、足し算や引き算、掛け算など計算で使われる記号や値の大小などの比較をするときに使用される記号や文字のこと<br>\n",
    "> pythonでよく使用する算術，比較，論理に関する演算子があり，いずれも重要である。<br>\n",
    "## 算術演算子\n",
    ">割り算の```/``` は少数まで求める。割り算の商は ```//```，割り算のあまり（剰余）は ```%``` という記号を使って，整数を求めることができる。25を7で割った時の商3と余り4 について次の通りである。\n",
    "\n",
    "| 記号 | 作用 |\n",
    "|------|--------|\n",
    "| +a | 正の整数 |\n",
    "| -a | 符号反転 |\n",
    "| a+b | 足し算 |\n",
    "| a-b | 引き算 |\n",
    "| a*b | 掛け算| \n",
    "|a/b|割り算|\n",
    "|a%b|除算|\n",
    "|a**b|べき乗|\n",
    "|a//b|剰余|\n",
    "\n",
    "\n",
    "\n",
    "## 比較演算子\n",
    "> 比較演算子を覚えよう（bool型で出力される）。\n",
    "\n",
    "\n",
    "|記号|意味|\n",
    "|--------|--------|\n",
    "|a == b|aとbの値が等しければTrue, そうでなければFalse|\n",
    "|a != b|aとbの値が等しくなければTrue，そうでなければFalse|\n",
    "|a > b|aがbより大きければTrue，そうでなければFalse|\n",
    "|a < b|aがbより小さければTrue，そうでなければFalse|\n",
    "|a >= b|aがb以上であればTrue，そうでなければFalse|\n",
    "|a <= b|aがb以下であればTrue，そうでなければFalse|\n",
    "|a is b|aとbが同じオブジェクトであればTrue，そうでなければFalse|\n",
    "|a is not b|aとbが同じオブジェクトでなければTrue，そうでなければFalse|\n",
    "|a in b|aがbに含まれていればTrue，含まれていなければFalse|\n",
    "|a in not b|aがbに含まれていなければTrue，含まれていればFalse|\n",
    "\n",
    "\n",
    "\n",
    "## 論理演算子\n",
    "> 論理演算子には or, and, notの3つがある。今は重要ではないが制御文のときに使用するのでここでは，その作用を確認する。\n",
    "\n",
    "|入力1|入力2|論理積(and)|論理和 (or)|\n",
    "|-|-|-|-|\n",
    "|1|1|1|1|\n",
    "|1|0|0|1|\n",
    "|0|1|0|1|\n",
    "|0|0|0|0|"
   ]
  },
  {
   "cell_type": "markdown",
   "metadata": {},
   "source": [
    "## 課題"
   ]
  },
  {
   "cell_type": "code",
   "execution_count": null,
   "metadata": {
    "colab": {},
    "colab_type": "code",
    "id": "5a3u1KOnF6GT"
   },
   "outputs": [],
   "source": [
    "1+10"
   ]
  },
  {
   "cell_type": "code",
   "execution_count": null,
   "metadata": {
    "colab": {},
    "colab_type": "code",
    "id": "xCmURhSuF6XO"
   },
   "outputs": [],
   "source": [
    "10-1"
   ]
  },
  {
   "cell_type": "code",
   "execution_count": null,
   "metadata": {
    "colab": {},
    "colab_type": "code",
    "id": "0yS0dhuwF8fU"
   },
   "outputs": [],
   "source": [
    "3*2"
   ]
  },
  {
   "cell_type": "code",
   "execution_count": null,
   "metadata": {
    "colab": {},
    "colab_type": "code",
    "id": "e07GpGt5GHsf"
   },
   "outputs": [],
   "source": [
    "3**2"
   ]
  },
  {
   "cell_type": "code",
   "execution_count": null,
   "metadata": {
    "colab": {},
    "colab_type": "code",
    "id": "jh_KRB7PF_75"
   },
   "outputs": [],
   "source": [
    "10/3"
   ]
  },
  {
   "cell_type": "code",
   "execution_count": null,
   "metadata": {
    "colab": {
     "base_uri": "https://localhost:8080/",
     "height": 34
    },
    "colab_type": "code",
    "id": "yI7JXyLAGAHK",
    "outputId": "6cfb2216-5591-44d8-8fab-4609f4f85fbf"
   },
   "outputs": [],
   "source": [
    "25%7 # 余りが整数で出力される。"
   ]
  },
  {
   "cell_type": "code",
   "execution_count": null,
   "metadata": {
    "colab": {
     "base_uri": "https://localhost:8080/",
     "height": 34
    },
    "colab_type": "code",
    "id": "rF7ZGqhHF8pj",
    "outputId": "bfe5b636-b6c5-41f6-d060-367ae28ee2e5"
   },
   "outputs": [],
   "source": [
    "25//7 #商が整数で出力される。"
   ]
  },
  {
   "cell_type": "code",
   "execution_count": null,
   "metadata": {
    "colab": {},
    "colab_type": "code",
    "id": "KU4aI3t2FLbV"
   },
   "outputs": [],
   "source": [
    "numb1=10\n",
    "numb2=40"
   ]
  },
  {
   "cell_type": "code",
   "execution_count": null,
   "metadata": {
    "colab_type": "text",
    "id": "XJoz8jdY9KVE"
   },
   "outputs": [],
   "source": [
    "# 割り算"
   ]
  },
  {
   "cell_type": "code",
   "execution_count": null,
   "metadata": {
    "colab": {},
    "colab_type": "code",
    "id": "SImmu61AIkTO"
   },
   "outputs": [],
   "source": [
    "numb1/numb2"
   ]
  },
  {
   "cell_type": "code",
   "execution_count": null,
   "metadata": {
    "colab_type": "text",
    "id": "KO8JQgwR9OBI"
   },
   "outputs": [],
   "source": [
    "# 引き算"
   ]
  },
  {
   "cell_type": "code",
   "execution_count": null,
   "metadata": {
    "colab": {
     "base_uri": "https://localhost:8080/",
     "height": 34
    },
    "colab_type": "code",
    "id": "g9SSE5YD9GfO",
    "outputId": "0713df90-4dc2-42be-ab13-831b02fc81cd"
   },
   "outputs": [],
   "source": [
    "numb1-numb2"
   ]
  },
  {
   "cell_type": "markdown",
   "metadata": {
    "colab_type": "text",
    "id": "4wZobhBFx95b"
   },
   "source": [
    "### Q1. <font color=\"DarkMagenta\">$10^2$を算術演算子で計算する</font>"
   ]
  },
  {
   "cell_type": "code",
   "execution_count": null,
   "metadata": {
    "colab": {},
    "colab_type": "code",
    "id": "FIrKZ31YIkJl"
   },
   "outputs": [],
   "source": []
  },
  {
   "cell_type": "markdown",
   "metadata": {
    "colab_type": "text",
    "id": "uP9gJH770tuw"
   },
   "source": [
    "### Q2.  <font color=\"DarkMagenta\">$y=2x^2-3x-10$，$x=1.5$のときの$y$を求める。"
   ]
  },
  {
   "cell_type": "code",
   "execution_count": null,
   "metadata": {
    "colab": {},
    "colab_type": "code",
    "id": "f8K_QJOmIj-G"
   },
   "outputs": [],
   "source": []
  },
  {
   "cell_type": "markdown",
   "metadata": {
    "colab_type": "text",
    "id": "GUb3Qi1W1hQO"
   },
   "source": [
    "### bool型\n",
    "> <font color =\"red\">[注意]</font>True ==1 , False==0である。以下のコードを確認する。"
   ]
  },
  {
   "cell_type": "code",
   "execution_count": null,
   "metadata": {
    "colab": {
     "base_uri": "https://localhost:8080/",
     "height": 34
    },
    "colab_type": "code",
    "id": "RC7iTDGG1wNl",
    "outputId": "9c1c9d0d-2a2a-4649-e95f-940456a467d0"
   },
   "outputs": [],
   "source": [
    "True == 1"
   ]
  },
  {
   "cell_type": "code",
   "execution_count": null,
   "metadata": {
    "colab": {
     "base_uri": "https://localhost:8080/",
     "height": 34
    },
    "colab_type": "code",
    "id": "Su5-I64UHQDg",
    "outputId": "4b968465-401f-4194-8b6d-6da853f79519"
   },
   "outputs": [],
   "source": [
    "False ==0"
   ]
  },
  {
   "cell_type": "code",
   "execution_count": null,
   "metadata": {
    "colab": {},
    "colab_type": "code",
    "id": "M71CLm8lS2Bb"
   },
   "outputs": [],
   "source": [
    "m = 30\n",
    "n = 20"
   ]
  },
  {
   "cell_type": "code",
   "execution_count": null,
   "metadata": {
    "colab": {},
    "colab_type": "code",
    "id": "GkNWw1WxHchg"
   },
   "outputs": [],
   "source": [
    "m==n"
   ]
  },
  {
   "cell_type": "code",
   "execution_count": null,
   "metadata": {
    "colab": {},
    "colab_type": "code",
    "id": "DmDTRmPjHcyO"
   },
   "outputs": [],
   "source": [
    "m!=n"
   ]
  },
  {
   "cell_type": "code",
   "execution_count": null,
   "metadata": {
    "colab": {},
    "colab_type": "code",
    "id": "gE6uKFPgHc-q"
   },
   "outputs": [],
   "source": [
    "m<=n"
   ]
  },
  {
   "cell_type": "code",
   "execution_count": null,
   "metadata": {
    "colab": {},
    "colab_type": "code",
    "id": "2jkj-bU5S1qI"
   },
   "outputs": [],
   "source": [
    "m >= n"
   ]
  },
  {
   "cell_type": "code",
   "execution_count": null,
   "metadata": {
    "colab": {},
    "colab_type": "code",
    "id": "RB-1JVRDHhzB"
   },
   "outputs": [],
   "source": [
    "m<n"
   ]
  },
  {
   "cell_type": "code",
   "execution_count": null,
   "metadata": {
    "colab": {},
    "colab_type": "code",
    "id": "WVfmGWH2HnVO"
   },
   "outputs": [],
   "source": [
    "m>n"
   ]
  },
  {
   "cell_type": "code",
   "execution_count": null,
   "metadata": {
    "colab": {},
    "colab_type": "code",
    "id": "1fX695-STR-t"
   },
   "outputs": [],
   "source": [
    "m = [0,1,3]\n",
    "n = m"
   ]
  },
  {
   "cell_type": "code",
   "execution_count": null,
   "metadata": {
    "colab": {},
    "colab_type": "code",
    "id": "bfEXxRQ2TRwp"
   },
   "outputs": [],
   "source": [
    "m is n"
   ]
  },
  {
   "cell_type": "code",
   "execution_count": null,
   "metadata": {
    "colab": {},
    "colab_type": "code",
    "id": "Ejpavl-gdMn6"
   },
   "outputs": [],
   "source": [
    "a = 10\n",
    "b = -10\n",
    "c = 10"
   ]
  },
  {
   "cell_type": "code",
   "execution_count": null,
   "metadata": {
    "colab": {},
    "colab_type": "code",
    "id": "hDgolzGedMU6"
   },
   "outputs": [],
   "source": [
    "a and c"
   ]
  },
  {
   "cell_type": "code",
   "execution_count": null,
   "metadata": {
    "colab": {},
    "colab_type": "code",
    "id": "XtyfNGZfgC7j"
   },
   "outputs": [],
   "source": [
    "b and a"
   ]
  },
  {
   "cell_type": "code",
   "execution_count": null,
   "metadata": {
    "colab": {},
    "colab_type": "code",
    "id": "5Y2UOls3gCpt"
   },
   "outputs": [],
   "source": [
    "c and b"
   ]
  },
  {
   "cell_type": "code",
   "execution_count": null,
   "metadata": {
    "colab": {},
    "colab_type": "code",
    "id": "qZ3_RmHRgCaD"
   },
   "outputs": [],
   "source": [
    "a==b and a==c"
   ]
  },
  {
   "cell_type": "code",
   "execution_count": null,
   "metadata": {
    "colab": {},
    "colab_type": "code",
    "id": "XoyP3Ys4gCMS"
   },
   "outputs": [],
   "source": [
    "a==c and b!= c"
   ]
  },
  {
   "cell_type": "markdown",
   "metadata": {
    "colab_type": "text",
    "id": "Ai8_u4mXwpTD"
   },
   "source": [
    "\n",
    "\n",
    "---\n",
    "\n"
   ]
  },
  {
   "cell_type": "markdown",
   "metadata": {
    "colab_type": "text",
    "id": "m5Ti90WsFpzH"
   },
   "source": [
    "# フローチャート\n",
    "\n",
    "> ここでは，フローチャートについて勉強する。フローチャートは理学療法の臨床思考で役に立つものである。また物事を整理して考える力も身につくであろう。基本的なことを押さえることは無駄にならない。"
   ]
  },
  {
   "cell_type": "markdown",
   "metadata": {
    "colab_type": "text",
    "id": "nlMXTDcPL8GM"
   },
   "source": [
    "## フローチャートの基本形\n",
    "> フローチャートを書くときも約束事がある。その専門ではないので詳しく知る必要はないが，基本的な記号を知っておくと何かと便利である([参照](https://docs.google.com/presentation/d/1cUH95OHglLMF4A9MDQoNmAvjA_8Pw4v-vymih6yw2A4/edit?usp=sharing))。"
   ]
  },
  {
   "cell_type": "markdown",
   "metadata": {
    "colab_type": "text",
    "id": "KubIJFj7Xd-a"
   },
   "source": [
    "> [この](https://drive.google.com/open?id=12g_Q6GBZYB0jioMbln03BNV0wGSjzMo1y70H6Nexd6A)フローチャートをコードに表してみよう。"
   ]
  },
  {
   "cell_type": "code",
   "execution_count": null,
   "metadata": {
    "colab": {},
    "colab_type": "code",
    "id": "-dkeuraJFwvX"
   },
   "outputs": [],
   "source": [
    "# 開始\n",
    "a = 10\n",
    "b = 20"
   ]
  },
  {
   "cell_type": "code",
   "execution_count": null,
   "metadata": {
    "colab": {},
    "colab_type": "code",
    "id": "D_p_p3GSFw_y"
   },
   "outputs": [],
   "source": [
    "c = a+b"
   ]
  },
  {
   "cell_type": "code",
   "execution_count": null,
   "metadata": {
    "colab": {
     "base_uri": "https://localhost:8080/",
     "height": 34
    },
    "colab_type": "code",
    "id": "asAUiMrlX1jh",
    "outputId": "a533ca7c-5ac8-4a94-8b31-4070936bd234"
   },
   "outputs": [],
   "source": [
    "print(c)\n",
    "# 終了"
   ]
  },
  {
   "cell_type": "markdown",
   "metadata": {
    "colab_type": "text",
    "id": "8pN_I_S7Sw_H"
   },
   "source": [
    "\n",
    "\n",
    "---\n",
    "\n"
   ]
  },
  {
   "cell_type": "markdown",
   "metadata": {
    "colab_type": "text",
    "id": "_Wni8eoC8nRE"
   },
   "source": [
    "# リスト，タプル，集合，辞書\n",
    "> いよいよPython言語を学んでいこう。\n",
    "\n",
    "> Pythonで扱う基本的なデータの形式である。理学療法の分野ではデータ解析が主であり，「リスト」を知っておくと事足りるだろう。それでも他の形式も知っておくべきだと思うので，一通り勉強することを望む。\n",
    "\n",
    "> これから，Python言語の特徴を学ぶ上で重要な点が多くでてくる。繰り返し練習することで理解も深まるだろう。\n",
    "\n",
    "> 1. <font color=\"Red\">リスト </font> <br>\n",
    "> 2. タプル <br>\n",
    "> 3. 集合 <br>\n",
    "> 4. 辞書 <br>\n"
   ]
  },
  {
   "cell_type": "markdown",
   "metadata": {
    "colab_type": "text",
    "id": "7HlkZZk_IEvy"
   },
   "source": [
    "## リスト"
   ]
  },
  {
   "cell_type": "markdown",
   "metadata": {
    "colab_type": "text",
    "id": "auY-PwNVXVpC"
   },
   "source": [
    "### リストを作る\n",
    ">  Pythonにはシーケンスを表すデータ型として，**リスト**とタプルがある。リスト型のオブジェクトもタプルのオブジェクトも，一つのオブジェクトに複数のオブジェクトを格納できる。（**シーケンスとは，データが順番に並んでいて，並んでいる順番に処理が行えること**を指す）\n"
   ]
  },
  {
   "cell_type": "code",
   "execution_count": null,
   "metadata": {
    "colab": {
     "base_uri": "https://localhost:8080/",
     "height": 34
    },
    "colab_type": "code",
    "id": "h1PE0B5FxDDP",
    "outputId": "ad649f13-ad13-4c96-f184-48431908bb5f"
   },
   "outputs": [],
   "source": [
    "[10,3,4]"
   ]
  },
  {
   "cell_type": "code",
   "execution_count": null,
   "metadata": {
    "colab": {},
    "colab_type": "code",
    "id": "ce_P531JxC4B"
   },
   "outputs": [],
   "source": [
    "[10,\"年齢\",\"男\"]"
   ]
  },
  {
   "cell_type": "markdown",
   "metadata": {
    "colab_type": "text",
    "id": "p8ZR2ous_h-S"
   },
   "source": [
    "\n",
    "\n",
    "---\n",
    "\n"
   ]
  },
  {
   "cell_type": "markdown",
   "metadata": {
    "colab_type": "text",
    "id": "_GiZk4YKyzg0"
   },
   "source": [
    "### <font color=\"red\">print()を用いた表示</font>\n",
    "> printはpythonに組み込まれた関数であり，()内にあるオブジェクトを『表示する』ための関数である。print()があるときとない時では何が違うのか，次の例で確認する。そして，今後はprint()関数を使用する（特に課題）。\n"
   ]
  },
  {
   "cell_type": "code",
   "execution_count": null,
   "metadata": {
    "colab": {
     "base_uri": "https://localhost:8080/",
     "height": 34
    },
    "colab_type": "code",
    "id": "i6-1q-JSxCsV",
    "outputId": "da4e7615-6005-44ba-fc23-138789aadaed"
   },
   "outputs": [],
   "source": [
    "[\"a\",\"b\",\"c\"]\n",
    "[1,2,3]\n"
   ]
  },
  {
   "cell_type": "code",
   "execution_count": null,
   "metadata": {
    "colab": {
     "base_uri": "https://localhost:8080/",
     "height": 51
    },
    "colab_type": "code",
    "id": "IJmTg3-Hzih0",
    "outputId": "e77144a4-cbb0-45d2-b157-af3fe586d68a"
   },
   "outputs": [],
   "source": [
    "print([\"a\",\"b\",\"c\"])\n",
    "print([1,2,3])"
   ]
  },
  {
   "cell_type": "markdown",
   "metadata": {
    "colab_type": "text",
    "id": "1tKsGCvGzqQN"
   },
   "source": [
    "> このように，セルを走らせた場合，出力表示が可能な一番最終行の値のみを表示する（print関数がない場合）。<br>\n",
    "> すべての値を表示させたいときは，print()関数を使用する。<br>"
   ]
  },
  {
   "cell_type": "code",
   "execution_count": null,
   "metadata": {
    "colab": {},
    "colab_type": "code",
    "id": "PBZ3kPVXziVF"
   },
   "outputs": [],
   "source": []
  },
  {
   "cell_type": "markdown",
   "metadata": {
    "colab_type": "text",
    "id": "QLeVEBOO_jsp"
   },
   "source": [
    "\n",
    "\n",
    "---\n",
    "\n"
   ]
  },
  {
   "cell_type": "markdown",
   "metadata": {
    "colab_type": "text",
    "id": "R21Eew9_xDyc"
   },
   "source": [
    "### <font color=\"red\">[重要]</font>リストに変数名与える\n",
    ">変数 = [要素1, 要素2, 要素3,.....]"
   ]
  },
  {
   "cell_type": "code",
   "execution_count": null,
   "metadata": {
    "colab": {},
    "colab_type": "code",
    "id": "-Q--Af6CV4rj"
   },
   "outputs": [],
   "source": [
    "# すべての要素がint型\n",
    "numbers = [1,2,3,4,-5]\n",
    "numbs = [0,1,2,3,4,5,6,7,8,9,10,11,12,13,14]"
   ]
  },
  {
   "cell_type": "code",
   "execution_count": null,
   "metadata": {
    "colab": {},
    "colab_type": "code",
    "id": "Deyo__nAV4as"
   },
   "outputs": [],
   "source": [
    "# すべての要素がstr型\n",
    "greets = [\"おはよう\",\"こんにちは\",\"こんばんわ\"]"
   ]
  },
  {
   "cell_type": "code",
   "execution_count": null,
   "metadata": {
    "colab": {},
    "colab_type": "code",
    "id": "WtSoaMJ5V4F9"
   },
   "outputs": [],
   "source": [
    "# 混在したリスト\n",
    "data = [\"身長\",170, \"体重\", 65, \"年齢\", 30]"
   ]
  },
  {
   "cell_type": "markdown",
   "metadata": {
    "colab_type": "text",
    "id": "iWm9QEA2_obe"
   },
   "source": [
    "\n",
    "\n",
    "---\n",
    "\n"
   ]
  },
  {
   "cell_type": "markdown",
   "metadata": {
    "colab_type": "text",
    "id": "ZxubVy8fXiJo"
   },
   "source": [
    " ### <font color=\"red\">[重要]</font>リストから要素を取り出す，切り出す"
   ]
  },
  {
   "cell_type": "markdown",
   "metadata": {
    "colab_type": "text",
    "id": "DiompIjDXix4"
   },
   "source": [
    ">  #### リスト[インデックス]の取り方は非常に重要である。[ココ](https://drive.google.com/open?id=1WanCjLCS3Ei4PRCedhhZefXZ0o7asl-fOXLne60CdHk)をみて，**必ず覚えること**！！\n",
    "> #### インデックスの指定には，[ ]が用いられる。"
   ]
  },
  {
   "cell_type": "code",
   "execution_count": null,
   "metadata": {
    "colab": {
     "base_uri": "https://localhost:8080/",
     "height": 34
    },
    "colab_type": "code",
    "id": "2U9HdMJG4hMR",
    "outputId": "2c20dcfa-2c79-4f2c-c736-65c09acc08c1"
   },
   "outputs": [],
   "source": [
    "data[0:3]"
   ]
  },
  {
   "cell_type": "code",
   "execution_count": null,
   "metadata": {
    "colab": {},
    "colab_type": "code",
    "id": "F4yAoTb_4g8P"
   },
   "outputs": [],
   "source": [
    "data[-2:]"
   ]
  },
  {
   "cell_type": "markdown",
   "metadata": {
    "colab_type": "text",
    "id": "RG44S9fxXjXK"
   },
   "source": [
    "> ####  リスト[開始インデックス: 終了インデックス: ステップ数]となると・・・・\n"
   ]
  },
  {
   "cell_type": "code",
   "execution_count": null,
   "metadata": {
    "colab": {
     "base_uri": "https://localhost:8080/",
     "height": 34
    },
    "colab_type": "code",
    "id": "kRHTw2vTAmtN",
    "outputId": "548897cd-a838-4d41-d147-b4b05066b902"
   },
   "outputs": [],
   "source": [
    "DD = [1,2,3,4,5,6,7,8,9,10]\n",
    "print(DD[0::2])"
   ]
  },
  {
   "cell_type": "markdown",
   "metadata": {
    "colab_type": "text",
    "id": "v733zV4F1Jd4"
   },
   "source": [
    ">> というように，インデックスが選択される。"
   ]
  },
  {
   "cell_type": "code",
   "execution_count": null,
   "metadata": {
    "colab": {},
    "colab_type": "code",
    "id": "QIW6HyPOtkFk"
   },
   "outputs": [],
   "source": [
    "print(greets[0])"
   ]
  },
  {
   "cell_type": "code",
   "execution_count": null,
   "metadata": {
    "colab": {},
    "colab_type": "code",
    "id": "2h34P4Uetv5U",
    "outputId": "10a0c685-ad67-48b4-e086-0f83c16d2a64"
   },
   "outputs": [],
   "source": [
    "print(numbers[:-1:2])"
   ]
  },
  {
   "cell_type": "markdown",
   "metadata": {
    "colab_type": "text",
    "id": "zQMGGHsS3pGX"
   },
   "source": [
    "## リストの操作\n",
    "> リスト内の要素を<font color=\"Red\">削除，更新，追加</font>するなど，便利なメソッドが次の表の通りある（これらの他にもある）。その中でも，上の2つ(append，index)について，頻繁に使用するしっかり覚える。\n",
    "\n",
    "|関数名|作用|\n",
    "|--------------|--------------|\n",
    "|Z.append(a)|リストZの最後尾にa追加する|\n",
    "|Z.index(x)|リストZの要素のうち，xを持つ最初の要素の位置をゼロから始まる添字で返す|\n",
    "|Z.count(x)|リストZでのxの出現回数を返す|\n",
    "|Z.sort()|リストZの要素を並べかえる|\n",
    "|Z.insert(x,a)|リストZのx番目にaを挿入する|\n",
    "|Z.pop(i)  | リストZのi番目の要素を削除する|\n",
    "|Z.pop()|リストZの最終の要素を削除する|\n",
    "|Z.remove(a)|リストZの最初のaを削除する|\n",
    "|Z.clear()|リストZのすべての要素を削除する|\n",
    "|Z.reverse()|リストの要素を逆順にする|\n",
    "\n",
    "\n",
    "*   [ASCIIコード](https://drive.google.com/open?id=19Px3WeC5kFuT1RSDxH_fg_1cq5tDIv3AJo3TLe188Es)の順に並べ替えられる。\n",
    "*  コードを例示しているので，その動作を確認しよう。\n"
   ]
  },
  {
   "cell_type": "markdown",
   "metadata": {
    "colab_type": "text",
    "id": "GMasH7qU_wjX"
   },
   "source": [
    "\n",
    "\n",
    "---\n",
    "\n"
   ]
  },
  {
   "cell_type": "code",
   "execution_count": null,
   "metadata": {
    "colab": {
     "base_uri": "https://localhost:8080/",
     "height": 34
    },
    "colab_type": "code",
    "executionInfo": {
     "elapsed": 624,
     "status": "ok",
     "timestamp": 1546501286260,
     "user": {
      "displayName": "大西智也",
      "photoUrl": "https://lh4.googleusercontent.com/-BkjgVdxeuD4/AAAAAAAAAAI/AAAAAAAAAXI/D4SAqETNV1A/s64/photo.jpg",
      "userId": "12340443210781784784"
     },
     "user_tz": -540
    },
    "id": "1RF09VcKZFCV",
    "outputId": "d539af2c-fa24-405d-9791-b39f50fb7b65"
   },
   "outputs": [],
   "source": [
    "char = [\"A\",\"B\",\"C\",\"D\"]\n",
    "print(char)"
   ]
  },
  {
   "cell_type": "code",
   "execution_count": null,
   "metadata": {
    "colab": {
     "base_uri": "https://localhost:8080/",
     "height": 34
    },
    "colab_type": "code",
    "executionInfo": {
     "elapsed": 374,
     "status": "ok",
     "timestamp": 1546501286592,
     "user": {
      "displayName": "大西智也",
      "photoUrl": "https://lh4.googleusercontent.com/-BkjgVdxeuD4/AAAAAAAAAAI/AAAAAAAAAXI/D4SAqETNV1A/s64/photo.jpg",
      "userId": "12340443210781784784"
     },
     "user_tz": -540
    },
    "id": "LYGXuilcZMAU",
    "outputId": "8a4a95d0-e27f-4ee6-c67a-3e213a2e545a"
   },
   "outputs": [],
   "source": [
    "# 更新\n",
    "char[1] = \"F\"\n",
    "print(char)"
   ]
  },
  {
   "cell_type": "code",
   "execution_count": null,
   "metadata": {
    "colab": {
     "base_uri": "https://localhost:8080/",
     "height": 34
    },
    "colab_type": "code",
    "executionInfo": {
     "elapsed": 525,
     "status": "ok",
     "timestamp": 1546501287339,
     "user": {
      "displayName": "大西智也",
      "photoUrl": "https://lh4.googleusercontent.com/-BkjgVdxeuD4/AAAAAAAAAAI/AAAAAAAAAXI/D4SAqETNV1A/s64/photo.jpg",
      "userId": "12340443210781784784"
     },
     "user_tz": -540
    },
    "id": "zpQ6thKRaL02",
    "outputId": "d38dd4b3-e9e5-4e18-9198-d7b06d1081fa"
   },
   "outputs": [],
   "source": [
    "# 削除\n",
    "char.pop()\n",
    "print(char)"
   ]
  },
  {
   "cell_type": "code",
   "execution_count": null,
   "metadata": {
    "colab": {
     "base_uri": "https://localhost:8080/",
     "height": 34
    },
    "colab_type": "code",
    "executionInfo": {
     "elapsed": 382,
     "status": "ok",
     "timestamp": 1546501287682,
     "user": {
      "displayName": "大西智也",
      "photoUrl": "https://lh4.googleusercontent.com/-BkjgVdxeuD4/AAAAAAAAAAI/AAAAAAAAAXI/D4SAqETNV1A/s64/photo.jpg",
      "userId": "12340443210781784784"
     },
     "user_tz": -540
    },
    "id": "v5uvKtcYaVx7",
    "outputId": "c89c4afb-9ee0-4034-b280-9eeb9c53353b"
   },
   "outputs": [],
   "source": [
    "# 追加\n",
    "char.append('D')\n",
    "print(char)"
   ]
  },
  {
   "cell_type": "code",
   "execution_count": null,
   "metadata": {
    "colab": {
     "base_uri": "https://localhost:8080/",
     "height": 34
    },
    "colab_type": "code",
    "executionInfo": {
     "elapsed": 697,
     "status": "ok",
     "timestamp": 1546501288471,
     "user": {
      "displayName": "大西智也",
      "photoUrl": "https://lh4.googleusercontent.com/-BkjgVdxeuD4/AAAAAAAAAAI/AAAAAAAAAXI/D4SAqETNV1A/s64/photo.jpg",
      "userId": "12340443210781784784"
     },
     "user_tz": -540
    },
    "id": "hyQzc_EFaR70",
    "outputId": "f441adcb-5dca-49e7-ebb2-615b5f7d4766"
   },
   "outputs": [],
   "source": [
    "# 削除\n",
    "char.pop(2)\n",
    "print(char)"
   ]
  },
  {
   "cell_type": "code",
   "execution_count": null,
   "metadata": {
    "colab": {
     "base_uri": "https://localhost:8080/",
     "height": 34
    },
    "colab_type": "code",
    "executionInfo": {
     "elapsed": 499,
     "status": "ok",
     "timestamp": 1546501288761,
     "user": {
      "displayName": "大西智也",
      "photoUrl": "https://lh4.googleusercontent.com/-BkjgVdxeuD4/AAAAAAAAAAI/AAAAAAAAAXI/D4SAqETNV1A/s64/photo.jpg",
      "userId": "12340443210781784784"
     },
     "user_tz": -540
    },
    "id": "QtjQTbJ4ae_i",
    "outputId": "9bb8d37e-3366-4dee-861b-4a7ed3902634"
   },
   "outputs": [],
   "source": [
    "# 挿入\n",
    "char.insert(2,'C')\n",
    "print(char)"
   ]
  },
  {
   "cell_type": "code",
   "execution_count": null,
   "metadata": {
    "colab": {
     "base_uri": "https://localhost:8080/",
     "height": 34
    },
    "colab_type": "code",
    "executionInfo": {
     "elapsed": 411,
     "status": "ok",
     "timestamp": 1546501289554,
     "user": {
      "displayName": "大西智也",
      "photoUrl": "https://lh4.googleusercontent.com/-BkjgVdxeuD4/AAAAAAAAAAI/AAAAAAAAAXI/D4SAqETNV1A/s64/photo.jpg",
      "userId": "12340443210781784784"
     },
     "user_tz": -540
    },
    "id": "-YwvDK-3amOv",
    "outputId": "a5f55129-b985-482d-976c-206151907c71"
   },
   "outputs": [],
   "source": [
    "# 挿入\n",
    "char.insert(1,\"B\")\n",
    "print(char)"
   ]
  },
  {
   "cell_type": "code",
   "execution_count": null,
   "metadata": {
    "colab": {
     "base_uri": "https://localhost:8080/",
     "height": 34
    },
    "colab_type": "code",
    "executionInfo": {
     "elapsed": 674,
     "status": "ok",
     "timestamp": 1546501291346,
     "user": {
      "displayName": "大西智也",
      "photoUrl": "https://lh4.googleusercontent.com/-BkjgVdxeuD4/AAAAAAAAAAI/AAAAAAAAAXI/D4SAqETNV1A/s64/photo.jpg",
      "userId": "12340443210781784784"
     },
     "user_tz": -540
    },
    "id": "M5fzUhahbAvV",
    "outputId": "833f3831-9c29-4bd1-a8cb-eaaca5b1aeba"
   },
   "outputs": [],
   "source": [
    "# 削除\n",
    "del char[2]\n",
    "print(char)"
   ]
  },
  {
   "cell_type": "code",
   "execution_count": null,
   "metadata": {
    "colab": {
     "base_uri": "https://localhost:8080/",
     "height": 34
    },
    "colab_type": "code",
    "executionInfo": {
     "elapsed": 572,
     "status": "ok",
     "timestamp": 1546501293494,
     "user": {
      "displayName": "大西智也",
      "photoUrl": "https://lh4.googleusercontent.com/-BkjgVdxeuD4/AAAAAAAAAAI/AAAAAAAAAXI/D4SAqETNV1A/s64/photo.jpg",
      "userId": "12340443210781784784"
     },
     "user_tz": -540
    },
    "id": "xklDDr-IbJhg",
    "outputId": "8bb49e6f-6a99-4827-8604-31555954e075"
   },
   "outputs": [],
   "source": [
    "# 挿入\n",
    "char.insert(2,\"F\")\n",
    "print(char)"
   ]
  },
  {
   "cell_type": "code",
   "execution_count": null,
   "metadata": {
    "colab": {
     "base_uri": "https://localhost:8080/",
     "height": 34
    },
    "colab_type": "code",
    "executionInfo": {
     "elapsed": 588,
     "status": "ok",
     "timestamp": 1546501295091,
     "user": {
      "displayName": "大西智也",
      "photoUrl": "https://lh4.googleusercontent.com/-BkjgVdxeuD4/AAAAAAAAAAI/AAAAAAAAAXI/D4SAqETNV1A/s64/photo.jpg",
      "userId": "12340443210781784784"
     },
     "user_tz": -540
    },
    "id": "0C4VTDiBbYks",
    "outputId": "1ab5ae7e-55d4-4a3f-f612-ae5ffeecf0b2"
   },
   "outputs": [],
   "source": [
    "# 削除\n",
    "char.remove(\"F\")\n",
    "print(char)"
   ]
  },
  {
   "cell_type": "code",
   "execution_count": null,
   "metadata": {
    "colab": {
     "base_uri": "https://localhost:8080/",
     "height": 34
    },
    "colab_type": "code",
    "executionInfo": {
     "elapsed": 417,
     "status": "ok",
     "timestamp": 1546501295974,
     "user": {
      "displayName": "大西智也",
      "photoUrl": "https://lh4.googleusercontent.com/-BkjgVdxeuD4/AAAAAAAAAAI/AAAAAAAAAXI/D4SAqETNV1A/s64/photo.jpg",
      "userId": "12340443210781784784"
     },
     "user_tz": -540
    },
    "id": "RjgGrK4gbYOB",
    "outputId": "93f2c983-8d55-4808-8e2a-5a065826816f"
   },
   "outputs": [],
   "source": [
    "char.insert(0,\"E\")\n",
    "print(char)"
   ]
  },
  {
   "cell_type": "code",
   "execution_count": null,
   "metadata": {
    "colab": {
     "base_uri": "https://localhost:8080/",
     "height": 34
    },
    "colab_type": "code",
    "executionInfo": {
     "elapsed": 550,
     "status": "ok",
     "timestamp": 1546501297408,
     "user": {
      "displayName": "大西智也",
      "photoUrl": "https://lh4.googleusercontent.com/-BkjgVdxeuD4/AAAAAAAAAAI/AAAAAAAAAXI/D4SAqETNV1A/s64/photo.jpg",
      "userId": "12340443210781784784"
     },
     "user_tz": -540
    },
    "id": "q9GWuebDcYcX",
    "outputId": "503c888c-8fb0-44a1-f5b6-f376bc4921e6"
   },
   "outputs": [],
   "source": [
    "# 昇順\n",
    "char.sort()\n",
    "print(char)"
   ]
  },
  {
   "cell_type": "code",
   "execution_count": null,
   "metadata": {
    "colab": {
     "base_uri": "https://localhost:8080/",
     "height": 34
    },
    "colab_type": "code",
    "executionInfo": {
     "elapsed": 522,
     "status": "ok",
     "timestamp": 1546501298703,
     "user": {
      "displayName": "大西智也",
      "photoUrl": "https://lh4.googleusercontent.com/-BkjgVdxeuD4/AAAAAAAAAAI/AAAAAAAAAXI/D4SAqETNV1A/s64/photo.jpg",
      "userId": "12340443210781784784"
     },
     "user_tz": -540
    },
    "id": "Qra_ok4PcYPQ",
    "outputId": "e2233ca1-3b1d-44e4-d4b7-5de2bbfae907"
   },
   "outputs": [],
   "source": [
    "# 降順\n",
    "char.sort(reverse=True)\n",
    "print(char)"
   ]
  },
  {
   "cell_type": "code",
   "execution_count": null,
   "metadata": {
    "colab": {
     "base_uri": "https://localhost:8080/",
     "height": 51
    },
    "colab_type": "code",
    "executionInfo": {
     "elapsed": 885,
     "status": "ok",
     "timestamp": 1546501330724,
     "user": {
      "displayName": "大西智也",
      "photoUrl": "https://lh4.googleusercontent.com/-BkjgVdxeuD4/AAAAAAAAAAI/AAAAAAAAAXI/D4SAqETNV1A/s64/photo.jpg",
      "userId": "12340443210781784784"
     },
     "user_tz": -540
    },
    "id": "pxyibobso-gm",
    "outputId": "e7098f2c-633e-4b90-a855-22b41c3e13ae"
   },
   "outputs": [],
   "source": [
    "# 値の変更\n",
    "print(char)\n",
    "char[0]='a'\n",
    "print(char)"
   ]
  },
  {
   "cell_type": "markdown",
   "metadata": {
    "colab_type": "text",
    "id": "MmoSaKOQIFut"
   },
   "source": [
    "## タプル\n",
    "> リストのように要素を追加したり，削除する必要がない，あるいは操作されたくない場合は，タプルにしましょう。\n",
    "> タプルにする場合は，tuple( )関数を使う，もしくは，( )で囲む。\n",
    "\n",
    "> <font color=\"Red\"> カッコの意味をしっかり理解しよう！！ </font>\n",
    "> <font color=\"red\">**タプルもリストと同様にindexやcountを使用することができる。**</font>"
   ]
  },
  {
   "cell_type": "code",
   "execution_count": null,
   "metadata": {
    "colab": {
     "base_uri": "https://localhost:8080/",
     "height": 51
    },
    "colab_type": "code",
    "id": "626IPdtEFwHA",
    "outputId": "e8f46503-3a34-4ded-d511-675714894e42"
   },
   "outputs": [],
   "source": [
    "A = [\"a\",\"b\",\"c\"]\n",
    "print(A)\n",
    "A = tuple(A)  # リストAをタプル型に変えてそれをAに代入する\n",
    "print(A)"
   ]
  },
  {
   "cell_type": "code",
   "execution_count": null,
   "metadata": {
    "colab": {
     "base_uri": "https://localhost:8080/",
     "height": 34
    },
    "colab_type": "code",
    "id": "ha9jYCK8F-N1",
    "outputId": "f3b3e359-db49-44ba-db26-ccd5c7512c54"
   },
   "outputs": [],
   "source": [
    "B = (\"m\",\"n\",\"d\")\n",
    "print(B)"
   ]
  },
  {
   "cell_type": "code",
   "execution_count": null,
   "metadata": {
    "colab": {
     "base_uri": "https://localhost:8080/",
     "height": 34
    },
    "colab_type": "code",
    "id": "7a1Ln3ODGRuD",
    "outputId": "8af0f9fd-3f2e-48ef-b757-6411a7216a6b"
   },
   "outputs": [],
   "source": [
    "B.index(\"m\")"
   ]
  },
  {
   "cell_type": "code",
   "execution_count": null,
   "metadata": {
    "colab": {
     "base_uri": "https://localhost:8080/",
     "height": 34
    },
    "colab_type": "code",
    "id": "Uip9_ZeCGRfx",
    "outputId": "8c343e60-fbc4-45bc-c801-bba51c82b2cd"
   },
   "outputs": [],
   "source": [
    "A.count(\"a\")"
   ]
  },
  {
   "cell_type": "markdown",
   "metadata": {
    "colab_type": "text",
    "id": "Wsduk91eW3cs"
   },
   "source": [
    "### リストにまつわる操作\n",
    "> Pythonでは，リストの中身を調べたり，拡張したりと先に紹介した他にもっと多くの便利な機能がある。とくに知っておいた方がいいものをここでは紹介する。"
   ]
  },
  {
   "cell_type": "code",
   "execution_count": null,
   "metadata": {
    "colab": {
     "base_uri": "https://localhost:8080/",
     "height": 34
    },
    "colab_type": "code",
    "id": "VQwIXm-jZib3",
    "outputId": "b37c9b9b-0592-4cf5-9d01-2b2a19899cef"
   },
   "outputs": [],
   "source": [
    "#リスト＋リスト　は連結。（tuple同士でも可能）\n",
    "a = [1,2,3,4,5]\n",
    "b = [6,7,8,9,10]\n",
    "print(tuple(a)+tuple(b))"
   ]
  },
  {
   "cell_type": "code",
   "execution_count": null,
   "metadata": {
    "colab": {
     "base_uri": "https://localhost:8080/",
     "height": 34
    },
    "colab_type": "code",
    "id": "kwsHROOFZkQO",
    "outputId": "249b9329-4488-4875-e3fb-e9bb2dddb60e"
   },
   "outputs": [],
   "source": [
    "#リスト*整数　は繰り返し。（tupleでも可能）\n",
    "a = [1,2,3,4,5]\n",
    "b = [6,7,8,9,10]\n",
    "print(tuple(a)+tuple(b))"
   ]
  },
  {
   "cell_type": "code",
   "execution_count": null,
   "metadata": {
    "colab": {
     "base_uri": "https://localhost:8080/",
     "height": 34
    },
    "colab_type": "code",
    "id": "ANZbPEerZkKx",
    "outputId": "582f681a-7c08-4c51-8688-364f0e5ae110"
   },
   "outputs": [],
   "source": [
    "# 要素がすべて文字列ならば，結合できる\n",
    "a = [\"1\",\"2\",\"3\",\"4\",\"5\"]\n",
    "print(\"\".join(a))"
   ]
  },
  {
   "cell_type": "markdown",
   "metadata": {
    "colab_type": "text",
    "id": "RBuUkfOtILjc"
   },
   "source": [
    "## 辞書"
   ]
  },
  {
   "cell_type": "markdown",
   "metadata": {
    "colab_type": "text",
    "id": "FPhJsqM_IOdr"
   },
   "source": [
    "> 辞書の基本形は{key:value,\"a\":\"b\",\"d\":\"d\"}となっている。「:」で区切られた前側がkey，後ろ側がvalueとなる。\n",
    "\n",
    "> その組み合わせを，「,（カンマ）」で区切ることで，検索機能のあるような辞書が出来上がる。\n",
    "\n",
    "> Pythonでは，自然言語を処理するのにも対応しており，その処理の時に用いる場合が多い。あるいは，アンケートのデータ処理のときに用いると便利なときがある。理学療法の分野で数値計算処理がほとんどであり，あまり使用しないが，知っておくと便利かもしれない。"
   ]
  },
  {
   "cell_type": "markdown",
   "metadata": {
    "colab_type": "text",
    "id": "zA_6X1p0IOUT"
   },
   "source": [
    "### 辞書の使用例"
   ]
  },
  {
   "cell_type": "code",
   "execution_count": null,
   "metadata": {
    "colab": {},
    "colab_type": "code",
    "id": "Q_6PTPypKI0o"
   },
   "outputs": [],
   "source": [
    "dict = {\"うえ\":\"up\",\"した\":\"down\",\"むこう\":\"over\"}"
   ]
  },
  {
   "cell_type": "code",
   "execution_count": null,
   "metadata": {
    "colab": {
     "base_uri": "https://localhost:8080/",
     "height": 34
    },
    "colab_type": "code",
    "id": "zxZFqfPnKQ7N",
    "outputId": "00b75c6b-08bd-49be-d4f5-3f3a7796fa50"
   },
   "outputs": [],
   "source": [
    "# dictionary[key]\n",
    "print(dict[\"うえ\"])"
   ]
  },
  {
   "cell_type": "code",
   "execution_count": null,
   "metadata": {
    "colab": {
     "base_uri": "https://localhost:8080/",
     "height": 34
    },
    "colab_type": "code",
    "id": "hlBBk0fAL9G0",
    "outputId": "a91f24d5-7a66-42df-e7a5-41e902f8f27b"
   },
   "outputs": [],
   "source": [
    "#　keyだけの表示\n",
    "print(dict.keys())"
   ]
  },
  {
   "cell_type": "code",
   "execution_count": null,
   "metadata": {
    "colab": {
     "base_uri": "https://localhost:8080/",
     "height": 34
    },
    "colab_type": "code",
    "id": "h_nFFPhGL8-u",
    "outputId": "cd3aefce-1124-4758-8385-d5ce12e1e418"
   },
   "outputs": [],
   "source": [
    "# valueだけの表示\n",
    "print(dict.values())"
   ]
  },
  {
   "cell_type": "code",
   "execution_count": null,
   "metadata": {
    "colab": {
     "base_uri": "https://localhost:8080/",
     "height": 34
    },
    "colab_type": "code",
    "id": "A1vqZsXIL80h",
    "outputId": "e444ef13-557a-4607-ef85-34373ba8dc82"
   },
   "outputs": [],
   "source": [
    "# keyの変更\n",
    "dict[0]=dict.pop(\"うえ\")\n",
    "dict"
   ]
  },
  {
   "cell_type": "code",
   "execution_count": null,
   "metadata": {
    "colab": {
     "base_uri": "https://localhost:8080/",
     "height": 34
    },
    "colab_type": "code",
    "id": "8pLOl1TZM2KO",
    "outputId": "4d744f5e-3ced-4e6d-c691-308baf0e16cc"
   },
   "outputs": [],
   "source": [
    "# valueの変更\n",
    "dict[0]= \"around\"\n",
    "dict"
   ]
  },
  {
   "cell_type": "code",
   "execution_count": null,
   "metadata": {
    "colab": {
     "base_uri": "https://localhost:8080/",
     "height": 34
    },
    "colab_type": "code",
    "id": "53YeVEaXKQy1",
    "outputId": "75d516c1-c710-44e0-fa22-aaa8b6cf5d41"
   },
   "outputs": [],
   "source": [
    "# 追加\n",
    "dict[3] = \"in\"\n",
    "dict"
   ]
  },
  {
   "cell_type": "code",
   "execution_count": null,
   "metadata": {
    "colab": {},
    "colab_type": "code",
    "id": "RhuQNU8RK-F9"
   },
   "outputs": [],
   "source": [
    "# まとめて追加 リストではappendを使うが辞書形式の場合はupdate!\n",
    "dict.update({1:\"off\",2:\"on\",4:\"out\"})"
   ]
  },
  {
   "cell_type": "code",
   "execution_count": null,
   "metadata": {
    "colab": {
     "base_uri": "https://localhost:8080/",
     "height": 136
    },
    "colab_type": "code",
    "id": "pNle2_SmKQo9",
    "outputId": "9b5c0ba7-a306-4d14-c815-66d31ac6d584"
   },
   "outputs": [],
   "source": [
    "dict"
   ]
  },
  {
   "cell_type": "markdown",
   "metadata": {
    "colab_type": "text",
    "id": "b-cosLf0IOGc"
   },
   "source": [
    "## 集合"
   ]
  },
  {
   "cell_type": "markdown",
   "metadata": {
    "colab_type": "text",
    "id": "7WbfTO8jOdp4"
   },
   "source": [
    "> リストやタプルと同様に複数のデータをひとつにまとめるデータ型であるが，<font color=\"red\">**「重複した要素を持たない」**</font>という違いがある。<br>\n",
    "> 辞書と同じように，{}を使うが，辞書と異なるのは，「:value」がないことである。<br>\n",
    "> 集合の作成は，{集合1, 集合2, 集合3,...}となる。もしくは，set(リスト)，set(タプル), set(文字列)と，set()関数を使う。<br>"
   ]
  },
  {
   "cell_type": "code",
   "execution_count": null,
   "metadata": {
    "colab": {
     "base_uri": "https://localhost:8080/",
     "height": 34
    },
    "colab_type": "code",
    "id": "L60jcBD-PhK1",
    "outputId": "030e6a52-93bc-48c5-b3a5-782a81fa078e"
   },
   "outputs": [],
   "source": [
    "{1,2,3,3,3,1,2}"
   ]
  },
  {
   "cell_type": "code",
   "execution_count": null,
   "metadata": {
    "colab": {
     "base_uri": "https://localhost:8080/",
     "height": 34
    },
    "colab_type": "code",
    "id": "C9G47n8dPg_M",
    "outputId": "70b7efd5-31af-4c11-b770-76f6fab8b16c"
   },
   "outputs": [],
   "source": [
    "f = [1,\"Python\",2,3,4,\"python\",5,\"Python\",\"python\",1,2,3,4,5]\n",
    "print(set(f))"
   ]
  },
  {
   "cell_type": "code",
   "execution_count": null,
   "metadata": {
    "colab": {
     "base_uri": "https://localhost:8080/",
     "height": 34
    },
    "colab_type": "code",
    "id": "cbmUEKKzQQgq",
    "outputId": "85fbc939-93fb-4d7a-b923-69b401eb08c8"
   },
   "outputs": [],
   "source": [
    "s = \"pptyhooon\"\n",
    "print(set(s))"
   ]
  },
  {
   "cell_type": "code",
   "execution_count": null,
   "metadata": {
    "colab": {
     "base_uri": "https://localhost:8080/",
     "height": 51
    },
    "colab_type": "code",
    "id": "SqnHKrBkQcr_",
    "outputId": "f5b80a6b-1021-4a6c-f166-a8050f66538c"
   },
   "outputs": [],
   "source": [
    "f = tuple(f)\n",
    "print(f)\n",
    "print(set(f))"
   ]
  },
  {
   "cell_type": "markdown",
   "metadata": {
    "colab_type": "text",
    "id": "mll0eRDKaOch"
   },
   "source": [
    "\n",
    "\n",
    "---\n",
    "\n",
    "\n",
    "\n",
    "---\n",
    "\n"
   ]
  },
  {
   "cell_type": "markdown",
   "metadata": {
    "colab_type": "text",
    "id": "6N_BZyPNAxwy"
   },
   "source": [
    "## 課題\n",
    "### インデックスの理解"
   ]
  },
  {
   "cell_type": "markdown",
   "metadata": {
    "colab_type": "text",
    "id": "ZB96znMsA3xL"
   },
   "source": [
    "### Q1. <font color=\"DarkMagenta\">dataの最初の1つを表示する</font>"
   ]
  },
  {
   "cell_type": "code",
   "execution_count": null,
   "metadata": {
    "colab": {},
    "colab_type": "code",
    "id": "pfz3ObQnBQOD"
   },
   "outputs": [],
   "source": []
  },
  {
   "cell_type": "markdown",
   "metadata": {
    "colab_type": "text",
    "id": "v4S6sE9FBQo5"
   },
   "source": [
    "### Q2. <font color=\"DarkMagenta\">numbersの『 -5 』を表示する</font>"
   ]
  },
  {
   "cell_type": "code",
   "execution_count": null,
   "metadata": {
    "colab": {},
    "colab_type": "code",
    "id": "CA2PKB9wBiKi"
   },
   "outputs": [],
   "source": []
  },
  {
   "cell_type": "markdown",
   "metadata": {
    "colab_type": "text",
    "id": "3tuWwM2eCtTY"
   },
   "source": [
    "### Q3. <font color=\"DarkMagenta\">greetsの2-3を表示する</font>"
   ]
  },
  {
   "cell_type": "code",
   "execution_count": null,
   "metadata": {
    "colab": {},
    "colab_type": "code",
    "id": "3t9xnccrC7kU"
   },
   "outputs": [],
   "source": []
  },
  {
   "cell_type": "markdown",
   "metadata": {
    "colab_type": "text",
    "id": "zS2xwUArYzKo"
   },
   "source": [
    "### リストの操作\n",
    " > 1. 「自分の名前,学籍番号,(自分が生まれた)西暦,(自分が生まれた)年,(自分が生まれた)月,(自分が生まれた)日,出身地,血液型,星座,好きな色」のリストを作成する（偽造可能）。\n",
    " > 2.  1.で作成したリストにオブジェクト名（myd）を与える。\n",
    " > 3.  mydの要素の3番目のデータの型は何か？\n",
    " > 4.  mydの要素の先頭のデータの型は何か？\n",
    " > 5.  あなたは今年何歳になりますか？今年は2019年である。\n",
    " > 6.  一番の要素として「好きな食べ物」を追加してください。\n",
    " \n",
    " > 【加点問題】\n",
    " > 7. 一番最初に大学名を挿入してください。\n",
    " > 8. 西暦を5年分加算して若返りましょう。\n",
    " > 9. リストの最後は何ですか？「マイナス記号」を使って表示する。\n",
    " > 10. 生まれた月のインデックス（位置）を調べてください。"
   ]
  },
  {
   "cell_type": "code",
   "execution_count": null,
   "metadata": {
    "colab": {},
    "colab_type": "code",
    "id": "t6H9Ms1zW7Cx"
   },
   "outputs": [],
   "source": [
    "#1"
   ]
  },
  {
   "cell_type": "code",
   "execution_count": null,
   "metadata": {
    "colab": {},
    "colab_type": "code",
    "id": "ETSXwxncW66-"
   },
   "outputs": [],
   "source": [
    "#2"
   ]
  },
  {
   "cell_type": "code",
   "execution_count": null,
   "metadata": {
    "colab": {},
    "colab_type": "code",
    "id": "SQSDQQu1W6u9"
   },
   "outputs": [],
   "source": [
    "#3"
   ]
  },
  {
   "cell_type": "code",
   "execution_count": null,
   "metadata": {
    "colab": {},
    "colab_type": "code",
    "id": "wy6ucJacW6md"
   },
   "outputs": [],
   "source": [
    "#4"
   ]
  },
  {
   "cell_type": "code",
   "execution_count": null,
   "metadata": {
    "colab": {},
    "colab_type": "code",
    "id": "2-258BOmW6e6"
   },
   "outputs": [],
   "source": [
    "#5"
   ]
  },
  {
   "cell_type": "code",
   "execution_count": null,
   "metadata": {
    "colab": {},
    "colab_type": "code",
    "id": "JH77odK_W6Wb"
   },
   "outputs": [],
   "source": [
    "#6"
   ]
  },
  {
   "cell_type": "code",
   "execution_count": null,
   "metadata": {
    "colab": {},
    "colab_type": "code",
    "id": "6fqqkUJpW6Nv"
   },
   "outputs": [],
   "source": [
    "#7"
   ]
  },
  {
   "cell_type": "code",
   "execution_count": null,
   "metadata": {
    "colab": {},
    "colab_type": "code",
    "id": "NY622ncoW6Fi"
   },
   "outputs": [],
   "source": [
    "#8"
   ]
  },
  {
   "cell_type": "code",
   "execution_count": null,
   "metadata": {
    "colab": {},
    "colab_type": "code",
    "id": "9kMZS84_W59d"
   },
   "outputs": [],
   "source": [
    "#9"
   ]
  },
  {
   "cell_type": "code",
   "execution_count": null,
   "metadata": {
    "colab": {},
    "colab_type": "code",
    "id": "GLkThRamW5uw"
   },
   "outputs": [],
   "source": [
    "#10"
   ]
  },
  {
   "cell_type": "markdown",
   "metadata": {
    "colab_type": "text",
    "id": "IFel1RPm_a5I"
   },
   "source": [
    "\n",
    "\n",
    "---\n",
    "\n"
   ]
  },
  {
   "cell_type": "markdown",
   "metadata": {
    "colab_type": "text",
    "id": "0Q0UtuIU8nKk"
   },
   "source": [
    "# 制御文\n",
    "> いずれのプログラムでも，最重要なことを勉強する。if文，for文，def文である。\n",
    "\n",
    "> この３つの文法をしっかり理解し，自分で構築することがこの科目が目指す一つである。\n"
   ]
  },
  {
   "cell_type": "markdown",
   "metadata": {
    "colab_type": "text",
    "id": "tqRfiA1f_fPd"
   },
   "source": [
    "## for文\n",
    "\n",
    "> ### 基本形\n",
    "```\n",
    ">>>>for i in range(10):\n",
    ">>>>␣␣␣␣pass\n",
    "```\n",
    "\n",
    "\n",
    ">例\n",
    "```\n",
    ">>>>for i in range(10):\n",
    ">>>>␣␣␣␣print(i)\n",
    "```\n",
    "> <font color=\"Red\">range</font>(10)で10回回すという意味でもあり，list(range(10))とすると，\n",
    "```\n",
    "[0,1,2,3,4,5,6,7,8,9]\n",
    "```\n",
    "\n",
    "> というリスト型を返す。\n",
    "\n",
    "> <font color=\"Red\">怠惰な</font>オブジェクトである。"
   ]
  },
  {
   "cell_type": "code",
   "execution_count": null,
   "metadata": {
    "colab": {
     "base_uri": "https://localhost:8080/",
     "height": 102
    },
    "colab_type": "code",
    "id": "ch-qxocb-VRx",
    "outputId": "6d4aed1e-c9b4-45cb-9be2-c7780df9bbff"
   },
   "outputs": [],
   "source": [
    "for i in range(0,10,2):\n",
    "    print(i)"
   ]
  },
  {
   "cell_type": "markdown",
   "metadata": {
    "colab_type": "text",
    "id": "V9lPSwIACEUT"
   },
   "source": [
    "### 早速上の基本形を動かしてみよう（[フローチャート](https://drive.google.com/open?id=1qbePEuooZ94d_Gb_avWrMHDeHRdnVDXUSK5jKC8nGJ4)）。"
   ]
  },
  {
   "cell_type": "code",
   "execution_count": null,
   "metadata": {
    "colab": {},
    "colab_type": "code",
    "id": "mcQ_e9vwCJgV"
   },
   "outputs": [],
   "source": [
    "for i in range(10):\n",
    "    print(i)"
   ]
  },
  {
   "cell_type": "markdown",
   "metadata": {
    "colab_type": "text",
    "id": "3Kdb3MXacq9O"
   },
   "source": [
    "> Pythonのfor文は，リストなどのデータの塊から順番に一つずつ取り出す。データの塊には、様々なオブジェクトを置くことが可能。"
   ]
  },
  {
   "cell_type": "markdown",
   "metadata": {
    "colab_type": "text",
    "id": "c4xOux8dgPjB"
   },
   "source": [
    "> （例）「自分の名前,学籍番号,(自分が生まれた)西暦,(自分が生まれた)年,(自分が生まれた)月,(自分が生まれた)日,出身地,血液型,星座,好きな色」のリストを作成する。\n",
    "\n",
    "> for文を使って順番に表示する。"
   ]
  },
  {
   "cell_type": "code",
   "execution_count": null,
   "metadata": {
    "colab": {},
    "colab_type": "code",
    "id": "p8iKW2k8b89S"
   },
   "outputs": [],
   "source": [
    "for i in []:\n",
    "  print(i)"
   ]
  },
  {
   "cell_type": "markdown",
   "metadata": {
    "colab_type": "text",
    "id": "06SJO1dpgRZ3"
   },
   "source": [
    "> \"宝塚医療大学保健医療学部理学療法学科\"を一文字ずつ順番に表示する。"
   ]
  },
  {
   "cell_type": "code",
   "execution_count": null,
   "metadata": {
    "colab": {},
    "colab_type": "code",
    "id": "0ehOIgb-gnWR"
   },
   "outputs": [],
   "source": [
    "stringT = \"宝塚医療大学保健医療学部理学療法学科\"\n",
    "for i in stringT:\n",
    "  print(i)"
   ]
  },
  {
   "cell_type": "markdown",
   "metadata": {
    "colab_type": "text",
    "id": "ctjnifkOsUGv"
   },
   "source": [
    "### stringTの文字列を一文字ずつリストに入れる([フローチャート](https://drive.google.com/open?id=11z9PORcoxGj0gyF8ydIZ-3dXCJSqgcsxfhoWV1zFu2Y))。\n"
   ]
  },
  {
   "cell_type": "code",
   "execution_count": null,
   "metadata": {
    "colab": {},
    "colab_type": "code",
    "id": "HX_azcUzseZF"
   },
   "outputs": [],
   "source": [
    "w=[]\n",
    "for i in stringT:\n",
    "  w.XXXXXX(i)\n",
    "\n",
    "print(w)"
   ]
  },
  {
   "cell_type": "markdown",
   "metadata": {
    "colab_type": "text",
    "id": "VJZL4FefgKOq"
   },
   "source": [
    "### <font color=\"red\">リスト内表記 </font> (Python独自の書き方)\n",
    "> Python独自の書き方がある。<br>\n",
    "> 前の例題をリスト内表記で書くと・・・"
   ]
  },
  {
   "cell_type": "code",
   "execution_count": null,
   "metadata": {
    "colab": {},
    "colab_type": "code",
    "id": "u3R17Z69tAom"
   },
   "outputs": [],
   "source": [
    "w = [i for i in stringT]\n",
    "print(w)"
   ]
  },
  {
   "cell_type": "code",
   "execution_count": null,
   "metadata": {
    "colab": {},
    "colab_type": "code",
    "id": "LOzpo9RytF-A"
   },
   "outputs": [],
   "source": [
    "w"
   ]
  },
  {
   "cell_type": "code",
   "execution_count": null,
   "metadata": {
    "colab": {
     "base_uri": "https://localhost:8080/",
     "height": 34
    },
    "colab_type": "code",
    "id": "EF-Am8Ll9fuA",
    "outputId": "ccf04984-c1e2-46d9-b2bc-5694e81bcf7e"
   },
   "outputs": [],
   "source": [
    "sum = 0\n",
    "for i in range(10):\n",
    "    sum = sum+i*10\n",
    "\n",
    "print(sum)"
   ]
  },
  {
   "cell_type": "code",
   "execution_count": null,
   "metadata": {
    "colab": {
     "base_uri": "https://localhost:8080/",
     "height": 34
    },
    "colab_type": "code",
    "id": "R7Dzjzbg-GaO",
    "outputId": "54cb0d6a-e829-44b2-d3e5-049b621ebd4d"
   },
   "outputs": [],
   "source": [
    "sum = 0\n",
    "for i in range(0,10,2):\n",
    "    sum= sum +i\n",
    "\n",
    "print(sum)\n",
    "  "
   ]
  },
  {
   "cell_type": "markdown",
   "metadata": {},
   "source": [
    "## while文"
   ]
  },
  {
   "cell_type": "markdown",
   "metadata": {},
   "source": [
    "### 基本形"
   ]
  },
  {
   "cell_type": "code",
   "execution_count": null,
   "metadata": {
    "colab": {
     "base_uri": "https://localhost:8080/",
     "height": 170
    },
    "colab_type": "code",
    "id": "9b6tGbSk-GDN",
    "outputId": "31e45b3a-7f42-498a-a943-5e023dc80c93"
   },
   "outputs": [],
   "source": [
    "i = 100\n",
    "while i >=60:\n",
    "    i=i-5\n",
    "    print(i)"
   ]
  },
  {
   "cell_type": "code",
   "execution_count": null,
   "metadata": {
    "colab": {
     "base_uri": "https://localhost:8080/",
     "height": 170
    },
    "colab_type": "code",
    "id": "eOsseo4r_FM1",
    "outputId": "43a20018-03d8-4cb4-f023-a0822ba2640e"
   },
   "outputs": [],
   "source": [
    "i = 100\n",
    "while i >=60:\n",
    "    print(i)\n",
    "    i = i-5"
   ]
  },
  {
   "cell_type": "code",
   "execution_count": null,
   "metadata": {},
   "outputs": [],
   "source": [
    "a=0\n",
    "while a<10:\n",
    "    a=a+1\n",
    "    print(a)"
   ]
  },
  {
   "cell_type": "markdown",
   "metadata": {},
   "source": [
    "### 無限ループ"
   ]
  },
  {
   "cell_type": "code",
   "execution_count": null,
   "metadata": {
    "colab": {
     "base_uri": "https://localhost:8080/",
     "height": 136
    },
    "colab_type": "code",
    "id": "lL1SmvI4_Y8b",
    "outputId": "8c12f328-5774-4d4b-889a-a2f9b9ed5f1a"
   },
   "outputs": [],
   "source": [
    "val = 10\n",
    "while 1:\n",
    "    val  = val+5\n",
    "    if val>=50:\n",
    "        break\n",
    "    elif val<50 and val>30:\n",
    "        print(\"just a little\")\n",
    "    else:\n",
    "        print(\"Try harder\")"
   ]
  },
  {
   "cell_type": "code",
   "execution_count": null,
   "metadata": {},
   "outputs": [],
   "source": []
  },
  {
   "cell_type": "markdown",
   "metadata": {
    "colab": {},
    "colab_type": "code",
    "id": "u6KfBVJyAwdK"
   },
   "source": [
    "## if 文"
   ]
  },
  {
   "cell_type": "markdown",
   "metadata": {},
   "source": [
    "### if ~ else 文"
   ]
  },
  {
   "cell_type": "code",
   "execution_count": null,
   "metadata": {},
   "outputs": [],
   "source": [
    "a = 10\n",
    "b = 60 "
   ]
  },
  {
   "cell_type": "code",
   "execution_count": null,
   "metadata": {},
   "outputs": [],
   "source": [
    "if b>30:\n",
    "    print(f\"あなたは{b}を選びましたのであたりです\")\n",
    "else:\n",
    "    print(\"残念でした\")"
   ]
  },
  {
   "cell_type": "markdown",
   "metadata": {},
   "source": [
    "### 例題"
   ]
  },
  {
   "cell_type": "markdown",
   "metadata": {
    "colab_type": "text",
    "id": "_4idRr4CE3_J"
   },
   "source": [
    "#### 予測肺活量\n",
    ">男性の場合:\n",
    ">> $PL = (27.63-0.112\\times age)\\times height$\n",
    "\n",
    "> 女性の場合:\n",
    ">> $PL = (21.78-0.101\\times age)\\times height$\n",
    "\n",
    "#### %肺活量\n",
    ">> $Cap = M \\div PL \\times 100$ (M：実測肺活量)\n",
    "\n",
    "#### FEV1%(P)\n",
    ">> $P＝F1 \\div FVC\\times 100 $ (F1:1秒率，FVC:努力性肺活量)"
   ]
  },
  {
   "cell_type": "code",
   "execution_count": null,
   "metadata": {
    "colab": {},
    "colab_type": "code",
    "id": "U1SThHC3OVfT"
   },
   "outputs": [],
   "source": [
    "# 値の選択\n",
    "age = 40\n",
    "sex = \"M\" # \"F\"\n",
    "height = 175\n",
    "VC = 4000\n",
    "FVC=3800\n",
    "F1 =3700\n",
    "O2 = 60\n",
    "CO2 = 45"
   ]
  },
  {
   "cell_type": "code",
   "execution_count": null,
   "metadata": {
    "colab": {},
    "colab_type": "code",
    "id": "-WTNX2zwOVUD"
   },
   "outputs": [],
   "source": []
  },
  {
   "cell_type": "code",
   "execution_count": null,
   "metadata": {
    "colab": {},
    "colab_type": "code",
    "id": "YEZMx_M8yTUl",
    "outputId": "5702870b-a322-494e-c2a6-f28e7fe5c430"
   },
   "outputs": [],
   "source": [
    "P =80; Cap=45\n",
    "ss = f\"(FEV1%:{P}%, %肺活量:{Cap}%)\"\n",
    "if P>=70 and Cap>= 80:\n",
    "    print(f\"正常 {ss}\")\n",
    "elif P >=70:\n",
    "    print(f\"拘束 {ss}\")\n",
    "elif Cap>=80:\n",
    "    print(f\"閉塞 {ss}\")\n",
    "else:\n",
    "    print(f\"混合 {ss}\")"
   ]
  },
  {
   "cell_type": "code",
   "execution_count": null,
   "metadata": {
    "colab": {
     "base_uri": "https://localhost:8080/",
     "height": 34
    },
    "colab_type": "code",
    "id": "A_oauVJqGnWy",
    "outputId": "c33e936d-fd93-40e2-bd63-e0e4f5c7ddfd"
   },
   "outputs": [],
   "source": [
    "if a>=60:\n",
    "    print(\"正常\")\n",
    "else:\n",
    "    if b<=45:\n",
    "        print(\"Ⅰ型呼吸不全\")\n",
    "    elif b>45:\n",
    "        print(\"Ⅱ型呼吸不全\")\n",
    "   "
   ]
  },
  {
   "cell_type": "code",
   "execution_count": null,
   "metadata": {},
   "outputs": [],
   "source": [
    "dic = {1:\"正常\"}\n",
    "dic[1]"
   ]
  },
  {
   "cell_type": "markdown",
   "metadata": {},
   "source": [
    "# def文\n",
    "　定型的な同じパターンを処理するのなら，そのコードをまとめると，プログラムがスマートになり，可読しやすいプログラムになる。一連の処理を行うコードを一つのプロックとしてこれに名前をつけて管理できるようにするのが関数である。<br>"
   ]
  },
  {
   "cell_type": "markdown",
   "metadata": {},
   "source": [
    "## 基本形"
   ]
  },
  {
   "cell_type": "markdown",
   "metadata": {},
   "source": [
    "### 処理だけを行う関数\n",
    "　関数を作成するには，**def**キーワードに続けて関数名を書き，そのあとに( )をつけてつけて最後に「:」をつける。改行してインデントを入れてから処理コードを書き始める。\n",
    " ```\n",
    " def 関数名( ):\n",
    "     処理\n",
    "     …\n",
    "     …\n",
    "     …\n",
    " ```"
   ]
  },
  {
   "cell_type": "code",
   "execution_count": null,
   "metadata": {},
   "outputs": [],
   "source": [
    "def Zoo():\n",
    "    print(\"関数\")"
   ]
  },
  {
   "cell_type": "code",
   "execution_count": null,
   "metadata": {},
   "outputs": [],
   "source": [
    "Zoo()"
   ]
  },
  {
   "cell_type": "markdown",
   "metadata": {},
   "source": [
    "### 引数のある関数\n",
    "このパターンを頻繁に使用する。カッコの中に書いて関数に渡す値を引数（ひきすう）という。その引数は関数内でパラメータとして受け取られて処理される。\n",
    "```\n",
    "def 関数名（パラメータ）:\n",
    "    処理\n",
    "    .....\n",
    "    .....\n",
    "    .....\n",
    "    処理\n",
    "```\n"
   ]
  },
  {
   "cell_type": "code",
   "execution_count": null,
   "metadata": {},
   "outputs": [],
   "source": [
    "def Zooh(hikisu):\n",
    "    print(f\"文字：{hikisu}\")"
   ]
  },
  {
   "cell_type": "code",
   "execution_count": null,
   "metadata": {},
   "outputs": [],
   "source": [
    "Zooh(\"あいうえお\")"
   ]
  },
  {
   "cell_type": "markdown",
   "metadata": {},
   "source": [
    "### 処理結果を返す関数\n",
    "呼び出すと何かの値を返してくれる関数がある。処理結果を戻り値として返すようになっている。戻り値は**return**と半角スペースに続くあとのものである。\n",
    "```\n",
    "def 関数名(パラメータ):\n",
    "    処理\n",
    "    ...\n",
    "    ...\n",
    "    return 戻り値\n",
    "```"
   ]
  },
  {
   "cell_type": "code",
   "execution_count": null,
   "metadata": {},
   "outputs": [],
   "source": [
    "# y = ax+bの計算\n",
    "def func(x,a,b):\n",
    "    y = x*a + b\n",
    "    return y"
   ]
  },
  {
   "cell_type": "code",
   "execution_count": null,
   "metadata": {},
   "outputs": [],
   "source": [
    "func(10,1,0)"
   ]
  },
  {
   "cell_type": "markdown",
   "metadata": {},
   "source": [
    "# 臨床への応用\n",
    "　これまで説明した内容はプログラムを組むのに最低限必要な知識やテクニックである。とくにdef文，if~else文，for文は他の言語にも共通する知識であり，プログラムの基本の根幹にあたる。ぜひ繰り返し勉強してもらいたい。<br>\n",
    "　次に，プログラムの基本的な作用を臨床にどう活かしていくのか？これからが本番である。<br>\n",
    "　我々も応用の仕方について不明な点が多いので一緒に考えていきたい。<br>\n",
    "  一例を以下に示す。これは呼吸疾患，血圧の分類をあるデータから自動的に判断するプログラムである。"
   ]
  },
  {
   "cell_type": "code",
   "execution_count": null,
   "metadata": {},
   "outputs": [],
   "source": [
    "def SP0(age,height,VC,FVC,F1,sex=\"M\"):\n",
    "    '''\n",
    "    年齢，身長，実測肺活量，FVCとF1，性別を入れて，%肺活量と，%Ⅰ秒率を求める。\n",
    "    '''\n",
    "    PL = sex==\"M\" and (27.63-0.112*age)*height or (21.78-0.101*age)*height\n",
    "    Cap = VC/PL*100\n",
    "    P = F1/FVC*100\n",
    "    return P,Cap\n",
    "\n",
    "\n",
    "def SP(P,Cap, CO2=40,O2=60):\n",
    "    '''\n",
    "    呼吸機能の判定を行う。\n",
    "    Pには%1秒率，Capには%肺活量を入れる。\n",
    "    CO2,O2はガスの分圧，これで呼吸不全の度合いを判定する\n",
    "    '''\n",
    "    KK = {0:\"正常\",1:\"拘束\",2:\"閉塞\",3:\"混合\"}\n",
    "    KKo = {0:\"なし\",1:\"Ⅰ型\",2:\"Ⅱ型\"}\n",
    "    a = sum([P<70 and 2,Cap<80 and 1])\n",
    "    q = (O2<60)*(CO2<=45 or 2)\n",
    "    return f\"{KK[a]}性肺疾患,FEV1%:{P:.1f}%, %肺活量:{Cap:.1f}%\\n呼吸不全は{KKo[q]}\"\n",
    " \n",
    "# example #\n",
    "C0,C2 = SP0(age=40,height=170,VC=3500,FVC=3500,F1=3000,sex=\"F\")\n",
    "print(SP(C0,C2))\n",
    "\n",
    "Age = int(input(\"Enter the age:\"))\n",
    "Height = int(input(\"Enter the height\"))\n",
    "VC = int(input(\"enter the volume capacity\"))\n",
    "FVC = int(input(\"Enter the forced vital capacity:\"))\n",
    "F1 = int(input(\"Enter the 1%FVC:\"))\n",
    "sex = input(\"The sex(Male;M, Female:F):\")\n",
    "\n",
    "C0,C2 = SP0(Age,Height,VC,FVC,F1,sex)\n",
    "print(SP(C0,C2))\n",
    "    "
   ]
  },
  {
   "cell_type": "code",
   "execution_count": null,
   "metadata": {},
   "outputs": [],
   "source": [
    "import time\n",
    "start = time.time()\n",
    "\n",
    "sbp =135\n",
    "dbp=100\n",
    "\n",
    "### example1\n",
    "if sbp<100:\n",
    "    print(\"低血圧\")\n",
    "if sbp<120 and dbp<80:\n",
    "    print(\"至適血圧\")\n",
    "elif sbp<130 and dbp<85:\n",
    "    print(\"正常血圧\")\n",
    "elif sbp>=140 and dbp<90:\n",
    "    print(\"収縮期高血圧\")\n",
    "    \n",
    "elif sbp<140 or dbp<90:\n",
    "    print(\"正常高血圧\")\n",
    "elif sbp<160 or dbp<100:\n",
    "    print(\"Ⅰ度高血圧\")\n",
    "elif sbp<180 or dbp<110:\n",
    "    print(\"Ⅱ度高血圧\")\n",
    "else:\n",
    "    print(\"Ⅲ度高血圧\")\n",
    "       \n",
    "\n",
    "elapsed_time = time.time() - start\n",
    "print (\"elapsed_time:{0}\".format(elapsed_time) + \"[sec]\")"
   ]
  },
  {
   "cell_type": "code",
   "execution_count": null,
   "metadata": {},
   "outputs": [],
   "source": [
    "\n",
    "def BP(sbp,dbp):\n",
    "    '''\n",
    "    最高血圧と最低血圧から血圧値を分類する。\n",
    "    sbp:最高血圧，dbp:最低血圧\n",
    "    '''\n",
    "    ssn = {5:\"Ⅲ度高血圧\",4:\"Ⅱ度高血圧\",3:\"Ⅰ度高血圧\",2:\"正常高血圧\",1:\"正常血圧\",0:\"至適血圧\",7:\"収縮期高血圧\",-1:\"低血圧\"}\n",
    "\n",
    "    if not sbp<100:\n",
    "    \n",
    "        ss = sum([sbp>=180,sbp>=160,sbp>=140,sbp>=130,sbp>=120])\n",
    "        dd = sum([dbp>=110,dbp>=100,dbp>=90,dbp>=85,dbp>=80])\n",
    "    \n",
    "        if ss==dd and ss<=1:\n",
    "            result = ssn[ss]\n",
    "\n",
    "        elif ss>=3 and dd<3:\n",
    "            result = ssn[7]\n",
    "        else:\n",
    "            num = [ss,dd] \n",
    "            num.sort()  ## ソートして大きい方を選択する\n",
    "            result = ssn[num[1]]\n",
    "\n",
    "    else:\n",
    "        result = ssn[-1]\n",
    "    \n",
    "    \n",
    "    \n",
    "    return f\"あなたは{result}です\"\n",
    "\n",
    "\n",
    "## example ##\n",
    "while(True):\n",
    "    \n",
    "    Sbp = int(input(\"上の血圧：\"))\n",
    "    Dbp = int(input(\"下の血圧：\"))\n",
    "    if sbp < dbp:\n",
    "        print(\"入力間違いしていませんか？\\n入力し直してください\")\n",
    "    \n",
    "    else:\n",
    "        print(BP(Sbp,Dbp))\n",
    "        break"
   ]
  },
  {
   "cell_type": "code",
   "execution_count": null,
   "metadata": {},
   "outputs": [],
   "source": []
  },
  {
   "cell_type": "code",
   "execution_count": null,
   "metadata": {},
   "outputs": [],
   "source": [
    "### example2\n",
    "### OKOK ####\n",
    "while(True):\n",
    "    LL = {0:\"至適血圧\",1:\"正常血圧\",2:\"正常高血圧\",3:\"Ⅰ度高血圧\",4:\"Ⅱ度高血圧\",5:\"Ⅲ度高血圧\"}\n",
    "    sbp = int(input(\"上の血圧：\"))\n",
    "    dbp = int(input(\"下の血圧：\"))\n",
    "    if sbp < dbp:\n",
    "        print(\"入力間違いしていませんか？\\n入力し直してください\")\n",
    "        \n",
    "    else:\n",
    "        ss = (sbp<100)*sum([sbp>=100,sbp>=120,sbp>=130,sbp>=140,sbp>=160,sbp>=180])\n",
    "        dd = sum([dbp>=80,dbp>=85,dbp>=90,dbp>=100,dbp>=110])\n",
    "        print(ss,dd)\n",
    "        #print(f\"あなたは，{LL[((ss>dd or dd) and ss)]} です\")\n",
    "        break\n",
    "###########"
   ]
  },
  {
   "cell_type": "code",
   "execution_count": null,
   "metadata": {},
   "outputs": [],
   "source": [
    "### example3\n",
    "while(True):\n",
    "    LL = {0:\"至適血圧\",1:\"正常血圧\",2:\"正常高血圧\",3:\"Ⅰ度高血圧\",4:\"Ⅱ度高血圧\",5:\"Ⅲ度高血圧\",6:\"低血圧\"}\n",
    "    sbp = input(\"上の血圧：\")\n",
    "    dbp = input(\"下の血圧：\")\n",
    "    if (len(sbp)==0 or len(dbp)==0) or int(sbp) < int(dbp):\n",
    "        print(\"入力間違いしていませんか？\\n入力し直してください\")\n",
    "    \n",
    "    else:\n",
    "        sbp = int(sbp)\n",
    "        dbp = int(dbp)\n",
    "        start = time.time()\n",
    "        ss = sum([sbp>=140,sbp>=160,sbp>=180,sbp>=130,sbp>=120,sbp>=100])\n",
    "        dd = sum([dbp>=80,dbp>=85,dbp>=90,dbp>=100,dbp>=110])\n",
    "        print(ss,dd)\n",
    "        #print(f\"あなたは，{LL[((ss>dd or dd) and ss)]} です\")\n",
    "        elapsed_time = time.time() - start\n",
    "        #print (\"elapsed_time:{0}\".format(elapsed_time) + \"[sec]\")\n",
    "        \n",
    "        break\n",
    "############"
   ]
  }
 ],
 "metadata": {
  "colab": {
   "name": "JOHO.ipynb",
   "provenance": [],
   "version": "0.3.2"
  },
  "hide_input": false,
  "kernelspec": {
   "display_name": "Python 3",
   "language": "python",
   "name": "python3"
  },
  "language_info": {
   "codemirror_mode": {
    "name": "ipython",
    "version": 3
   },
   "file_extension": ".py",
   "mimetype": "text/x-python",
   "name": "python",
   "nbconvert_exporter": "python",
   "pygments_lexer": "ipython3",
   "version": "3.6.8"
  },
  "toc": {
   "base_numbering": 1,
   "nav_menu": {},
   "number_sections": true,
   "sideBar": true,
   "skip_h1_title": false,
   "title_cell": "Table of Contents",
   "title_sidebar": "Contents",
   "toc_cell": false,
   "toc_position": {},
   "toc_section_display": true,
   "toc_window_display": true
  }
 },
 "nbformat": 4,
 "nbformat_minor": 2
}
