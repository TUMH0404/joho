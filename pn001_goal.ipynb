{
 "cells": [
  {
   "cell_type": "markdown",
   "metadata": {},
   "source": [
    "# 今日(4/18)のまとめ"
   ]
  },
  {
   "cell_type": "markdown",
   "metadata": {},
   "source": [
    "**次のことができない人，あるいはわからない人は来週まで復習すること！！**<br>\n",
    "コンピュータ室を使いたい人は申し出てください。<br>\n",
    "あるいは，自分のパソコンがある人は自分のパソコンでも可能です。"
   ]
  },
  {
   "cell_type": "markdown",
   "metadata": {},
   "source": [
    "Pythonについて\n",
    "- **Python**をJupyter Notebookで動かした。\n",
    "- Jupyter Notebookを起動できるようになった。\n",
    "- 入力$[$In$]$と出力$[$Out$]$の関係を確認してその意味を知ることができた。 \n",
    "- 適当な数値や文字を入れて，<font color=\"red\">実行(shift+Enter)</font>できるようになった。\n",
    "- 文字を表現するときは，シングルクォテーション(')もしくはダブルクォテーション(\")で囲むことを知った。\n",
    "- コード (皆さんがキーボードで入力した内容)は半角英数字であること！**(ただし漢字，カナ，かなは全角でも可，それ以外は半角英数字)**\n",
    "- print関数の作用を知った。\n"
   ]
  },
  {
   "cell_type": "markdown",
   "metadata": {},
   "source": [
    "Classroomについて\n",
    "- Classroomからファイルをダウンロードできるようになった。\n",
    "- 課題に対するファイルの提出方法を確認し，できるようになった。\n",
    "- Classroomを1日一回は開くことができた?!"
   ]
  },
  {
   "cell_type": "markdown",
   "metadata": {},
   "source": [
    "その他\n",
    "- 不明な点は何でもいいので教員に聞いて解決する！\n",
    "- コンピュータに強い学生もいると聞いています。できる人は遠慮せず，どんどん進んでください。そして，私を困らせてください。よろしく！\n",
    "- **これに終わりはありません。**各々，自分で決めたところがゴールになります（何でもそうですけど・・・）。"
   ]
  }
 ],
 "metadata": {
  "kernelspec": {
   "display_name": "Python 3",
   "language": "python",
   "name": "python3"
  },
  "language_info": {
   "codemirror_mode": {
    "name": "ipython",
    "version": 3
   },
   "file_extension": ".py",
   "mimetype": "text/x-python",
   "name": "python",
   "nbconvert_exporter": "python",
   "pygments_lexer": "ipython3",
   "version": "3.6.8"
  },
  "toc": {
   "base_numbering": 1,
   "nav_menu": {},
   "number_sections": false,
   "sideBar": true,
   "skip_h1_title": false,
   "title_cell": "Table of Contents",
   "title_sidebar": "Contents",
   "toc_cell": false,
   "toc_position": {},
   "toc_section_display": true,
   "toc_window_display": true
  }
 },
 "nbformat": 4,
 "nbformat_minor": 2
}
