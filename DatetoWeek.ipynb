{
 "cells": [
  {
   "cell_type": "markdown",
   "metadata": {},
   "source": [
    "# 課題_その1"
   ]
  },
  {
   "cell_type": "markdown",
   "metadata": {},
   "source": [
    "## 文字列・数列の入力と簡単な計算"
   ]
  },
  {
   "cell_type": "markdown",
   "metadata": {},
   "source": [
    "学籍番号"
   ]
  },
  {
   "cell_type": "markdown",
   "metadata": {},
   "source": [
    "氏名"
   ]
  },
  {
   "cell_type": "markdown",
   "metadata": {},
   "source": [
    "あなたは何歳ですか？"
   ]
  },
  {
   "cell_type": "code",
   "execution_count": 2,
   "metadata": {},
   "outputs": [
    {
     "data": {
      "text/plain": [
       "42"
      ]
     },
     "execution_count": 2,
     "metadata": {},
     "output_type": "execute_result"
    }
   ],
   "source": [
    "11"
   ]
  },
  {
   "cell_type": "markdown",
   "metadata": {},
   "source": [
    "あなたの親は何歳ですか？"
   ]
  },
  {
   "cell_type": "code",
   "execution_count": null,
   "metadata": {},
   "outputs": [],
   "source": [
    "42"
   ]
  },
  {
   "cell_type": "markdown",
   "metadata": {},
   "source": [
    "あなたは何年生まれですか？（元号）"
   ]
  },
  {
   "cell_type": "code",
   "execution_count": 4,
   "metadata": {},
   "outputs": [
    {
     "data": {
      "text/plain": [
       "'平成20年'"
      ]
     },
     "execution_count": 4,
     "metadata": {},
     "output_type": "execute_result"
    }
   ],
   "source": [
    "\"平成20年\""
   ]
  },
  {
   "cell_type": "markdown",
   "metadata": {},
   "source": [
    "あなたの親は何年生まれですか？（元号）"
   ]
  },
  {
   "cell_type": "code",
   "execution_count": 5,
   "metadata": {},
   "outputs": [
    {
     "data": {
      "text/plain": [
       "'昭和52年'"
      ]
     },
     "execution_count": 5,
     "metadata": {},
     "output_type": "execute_result"
    }
   ],
   "source": [
    "\"昭和52年\""
   ]
  },
  {
   "cell_type": "markdown",
   "metadata": {},
   "source": [
    "年齢の差は何歳ですか？"
   ]
  },
  {
   "cell_type": "code",
   "execution_count": 6,
   "metadata": {
    "scrolled": true
   },
   "outputs": [
    {
     "data": {
      "text/plain": [
       "31"
      ]
     },
     "execution_count": 6,
     "metadata": {},
     "output_type": "execute_result"
    }
   ],
   "source": [
    "64-52-1+20"
   ]
  },
  {
   "cell_type": "markdown",
   "metadata": {},
   "source": [
    "## 日時の計算"
   ]
  },
  {
   "cell_type": "markdown",
   "metadata": {},
   "source": [
    "1時間は何分か？"
   ]
  },
  {
   "cell_type": "code",
   "execution_count": null,
   "metadata": {},
   "outputs": [],
   "source": []
  },
  {
   "cell_type": "markdown",
   "metadata": {},
   "source": [
    "1秒は何ミリ秒か？"
   ]
  },
  {
   "cell_type": "code",
   "execution_count": null,
   "metadata": {},
   "outputs": [],
   "source": []
  },
  {
   "cell_type": "markdown",
   "metadata": {},
   "source": [
    "1分45秒は何ミリ秒か？"
   ]
  },
  {
   "cell_type": "markdown",
   "metadata": {},
   "source": [
    "## うるう年の計算"
   ]
  },
  {
   "cell_type": "markdown",
   "metadata": {},
   "source": [
    "うるう年は1868年を最初とすると、2020年は何回目のうるう年になる？？"
   ]
  },
  {
   "cell_type": "code",
   "execution_count": 109,
   "metadata": {},
   "outputs": [
    {
     "data": {
      "text/plain": [
       "38"
      ]
     },
     "execution_count": 109,
     "metadata": {},
     "output_type": "execute_result"
    }
   ],
   "source": [
    "(2020-1868)//4"
   ]
  },
  {
   "cell_type": "markdown",
   "metadata": {},
   "source": [
    "## 日付の計算"
   ]
  },
  {
   "cell_type": "markdown",
   "metadata": {},
   "source": [
    "うるう年以外は次のようになります。<br>\n",
    "1月------31日間<br>\n",
    "2月------28日間<br>\n",
    "3月------31日間<br>\n",
    "4月------30日間<br>\n",
    "5月------31日間<br>\n",
    "6月------30日間<br>\n",
    "7月------31日間<br>\n",
    "8月------31日間<br>\n",
    "9月------30日間<br>\n",
    "10月------31日間<br>\n",
    "11月------30日間<br>\n",
    "12月------31日間<br>"
   ]
  },
  {
   "cell_type": "markdown",
   "metadata": {},
   "source": [
    "ある年の4月1日は金曜日でした。"
   ]
  },
  {
   "cell_type": "code",
   "execution_count": 40,
   "metadata": {},
   "outputs": [],
   "source": [
    "# 走らせましょう。\n",
    "m1 = 31\n",
    "m2 = 28\n",
    "m3 = 31\n",
    "m4 = 30\n",
    "m5 = 31\n",
    "m6 = 30\n",
    "m7 = 31\n",
    "m8 = 31\n",
    "m9 = 30\n",
    "m10 = 31\n",
    "m11 = 30\n",
    "m12 = 31"
   ]
  },
  {
   "cell_type": "markdown",
   "metadata": {},
   "source": [
    "4月の最後は何曜日？"
   ]
  },
  {
   "cell_type": "code",
   "execution_count": 73,
   "metadata": {
    "hide_input": false
   },
   "outputs": [],
   "source": [
    "#このセルに式を入力する"
   ]
  },
  {
   "cell_type": "markdown",
   "metadata": {},
   "source": [
    "答え：（ココをクリックして答えを入れる。）"
   ]
  },
  {
   "cell_type": "markdown",
   "metadata": {},
   "source": [
    "その年の8月の最初の月曜日は何日ですか？"
   ]
  },
  {
   "cell_type": "code",
   "execution_count": 74,
   "metadata": {
    "hide_input": false,
    "scrolled": true
   },
   "outputs": [],
   "source": [
    "#このセルに式を入力する"
   ]
  },
  {
   "cell_type": "markdown",
   "metadata": {},
   "source": [
    "答え：（ココをクリックして答えを入れる。）"
   ]
  },
  {
   "cell_type": "markdown",
   "metadata": {},
   "source": [
    "その年の6月1日は何曜日？"
   ]
  },
  {
   "cell_type": "code",
   "execution_count": 74,
   "metadata": {
    "hide_input": false,
    "scrolled": true
   },
   "outputs": [],
   "source": [
    "#このセルに式を入力する"
   ]
  },
  {
   "cell_type": "markdown",
   "metadata": {},
   "source": [
    "答え：（ココをクリックして答えを入れる。）"
   ]
  },
  {
   "cell_type": "markdown",
   "metadata": {},
   "source": [
    "その年の9月1日は何曜日？"
   ]
  },
  {
   "cell_type": "code",
   "execution_count": 74,
   "metadata": {
    "hide_input": false,
    "scrolled": true
   },
   "outputs": [],
   "source": [
    "#このセルに式を入力する"
   ]
  },
  {
   "cell_type": "markdown",
   "metadata": {},
   "source": [
    "答え：（ココをクリックして答えを入れる。）"
   ]
  },
  {
   "cell_type": "markdown",
   "metadata": {},
   "source": [
    "その年の11月11日は何曜日？"
   ]
  },
  {
   "cell_type": "code",
   "execution_count": 74,
   "metadata": {
    "hide_input": false,
    "scrolled": true
   },
   "outputs": [],
   "source": [
    "#このセルに式を入力する"
   ]
  },
  {
   "cell_type": "markdown",
   "metadata": {},
   "source": [
    "答え：（ココをクリックして答えを入れる。）"
   ]
  },
  {
   "cell_type": "markdown",
   "metadata": {},
   "source": [
    "その年のあなたの誕生日は何曜日？"
   ]
  },
  {
   "cell_type": "code",
   "execution_count": null,
   "metadata": {},
   "outputs": [],
   "source": [
    "#ここに式をいれる"
   ]
  },
  {
   "cell_type": "markdown",
   "metadata": {},
   "source": [
    "答え：（ココをクリックして答えを入れる。）"
   ]
  },
  {
   "cell_type": "markdown",
   "metadata": {},
   "source": [
    "**応用**"
   ]
  },
  {
   "cell_type": "markdown",
   "metadata": {},
   "source": [
    "4年経過後、最初の7月1日は何曜日ですか？"
   ]
  },
  {
   "cell_type": "code",
   "execution_count": 64,
   "metadata": {},
   "outputs": [
    {
     "name": "stdout",
     "output_type": "stream",
     "text": [
      "5\n"
     ]
    }
   ],
   "source": [
    "mm = m1+m2+m3+m4+m5+m6+m7+m8+m9+m10+m11+m12\n",
    "mm1 = m4+m5+m6\n",
    "print(((mm*4+1)+mm1)%7)"
   ]
  },
  {
   "cell_type": "code",
   "execution_count": 50,
   "metadata": {},
   "outputs": [
    {
     "data": {
      "text/plain": [
       "6"
      ]
     },
     "execution_count": 50,
     "metadata": {},
     "output_type": "execute_result"
    }
   ],
   "source": []
  },
  {
   "cell_type": "markdown",
   "metadata": {},
   "source": [
    "# 課題_その2"
   ]
  },
  {
   "cell_type": "markdown",
   "metadata": {},
   "source": [
    "課題1でやった問題の延長である。リストの操作を勉強しよう。"
   ]
  },
  {
   "cell_type": "code",
   "execution_count": 53,
   "metadata": {},
   "outputs": [],
   "source": [
    "week = [\"mon\",\"tue\",\"wen\",\"thr\",\"fri\",\"sat\",\"sun\"]"
   ]
  },
  {
   "cell_type": "markdown",
   "metadata": {},
   "source": [
    "weekの要素を繰り返す。それにオブジェクト名「week2」と与える。\n",
    "```\n",
    "[\"mon\",\"tue\",\"wen\",...,\"mon\",\"tue\",...,\"sat\",\"sun\"]\n",
    "```\n",
    "となるように。"
   ]
  },
  {
   "cell_type": "code",
   "execution_count": 123,
   "metadata": {},
   "outputs": [],
   "source": [
    "#ここに入力"
   ]
  },
  {
   "cell_type": "code",
   "execution_count": 75,
   "metadata": {
    "hide_input": true
   },
   "outputs": [],
   "source": [
    "##\n",
    "week2 = week*2 "
   ]
  },
  {
   "cell_type": "markdown",
   "metadata": {},
   "source": [
    "week2を木曜日（\"thr\"）から始まるリストを7つ分つくる。\n",
    "```\n",
    "[\"thr\",\"fri\",\"sat\",\"sun\",\"mon\",\"tue\",\"wen\"]\n",
    "```"
   ]
  },
  {
   "cell_type": "code",
   "execution_count": null,
   "metadata": {
    "hide_input": false
   },
   "outputs": [],
   "source": [
    "#ここに入力"
   ]
  },
  {
   "cell_type": "code",
   "execution_count": 125,
   "metadata": {
    "hide_input": true
   },
   "outputs": [],
   "source": [
    "week3 = [week2[i] for i in range(0,0+7,1)]"
   ]
  },
  {
   "cell_type": "markdown",
   "metadata": {
    "hide_input": true
   },
   "source": [
    "2030年10月10日は何曜日？？\n",
    "> 1.うるう年の数は？<br>\n",
    "> 2.年の数は？<br>\n",
    "> 3.該当年の日数<br>"
   ]
  },
  {
   "cell_type": "code",
   "execution_count": 130,
   "metadata": {
    "hide_input": true
   },
   "outputs": [],
   "source": [
    "#うるう年1868年#\n",
    "p = 2030-1868\n",
    "q = 2019-1868\n",
    "uru = p//4-q//4"
   ]
  },
  {
   "cell_type": "code",
   "execution_count": 131,
   "metadata": {
    "hide_input": true
   },
   "outputs": [],
   "source": [
    "toshi = (2030-2019)"
   ]
  },
  {
   "cell_type": "code",
   "execution_count": 139,
   "metadata": {
    "hide_input": true
   },
   "outputs": [],
   "source": [
    "#年間の日数\n",
    "mm = m4+m5+m6+m7+m8+m9+m10+m11+m12+m1+m2+m3\n",
    "# 該当年の日数\n",
    "mm1 = m4+m5+m6+m7+m8+m9"
   ]
  },
  {
   "cell_type": "code",
   "execution_count": 136,
   "metadata": {
    "hide_input": true
   },
   "outputs": [],
   "source": [
    "d = mm*toshi+uru+mm1+(10-1)"
   ]
  },
  {
   "cell_type": "code",
   "execution_count": 137,
   "metadata": {
    "hide_input": true,
    "scrolled": true
   },
   "outputs": [
    {
     "data": {
      "text/plain": [
       "'thr'"
      ]
     },
     "execution_count": 137,
     "metadata": {},
     "output_type": "execute_result"
    }
   ],
   "source": [
    "d//7\n",
    "week3[d%7]"
   ]
  },
  {
   "cell_type": "markdown",
   "metadata": {},
   "source": [
    "# 課題_その3"
   ]
  },
  {
   "cell_type": "markdown",
   "metadata": {},
   "source": [
    "def文を用いてまとめてみよう。<br>\n",
    "**パラメータは今日の日付（年・月・日・曜日）と該当する日の曜日**"
   ]
  },
  {
   "cell_type": "code",
   "execution_count": null,
   "metadata": {},
   "outputs": [],
   "source": [
    "# 関数をここにつくる"
   ]
  },
  {
   "cell_type": "code",
   "execution_count": null,
   "metadata": {},
   "outputs": [],
   "source": [
    "# テストしてみる"
   ]
  },
  {
   "cell_type": "markdown",
   "metadata": {},
   "source": [
    "# 課題_その4"
   ]
  },
  {
   "cell_type": "markdown",
   "metadata": {},
   "source": [
    "筋の起始，停止，作用，支配神経，髄節レベルについて，まとめる。<br>\n",
    "筋名を入れると，他の情報が表示されるようにしてみよう。<br>\n",
    "ここでは，辞書形式の使用例を理解する。"
   ]
  },
  {
   "cell_type": "code",
   "execution_count": 62,
   "metadata": {},
   "outputs": [],
   "source": [
    "# 肩関節周囲のデータ\n",
    "shoulder = [['棘上筋', '棘上窩', '大結節', '肩甲上神経', '肩関節の外転'],\n",
    " ['棘下筋', '棘下窩', '大結節', '肩甲上神経', '肩関節の外旋'],\n",
    " ['小円筋', '肩甲骨外側縁', '大結節', '腋窩神経', '肩関節の外旋'],\n",
    " ['三角筋',\n",
    "  '肩甲骨の肩峰・肩甲棘・鎖骨の外側1/3',\n",
    "  '三角筋粗面',\n",
    "  '腋窩神経',\n",
    "  '肩関節の外転（側方挙上）、屈曲（前方挙上）、伸展（後方挙上）'],\n",
    " ['肩甲下筋', '肩甲下窩', '小結節', '肩甲下神経', '肩関節の内旋'],\n",
    " ['大円筋', '肩甲骨下角', '小結節稜', '肩甲下神経', '肩関節の内旋・内転']]"
   ]
  },
  {
   "cell_type": "markdown",
   "metadata": {},
   "source": [
    "Musclesというオブジェクトに\n",
    "```\n",
    "{ID:{\"筋名\":...,\"起始\":....,\"停止\":....,\"神経\":....,\"作用\":....}}\n",
    "```\n",
    "のような形式を書き込んでいく。"
   ]
  },
  {
   "cell_type": "code",
   "execution_count": null,
   "metadata": {},
   "outputs": [],
   "source": [
    "## Musclesという辞書形式のオブジェクトを作成\n",
    "Muscles = {}"
   ]
  },
  {
   "cell_type": "code",
   "execution_count": 63,
   "metadata": {},
   "outputs": [],
   "source": [
    "## 仮にmuscle ={\"筋名\":None,\"起始\":None,\"停止\":None,\"神経\":None,\"作用\":None}という空の辞書をつくる。\n"
   ]
  },
  {
   "cell_type": "code",
   "execution_count": null,
   "metadata": {},
   "outputs": [],
   "source": [
    "Muscles = {}\n",
    "\n",
    "for k,i in enumerate(SG):\n",
    "    u = {\"筋名\":None,\"起始\":None,\"停止\":None,\"神経\":None,\"作用\":None}\n",
    "    u[\"筋名\"]=i[0]\n",
    "    u[\"起始\"]=i[1]\n",
    "    u[\"停止\"]=i[2]\n",
    "    u[\"神経\"]=i[3]\n",
    "    u[\"作用\"]=i[4]\n",
    "    kkk.update({k:u})\n",
    "\n",
    "\n",
    "#list(set(kkk.keys()))[4]"
   ]
  },
  {
   "cell_type": "code",
   "execution_count": 7,
   "metadata": {},
   "outputs": [],
   "source": [
    "Muscle={}\n",
    "Origin = {1:\"上腕骨\",2:\"脛骨\"}\n",
    "Nurve = {\"\"}"
   ]
  },
  {
   "cell_type": "code",
   "execution_count": 2,
   "metadata": {},
   "outputs": [],
   "source": [
    "M={\"僧帽筋\":None,\"肩甲挙筋\":None}"
   ]
  },
  {
   "cell_type": "code",
   "execution_count": 12,
   "metadata": {},
   "outputs": [],
   "source": [
    "Muscle.update(M)"
   ]
  },
  {
   "cell_type": "code",
   "execution_count": 6,
   "metadata": {},
   "outputs": [
    {
     "data": {
      "text/plain": [
       "{'僧帽筋': None, '肩甲挙筋': None}"
      ]
     },
     "execution_count": 6,
     "metadata": {},
     "output_type": "execute_result"
    }
   ],
   "source": [
    "Muscle"
   ]
  },
  {
   "cell_type": "code",
   "execution_count": 8,
   "metadata": {},
   "outputs": [
    {
     "data": {
      "text/plain": [
       "{'大胸筋': ['鎖骨(内側1/2)・胸骨・肋軟骨・腹直筋鞘', '上腕骨大結節稜', '内側胸筋神経・外側胸筋神経', '肩関節の屈曲・内転・内旋'],\n",
       " '小胸筋': ['第2〜5肋骨', '肩甲骨烏口突起', '内側胸筋神経・外側胸筋神経', '呼吸補助筋'],\n",
       " '鎖骨下筋': ['第1肋骨', '鎖骨下面', '鎖骨下筋神経', '鎖骨を下内方に引き、胸鎖関節を保護する'],\n",
       " '前鋸筋': ['第1〜8肋骨', '肩甲骨内側縁', '長胸神経', '肩甲骨を前に引く。下角を前に引いて肩甲骨を回す']}"
      ]
     },
     "execution_count": 8,
     "metadata": {},
     "output_type": "execute_result"
    }
   ],
   "source": [
    "a= \"筋名\t起始\t停止\t支配神経\t作用\"\n"
   ]
  },
  {
   "cell_type": "code",
   "execution_count": 9,
   "metadata": {},
   "outputs": [
    {
     "data": {
      "text/plain": [
       "'筋名\\t起始\\t停止\\t支配神経\\t作用'"
      ]
     },
     "execution_count": 9,
     "metadata": {},
     "output_type": "execute_result"
    }
   ],
   "source": [
    "a"
   ]
  },
  {
   "cell_type": "code",
   "execution_count": 10,
   "metadata": {},
   "outputs": [],
   "source": [
    "Muscle.update({\"大胸筋\":[\"鎖骨(内側1/2)・胸骨・肋軟骨・腹直筋鞘\",\"上腕骨大結節稜\",\"内側胸筋神経・外側胸筋神経\",\"肩関節の屈曲・内転・内旋\"],\n",
    "\"小胸筋\":[\"第2〜5肋骨\",\"肩甲骨烏口突起\",\"内側胸筋神経・外側胸筋神経\",\"呼吸補助筋\"],\n",
    "\"鎖骨下筋\":[\"第1肋骨\",\"鎖骨下面\",\"鎖骨下筋神経\",\"鎖骨を下内方に引き、胸鎖関節を保護する\"],\n",
    "\"前鋸筋\" :[\"第1〜8肋骨\",\"肩甲骨内側縁\",\"長胸神経\",\"肩甲骨を前に引く。下角を前に引いて肩甲骨を回す\"]})"
   ]
  },
  {
   "cell_type": "code",
   "execution_count": 11,
   "metadata": {},
   "outputs": [
    {
     "data": {
      "text/plain": [
       "{'大胸筋': ['鎖骨(内側1/2)・胸骨・肋軟骨・腹直筋鞘', '上腕骨大結節稜', '内側胸筋神経・外側胸筋神経', '肩関節の屈曲・内転・内旋'],\n",
       " '小胸筋': ['第2〜5肋骨', '肩甲骨烏口突起', '内側胸筋神経・外側胸筋神経', '呼吸補助筋'],\n",
       " '鎖骨下筋': ['第1肋骨', '鎖骨下面', '鎖骨下筋神経', '鎖骨を下内方に引き、胸鎖関節を保護する'],\n",
       " '前鋸筋': ['第1〜8肋骨', '肩甲骨内側縁', '長胸神経', '肩甲骨を前に引く。下角を前に引いて肩甲骨を回す']}"
      ]
     },
     "execution_count": 11,
     "metadata": {},
     "output_type": "execute_result"
    }
   ],
   "source": [
    "Muscle"
   ]
  },
  {
   "cell_type": "code",
   "execution_count": 13,
   "metadata": {},
   "outputs": [
    {
     "data": {
      "text/plain": [
       "{'大胸筋': ['鎖骨(内側1/2)・胸骨・肋軟骨・腹直筋鞘', '上腕骨大結節稜', '内側胸筋神経・外側胸筋神経', '肩関節の屈曲・内転・内旋'],\n",
       " '小胸筋': ['第2〜5肋骨', '肩甲骨烏口突起', '内側胸筋神経・外側胸筋神経', '呼吸補助筋'],\n",
       " '鎖骨下筋': ['第1肋骨', '鎖骨下面', '鎖骨下筋神経', '鎖骨を下内方に引き、胸鎖関節を保護する'],\n",
       " '前鋸筋': ['第1〜8肋骨', '肩甲骨内側縁', '長胸神経', '肩甲骨を前に引く。下角を前に引いて肩甲骨を回す'],\n",
       " '僧帽筋': None,\n",
       " '肩甲挙筋': None}"
      ]
     },
     "execution_count": 13,
     "metadata": {},
     "output_type": "execute_result"
    }
   ],
   "source": [
    "Muscle"
   ]
  },
  {
   "cell_type": "code",
   "execution_count": 9,
   "metadata": {},
   "outputs": [],
   "source": [
    "import random"
   ]
  },
  {
   "cell_type": "code",
   "execution_count": 16,
   "metadata": {},
   "outputs": [
    {
     "data": {
      "text/plain": [
       "'作用'"
      ]
     },
     "execution_count": 16,
     "metadata": {},
     "output_type": "execute_result"
    }
   ],
   "source": [
    "l =[\"停止\",'起始','神経','作用']\n",
    "random.sample(l,4)[0]"
   ]
  },
  {
   "cell_type": "code",
   "execution_count": 2,
   "metadata": {},
   "outputs": [],
   "source": [
    "b = [\"棘上筋\t棘上窩\t大結節\t肩甲上神経\t肩関節の外転\",\n",
    "\"棘下筋\t棘下窩\t大結節\t肩甲上神経\t肩関節の外旋\",\n",
    "\"小円筋\t肩甲骨外側縁\t大結節\t腋窩神経\t肩関節の外旋\",\n",
    "\"三角筋\t肩甲骨の肩峰・肩甲棘・鎖骨の外側1/3\t三角筋粗面\t腋窩神経\t肩関節の外転（側方挙上）、屈曲（前方挙上）、伸展（後方挙上）\",\n",
    "\"肩甲下筋\t肩甲下窩\t小結節\t肩甲下神経\t肩関節の内旋\",\n",
    "\"大円筋\t肩甲骨下角\t小結節稜\t肩甲下神経\t肩関節の内旋・内転\"]"
   ]
  },
  {
   "cell_type": "code",
   "execution_count": 3,
   "metadata": {},
   "outputs": [],
   "source": [
    "bb = [i.split(\"\\t\") for i in b]"
   ]
  },
  {
   "cell_type": "code",
   "execution_count": 4,
   "metadata": {},
   "outputs": [],
   "source": [
    "SG = bb.copy()"
   ]
  },
  {
   "cell_type": "code",
   "execution_count": 5,
   "metadata": {},
   "outputs": [
    {
     "data": {
      "text/plain": [
       "[['棘上筋', '棘上窩', '大結節', '肩甲上神経', '肩関節の外転'],\n",
       " ['棘下筋', '棘下窩', '大結節', '肩甲上神経', '肩関節の外旋'],\n",
       " ['小円筋', '肩甲骨外側縁', '大結節', '腋窩神経', '肩関節の外旋'],\n",
       " ['三角筋',\n",
       "  '肩甲骨の肩峰・肩甲棘・鎖骨の外側1/3',\n",
       "  '三角筋粗面',\n",
       "  '腋窩神経',\n",
       "  '肩関節の外転（側方挙上）、屈曲（前方挙上）、伸展（後方挙上）'],\n",
       " ['肩甲下筋', '肩甲下窩', '小結節', '肩甲下神経', '肩関節の内旋'],\n",
       " ['大円筋', '肩甲骨下角', '小結節稜', '肩甲下神経', '肩関節の内旋・内転']]"
      ]
     },
     "execution_count": 5,
     "metadata": {},
     "output_type": "execute_result"
    }
   ],
   "source": [
    "SG"
   ]
  },
  {
   "cell_type": "code",
   "execution_count": 6,
   "metadata": {},
   "outputs": [],
   "source": [
    "kkk = {}\n",
    "#u = {\"筋名\":None,\"起始\":None,\"停止\":None,\"神経\":None,\"作用\":None}\n",
    "\n",
    "for k,i in enumerate(SG):\n",
    "    u = {\"筋名\":None,\"起始\":None,\"停止\":None,\"神経\":None,\"作用\":None}\n",
    "    u[\"筋名\"]=i[0]\n",
    "    u[\"起始\"]=i[1]\n",
    "    u[\"停止\"]=i[2]\n",
    "    u[\"神経\"]=i[3]\n",
    "    u[\"作用\"]=i[4]\n",
    "    kkk.update({k:u})\n",
    "\n",
    "\n",
    "#list(set(kkk.keys()))[4]"
   ]
  },
  {
   "cell_type": "code",
   "execution_count": 7,
   "metadata": {},
   "outputs": [
    {
     "data": {
      "text/plain": [
       "{0: {'作用': '肩関節の外転', '停止': '大結節', '神経': '肩甲上神経', '筋名': '棘上筋', '起始': '棘上窩'},\n",
       " 1: {'作用': '肩関節の外旋', '停止': '大結節', '神経': '肩甲上神経', '筋名': '棘下筋', '起始': '棘下窩'},\n",
       " 2: {'作用': '肩関節の外旋', '停止': '大結節', '神経': '腋窩神経', '筋名': '小円筋', '起始': '肩甲骨外側縁'},\n",
       " 3: {'作用': '肩関節の外転（側方挙上）、屈曲（前方挙上）、伸展（後方挙上）',\n",
       "  '停止': '三角筋粗面',\n",
       "  '神経': '腋窩神経',\n",
       "  '筋名': '三角筋',\n",
       "  '起始': '肩甲骨の肩峰・肩甲棘・鎖骨の外側1/3'},\n",
       " 4: {'作用': '肩関節の内旋', '停止': '小結節', '神経': '肩甲下神経', '筋名': '肩甲下筋', '起始': '肩甲下窩'},\n",
       " 5: {'作用': '肩関節の内旋・内転',\n",
       "  '停止': '小結節稜',\n",
       "  '神経': '肩甲下神経',\n",
       "  '筋名': '大円筋',\n",
       "  '起始': '肩甲骨下角'}}"
      ]
     },
     "execution_count": 7,
     "metadata": {},
     "output_type": "execute_result"
    }
   ],
   "source": [
    "kkk"
   ]
  },
  {
   "cell_type": "code",
   "execution_count": null,
   "metadata": {},
   "outputs": [],
   "source": [
    "l =[\"停止\",'起始','神経','作用']\n",
    "c = \"筋名\"\n",
    "ab=random.sample(l,4)[0]\n",
    "mm = random.choice(list(range(len(kkk))))\n",
    "for u,i in enumerate(list(kkk.keys())):\n",
    "    print(f\"{u+1}__{kkk[i][c]}\")\n",
    "tt = input(f'{ab}が{kkk[mm][ab]}の{c}:\\n')\n"
   ]
  },
  {
   "cell_type": "code",
   "execution_count": 59,
   "metadata": {},
   "outputs": [
    {
     "name": "stdout",
     "output_type": "stream",
     "text": [
      "↓↓↓↓↓↓\n",
      "0__棘上筋\n",
      "1__棘下筋\n",
      "2__小円筋\n",
      "3__三角筋\n",
      "4__肩甲下筋\n",
      "5__大円筋\n",
      "[5]\n",
      "大円筋\n",
      "作用が肩関節の内旋・内転の筋名:\n",
      "5\n",
      "↓↓↓↓↓\n",
      "\n",
      "success\n",
      "正解：大円筋_大円筋\n",
      "********\n",
      "\n",
      "↓↓↓↓↓↓\n",
      "0__棘上筋\n",
      "1__棘下筋\n",
      "2__小円筋\n",
      "3__三角筋\n",
      "4__肩甲下筋\n",
      "5__大円筋\n",
      "[4]\n",
      "肩甲下筋\n",
      "作用が肩関節の内旋の筋名:\n",
      "4\n",
      "↓↓↓↓↓\n",
      "\n",
      "success\n",
      "正解：肩甲下筋_肩甲下筋\n",
      "********\n",
      "\n",
      "↓↓↓↓↓↓\n",
      "0__棘上筋\n",
      "1__棘下筋\n",
      "2__小円筋\n",
      "3__三角筋\n",
      "4__肩甲下筋\n",
      "5__大円筋\n",
      "[3, 2]\n",
      "小円筋\n",
      "神経が腋窩神経の筋名:\n",
      "2\n",
      "↓↓↓↓↓\n",
      "\n",
      "success\n",
      "正解：小円筋_小円筋\n",
      "********\n",
      "\n",
      "↓↓↓↓↓↓\n",
      "0__棘上筋\n",
      "1__棘下筋\n",
      "2__小円筋\n",
      "3__三角筋\n",
      "4__肩甲下筋\n",
      "5__大円筋\n",
      "[2, 1]\n",
      "棘下筋\n",
      "作用が肩関節の外旋の筋名:\n",
      "2\n",
      "↓↓↓↓↓\n",
      "\n",
      "success\n",
      "正解：棘下筋_小円筋\n",
      "********\n",
      "\n",
      "↓↓↓↓↓↓\n",
      "0__棘上筋\n",
      "1__棘下筋\n",
      "2__小円筋\n",
      "3__三角筋\n",
      "4__肩甲下筋\n",
      "5__大円筋\n",
      "[3]\n",
      "三角筋\n",
      "作用が肩関節の外転（側方挙上）、屈曲（前方挙上）、伸展（後方挙上）の筋名:\n",
      "3\n",
      "↓↓↓↓↓\n",
      "\n",
      "success\n",
      "正解：三角筋_三角筋\n",
      "********\n",
      "\n",
      "↓↓↓↓↓↓\n",
      "0__棘上筋\n",
      "1__棘下筋\n",
      "2__小円筋\n",
      "3__三角筋\n",
      "4__肩甲下筋\n",
      "5__大円筋\n",
      "[1, 0, 2]\n",
      "棘上筋\n",
      "停止が大結節の筋名:\n",
      "1\n",
      "↓↓↓↓↓\n",
      "\n",
      "success\n",
      "正解：棘上筋_棘下筋\n",
      "********\n",
      "\n"
     ]
    }
   ],
   "source": [
    "l =[\"停止\",'起始','神経','作用']\n",
    "mm = random.sample(list(range(len(kkk))),len(kkk))\n",
    "\n",
    "c = \"筋名\"\n",
    "\n",
    "for n in mm:\n",
    "    aaaa = []\n",
    "    bbbb = []\n",
    "    ab=random.sample(l,4)[0]\n",
    "    mm2 = random.sample(list(kkk.keys()),len(list(kkk.keys())))\n",
    "    print(\"↓↓↓↓↓↓\")\n",
    "    for u,i in enumerate(mm2):\n",
    "        if kkk[n][ab]==kkk[i][ab]:\n",
    "            bbbb.append(i)\n",
    "        aaaa.append(f\"{i}__{kkk[i][c]}\")\n",
    "    aaaa.sort()\n",
    "    print(\"\\n\".join(aaaa))\n",
    "    print(bbbb)\n",
    "    print(kkk[n][c])\n",
    "    tt = input(f'{ab}が{kkk[n][ab]}の{c}:\\n')\n",
    "    print(\"↓↓↓↓↓\\n\")\n",
    "    \n",
    "    if int(tt) in bbbb:#kkk[n][c]==kkk[int(tt)][c]:\n",
    "        print(\"success\")\n",
    "        print(f\"正解：{kkk[n][c]}_{kkk[int(tt)][c]}\")\n",
    "        print(\"********\\n\")\n",
    "    else:\n",
    "        print(\"wrong\")\n",
    "        print(f\"正解：{kkk[n][c]}_{kkk[int(tt)][c]}\")\n",
    "        print(\"********\\n\")\n",
    "        "
   ]
  },
  {
   "cell_type": "code",
   "execution_count": 44,
   "metadata": {},
   "outputs": [
    {
     "data": {
      "text/plain": [
       "[4, 0, 1, 2, 5, 3]"
      ]
     },
     "execution_count": 44,
     "metadata": {},
     "output_type": "execute_result"
    }
   ],
   "source": [
    "mm"
   ]
  },
  {
   "cell_type": "code",
   "execution_count": 47,
   "metadata": {
    "scrolled": true
   },
   "outputs": [],
   "source": [
    "for i in bb:\n",
    "    m2k.update({i[0]:i[1]})\n",
    "    m2t.update({i[0]:i[2]})\n",
    "    m2s.update({i[0]:i[3]})\n",
    "    m2x.update({i[0]:i[4]})\n",
    "\n",
    "rm2k = {v:k for k,v in m2k.items()}\n",
    "rm2t = {v:k for k,v in m2t.items()}\n",
    "rm2s = {v:k for k,v in m2s.items()}\n",
    "rm2x = {v:k for k,v in m2x.items()}"
   ]
  },
  {
   "cell_type": "code",
   "execution_count": 44,
   "metadata": {
    "scrolled": true
   },
   "outputs": [
    {
     "data": {
      "text/plain": [
       "{'棘上筋': '棘上窩',\n",
       " '棘下筋': '棘下窩',\n",
       " '小円筋': '肩甲骨外側縁',\n",
       " '三角筋': '肩甲骨の肩峰・肩甲棘・鎖骨の外側1/3',\n",
       " '肩甲下筋': '肩甲下窩',\n",
       " '大円筋': '肩甲骨下角'}"
      ]
     },
     "execution_count": 44,
     "metadata": {},
     "output_type": "execute_result"
    }
   ],
   "source": [
    "muscle ={\"棘下筋\":rm2k[\"棘下筋\"]}"
   ]
  },
  {
   "cell_type": "code",
   "execution_count": 23,
   "metadata": {},
   "outputs": [],
   "source": [
    "scapula = [i[1] for i in bb]"
   ]
  },
  {
   "cell_type": "code",
   "execution_count": 28,
   "metadata": {},
   "outputs": [],
   "source": [
    "sca = {}\n",
    "for k,i in enumerate(scapula):\n",
    "    sca.update({k:i})"
   ]
  },
  {
   "cell_type": "code",
   "execution_count": 29,
   "metadata": {},
   "outputs": [
    {
     "data": {
      "text/plain": [
       "{0: '棘上窩',\n",
       " 1: '棘下窩',\n",
       " 2: '肩甲骨外側縁',\n",
       " 3: '肩甲骨の肩峰・肩甲棘・鎖骨の外側1/3',\n",
       " 4: '肩甲下窩',\n",
       " 5: '肩甲骨下角'}"
      ]
     },
     "execution_count": 29,
     "metadata": {},
     "output_type": "execute_result"
    }
   ],
   "source": [
    "sca"
   ]
  },
  {
   "cell_type": "code",
   "execution_count": 30,
   "metadata": {},
   "outputs": [],
   "source": [
    "ss = {\"小円筋\":(1,2,scapula[1])}"
   ]
  },
  {
   "cell_type": "code",
   "execution_count": 32,
   "metadata": {},
   "outputs": [
    {
     "data": {
      "text/plain": [
       "'棘下窩'"
      ]
     },
     "execution_count": 32,
     "metadata": {},
     "output_type": "execute_result"
    }
   ],
   "source": [
    "ss[\"小円筋\"][2]"
   ]
  },
  {
   "cell_type": "code",
   "execution_count": 48,
   "metadata": {},
   "outputs": [
    {
     "data": {
      "text/plain": [
       "'大胸筋\\t鎖骨(内側1/2)・胸骨・肋軟骨・腹直筋鞘\\t上腕骨大結節稜\\t内側胸筋神経・外側胸筋神経\\t肩関節の屈曲・内転・内旋\\n小胸筋\\t第2〜5肋骨\\t肩甲骨烏口突起\\t内側胸筋神経・外側胸筋神経\\t呼吸補助筋\\n鎖骨下筋\\t第1肋骨\\t鎖骨下面\\t鎖骨下筋神経\\t鎖骨を下内方に引き、胸鎖関節を保護する\\n前鋸筋 \\t第1〜8肋骨\\t肩甲骨内側縁\\t長胸神経\\t肩甲骨を前に引く。下角を前に引いて肩甲骨を回す'"
      ]
     },
     "execution_count": 48,
     "metadata": {},
     "output_type": "execute_result"
    }
   ],
   "source": [
    "\"大胸筋\t鎖骨(内側1/2)・胸骨・肋軟骨・腹直筋鞘\t上腕骨大結節稜\t内側胸筋神経・外側胸筋神経\t肩関節の屈曲・内転・内旋\\n小胸筋\t第2〜5肋骨\t肩甲骨烏口突起\t内側胸筋神経・外側胸筋神経\t呼吸補助筋\\n鎖骨下筋\t第1肋骨\t鎖骨下面\t鎖骨下筋神経\t鎖骨を下内方に引き、胸鎖関節を保護する\\n前鋸筋 \t第1〜8肋骨\t肩甲骨内側縁\t長胸神経\t肩甲骨を前に引く。下角を前に引いて肩甲骨を回す\""
   ]
  },
  {
   "cell_type": "code",
   "execution_count": null,
   "metadata": {},
   "outputs": [],
   "source": [
    "\"横隔膜\t腰椎部：第1〜4腰椎の椎体前面、第12肋骨尖端,肋骨部：第7〜12肋軟骨の内面,胸骨部：胸骨の剣状突起後面\t腱中心\t横隔神経\t吸気筋（収縮すると胸腔が広がり、息を吸いこむ）\""
   ]
  },
  {
   "cell_type": "code",
   "execution_count": null,
   "metadata": {},
   "outputs": [],
   "source": [
    "\"腹直筋\t恥骨結合・恥骨\t第5〜7肋軟骨前面・剣状突起前面\t肋間神経\t体幹を前屈\\n錐体筋\t恥骨\t白線\t肋下神経・腸骨下腹神経\t腹直筋の働きを助ける\""
   ]
  },
  {
   "cell_type": "code",
   "execution_count": 7,
   "metadata": {},
   "outputs": [
    {
     "data": {
      "text/plain": [
       "'外腹斜筋\\t第5〜12肋骨の外面\\t腹直筋鞘・鼠径靭帯・腸骨稜\\t肋間神経・腸骨下腹神経\\t肋骨を引き下げ、脊柱を前屈,体幹をまわし、側屈,腹圧を高める\\n内腹斜筋\\t胸腰筋膜・腸骨稜・鼠径靭帯\\t第10〜12肋骨下縁・腹直筋鞘\\t肋間神経・腸骨下腹神経\\t肋骨を引き下げ、脊柱を前屈,体幹をまわし、側屈,腹圧を高める\\n腹横筋\\t第7〜12肋軟骨内面・胸腰筋膜・腸骨稜・鼠径靭帯\\t腹直筋鞘\\t肋間神経・腸骨下腹神経\\t肋骨を引き下げ、脊柱を前屈,体幹をまわし、側屈,腹圧を高める\\n'"
      ]
     },
     "execution_count": 7,
     "metadata": {},
     "output_type": "execute_result"
    }
   ],
   "source": [
    "\"外腹斜筋\t第5〜12肋骨の外面\t腹直筋鞘・鼠径靭帯・腸骨稜\t肋間神経・腸骨下腹神経\t肋骨を引き下げ、脊柱を前屈,体幹をまわし、側屈,腹圧を高める\\n内腹斜筋\t胸腰筋膜・腸骨稜・鼠径靭帯\t第10〜12肋骨下縁・腹直筋鞘\t肋間神経・腸骨下腹神経\t肋骨を引き下げ、脊柱を前屈,体幹をまわし、側屈,腹圧を高める\\n腹横筋\t第7〜12肋軟骨内面・胸腰筋膜・腸骨稜・鼠径靭帯\t腹直筋鞘\t肋間神経・腸骨下腹神経\t肋骨を引き下げ、脊柱を前屈,体幹をまわし、側屈,腹圧を高める\\n\""
   ]
  },
  {
   "cell_type": "code",
   "execution_count": 8,
   "metadata": {},
   "outputs": [
    {
     "data": {
      "text/plain": [
       "'腰方形筋\\t腸骨稜\\t第12肋骨\\t腰神経叢\\t腰椎の側屈、両側が同時に働けば腰椎の後屈'"
      ]
     },
     "execution_count": 8,
     "metadata": {},
     "output_type": "execute_result"
    }
   ],
   "source": [
    "\"腰方形筋\t腸骨稜\t第12肋骨\t腰神経叢\t腰椎の側屈、両側が同時に働けば腰椎の後屈\""
   ]
  },
  {
   "cell_type": "code",
   "execution_count": 9,
   "metadata": {},
   "outputs": [
    {
     "data": {
      "text/plain": [
       "'僧帽筋\\t外後頭隆起・項靭帯・棘突起（第7頚椎＋全胸椎）\\t肩甲棘・肩峰・鎖骨外側1/3\\t副神経・第2〜4頚神経\\t上部は肩甲骨と鎖骨の挙上、中部は肩甲骨を内方に引き固定、下部は肩甲骨を回転し、上腕の挙上を助ける\\n広背筋\\t棘突起（第7胸椎以下の胸椎・腰椎・仙骨）・腸骨稜・下位（第9〜12）肋骨・肩甲骨下角\\t小結節稜\\t胸背神経\\t肩関節の内転・内旋さらに背部へ回るように働く'"
      ]
     },
     "execution_count": 9,
     "metadata": {},
     "output_type": "execute_result"
    }
   ],
   "source": [
    "\"僧帽筋\t外後頭隆起・項靭帯・棘突起（第7頚椎＋全胸椎）\t肩甲棘・肩峰・鎖骨外側1/3\t副神経・第2〜4頚神経\t上部は肩甲骨と鎖骨の挙上、中部は肩甲骨を内方に引き固定、下部は肩甲骨を回転し、上腕の挙上を助ける\\n広背筋\t棘突起（第7胸椎以下の胸椎・腰椎・仙骨）・腸骨稜・下位（第9〜12）肋骨・肩甲骨下角\t小結節稜\t胸背神経\t肩関節の内転・内旋さらに背部へ回るように働く\""
   ]
  },
  {
   "cell_type": "code",
   "execution_count": 10,
   "metadata": {},
   "outputs": [
    {
     "data": {
      "text/plain": [
       "'肩甲挙筋\\t第1〜4頚椎横突起\\t肩甲骨上角\\t肩甲背神経\\t肩甲骨を上内方に引く\\n小菱形筋\\t第6・7胸椎棘突起\\t肩甲骨内側縁上部\\t肩甲背神経\\t肩甲骨を上内方に引く\\n大菱形筋\\t第1〜4胸椎棘突起\\t肩甲骨内側縁\\t肩甲背神経\\t肩甲骨を上内方に引く\\n'"
      ]
     },
     "execution_count": 10,
     "metadata": {},
     "output_type": "execute_result"
    }
   ],
   "source": [
    "\"肩甲挙筋\t第1〜4頚椎横突起\t肩甲骨上角\t肩甲背神経\t肩甲骨を上内方に引く\\n小菱形筋\t第6・7胸椎棘突起\t肩甲骨内側縁上部\t肩甲背神経\t肩甲骨を上内方に引く\\n大菱形筋\t第1〜4胸椎棘突起\t肩甲骨内側縁\t肩甲背神経\t肩甲骨を上内方に引く\\n\""
   ]
  },
  {
   "cell_type": "code",
   "execution_count": null,
   "metadata": {},
   "outputs": [],
   "source": [
    "\"上後鋸筋\t第5頚椎〜第2胸椎の棘突起、項靭帯\t第2〜5肋骨\t肋間神経\t肋骨を引き上げる（吸息の補助筋）\\n下後鋸筋\t第10胸椎〜第2腰椎の棘突起\t第9〜12肋骨\t肋間神経\t肋骨を引き下げる（呼息の補助筋）\""
   ]
  },
  {
   "cell_type": "code",
   "execution_count": 11,
   "metadata": {},
   "outputs": [
    {
     "data": {
      "text/plain": [
       "'小後頭直筋\\t第1頚椎（環椎）の後結節\\t後頭骨の下項線の内側1/3部\\t後頭下神経\\t頭を後ろに引いて直立位に保持する。一側が働けば同側に曲がる。また下頭斜筋は同側に回す\\n(第1頚神経の後枝で学名のある脊髄神経後枝)\\t後頭下神経\\t頭を後ろに引いて直立位に保持する。一側が働けば同側に曲がる。また下頭斜筋は同側に回す\\\\大後頭直筋\\t第2頚椎（軸椎）の棘突起\\t後頭骨の下項線の中央部\\t後頭下神経\\t頭を後ろに引いて直立位に保持する。一側が働けば同側に曲がる。また下頭斜筋は同側に回す\\n上頭斜筋\\t第1頚椎（環椎）の横突起\\t上項線と下項線との間で頭半棘筋の外側の後頭骨\\t後頭下神経\\t頭を後ろに引いて直立位に保持する。一側が働けば同側に曲がる。また下頭斜筋は同側に回す\\n下頭斜筋\\t第2頚椎（軸椎）の棘突起\\t第1頚椎（環椎）の横突起\\t後頭下神経\\t頭を後ろに引いて直立位に保持する。一側が働けば同側に曲がる。また下頭斜筋は同側に回す'"
      ]
     },
     "execution_count": 11,
     "metadata": {},
     "output_type": "execute_result"
    }
   ],
   "source": [
    "\"小後頭直筋\t第1頚椎（環椎）の後結節\t後頭骨の下項線の内側1/3部\t後頭下神経\t頭を後ろに引いて直立位に保持する。一側が働けば同側に曲がる。また下頭斜筋は同側に回す\\n(第1頚神経の後枝で学名のある脊髄神経後枝)\t後頭下神経\t頭を後ろに引いて直立位に保持する。一側が働けば同側に曲がる。また下頭斜筋は同側に回す\\大後頭直筋\t第2頚椎（軸椎）の棘突起\t後頭骨の下項線の中央部\t後頭下神経\t頭を後ろに引いて直立位に保持する。一側が働けば同側に曲がる。また下頭斜筋は同側に回す\\n上頭斜筋\t第1頚椎（環椎）の横突起\t上項線と下項線との間で頭半棘筋の外側の後頭骨\t後頭下神経\t頭を後ろに引いて直立位に保持する。一側が働けば同側に曲がる。また下頭斜筋は同側に回す\\n下頭斜筋\t第2頚椎（軸椎）の棘突起\t第1頚椎（環椎）の横突起\t後頭下神経\t頭を後ろに引いて直立位に保持する。一側が働けば同側に曲がる。また下頭斜筋は同側に回す\""
   ]
  },
  {
   "cell_type": "code",
   "execution_count": null,
   "metadata": {},
   "outputs": [],
   "source": [
    "棘上窩\t棘上窩\t大結節\t肩甲上神経\t肩関節の外転\n",
    "棘下筋\t棘下窩\t大結節\t肩甲上神経\t肩関節の外旋\n",
    "小円筋\t肩甲骨外側縁\t大結節\t腋窩神経\t肩関節の外旋\n",
    "三角筋\t肩甲骨の肩峰・肩甲棘・鎖骨の外側1/3\t三角筋粗面\t腋窩神経\t肩関節の外転（側方挙上）、屈曲（前方挙上）、伸展（後方挙上）\n",
    "肩甲下筋\t肩甲下窩\t小結節\t肩甲下神経\t肩関節の内旋\n",
    "大円筋\t肩甲骨下角\t小結節稜\t肩甲下神経\t肩関節の内旋・内転"
   ]
  },
  {
   "cell_type": "code",
   "execution_count": null,
   "metadata": {},
   "outputs": [],
   "source": [
    "烏口腕筋\t烏口突起\t上腕骨体\t筋皮神経\t肩関節の屈曲・内転\n",
    "上腕二頭筋\t長頭：関節上結節、短頭：烏口突起\t橈骨粗面\t筋皮神経\t肘関節の屈曲・前腕の回外\n",
    "上腕筋\t上腕骨前面の下半部\t尺骨粗面\t筋皮神経\t肘関節の屈曲"
   ]
  },
  {
   "cell_type": "code",
   "execution_count": null,
   "metadata": {},
   "outputs": [],
   "source": [
    "上腕三頭筋\t長頭：関節下結節、外側頭：上腕骨外側面、内側頭：上腕骨後面\t肘頭\t橈骨神経\t肘関節の伸展\n",
    "肘筋\t外側上顆\t尺骨上部後面\t橈骨神経\t肘関節の伸展"
   ]
  },
  {
   "cell_type": "code",
   "execution_count": null,
   "metadata": {},
   "outputs": [],
   "source": [
    "円回内筋\t上腕頭：内側上顆、尺骨頭：鈎状突起\t橈骨中部の外側面（円回内筋粗面）\t正中神経\t前腕の回内と肘関節の屈曲\n",
    "橈側手根屈筋\t内側上顆\t第2・3中手骨底\t正中神経\t手関節の屈曲・外転（橈屈）\n",
    "長掌筋\t内側上顆\t手掌腱膜\t正中神経\t手関節の屈曲\n",
    "浅指屈筋\t上腕尺骨頭：内側上顆・尺骨粗面、橈骨頭：橈骨上部の前面\t第2〜5中節骨底\t尺骨神経\t第2〜5指のMP関節およびPIP関節を屈曲\n",
    "尺側手根屈筋\t上腕頭：内側上顆、尺骨頭：尺骨上半部の後縁\t豆状骨（豆鈎靱帯を介して有鈎骨まで腱が伸びる）・第5中手骨底\t尺骨神経\t関節の屈曲と内転（尺屈）"
   ]
  },
  {
   "cell_type": "code",
   "execution_count": null,
   "metadata": {},
   "outputs": [],
   "source": [
    "深指屈筋\t尺骨前面・前腕骨間膜\t第2〜5末節骨底\t橈側半は正中神経、尺骨半は尺骨神経\t第2〜5指のDIP関節を屈曲\n",
    "長母指屈筋\t橈骨前面・前腕骨間膜\t母指末節骨底\t正中神経\t母指のMP・IP関節を屈曲\n",
    "方形回内筋\t尺骨下部前面\t橈骨下部前面\t正中神経\t前腕の回内"
   ]
  },
  {
   "cell_type": "code",
   "execution_count": null,
   "metadata": {},
   "outputs": [],
   "source": [
    "腕橈骨筋\t上腕骨下部外側縁\t橈骨茎状突起\t橈骨神経\t肘関節の屈曲＊腕橈骨筋は伸筋群に属しているが、作用は屈筋であることに注意\n",
    "長頭側手根伸筋\t外側上顆\t第2中手骨底\t橈骨神経\t手関節の伸展（背屈）と外転（橈屈）\n",
    "短橈側手根伸筋\t外側上顆\t第3中手骨底\t橈骨神経\t手関節の伸展（背屈）と外転（橈屈）\n",
    "総指伸筋\t外側上顆\t第2〜5指の中節骨と末節骨\t橈骨神経\t手関節の伸展（背屈）と第2〜5指の伸展\n",
    "小指伸筋\t外側上顆\t第5指の指伸筋腱\t橈骨神経\t第5指の伸展\n",
    "尺側手根伸筋\t外側上顆・尺骨後面\t第5中手骨底\t橈骨神経\t手関節の伸展と内転（尺屈）"
   ]
  },
  {
   "cell_type": "code",
   "execution_count": null,
   "metadata": {},
   "outputs": [],
   "source": [
    "回外筋\t外側上顆・尺骨回外筋稜\t橈骨上部外側面\t橈骨神経\t前腕の回外\n",
    "長母指外転筋\t橈骨および尺骨の中央部後面・前腕骨間膜\t第1中手骨底\t橈骨神経\t母指の外転\n",
    "短母指伸筋\t橈骨下部後面・前腕骨間膜\t母指基節骨底\t橈骨神経\t母指のMP関節の伸展\n",
    "長母指伸筋\t尺骨後面・前腕骨間膜\t母指末節骨底\t橈骨神経\t母指のIP関節の伸展\n",
    "示指伸筋\t尺骨下部孔面・前腕骨間膜\t第2指の背側腱膜\t橈骨神経\t示指の伸展"
   ]
  },
  {
   "cell_type": "code",
   "execution_count": null,
   "metadata": {},
   "outputs": [],
   "source": [
    "短母指外転筋\t舟状骨・屈筋支帯\t母指基節骨底\t正中神経\t母指の外転\n",
    "母指対立筋\t大菱形骨・屈筋支帯\t第1中手骨体の橈側縁\t正中神経\t母指の対立運動\n",
    "短母指屈筋\t浅頭：屈筋支帯、深頭；大・小菱形骨・第2中手骨底\t母指基節骨底\t浅頭は正中神経、深頭は尺骨神経\t母指のMP関節の屈曲\n",
    "母指内転筋\t横頭：第3中手骨手掌面、斜頭：有頭骨\t母指基節骨底\t尺骨神経\t母指の内転"
   ]
  },
  {
   "cell_type": "code",
   "execution_count": null,
   "metadata": {},
   "outputs": [],
   "source": [
    "短掌筋\t手掌腱膜の尺側縁\t小指球の皮膚\t尺骨神経\t小指球の尺側縁の皮膚の緊張\n",
    "小指外転筋\t豆状骨・屈筋支帯\t小指基節骨底\t尺骨神経\t小指の外転\n",
    "短小指屈筋\t有鈎骨・屈筋支帯\t小指基節骨底\t浅頭は正中神経、深頭は尺骨神経\t小指のMP関節の屈曲\n",
    "小指対立筋\t有鈎骨・屈筋支帯\t第5中手骨の尺側縁\t尺骨神経\t小指が母指と向かい合うのを助ける"
   ]
  },
  {
   "cell_type": "code",
   "execution_count": null,
   "metadata": {},
   "outputs": [],
   "source": [
    "虫様筋\t4個の円柱状の小筋で、深指屈筋の腱から起こる。第1, 第2は第2, 第3指に至る腱の橈側から、第3, 第4はそれぞれ2頭をもって第3〜第5指に至る腱の相対する側から起こる\t扁平な腱となり、それぞれ第2〜5指基節骨底の橈側から指背腱膜に加わって終わる\t第1,2は正中神経第3,4は尺骨神経\t第2〜5指のMP関節を屈曲させ、IP関節の伸展を助ける\n",
    "掌側骨間筋\t3個あり、第2中手骨の尺側と第4・5中手骨の橈側\t指背腱膜に加わり、それぞれ第2指の基節骨底尺側と第4・5指の基節骨底橈側に終わる\t尺骨神経\t第3指に全ての指を近づける（指の内転）\n",
    "背側骨間筋\t4個あり、2頭をもって第1〜5中手骨の対向面より起こる\t第1・2背側骨間筋はそれぞれ第2・3指基節骨底の橈側に、第3・4背側骨間筋はそれぞれ第3・4指季節骨の尺側に終わる\t尺骨神経\t第3指を中心に指を開く（指の外転）"
   ]
  },
  {
   "cell_type": "code",
   "execution_count": null,
   "metadata": {},
   "outputs": [],
   "source": []
  },
  {
   "cell_type": "code",
   "execution_count": null,
   "metadata": {},
   "outputs": [],
   "source": []
  }
 ],
 "metadata": {
  "hide_input": false,
  "kernelspec": {
   "display_name": "Python 3",
   "language": "python",
   "name": "python3"
  },
  "language_info": {
   "codemirror_mode": {
    "name": "ipython",
    "version": 3
   },
   "file_extension": ".py",
   "mimetype": "text/x-python",
   "name": "python",
   "nbconvert_exporter": "python",
   "pygments_lexer": "ipython3",
   "version": "3.6.8"
  },
  "toc": {
   "base_numbering": 1,
   "nav_menu": {},
   "number_sections": true,
   "sideBar": true,
   "skip_h1_title": false,
   "title_cell": "Table of Contents",
   "title_sidebar": "Contents",
   "toc_cell": false,
   "toc_position": {},
   "toc_section_display": true,
   "toc_window_display": true
  }
 },
 "nbformat": 4,
 "nbformat_minor": 2
}
