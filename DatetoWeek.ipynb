{
 "cells": [
  {
   "cell_type": "markdown",
   "metadata": {},
   "source": [
    "# 課題_その1"
   ]
  },
  {
   "cell_type": "markdown",
   "metadata": {},
   "source": [
    "## 文字列・数列の入力と簡単な計算"
   ]
  },
  {
   "cell_type": "markdown",
   "metadata": {},
   "source": [
    "学籍番号"
   ]
  },
  {
   "cell_type": "markdown",
   "metadata": {},
   "source": [
    "氏名"
   ]
  },
  {
   "cell_type": "markdown",
   "metadata": {},
   "source": [
    "あなたは何歳ですか？"
   ]
  },
  {
   "cell_type": "code",
   "execution_count": 2,
   "metadata": {},
   "outputs": [
    {
     "data": {
      "text/plain": [
       "42"
      ]
     },
     "execution_count": 2,
     "metadata": {},
     "output_type": "execute_result"
    }
   ],
   "source": [
    "11"
   ]
  },
  {
   "cell_type": "markdown",
   "metadata": {},
   "source": [
    "あなたの親は何歳ですか？"
   ]
  },
  {
   "cell_type": "code",
   "execution_count": null,
   "metadata": {},
   "outputs": [],
   "source": [
    "42"
   ]
  },
  {
   "cell_type": "markdown",
   "metadata": {},
   "source": [
    "あなたは何年生まれですか？（元号）"
   ]
  },
  {
   "cell_type": "code",
   "execution_count": 4,
   "metadata": {},
   "outputs": [
    {
     "data": {
      "text/plain": [
       "'平成20年'"
      ]
     },
     "execution_count": 4,
     "metadata": {},
     "output_type": "execute_result"
    }
   ],
   "source": [
    "\"平成20年\""
   ]
  },
  {
   "cell_type": "markdown",
   "metadata": {},
   "source": [
    "あなたの親は何年生まれですか？（元号）"
   ]
  },
  {
   "cell_type": "code",
   "execution_count": 5,
   "metadata": {},
   "outputs": [
    {
     "data": {
      "text/plain": [
       "'昭和52年'"
      ]
     },
     "execution_count": 5,
     "metadata": {},
     "output_type": "execute_result"
    }
   ],
   "source": [
    "\"昭和52年\""
   ]
  },
  {
   "cell_type": "markdown",
   "metadata": {},
   "source": [
    "年齢の差は何歳ですか？"
   ]
  },
  {
   "cell_type": "code",
   "execution_count": 6,
   "metadata": {
    "scrolled": true
   },
   "outputs": [
    {
     "data": {
      "text/plain": [
       "31"
      ]
     },
     "execution_count": 6,
     "metadata": {},
     "output_type": "execute_result"
    }
   ],
   "source": [
    "64-52-1+20"
   ]
  },
  {
   "cell_type": "markdown",
   "metadata": {},
   "source": [
    "## 日時の計算"
   ]
  },
  {
   "cell_type": "markdown",
   "metadata": {},
   "source": [
    "1時間は何分か？"
   ]
  },
  {
   "cell_type": "code",
   "execution_count": null,
   "metadata": {},
   "outputs": [],
   "source": []
  },
  {
   "cell_type": "markdown",
   "metadata": {},
   "source": [
    "1秒は何ミリ秒か？"
   ]
  },
  {
   "cell_type": "code",
   "execution_count": null,
   "metadata": {},
   "outputs": [],
   "source": []
  },
  {
   "cell_type": "markdown",
   "metadata": {},
   "source": [
    "1分45秒は何ミリ秒か？"
   ]
  },
  {
   "cell_type": "markdown",
   "metadata": {},
   "source": [
    "## うるう年の計算"
   ]
  },
  {
   "cell_type": "markdown",
   "metadata": {},
   "source": [
    "うるう年は1868年を最初とすると、2020年は何回目のうるう年になる？？"
   ]
  },
  {
   "cell_type": "code",
   "execution_count": 109,
   "metadata": {},
   "outputs": [
    {
     "data": {
      "text/plain": [
       "38"
      ]
     },
     "execution_count": 109,
     "metadata": {},
     "output_type": "execute_result"
    }
   ],
   "source": [
    "(2020-1868)//4"
   ]
  },
  {
   "cell_type": "markdown",
   "metadata": {},
   "source": [
    "## 日付の計算"
   ]
  },
  {
   "cell_type": "markdown",
   "metadata": {},
   "source": [
    "うるう年以外は次のようになります。<br>\n",
    "1月------31日間<br>\n",
    "2月------28日間<br>\n",
    "3月------31日間<br>\n",
    "4月------30日間<br>\n",
    "5月------31日間<br>\n",
    "6月------30日間<br>\n",
    "7月------31日間<br>\n",
    "8月------31日間<br>\n",
    "9月------30日間<br>\n",
    "10月------31日間<br>\n",
    "11月------30日間<br>\n",
    "12月------31日間<br>"
   ]
  },
  {
   "cell_type": "markdown",
   "metadata": {},
   "source": [
    "ある年の4月1日は金曜日でした。"
   ]
  },
  {
   "cell_type": "code",
   "execution_count": 40,
   "metadata": {},
   "outputs": [],
   "source": [
    "# 走らせましょう。\n",
    "m1 = 31\n",
    "m2 = 28\n",
    "m3 = 31\n",
    "m4 = 30\n",
    "m5 = 31\n",
    "m6 = 30\n",
    "m7 = 31\n",
    "m8 = 31\n",
    "m9 = 30\n",
    "m10 = 31\n",
    "m11 = 30\n",
    "m12 = 31"
   ]
  },
  {
   "cell_type": "markdown",
   "metadata": {},
   "source": [
    "4月の最後は何曜日？"
   ]
  },
  {
   "cell_type": "code",
   "execution_count": 73,
   "metadata": {
    "hide_input": false
   },
   "outputs": [],
   "source": [
    "#このセルに式を入力する"
   ]
  },
  {
   "cell_type": "markdown",
   "metadata": {},
   "source": [
    "答え：（ココをクリックして答えを入れる。）"
   ]
  },
  {
   "cell_type": "markdown",
   "metadata": {},
   "source": [
    "その年の8月の最初の月曜日は何日ですか？"
   ]
  },
  {
   "cell_type": "code",
   "execution_count": 74,
   "metadata": {
    "hide_input": false,
    "scrolled": true
   },
   "outputs": [],
   "source": [
    "#このセルに式を入力する"
   ]
  },
  {
   "cell_type": "markdown",
   "metadata": {},
   "source": [
    "答え：（ココをクリックして答えを入れる。）"
   ]
  },
  {
   "cell_type": "markdown",
   "metadata": {},
   "source": [
    "その年の6月1日は何曜日？"
   ]
  },
  {
   "cell_type": "code",
   "execution_count": 74,
   "metadata": {
    "hide_input": false,
    "scrolled": true
   },
   "outputs": [],
   "source": [
    "#このセルに式を入力する"
   ]
  },
  {
   "cell_type": "markdown",
   "metadata": {},
   "source": [
    "答え：（ココをクリックして答えを入れる。）"
   ]
  },
  {
   "cell_type": "markdown",
   "metadata": {},
   "source": [
    "その年の9月1日は何曜日？"
   ]
  },
  {
   "cell_type": "code",
   "execution_count": 74,
   "metadata": {
    "hide_input": false,
    "scrolled": true
   },
   "outputs": [],
   "source": [
    "#このセルに式を入力する"
   ]
  },
  {
   "cell_type": "markdown",
   "metadata": {},
   "source": [
    "答え：（ココをクリックして答えを入れる。）"
   ]
  },
  {
   "cell_type": "markdown",
   "metadata": {},
   "source": [
    "その年の11月11日は何曜日？"
   ]
  },
  {
   "cell_type": "code",
   "execution_count": 74,
   "metadata": {
    "hide_input": false,
    "scrolled": true
   },
   "outputs": [],
   "source": [
    "#このセルに式を入力する"
   ]
  },
  {
   "cell_type": "markdown",
   "metadata": {},
   "source": [
    "答え：（ココをクリックして答えを入れる。）"
   ]
  },
  {
   "cell_type": "markdown",
   "metadata": {},
   "source": [
    "その年のあなたの誕生日は何曜日？"
   ]
  },
  {
   "cell_type": "code",
   "execution_count": null,
   "metadata": {},
   "outputs": [],
   "source": [
    "#ここに式をいれる"
   ]
  },
  {
   "cell_type": "markdown",
   "metadata": {},
   "source": [
    "答え：（ココをクリックして答えを入れる。）"
   ]
  },
  {
   "cell_type": "markdown",
   "metadata": {},
   "source": [
    "**応用**"
   ]
  },
  {
   "cell_type": "markdown",
   "metadata": {},
   "source": [
    "4年経過後、最初の7月1日は何曜日ですか？"
   ]
  },
  {
   "cell_type": "code",
   "execution_count": 64,
   "metadata": {},
   "outputs": [
    {
     "name": "stdout",
     "output_type": "stream",
     "text": [
      "5\n"
     ]
    }
   ],
   "source": [
    "mm = m1+m2+m3+m4+m5+m6+m7+m8+m9+m10+m11+m12\n",
    "mm1 = m4+m5+m6\n",
    "print(((mm*4+1)+mm1)%7)"
   ]
  },
  {
   "cell_type": "code",
   "execution_count": 50,
   "metadata": {},
   "outputs": [
    {
     "data": {
      "text/plain": [
       "6"
      ]
     },
     "execution_count": 50,
     "metadata": {},
     "output_type": "execute_result"
    }
   ],
   "source": []
  },
  {
   "cell_type": "markdown",
   "metadata": {},
   "source": [
    "# 課題_その2"
   ]
  },
  {
   "cell_type": "markdown",
   "metadata": {},
   "source": [
    "課題1でやった問題の延長である。リストの操作を勉強しよう。"
   ]
  },
  {
   "cell_type": "code",
   "execution_count": 53,
   "metadata": {},
   "outputs": [],
   "source": [
    "week = [\"mon\",\"tue\",\"wen\",\"thr\",\"fri\",\"sat\",\"sun\"]"
   ]
  },
  {
   "cell_type": "markdown",
   "metadata": {},
   "source": [
    "weekの要素を繰り返す。それにオブジェクト名「week2」と与える。\n",
    "```\n",
    "[\"mon\",\"tue\",\"wen\",...,\"mon\",\"tue\",...,\"sat\",\"sun\"]\n",
    "```\n",
    "となるように。"
   ]
  },
  {
   "cell_type": "code",
   "execution_count": 123,
   "metadata": {},
   "outputs": [],
   "source": [
    "#ここに入力"
   ]
  },
  {
   "cell_type": "code",
   "execution_count": 75,
   "metadata": {
    "hide_input": true
   },
   "outputs": [],
   "source": [
    "##\n",
    "week2 = week*2 "
   ]
  },
  {
   "cell_type": "markdown",
   "metadata": {},
   "source": [
    "week2を木曜日（\"thr\"）から始まるリストを7つ分つくる。\n",
    "```\n",
    "[\"thr\",\"fri\",\"sat\",\"sun\",\"mon\",\"tue\",\"wen\"]\n",
    "```"
   ]
  },
  {
   "cell_type": "code",
   "execution_count": null,
   "metadata": {
    "hide_input": false
   },
   "outputs": [],
   "source": [
    "#ここに入力"
   ]
  },
  {
   "cell_type": "code",
   "execution_count": 125,
   "metadata": {
    "hide_input": true
   },
   "outputs": [],
   "source": [
    "week3 = [week2[i] for i in range(0,0+7,1)]"
   ]
  },
  {
   "cell_type": "markdown",
   "metadata": {
    "hide_input": true
   },
   "source": [
    "2030年10月10日は何曜日？？\n",
    "> 1.うるう年の数は？<br>\n",
    "> 2.年の数は？<br>\n",
    "> 3.該当年の日数<br>"
   ]
  },
  {
   "cell_type": "code",
   "execution_count": 130,
   "metadata": {
    "hide_input": true
   },
   "outputs": [],
   "source": [
    "#うるう年1868年#\n",
    "p = 2030-1868\n",
    "q = 2019-1868\n",
    "uru = p//4-q//4"
   ]
  },
  {
   "cell_type": "code",
   "execution_count": 131,
   "metadata": {
    "hide_input": true
   },
   "outputs": [],
   "source": [
    "toshi = (2030-2019)"
   ]
  },
  {
   "cell_type": "code",
   "execution_count": 139,
   "metadata": {
    "hide_input": true
   },
   "outputs": [],
   "source": [
    "#年間の日数\n",
    "mm = m4+m5+m6+m7+m8+m9+m10+m11+m12+m1+m2+m3\n",
    "# 該当年の日数\n",
    "mm1 = m4+m5+m6+m7+m8+m9"
   ]
  },
  {
   "cell_type": "code",
   "execution_count": 136,
   "metadata": {
    "hide_input": true
   },
   "outputs": [],
   "source": [
    "d = mm*toshi+uru+mm1+(10-1)"
   ]
  },
  {
   "cell_type": "code",
   "execution_count": 137,
   "metadata": {
    "hide_input": true,
    "scrolled": true
   },
   "outputs": [
    {
     "data": {
      "text/plain": [
       "'thr'"
      ]
     },
     "execution_count": 137,
     "metadata": {},
     "output_type": "execute_result"
    }
   ],
   "source": [
    "d//7\n",
    "week3[d%7]"
   ]
  },
  {
   "cell_type": "markdown",
   "metadata": {},
   "source": [
    "# 課題_その3"
   ]
  },
  {
   "cell_type": "markdown",
   "metadata": {},
   "source": [
    "def文を用いてまとめてみよう。<br>\n",
    "**パラメータは今日の日付（年・月・日・曜日）と該当する日の曜日**"
   ]
  },
  {
   "cell_type": "code",
   "execution_count": null,
   "metadata": {},
   "outputs": [],
   "source": [
    "# 関数をここにつくる"
   ]
  },
  {
   "cell_type": "code",
   "execution_count": null,
   "metadata": {},
   "outputs": [],
   "source": [
    "# テストしてみる"
   ]
  },
  {
   "cell_type": "markdown",
   "metadata": {},
   "source": [
    "# 課題_その4"
   ]
  },
  {
   "cell_type": "markdown",
   "metadata": {},
   "source": [
    "筋の起始，停止，作用，支配神経，髄節レベルについて，まとめる。<br>\n",
    "筋名を入れると，他の情報が表示されるようにしてみよう。"
   ]
  },
  {
   "cell_type": "code",
   "execution_count": 7,
   "metadata": {},
   "outputs": [],
   "source": [
    "Muscle={}\n",
    "Origin = {1:\"上腕骨\",2:\"脛骨\"}\n",
    "Nurve = {\"\"}"
   ]
  },
  {
   "cell_type": "code",
   "execution_count": 2,
   "metadata": {},
   "outputs": [],
   "source": [
    "M={\"僧帽筋\":None,\"肩甲挙筋\":None}"
   ]
  },
  {
   "cell_type": "code",
   "execution_count": 12,
   "metadata": {},
   "outputs": [],
   "source": [
    "Muscle.update(M)"
   ]
  },
  {
   "cell_type": "code",
   "execution_count": 6,
   "metadata": {},
   "outputs": [
    {
     "data": {
      "text/plain": [
       "{'僧帽筋': None, '肩甲挙筋': None}"
      ]
     },
     "execution_count": 6,
     "metadata": {},
     "output_type": "execute_result"
    }
   ],
   "source": [
    "Muscle"
   ]
  },
  {
   "cell_type": "code",
   "execution_count": 8,
   "metadata": {},
   "outputs": [
    {
     "data": {
      "text/plain": [
       "{'大胸筋': ['鎖骨(内側1/2)・胸骨・肋軟骨・腹直筋鞘', '上腕骨大結節稜', '内側胸筋神経・外側胸筋神経', '肩関節の屈曲・内転・内旋'],\n",
       " '小胸筋': ['第2〜5肋骨', '肩甲骨烏口突起', '内側胸筋神経・外側胸筋神経', '呼吸補助筋'],\n",
       " '鎖骨下筋': ['第1肋骨', '鎖骨下面', '鎖骨下筋神経', '鎖骨を下内方に引き、胸鎖関節を保護する'],\n",
       " '前鋸筋': ['第1〜8肋骨', '肩甲骨内側縁', '長胸神経', '肩甲骨を前に引く。下角を前に引いて肩甲骨を回す']}"
      ]
     },
     "execution_count": 8,
     "metadata": {},
     "output_type": "execute_result"
    }
   ],
   "source": [
    "a= \"筋名\t起始\t停止\t支配神経\t作用\"\n"
   ]
  },
  {
   "cell_type": "code",
   "execution_count": 9,
   "metadata": {},
   "outputs": [
    {
     "data": {
      "text/plain": [
       "'筋名\\t起始\\t停止\\t支配神経\\t作用'"
      ]
     },
     "execution_count": 9,
     "metadata": {},
     "output_type": "execute_result"
    }
   ],
   "source": [
    "a"
   ]
  },
  {
   "cell_type": "code",
   "execution_count": 10,
   "metadata": {},
   "outputs": [],
   "source": [
    "Muscle.update({\"大胸筋\":[\"鎖骨(内側1/2)・胸骨・肋軟骨・腹直筋鞘\",\"上腕骨大結節稜\",\"内側胸筋神経・外側胸筋神経\",\"肩関節の屈曲・内転・内旋\"],\n",
    "\"小胸筋\":[\"第2〜5肋骨\",\"肩甲骨烏口突起\",\"内側胸筋神経・外側胸筋神経\",\"呼吸補助筋\"],\n",
    "\"鎖骨下筋\":[\"第1肋骨\",\"鎖骨下面\",\"鎖骨下筋神経\",\"鎖骨を下内方に引き、胸鎖関節を保護する\"],\n",
    "\"前鋸筋\" :[\"第1〜8肋骨\",\"肩甲骨内側縁\",\"長胸神経\",\"肩甲骨を前に引く。下角を前に引いて肩甲骨を回す\"]})"
   ]
  },
  {
   "cell_type": "code",
   "execution_count": 11,
   "metadata": {},
   "outputs": [
    {
     "data": {
      "text/plain": [
       "{'大胸筋': ['鎖骨(内側1/2)・胸骨・肋軟骨・腹直筋鞘', '上腕骨大結節稜', '内側胸筋神経・外側胸筋神経', '肩関節の屈曲・内転・内旋'],\n",
       " '小胸筋': ['第2〜5肋骨', '肩甲骨烏口突起', '内側胸筋神経・外側胸筋神経', '呼吸補助筋'],\n",
       " '鎖骨下筋': ['第1肋骨', '鎖骨下面', '鎖骨下筋神経', '鎖骨を下内方に引き、胸鎖関節を保護する'],\n",
       " '前鋸筋': ['第1〜8肋骨', '肩甲骨内側縁', '長胸神経', '肩甲骨を前に引く。下角を前に引いて肩甲骨を回す']}"
      ]
     },
     "execution_count": 11,
     "metadata": {},
     "output_type": "execute_result"
    }
   ],
   "source": [
    "Muscle"
   ]
  },
  {
   "cell_type": "code",
   "execution_count": 13,
   "metadata": {},
   "outputs": [
    {
     "data": {
      "text/plain": [
       "{'大胸筋': ['鎖骨(内側1/2)・胸骨・肋軟骨・腹直筋鞘', '上腕骨大結節稜', '内側胸筋神経・外側胸筋神経', '肩関節の屈曲・内転・内旋'],\n",
       " '小胸筋': ['第2〜5肋骨', '肩甲骨烏口突起', '内側胸筋神経・外側胸筋神経', '呼吸補助筋'],\n",
       " '鎖骨下筋': ['第1肋骨', '鎖骨下面', '鎖骨下筋神経', '鎖骨を下内方に引き、胸鎖関節を保護する'],\n",
       " '前鋸筋': ['第1〜8肋骨', '肩甲骨内側縁', '長胸神経', '肩甲骨を前に引く。下角を前に引いて肩甲骨を回す'],\n",
       " '僧帽筋': None,\n",
       " '肩甲挙筋': None}"
      ]
     },
     "execution_count": 13,
     "metadata": {},
     "output_type": "execute_result"
    }
   ],
   "source": [
    "Muscle"
   ]
  },
  {
   "cell_type": "code",
   "execution_count": 34,
   "metadata": {},
   "outputs": [],
   "source": [
    "b = [\"棘上筋\t棘上窩\t大結節\t肩甲上神経\t肩関節の外転\",\n",
    "\"棘下筋\t棘下窩\t大結節\t肩甲上神経\t肩関節の外旋\",\n",
    "\"小円筋\t肩甲骨外側縁\t大結節\t腋窩神経\t肩関節の外旋\",\n",
    "\"三角筋\t肩甲骨の肩峰・肩甲棘・鎖骨の外側1/3\t三角筋粗面\t腋窩神経\t肩関節の外転（側方挙上）、屈曲（前方挙上）、伸展（後方挙上）\",\n",
    "\"肩甲下筋\t肩甲下窩\t小結節\t肩甲下神経\t肩関節の内旋\",\n",
    "\"大円筋\t肩甲骨下角\t小結節稜\t肩甲下神経\t肩関節の内旋・内転\"]"
   ]
  },
  {
   "cell_type": "code",
   "execution_count": 35,
   "metadata": {},
   "outputs": [],
   "source": [
    "bb = [i.split(\"\\t\") for i in b]"
   ]
  },
  {
   "cell_type": "code",
   "execution_count": 45,
   "metadata": {},
   "outputs": [],
   "source": [
    "m2k ={}\n",
    "m2t = {}\n",
    "m2s = {}\n",
    "m2z = {}\n",
    "m2x = {}\n",
    "rm2k ={}\n",
    "rm2t = {}\n",
    "rm2s = {}\n",
    "rm2z = {}\n",
    "rm2x = {}"
   ]
  },
  {
   "cell_type": "code",
   "execution_count": 47,
   "metadata": {
    "scrolled": true
   },
   "outputs": [],
   "source": [
    "for i in bb:\n",
    "    m2k.update({i[0]:i[1]})\n",
    "    m2t.update({i[0]:i[2]})\n",
    "    m2s.update({i[0]:i[3]})\n",
    "    m2x.update({i[0]:i[4]})\n",
    "\n",
    "rm2k = {v:k for k,v in m2k.items()}\n",
    "rm2t = {v:k for k,v in m2t.items()}\n",
    "rm2s = {v:k for k,v in m2s.items()}\n",
    "rm2x = {v:k for k,v in m2x.items()}"
   ]
  },
  {
   "cell_type": "code",
   "execution_count": 44,
   "metadata": {
    "scrolled": true
   },
   "outputs": [
    {
     "data": {
      "text/plain": [
       "{'棘上筋': '棘上窩',\n",
       " '棘下筋': '棘下窩',\n",
       " '小円筋': '肩甲骨外側縁',\n",
       " '三角筋': '肩甲骨の肩峰・肩甲棘・鎖骨の外側1/3',\n",
       " '肩甲下筋': '肩甲下窩',\n",
       " '大円筋': '肩甲骨下角'}"
      ]
     },
     "execution_count": 44,
     "metadata": {},
     "output_type": "execute_result"
    }
   ],
   "source": [
    "muscle ={\"棘下筋\":rm2k[\"棘下筋\"]}"
   ]
  },
  {
   "cell_type": "code",
   "execution_count": 23,
   "metadata": {},
   "outputs": [],
   "source": [
    "scapula = [i[1] for i in bb]"
   ]
  },
  {
   "cell_type": "code",
   "execution_count": 28,
   "metadata": {},
   "outputs": [],
   "source": [
    "sca = {}\n",
    "for k,i in enumerate(scapula):\n",
    "    sca.update({k:i})"
   ]
  },
  {
   "cell_type": "code",
   "execution_count": 29,
   "metadata": {},
   "outputs": [
    {
     "data": {
      "text/plain": [
       "{0: '棘上窩',\n",
       " 1: '棘下窩',\n",
       " 2: '肩甲骨外側縁',\n",
       " 3: '肩甲骨の肩峰・肩甲棘・鎖骨の外側1/3',\n",
       " 4: '肩甲下窩',\n",
       " 5: '肩甲骨下角'}"
      ]
     },
     "execution_count": 29,
     "metadata": {},
     "output_type": "execute_result"
    }
   ],
   "source": [
    "sca"
   ]
  },
  {
   "cell_type": "code",
   "execution_count": 30,
   "metadata": {},
   "outputs": [],
   "source": [
    "ss = {\"小円筋\":(1,2,scapula[1])}"
   ]
  },
  {
   "cell_type": "code",
   "execution_count": 32,
   "metadata": {},
   "outputs": [
    {
     "data": {
      "text/plain": [
       "'棘下窩'"
      ]
     },
     "execution_count": 32,
     "metadata": {},
     "output_type": "execute_result"
    }
   ],
   "source": [
    "ss[\"小円筋\"][2]"
   ]
  },
  {
   "cell_type": "code",
   "execution_count": 48,
   "metadata": {},
   "outputs": [
    {
     "data": {
      "text/plain": [
       "'大胸筋\\t鎖骨(内側1/2)・胸骨・肋軟骨・腹直筋鞘\\t上腕骨大結節稜\\t内側胸筋神経・外側胸筋神経\\t肩関節の屈曲・内転・内旋\\n小胸筋\\t第2〜5肋骨\\t肩甲骨烏口突起\\t内側胸筋神経・外側胸筋神経\\t呼吸補助筋\\n鎖骨下筋\\t第1肋骨\\t鎖骨下面\\t鎖骨下筋神経\\t鎖骨を下内方に引き、胸鎖関節を保護する\\n前鋸筋 \\t第1〜8肋骨\\t肩甲骨内側縁\\t長胸神経\\t肩甲骨を前に引く。下角を前に引いて肩甲骨を回す'"
      ]
     },
     "execution_count": 48,
     "metadata": {},
     "output_type": "execute_result"
    }
   ],
   "source": [
    "\"大胸筋\t鎖骨(内側1/2)・胸骨・肋軟骨・腹直筋鞘\t上腕骨大結節稜\t内側胸筋神経・外側胸筋神経\t肩関節の屈曲・内転・内旋\\n小胸筋\t第2〜5肋骨\t肩甲骨烏口突起\t内側胸筋神経・外側胸筋神経\t呼吸補助筋\\n鎖骨下筋\t第1肋骨\t鎖骨下面\t鎖骨下筋神経\t鎖骨を下内方に引き、胸鎖関節を保護する\\n前鋸筋 \t第1〜8肋骨\t肩甲骨内側縁\t長胸神経\t肩甲骨を前に引く。下角を前に引いて肩甲骨を回す\""
   ]
  },
  {
   "cell_type": "code",
   "execution_count": null,
   "metadata": {},
   "outputs": [],
   "source": [
    "横隔膜\t腰椎部：第1〜4腰椎の椎体前面、第12肋骨尖端,肋骨部：第7〜12肋軟骨の内面,胸骨部：胸骨の剣状突起後面\t腱中心\t横隔神経\t吸気筋（収縮すると胸腔が広がり、息を吸いこむ）"
   ]
  },
  {
   "cell_type": "code",
   "execution_count": null,
   "metadata": {},
   "outputs": [],
   "source": [
    "腹直筋\t恥骨結合・恥骨\t第5〜7肋軟骨前面・剣状突起前面\t肋間神経\t体幹を前屈\n",
    "錐体筋\t恥骨\t白線\t肋下神経・腸骨下腹神経\t腹直筋の働きを助ける"
   ]
  },
  {
   "cell_type": "code",
   "execution_count": null,
   "metadata": {},
   "outputs": [],
   "source": [
    "外腹斜筋\t第5〜12肋骨の外面\t腹直筋鞘・鼠径靭帯・腸骨稜\t肋間神経・腸骨下腹神経\t肋骨を引き下げ、脊柱を前屈,体幹をまわし、側屈,腹圧を高める\n",
    "内腹斜筋\t胸腰筋膜・腸骨稜・鼠径靭帯\t第10〜12肋骨下縁・腹直筋鞘\t肋間神経・腸骨下腹神経\t肋骨を引き下げ、脊柱を前屈,体幹をまわし、側屈,腹圧を高める\n",
    "腹横筋\t第7〜12肋軟骨内面・胸腰筋膜・腸骨稜・鼠径靭帯\t腹直筋鞘\t肋間神経・腸骨下腹神経\t肋骨を引き下げ、脊柱を前屈,体幹をまわし、側屈,腹圧を高める"
   ]
  },
  {
   "cell_type": "code",
   "execution_count": null,
   "metadata": {},
   "outputs": [],
   "source": [
    "腰方形筋\t腸骨稜\t第12肋骨\t腰神経叢\t腰椎の側屈、両側が同時に働けば腰椎の後屈"
   ]
  },
  {
   "cell_type": "code",
   "execution_count": null,
   "metadata": {},
   "outputs": [],
   "source": [
    "僧帽筋\t外後頭隆起・項靭帯・棘突起（第7頚椎＋全胸椎）\t肩甲棘・肩峰・鎖骨外側1/3\t副神経・第2〜4頚神経\t上部は肩甲骨と鎖骨の挙上、中部は肩甲骨を内方に引き固定、下部は肩甲骨を回転し、上腕の挙上を助ける\n",
    "広背筋\t棘突起（第7胸椎以下の胸椎・腰椎・仙骨）・腸骨稜・下位（第9〜12）肋骨・肩甲骨下角\t小結節稜\t胸背神経\t肩関節の内転・内旋さらに背部へ回るように働く"
   ]
  },
  {
   "cell_type": "code",
   "execution_count": null,
   "metadata": {},
   "outputs": [],
   "source": [
    "肩甲挙筋\t第1〜4頚椎横突起\t肩甲骨上角\t肩甲背神経\t肩甲骨を上内方に引く\n",
    "小菱形筋\t第6・7胸椎棘突起\t肩甲骨内側縁上部\t肩甲背神経\t肩甲骨を上内方に引く\n",
    "大菱形筋\t第1〜4胸椎棘突起\t肩甲骨内側縁\t肩甲背神経\t肩甲骨を上内方に引く"
   ]
  },
  {
   "cell_type": "code",
   "execution_count": null,
   "metadata": {},
   "outputs": [],
   "source": [
    "上後鋸筋\t第5頚椎〜第2胸椎の棘突起、項靭帯\t第2〜5肋骨\t肋間神経\t肋骨を引き上げる（吸息の補助筋）\n",
    "下後鋸筋\t第10胸椎〜第2腰椎の棘突起\t第9〜12肋骨\t肋間神経\t肋骨を引き下げる（呼息の補助筋）"
   ]
  },
  {
   "cell_type": "code",
   "execution_count": null,
   "metadata": {},
   "outputs": [],
   "source": [
    "小後頭直筋\t第1頚椎（環椎）の後結節\t後頭骨の下項線の内側1/3部\t後頭下神経\t頭を後ろに引いて直立位に保持する。一側が働けば同側に曲がる。また下頭斜筋は同側に回す\n",
    "(第1頚神経の後枝で学名のある脊髄神経後枝)\t後頭下神経\t頭を後ろに引いて直立位に保持する。一側が働けば同側に曲がる。また下頭斜筋は同側に回す\n",
    "大後頭直筋\t第2頚椎（軸椎）の棘突起\t後頭骨の下項線の中央部\t後頭下神経\t頭を後ろに引いて直立位に保持する。一側が働けば同側に曲がる。また下頭斜筋は同側に回す\n",
    "上頭斜筋\t第1頚椎（環椎）の横突起\t上項線と下項線との間で頭半棘筋の外側の後頭骨\t後頭下神経\t頭を後ろに引いて直立位に保持する。一側が働けば同側に曲がる。また下頭斜筋は同側に回す\n",
    "下頭斜筋\t第2頚椎（軸椎）の棘突起\t第1頚椎（環椎）の横突起\t後頭下神経\t頭を後ろに引いて直立位に保持する。一側が働けば同側に曲がる。また下頭斜筋は同側に回す"
   ]
  },
  {
   "cell_type": "code",
   "execution_count": null,
   "metadata": {},
   "outputs": [],
   "source": []
  },
  {
   "cell_type": "code",
   "execution_count": null,
   "metadata": {},
   "outputs": [],
   "source": []
  }
 ],
 "metadata": {
  "hide_input": false,
  "kernelspec": {
   "display_name": "Python 3",
   "language": "python",
   "name": "python3"
  },
  "language_info": {
   "codemirror_mode": {
    "name": "ipython",
    "version": 3
   },
   "file_extension": ".py",
   "mimetype": "text/x-python",
   "name": "python",
   "nbconvert_exporter": "python",
   "pygments_lexer": "ipython3",
   "version": "3.6.7"
  },
  "toc": {
   "base_numbering": 1,
   "nav_menu": {},
   "number_sections": true,
   "sideBar": true,
   "skip_h1_title": false,
   "title_cell": "Table of Contents",
   "title_sidebar": "Contents",
   "toc_cell": false,
   "toc_position": {},
   "toc_section_display": true,
   "toc_window_display": true
  }
 },
 "nbformat": 4,
 "nbformat_minor": 2
}
